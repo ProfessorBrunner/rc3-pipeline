{
 "metadata": {
  "name": "",
  "signature": "sha256:48301f67c9dae9a479f7cee1111b38edc153436dbcd15d6ca2f3c73e4e014a5c"
 },
 "nbformat": 3,
 "nbformat_minor": 0,
 "worksheets": [
  {
   "cells": [
    {
     "cell_type": "code",
     "collapsed": false,
     "input": [
      "cd ../pipeline_final/"
     ],
     "language": "python",
     "metadata": {},
     "outputs": [
      {
       "output_type": "stream",
       "stream": "stdout",
       "text": [
        "/Users/dorislee/Desktop/GSoC2014/workarea-rc3-project/pipeline_final\n"
       ]
      }
     ],
     "prompt_number": 1
    },
    {
     "cell_type": "code",
     "collapsed": false,
     "input": [
      "from dssServer import *\n",
      "dss = DSSServer()\n",
      "dss.query(\"locstr=m101&survey=dss&mode=prog\") #Make sure to specify mode=prog so that output is XML (easier to parse) not HTML\n",
      "# cat result.txt"
     ],
     "language": "python",
     "metadata": {},
     "outputs": [
      {
       "output_type": "stream",
       "stream": "stderr",
       "text": [
        "WARNING: AstropyDeprecationWarning: ConfigurationItem has been deprecated in astropy 0.4. Use ConfigItem objects as members of ConfigNamespace subclasses instead.  See ConfigNamespace for an example. [astropy.config.configuration]\n",
        "WARNING:astropy:AstropyDeprecationWarning: ConfigurationItem has been deprecated in astropy 0.4. Use ConfigItem objects as members of ConfigNamespace subclasses instead.  See ConfigNamespace for an example.\n"
       ]
      }
     ],
     "prompt_number": 2
    },
    {
     "cell_type": "code",
     "collapsed": false,
     "input": [
      "dss.getData('b',0.03258,-0.04058,0.05)"
     ],
     "language": "python",
     "metadata": {},
     "outputs": [
      {
       "output_type": "stream",
       "stream": "stdout",
       "text": [
        "n: 0\n",
        "i: 0\n",
        "pass\n",
        "here\n",
        "http://irsa.ipac.caltech.edu/workspace/TMP_iE3E28_8405/FinderChart/0.03258_-0.04058.v0001/poss1_blue_sub.fits\n",
        "wget -O DSS_b_0.03258_-0.04058.fits  \"http://irsa.ipac.caltech.edu/workspace/TMP_iE3E28_8405/FinderChart/0.03258_-0.04058.v0001/poss1_blue_sub.fits\"  \n",
        "n: 0"
       ]
      },
      {
       "output_type": "stream",
       "stream": "stdout",
       "text": [
        "\n",
        "i: 1\n",
        "pass\n",
        "here\n",
        "http://irsa.ipac.caltech.edu/workspace/TMP_iE3E28_8405/FinderChart/0.03258_-0.04058.v0001/poss1_red_sub.fits\n",
        "wget -O DSS_b_0.03258_-0.04058_1.fits  \"http://irsa.ipac.caltech.edu/workspace/TMP_iE3E28_8405/FinderChart/0.03258_-0.04058.v0001/poss1_red_sub.fits\"  \n",
        "n: 0"
       ]
      },
      {
       "output_type": "stream",
       "stream": "stdout",
       "text": [
        "\n",
        "i: 2\n",
        "pass\n",
        "here\n",
        "http://irsa.ipac.caltech.edu/workspace/TMP_iE3E28_8405/FinderChart/0.03258_-0.04058.v0001/poss2ukstu_blue_sub.fits\n",
        "wget -O DSS_b_0.03258_-0.04058_2.fits  \"http://irsa.ipac.caltech.edu/workspace/TMP_iE3E28_8405/FinderChart/0.03258_-0.04058.v0001/poss2ukstu_blue_sub.fits\"  \n",
        "n: 0"
       ]
      },
      {
       "output_type": "stream",
       "stream": "stdout",
       "text": [
        "\n",
        "i: 3\n",
        "pass\n",
        "here\n",
        "http://irsa.ipac.caltech.edu/workspace/TMP_iE3E28_8405/FinderChart/0.03258_-0.04058.v0001/poss2ukstu_red_sub.fits\n",
        "wget -O DSS_b_0.03258_-0.04058_3.fits  \"http://irsa.ipac.caltech.edu/workspace/TMP_iE3E28_8405/FinderChart/0.03258_-0.04058.v0001/poss2ukstu_red_sub.fits\"  \n",
        "n: 0"
       ]
      },
      {
       "output_type": "stream",
       "stream": "stdout",
       "text": [
        "\n",
        "i: 4\n",
        "pass\n",
        "here\n",
        "http://irsa.ipac.caltech.edu/workspace/TMP_iE3E28_8405/FinderChart/0.03258_-0.04058.v0001/poss2ukstu_ir_sub.fits\n",
        "wget -O DSS_b_0.03258_-0.04058_4.fits  \"http://irsa.ipac.caltech.edu/workspace/TMP_iE3E28_8405/FinderChart/0.03258_-0.04058.v0001/poss2ukstu_ir_sub.fits\"  \n"
       ]
      }
     ],
     "prompt_number": 3
    },
    {
     "cell_type": "code",
     "collapsed": false,
     "input": [
      "cat result.txt"
     ],
     "language": "python",
     "metadata": {},
     "outputs": [
      {
       "output_type": "stream",
       "stream": "stdout",
       "text": [
        "<?xml version=\"1.0\"?>\r\n",
        "<finderchart status=\"ok\">\r\n",
        "  <input>\r\n",
        "    <locstr>\r\n",
        "      0.03258 -0.04058\r\n",
        "    </locstr>\r\n",
        "    <surveys>\r\n",
        "     DSS\r\n",
        "    </surveys>\r\n",
        "    <subsetsize>\r\n",
        "      3.0 arcmin\r\n",
        "    </subsetsize>\r\n",
        "    <orientation>\r\n",
        "      left\r\n",
        "    </orientation>\r\n",
        "    <reproject>\r\n",
        "      false\r\n",
        "    </reproject>\r\n",
        "    <grid>\r\n",
        "      false\r\n",
        "    </grid>\r\n",
        "    <marker>\r\n",
        "      false\r\n",
        "    </marker>\r\n",
        "    <shrunkgrid>\r\n",
        "      false\r\n",
        "    </shrunkgrid>\r\n",
        "    <shrunkmarker>\r\n",
        "      false\r\n",
        "    </shrunkmarker>\r\n",
        "  </input>\r\n",
        "  <result>\r\n",
        "    <datatag>\r\n",
        "  ADS/IRSA.FindeChart#2014/0723/010518_7359\r\n",
        "    </datatag>\r\n",
        "    <equCoord>\r\n",
        "      0h 0m7.82s - 0d 2m26.09s eq J2000\r\n",
        "    </equCoord>\r\n",
        "    <galCoord>\r\n",
        "     96.36487 -60.23874 eq J2000\r\n",
        "    </galCoord>\r\n",
        "    <eclCoord>\r\n",
        "     0.01375 -0.05019 ec J2000\r\n",
        "    </eclCoord>\r\n",
        "    <totalimages>\r\n",
        "      5\r\n",
        "    </totalimages>\r\n",
        "    <htmlfile>\r\n",
        "      http://irsa.ipac.caltech.edu/workspace/TMP_p4MG7w_7359/FinderChart/0.03258_-0.04058.v0001/result_prt.html\r\n",
        "    </htmlfile>\r\n",
        "    <image>\r\n",
        "      <surveyname>\r\n",
        "        DSS\r\n",
        "      </surveyname>\r\n",
        "      <band>\r\n",
        "        dss1b\r\n",
        "      </band>\r\n",
        "      <obsdate>\r\n",
        "        1951-08-10\r\n",
        "      </obsdate>\r\n",
        "      <fitsurl>\r\n",
        "        http://irsa.ipac.caltech.edu/workspace/TMP_p4MG7w_7359/FinderChart/0.03258_-0.04058.v0001/poss1_blue_sub.fits\r\n",
        "      </fitsurl>\r\n",
        "      <jpgurl>\r\n",
        "        http://irsa.ipac.caltech.edu/workspace/TMP_p4MG7w_7359/FinderChart/0.03258_-0.04058.v0001/poss1_blue_sub.jpg\r\n",
        "      </jpgurl>\r\n",
        "      <shrunkjpgurl>\r\n",
        "        http://irsa.ipac.caltech.edu/workspace/TMP_p4MG7w_7359/FinderChart/0.03258_-0.04058.v0001/poss1_blue_shrink.jpg\r\n",
        "      </shrunkjpgurl>\r\n",
        "    </image>\r\n",
        "    <image>\r\n",
        "      <surveyname>\r\n",
        "        DSS\r\n",
        "      </surveyname>\r\n",
        "      <band>\r\n",
        "        dss1r\r\n",
        "      </band>\r\n",
        "      <obsdate>\r\n",
        "        1951-08-10\r\n",
        "      </obsdate>\r\n",
        "      <fitsurl>\r\n",
        "        http://irsa.ipac.caltech.edu/workspace/TMP_p4MG7w_7359/FinderChart/0.03258_-0.04058.v0001/poss1_red_sub.fits\r\n",
        "      </fitsurl>\r\n",
        "      <jpgurl>\r\n",
        "        http://irsa.ipac.caltech.edu/workspace/TMP_p4MG7w_7359/FinderChart/0.03258_-0.04058.v0001/poss1_red_sub.jpg\r\n",
        "      </jpgurl>\r\n",
        "      <shrunkjpgurl>\r\n",
        "        http://irsa.ipac.caltech.edu/workspace/TMP_p4MG7w_7359/FinderChart/0.03258_-0.04058.v0001/poss1_red_shrink.jpg\r\n",
        "      </shrunkjpgurl>\r\n",
        "    </image>\r\n",
        "    <image>\r\n",
        "      <surveyname>\r\n",
        "        DSS\r\n",
        "      </surveyname>\r\n",
        "      <band>\r\n",
        "        dss2b\r\n",
        "      </band>\r\n",
        "      <obsdate>\r\n",
        "        1992-11-14\r\n",
        "      </obsdate>\r\n",
        "      <fitsurl>\r\n",
        "        http://irsa.ipac.caltech.edu/workspace/TMP_p4MG7w_7359/FinderChart/0.03258_-0.04058.v0001/poss2ukstu_blue_sub.fits\r\n",
        "      </fitsurl>\r\n",
        "      <jpgurl>\r\n",
        "        http://irsa.ipac.caltech.edu/workspace/TMP_p4MG7w_7359/FinderChart/0.03258_-0.04058.v0001/poss2ukstu_blue_sub.jpg\r\n",
        "      </jpgurl>\r\n",
        "      <shrunkjpgurl>\r\n",
        "        http://irsa.ipac.caltech.edu/workspace/TMP_p4MG7w_7359/FinderChart/0.03258_-0.04058.v0001/poss2ukstu_blue_shrink.jpg\r\n",
        "      </shrunkjpgurl>\r\n",
        "    </image>\r\n",
        "    <image>\r\n",
        "      <surveyname>\r\n",
        "        DSS\r\n",
        "      </surveyname>\r\n",
        "      <band>\r\n",
        "        dss2r\r\n",
        "      </band>\r\n",
        "      <obsdate>\r\n",
        "        1991-10-13\r\n",
        "      </obsdate>\r\n",
        "      <fitsurl>\r\n",
        "        http://irsa.ipac.caltech.edu/workspace/TMP_p4MG7w_7359/FinderChart/0.03258_-0.04058.v0001/poss2ukstu_red_sub.fits\r\n",
        "      </fitsurl>\r\n",
        "      <jpgurl>\r\n",
        "        http://irsa.ipac.caltech.edu/workspace/TMP_p4MG7w_7359/FinderChart/0.03258_-0.04058.v0001/poss2ukstu_red_sub.jpg\r\n",
        "      </jpgurl>\r\n",
        "      <shrunkjpgurl>\r\n",
        "        http://irsa.ipac.caltech.edu/workspace/TMP_p4MG7w_7359/FinderChart/0.03258_-0.04058.v0001/poss2ukstu_red_shrink.jpg\r\n",
        "      </shrunkjpgurl>\r\n",
        "    </image>\r\n",
        "    <image>\r\n",
        "      <surveyname>\r\n",
        "        DSS\r\n",
        "      </surveyname>\r\n",
        "      <band>\r\n",
        "        dss2ir\r\n",
        "      </band>\r\n",
        "      <obsdate>\r\n",
        "        1993-10-09\r\n",
        "      </obsdate>\r\n",
        "      <fitsurl>\r\n",
        "        http://irsa.ipac.caltech.edu/workspace/TMP_p4MG7w_7359/FinderChart/0.03258_-0.04058.v0001/poss2ukstu_ir_sub.fits\r\n",
        "      </fitsurl>\r\n",
        "      <jpgurl>\r\n",
        "        http://irsa.ipac.caltech.edu/workspace/TMP_p4MG7w_7359/FinderChart/0.03258_-0.04058.v0001/poss2ukstu_ir_sub.jpg\r\n",
        "      </jpgurl>\r\n",
        "      <shrunkjpgurl>\r\n",
        "        http://irsa.ipac.caltech.edu/workspace/TMP_p4MG7w_7359/FinderChart/0.03258_-0.04058.v0001/poss2ukstu_ir_shrink.jpg\r\n",
        "      </shrunkjpgurl>\r\n",
        "    </image>\r\n",
        "  </result>\r\n",
        "</finderchart>\r\n"
       ]
      }
     ],
     "prompt_number": 4
    },
    {
     "cell_type": "code",
     "collapsed": false,
     "input": [
      "st=\"      <fitsurl>  \".strip()"
     ],
     "language": "python",
     "metadata": {},
     "outputs": [],
     "prompt_number": 14
    },
    {
     "cell_type": "code",
     "collapsed": false,
     "input": [
      "st ==\"<fitsurl>\""
     ],
     "language": "python",
     "metadata": {},
     "outputs": [
      {
       "metadata": {},
       "output_type": "pyout",
       "prompt_number": 15,
       "text": [
        "True"
       ]
      }
     ],
     "prompt_number": 15
    },
    {
     "cell_type": "code",
     "collapsed": false,
     "input": [],
     "language": "python",
     "metadata": {},
     "outputs": []
    }
   ],
   "metadata": {}
  }
 ]
}