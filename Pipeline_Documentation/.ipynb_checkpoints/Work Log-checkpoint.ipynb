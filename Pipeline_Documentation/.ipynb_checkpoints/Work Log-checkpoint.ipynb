{
 "metadata": {
  "name": "",
  "signature": "sha256:da66fe60e9df45fe1680aa149e6a347deaefc808510e18a1d9ed5adba225cb31"
 },
 "nbformat": 3,
 "nbformat_minor": 0,
 "worksheets": [
  {
   "cells": [
    {
     "cell_type": "heading",
     "level": 3,
     "metadata": {},
     "source": [
      "07/17/2014"
     ]
    },
    {
     "cell_type": "markdown",
     "metadata": {},
     "source": [
      "Goal:\n",
      "\n",
      "- Go over and understand BOSS again\n",
      "- ~~FInish Ch 4 Correleation~~\n",
      "- Contact Apple Support\n",
      "- read http://nbviewer.ipython.org/gist/keflavich/4042018\n",
      "- Keep RC3 running\n",
      "- ~~Figure out astroquery~~\n",
      "- implement other_rc3 properly, test data\n",
      "- Go to lab read : http://nbviewer.ipython.org/github/jrjohansson/qutip-lectures/blob/master/Lecture-1-Jaynes-Cumming-model.ipynb"
     ]
    },
    {
     "cell_type": "heading",
     "level": 3,
     "metadata": {},
     "source": [
      "07/16/2014"
     ]
    },
    {
     "cell_type": "markdown",
     "metadata": {},
     "source": [
      "- RC3: Fixed Bash Crash, asked Prof about NED other_rc3 resolve\n",
      "- BOSS: Read Lang Hogg MoG\n",
      "- InventionLab: Started workdoc , 70% done Dual-Layer Christmas tree\n",
      "- Learning: Read Ch 3 and 4 Prob Astr book, understood Bayesian significance"
     ]
    },
    {
     "cell_type": "code",
     "collapsed": false,
     "input": [],
     "language": "python",
     "metadata": {},
     "outputs": []
    },
    {
     "cell_type": "heading",
     "level": 1,
     "metadata": {},
     "source": [
      "Daily Template:"
     ]
    },
    {
     "cell_type": "markdown",
     "metadata": {},
     "source": [
      "- RC3:\n",
      "- BOSS:\n",
      "- InventionLab:\n",
      "- Learning:"
     ]
    },
    {
     "cell_type": "code",
     "collapsed": false,
     "input": [],
     "language": "python",
     "metadata": {},
     "outputs": [],
     "prompt_number": 0
    },
    {
     "cell_type": "code",
     "collapsed": false,
     "input": [],
     "language": "python",
     "metadata": {},
     "outputs": []
    }
   ],
   "metadata": {}
  }
 ]
}