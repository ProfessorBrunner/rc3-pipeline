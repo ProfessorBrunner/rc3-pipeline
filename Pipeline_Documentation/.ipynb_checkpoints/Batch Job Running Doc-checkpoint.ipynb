{
 "metadata": {
  "name": "",
  "signature": "sha256:991abbbd8f5d0a5720e8bcfe6c45b3d19de6057e6a5d617769833857f633ec6a"
 },
 "nbformat": 3,
 "nbformat_minor": 0,
 "worksheets": [
  {
   "cells": [
    {
     "cell_type": "markdown",
     "metadata": {},
     "source": [
      "Crashed at 2014-07-15 18:21:43\n",
      "SDSS_r_4.5625_30.0625.fits\n",
      "\n",
      "[['PGC  1185', '4.56175', '30.063139'], ['PGC  1187', '4.577042', '30.07175'], ['PGC  1191', '4.585448', '30.039963']]\n",
      "info{185: [4.5617, 30.06313], 187: [4.57704, 30.0717], 191: [4.58544, 30.03996]}\n",
      "Traceback (most recent call last):\n",
      "  File \"bulk_run.py\", line 6, in <module>\n",
      "    rc3cat.mosaicAll(sloan)\n",
      "  File \"/data/small/doris/bulk_run/rc3Catalog.py\", line 61, in mosaicAll\n",
      "    obj.source_info(rfits,survey)\n",
      "  File \"/data/small/doris/bulk_run/rc3.py\", line 291, in source_info\n",
      "    print (\"The galaxy that we want to mosaic is: \"+str(info[self.pgc]))\n",
      "KeyError: 1185\n",
      "    \n",
      "    \n",
      "    \n",
      "4 digit truncated \n",
      "changed pgc = int(i[0][6:])\n",
      "to pgc = int(i[0][3:])\n",
      "\n",
      "\n",
      "Changed \n",
      "4.525     -37.7105555556     0.0205044795545      1176\n",
      "@\n",
      "4.5625     30.0625     0.0162872870485      1185\n"
     ]
    },
    {
     "cell_type": "code",
     "collapsed": false,
     "input": [
      "  File \"/data/small/doris/bulk_run/rc3.py\", line 50, in mosaic_band\n",
      "    result = survey.data_server.runCamcolFieldConverter(ra,dec,margin)\n",
      "  File \"/data/small/doris/bulk_run/skyserver.py\", line 52, in runCamcolFieldConverter\n",
      "    return self.query(query)\n",
      "  File \"/data/small/doris/bulk_run/skyserver.py\", line 24, in query\n",
      "    list[2]= list[2][:-1]\n",
      "IndexError: list index out of range\n",
      "    \n",
      "    \n",
      "Changed by \n",
      "        for i in result:\n",
      "            # print(i)\n",
      "            if count>1:\n",
      "                list =i.split(',')\n",
      "                if (len(list)):\n",
      "                    list[2]= list[2][:-1]\n",
      "                    data.append(list)\n",
      "            count += 1\n"
     ],
     "language": "python",
     "metadata": {},
     "outputs": []
    },
    {
     "cell_type": "markdown",
     "metadata": {},
     "source": [
      "Querying data that lies inside margin\n",
      "Traceback (most recent call last):\n",
      "  File \"bulk_run.py\", line 6, in <module>\n",
      "    rc3cat.mosaicAll(sloan)\n",
      "  File \"/data/small/doris/bulk_run/rc3Catalog.py\", line 61, in mosaicAll\n",
      "    obj.source_info(rfits,survey)\n",
      "  File \"/data/small/doris/bulk_run/rc3.py\", line 332, in source_info\n",
      "    self.mosaic_all_bands(new_ra,new_dec,margin,radii,pgc,survey)\n",
      "  File \"/data/small/doris/bulk_run/rc3.py\", line 373, in mosaic_all_bands\n",
      "    self.mosaic_band(band,ra,dec,margin,radius,pgc,survey)\n",
      "  File \"/data/small/doris/bulk_run/rc3.py\", line 50, in mosaic_band\n",
      "    result = survey.data_server.runCamcolFieldConverter(ra,dec,margin)\n",
      "  File \"/data/small/doris/bulk_run/skyserver.py\", line 53, in runCamcolFieldConverter\n",
      "    return self.query(query)\n",
      "  File \"/data/small/doris/bulk_run/skyserver.py\", line 25, in query\n",
      "    list[2]= list[2][:-1]\n",
      "IndexError: list index out of range     \n",
      "    \n",
      "    Stopped after SDSS_r_6.89291666667_8.87472222222.fits"
     ]
    },
    {
     "cell_type": "markdown",
     "metadata": {},
     "source": [
      "Querying data that lies inside margin\n",
      "['#Table1\\n', 'error_message\\n', '\"ERROR: Maximum 60 queries allowed per minute. Rejected query: SELECT distinct run,camcol,field FROM PhotoObj WHERE ra between 9.1612081-0.0233313575665 and 9.1612081+0.0233313575665and dec between -22.5932490-0.0233313575665 and -22.5932490+0.0233313575665 \\n', '   \"\\n']\n",
      "[['\"ERROR: Maximum 60 queries allowed per minute. Rejected query: SELECT distinct run', 'camcol', 'field FROM PhotoObj WHERE ra between 9.1612081-0.0233313575665 and 9.1612081+0.0233313575665and dec between -22.5932490-0.0233313575665 and -22.5932490+0.0233313575665 ']]\n",
      "['#Table1\\n', 'error_message\\n', '\"ERROR: Maximum 60 queries allowed per minute. Rejected query: SELECT distinct run,camcol,field FROM PhotoObj WHERE CLEAN =1 and ra between 9.1612081-0.0233313575665 and 9.1612081+0.0233313575665and dec between -22.5932490-0.0233313575665 and -22.5932490+0.0233313575665 \\n', '   \"\\n']\n",
      "\n",
      "inside skyserver\n",
      "result\n",
      "data\n"
     ]
    },
    {
     "cell_type": "code",
     "collapsed": false,
     "input": [
      "result =[['\"ERROR: Maximum 60 queries allowed per minute. Rejected query: SELECT distinct run', 'camcol', 'field FROM PhotoObj WHERE ra between 9.1612081-0.0233313575665 and 9.1612081+0.0233313575665and dec between -22.5932490-0.0233313575665 and -22.5932490+0.0233313575665 ']]"
     ],
     "language": "python",
     "metadata": {},
     "outputs": [],
     "prompt_number": 1
    },
    {
     "cell_type": "code",
     "collapsed": false,
     "input": [
      "result[0][0][1:6]==\"ERROR\""
     ],
     "language": "python",
     "metadata": {},
     "outputs": [
      {
       "metadata": {},
       "output_type": "pyout",
       "prompt_number": 6,
       "text": [
        "True"
       ]
      }
     ],
     "prompt_number": 6
    },
    {
     "cell_type": "code",
     "collapsed": false,
     "input": [
      "for i in range(10):\n",
      "    try:\n",
      "        print (i)\n",
      "        if (i==5):\n",
      "            print (1/0)\n",
      "    except:\n",
      "        print (\"error\")"
     ],
     "language": "python",
     "metadata": {},
     "outputs": [
      {
       "output_type": "stream",
       "stream": "stdout",
       "text": [
        "0\n",
        "1\n",
        "2\n",
        "3\n",
        "4\n",
        "5\n",
        "error\n",
        "6\n",
        "7\n",
        "8\n",
        "9\n"
       ]
      }
     ],
     "prompt_number": 9
    },
    {
     "cell_type": "markdown",
     "metadata": {},
     "source": [
      "try:\n",
      "                                rfits=obj.mosaic_band('r',obj.rc3_ra,obj.rc3_dec,3*obj.rc3_radius,obj.rc3_radius,obj.pgc,survey)\n",
      "                                if(rfits!=-1): #Special value for outside footprint or error , no rfits produced\n",
      "                                        obj.source_info(rfits,survey)\n",
      "                        except:\n",
      "                                print(\"Something went wrong when mosaicing PGC{}, just ignore it and keep mosaicing the next galaxy\".format(str(obj.pgc)))\n",
      "            Fixed at 6:00AM"
     ]
    },
    {
     "cell_type": "markdown",
     "metadata": {},
     "source": [
      "Accidentally ran when setting \n",
      "6.89291666667     8.87472222222     0.0428399297985      1700\n",
      "@\n",
      "6.89416666667     -34.1966666667     0.0246518065188      1701\n",
      "6.95791666667     -1.2     0.0240906628939      1713\n",
      "6.96916666667     -1.81027777778     0.0235422924575      1715\n",
      "6.975     26.0102777778     0.0187003076091      1717\n",
      "\n",
      "Then Changed to \n",
      "9.15583333333     -27.79     0.0135471752965      2184\n",
      "9.15791666667     -56.9066666667     0.0224827147548      2190\n",
      "9.16458333333     -22.5933333333     0.0155542383777      2192\n",
      "@\n",
      "9.19     21.5680555556     0.0170548832388      2194\n",
      "9.19083333333     1.88638888889     0.00678967131031      2195\n"
     ]
    },
    {
     "cell_type": "markdown",
     "metadata": {},
     "source": [
      "Force terminate again because when I checked nohup.out\n",
      "everything just went to \n",
      "\"Something went wrong when mosaicing PGC{}, just ignore it and keep mosaicing\"\n",
      "The last one that went wrong was PGC1869"
     ]
    },
    {
     "cell_type": "markdown",
     "metadata": {},
     "source": [
      "File not found. Mosaic all the way to ra of 21 something but nothing was written because file not found so keep mosaicing only r band, due to the try catch, not too sure what the problem is her.\n",
      "\n",
      "10.72712,23.50305/\n",
      "SDSS_r_10.72375_33.5241666667.fits\n",
      "Changed to \n",
      "10.7229166667     -23.5444444444     0.00591355649905      2570\n",
      "10.72375     33.5241666667     0.0195816259548      2571\n",
      "@\n",
      "10.7254166667     32.5794444444     0.0162872870485      2572\n",
      "10.7416666667     27.2505555556     0.010042659788      2575\n",
      "10.7645833333     -22.2430555556     0.035632701563      2578\n",
      "\n",
      "\n",
      "I think it is due to a run time error on SkyServer, but its kind of weird\n",
      "ls -l |wc -l"
     ]
    },
    {
     "cell_type": "code",
     "collapsed": false,
     "input": [
      "SDSS_r_11.0_26.1897222222.fits\n",
      "10.9629166667     32.8530555556     0.0296379902266      2614\n",
      "10.96625     0.801111111111     0.0224827147548      2615\n",
      "10.97625     -4.24527777778     0.0258136103668      2616\n",
      "10.98375     1.84805555556     0.0252260208577      2617\n",
      "@\n",
      "11.0033333333     -76.5897222222     0.0230064044561      2619\n",
      "11.0     26.1897222222     0.0252260208577      2621\n"
     ],
     "language": "python",
     "metadata": {},
     "outputs": []
    },
    {
     "cell_type": "markdown",
     "metadata": {},
     "source": [
      "Crash again at\n",
      "SDSS_r_11.5233333333_-1.72222222222.fits\n",
      "\n",
      "so added try catch in mosaicAll, it should be all good now\n"
     ]
    },
    {
     "cell_type": "markdown",
     "metadata": {},
     "source": [
      "Crashed again \n",
      "changed len>1 to len>0\n",
      "        if (len(result)>0 or len(clean_result)>0):\n",
      "            #if (result[0][:6]==\"<html>\"):\n",
      "            \n",
      "            \n",
      "SDSS_r_11.76_30.3386111111.fits\n",
      "\n",
      "11.7844536,+30.3413118                   "
     ]
    },
    {
     "cell_type": "heading",
     "level": 2,
     "metadata": {},
     "source": [
      "Reran in a completely new file bulk_run2\n",
      " got out that it was recursively stuck at 10.72\n",
      "du -h shows\n",
      "\n",
      "4.0K\t./10.72712,23.50305/i/raw/r/raw/r/raw/r/raw/r/projected\n",
      "76M\t./10.72712,23.50305/i/raw/r/raw/r/raw/r/raw/r\n",
      "94M\t./10.72712,23.50305/i/raw/r/raw/r/raw/r/raw\n",
      "4.0K\t./10.72712,23.50305/i/raw/r/raw/r/raw/r/projected\n",
      "95M\t./10.72712,23.50305/i/raw/r/raw/r/raw/r\n",
      "113M\t./10.72712,23.50305/i/raw/r/raw/r/raw\n",
      "4.0K\t./10.72712,23.50305/i/raw/r/raw/r/projected\n",
      "113M\t./10.72712,23.50305/i/raw/r/raw/r\n",
      "135M\t./10.72712,23.50305/i/raw/r/raw\n",
      "4.0K\t./10.72712,23.50305/i/raw/r/projected\n",
      "135M\t./10.72712,23.50305/i/raw/r\n",
      "146M\t./10.72712,23.50305/i/raw\n",
      "4.0K\t./10.72712,23.50305/i/projected\n",
      "146M\t./10.72712,23.50305/i\n",
      "146M\t./10.72712,23.50305\n",
      "512K\t./10.1584897,-0.3210461\n",
      "600K\t./10.1163121,+3.2508879\n",
      "\n",
      "Also another issue is \n",
      "doris@bigdog-data:/data/small/doris/bulk_run2/10.4199698,+10.8268255$ ls\n",
      "rc3_galaxies_outside_SDSS_footprint.txt\n",
      "rc3_galaxies_unclean\n",
      "SDSS_g_10.4199698_+10.8268255.fits\n",
      "SDSS_i_10.4199698_+10.8268255.fits\n",
      "SDSS_r_10.4199698_+10.8268255.fits\n",
      "SDSS_u_10.4199698_+10.8268255.fits\n",
      "SDSS_z_10.4199698_+10.8268255.fits"
     ]
    },
    {
     "cell_type": "markdown",
     "metadata": {},
     "source": [
      "7/17 7am \n",
      "Stuck in a recursive halt again since 6ish (after last reran) \n",
      "\n",
      "11.7933462,+32.6937081\n",
      "\n",
      "so SDSS 11 ~ 13... images were all stored inside here 11.7933462,+32.6937081 it just wouldn't get out so thats why it can't mosiac. and kept erroring. and since it was Running so fast that it exceeded the maximum query limit per minute every time.\n"
     ]
    }
   ],
   "metadata": {}
  }
 ]
}