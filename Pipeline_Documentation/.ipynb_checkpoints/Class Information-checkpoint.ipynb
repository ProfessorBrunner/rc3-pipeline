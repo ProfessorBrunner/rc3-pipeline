{
 "metadata": {
  "name": "",
  "signature": "sha256:cdfbde964e2e9a2cf58fe5808c55b81194d1b12ce80af56703f8dc2f4c18b8e6"
 },
 "nbformat": 3,
 "nbformat_minor": 0,
 "worksheets": [
  {
   "cells": [
    {
     "cell_type": "heading",
     "level": 1,
     "metadata": {},
     "source": [
      "Server(Object)"
     ]
    },
    {
     "cell_type": "markdown",
     "metadata": {},
     "source": [
      "Server object is an abstract class for Interacting with the server,accessing raw data from survey and feed it into program in the appropraite format. Server is implemented by the concrete class for the specific server for example: Mast, Sky server, gator, local disk."
     ]
    },
    {
     "cell_type": "markdown",
     "metadata": {},
     "source": [
      "Instance Attributes:\n",
      "    - str raw : unprocessed raw data in CSV or HTML format\n",
      "    - str processed: processed data in desirable format (list?, or just text file and do readline())\n",
      "    - Useful quantities parse columns into list and store as attributes(?)\n",
      "    "
     ]
    },
    {
     "cell_type": "heading",
     "level": 6,
     "metadata": {},
     "source": [
      "Abstract methods"
     ]
    },
    {
     "cell_type": "markdown",
     "metadata": {},
     "source": [
      "- __abstract  query()__:\n",
      "interacts with the query system of the data server and returns a list of desirable information.\n",
      "       args:\n",
      "         string query command\n",
      "         string mirror_database (Optional)\n",
      "         int format (Optional):\n",
      "         --> 1 :['#Table1\\n', 'run,camcol,field\\n', '1024,2,115\\n', '1045,2,129\\n']\n",
      "         --> 2 :[['1024', '2', '115'], ['1045', '2', '129']]\n",
      "\n",
      "       out: \n",
      "           List of matching result, depend on format, by format=1 default.\n",
      " \n",
      "- __abstract access()__: \n",
      " - Get data(*kwargs): interacts with the data server to retrieve Data by giving Surveys specific imaging names, For example run can call field; RA DEC"
     ]
    },
    {
     "cell_type": "heading",
     "level": 2,
     "metadata": {},
     "source": [
      "Survey(Data)"
     ]
    },
    {
     "cell_type": "markdown",
     "metadata": {},
     "source": [
      "Survey is an abstract class that is implemented by the specific survey, For example SDSS, 2Mass, galex, mixed bands. Mixed bands may contain multiple surveys which enables it to mosaic from multiple surveys per band. This is particularly useful for GALEX because it only has two bands so it could be augmented by having a third then from one of the other surveys. These classes contain one of the concrete classes that implement server. \n",
      "\n",
      "Survey class also must contain the parameters and information used in the mosaic instead. The survey class is designed such that  It has the flexibility for other survey dependent applications  to latch on the survey class this independently, (VO table, navigator tools, API,NED?).Is this inheritance level it could also less fun serving pendant catalogs such as extended source catalog, point source catalog maybe subclasses for the 2MASS class. these should not be confused with the __Catalog__ class. Placing do you survey dependent Catalog here enables us to use the __Catalog__ class or the __RC3__ per object mosaicing methods because the point source catalog IS-A __Survey__.\n"
     ]
    },
    {
     "cell_type": "markdown",
     "metadata": {},
     "source": [
      "__Subclass__ : SDSS, 2MASS, GALEX, IRSA...etc"
     ]
    },
    {
     "cell_type": "markdown",
     "metadata": {},
     "source": [
      "Instance Attributes:\n",
      "\n",
      "- General Info used for Mosaicing\n",
      "    - list __bands__ : ['u','g','r','i','z']\n",
      "    - list __color_bands__: ['g','r','i']\n",
      "    - char __best_band__ : best quality band, the band that best show low surface brightness structure (used for the zooming out algorithm)  ; 'r'\n",
      "    - float __pixel_size__: for SExtractor\n",
      "    - list __coord_info__: Used by AstroPy's SkyCoord for conversion when preprocessing catalog info[frame,equinox,(coord_sys)]-->['fk5','J2000','WCS']\n",
      "    - Server __data_server__: stores the Server object\n",
      "    - dict __sextractor_params__\n",
      "    - dict __montage_params__\n",
      "    - dict __stiff_params__"
     ]
    },
    {
     "cell_type": "markdown",
     "metadata": {},
     "source": [
      "- __coverage_check()__:(Optional) check if position in survey footprint(may be simply part of  query()?), it'd be nice to have a method that returns a boolean : rc3_obj.is_inside('2MASS')\n",
      "- _init_server(): Private method that type dispatches a specific server upon initialization\n",
      "- Other optional methods : print_survey_info() (kind of like str() method), "
     ]
    },
    {
     "cell_type": "heading",
     "level": 2,
     "metadata": {},
     "source": [
      "Gator(Server)"
     ]
    },
    {
     "cell_type": "markdown",
     "metadata": {},
     "source": [
      "- __query()__:\n",
      "    - http://irsa.ipac.caltech.edu/cgi-bin/Gator/nph-query?[keyword1=value1]&[keyword2=value2]&...[keywordn=valuen]\n",
      "    - Select output as HTML then post-process into appropriate list form.\n"
     ]
    },
    {
     "cell_type": "heading",
     "level": 2,
     "metadata": {},
     "source": [
      "MAST(Server)"
     ]
    },
    {
     "cell_type": "heading",
     "level": 2,
     "metadata": {},
     "source": [
      "SkyServer(Server)"
     ]
    },
    {
     "cell_type": "markdown",
     "metadata": {},
     "source": [
      "Wrapper class for interacting with sqlcl.py"
     ]
    },
    {
     "cell_type": "heading",
     "level": 2,
     "metadata": {},
     "source": [
      "Local(Server)"
     ]
    },
    {
     "cell_type": "markdown",
     "metadata": {},
     "source": [
      "Check if raw file exist on LCDM's local disk.\n",
      "Not sure how to interact with this, query database?"
     ]
    },
    {
     "cell_type": "heading",
     "level": 1,
     "metadata": {},
     "source": [
      "-----------------------------------------------------------------------"
     ]
    },
    {
     "cell_type": "heading",
     "level": 1,
     "metadata": {},
     "source": [
      "Catalog"
     ]
    },
    {
     "cell_type": "markdown",
     "metadata": {},
     "source": [
      "The __Catalog__ class is a concrete class that is responsible for all of the automated mosaic steps(i.e. Mosaic all galaxies in the Given catalog). This generic catalog class also enables the flexibility of mosaic and other catalogs such as the best year objects UGC, PGC, add RC3 which would be subclasses of catalog class. "
     ]
    },
    {
     "cell_type": "heading",
     "level": 3,
     "metadata": {},
     "source": [
      "RC3(Catalog)"
     ]
    },
    {
     "cell_type": "markdown",
     "metadata": {},
     "source": [
      "The RC3 class represents an RC3 galaxy object. It is responsible for mosaic on a per object bases. It also contains information about the RC three object including links to NED database and other information."
     ]
    },
    {
     "cell_type": "markdown",
     "metadata": {},
     "source": [
      "Previously RC3 information was stored/ read in the FIT files. However I decided that storing this information as an attribute of the RC3 Object is better.\n",
      "\n",
      "Instance Attributes: \n",
      "    - rc3_ra, rc3_dec, rc3_radius: Values found in the original RC3 Catalog\n",
      "    - pgc : Unique identifier \n",
      "    - ra,dec,radius: Updated coordinates (Reserved Values @ and -1), Updated Radius is not \n",
      "    too reliable (dependent on definition)\n",
      "    \n",
      "    "
     ]
    },
    {
     "cell_type": "markdown",
     "metadata": {},
     "source": [
      "(currently rc3.py)Contains basic information about the RC3 Object,in addition to the core per-object mosaicing methods.The reason why I am keeping core mosaicing methods to RC3 is because the recursion program need the object to have that information while it is doing source_info, 2) to switch survey you can jsut do rc3_obj.mosaic(\"2MASS\",...), then you have a series of if that instantiate a Survey Object containing the information that you need for mosaicing parameter. \n"
     ]
    },
    {
     "cell_type": "heading",
     "level": 1,
     "metadata": {},
     "source": [
      "-----------------------------------------------------------------------"
     ]
    },
    {
     "cell_type": "heading",
     "level": 1,
     "metadata": {},
     "source": [
      "ToolBox"
     ]
    },
    {
     "cell_type": "markdown",
     "metadata": {},
     "source": [
      "Toolbox is a module that contains generic methods used. In this project it is Abstracted to enable code reviews in addition to shortening the code inside catalog at and the RC three class.(ex. source confusion, Data parsing, find maximum and other algorithm). This is not related to anything in class hierarchy instead simply imported as a module for its functionality."
     ]
    }
   ],
   "metadata": {}
  }
 ]
}