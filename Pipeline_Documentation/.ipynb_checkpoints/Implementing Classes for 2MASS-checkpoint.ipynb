{
 "metadata": {
  "name": "",
  "signature": "sha256:fdf7dfcc7740220e9f22671f6aed82fa808c0ec14ed35843b03000593c2e637f"
 },
 "nbformat": 3,
 "nbformat_minor": 0,
 "worksheets": [
  {
   "cells": [
    {
     "cell_type": "code",
     "collapsed": false,
     "input": [
      "cd ../pipeline/"
     ],
     "language": "python",
     "metadata": {},
     "outputs": [
      {
       "output_type": "stream",
       "stream": "stdout",
       "text": [
        "/Users/dorislee/Desktop/GSoC2014/workarea-rc3-project/pipeline\n"
       ]
      }
     ],
     "prompt_number": 1
    },
    {
     "cell_type": "code",
     "collapsed": false,
     "input": [
      "from gator import Gator\n",
      "a=Gator()"
     ],
     "language": "python",
     "metadata": {},
     "outputs": [],
     "prompt_number": 2
    },
    {
     "cell_type": "code",
     "collapsed": false,
     "input": [
      "a.getData('J',10.5,3.5,0.1)"
     ],
     "language": "python",
     "metadata": {},
     "outputs": [
      {
       "output_type": "stream",
       "stream": "stdout",
       "text": [
        "getData\n",
        "http://irsa.ipac.caltech.edu/cgi-bin/2MASS/IM/nph-im?ds=asky&atdir=/ti07&dh=000902s&scan=085&name=ji0850150.fits"
       ]
      },
      {
       "output_type": "stream",
       "stream": "stdout",
       "text": [
        "\n",
        "wget  \"http://irsa.ipac.caltech.edu/cgi-bin/2MASS/IM/nph-im?ds=asky&atdir=/ti07&dh=000902s&scan=085&name=ji0850150.fits\"  \n",
        "http://irsa.ipac.caltech.edu/cgi-bin/2MASS/IM/nph-im?ds=asky&atdir=/ti07&dh=000902s&scan=085&name=ji0850162.fits"
       ]
      },
      {
       "output_type": "stream",
       "stream": "stdout",
       "text": [
        "\n",
        "wget  \"http://irsa.ipac.caltech.edu/cgi-bin/2MASS/IM/nph-im?ds=asky&atdir=/ti07&dh=000902s&scan=085&name=ji0850162.fits\"  \n"
       ]
      }
     ],
     "prompt_number": 3
    },
    {
     "cell_type": "code",
     "collapsed": false,
     "input": [
      "# ls"
     ],
     "language": "python",
     "metadata": {},
     "outputs": [],
     "prompt_number": 4
    },
    {
     "cell_type": "code",
     "collapsed": false,
     "input": [
      "cat tbl.xml"
     ],
     "language": "python",
     "metadata": {},
     "outputs": [
      {
       "output_type": "stream",
       "stream": "stdout",
       "text": [
        "<?xml version=\"1.0\" encoding=\"ISO-8859-1\" ?>\r\n",
        "<!DOCTYPE VOTABLE SYSTEM \"http://us-vo.org/xml/VOTable.dtd\">\r\n",
        "<VOTABLE version=\"1.0\">\r\n",
        "<DEFINITIONS>\r\n",
        "\t<COOSYS ID=\"J2000\" equinox=\"J2000.0\" epoch=\"J2000.0\" system=\"eq_FK5\" />\r\n",
        "</DEFINITIONS>\r\n",
        "<RESOURCE type=\"results\">\r\n",
        "<INFO name=\"QUERY_STATUS\" value=\"OK\" />\r\n",
        "<PARAM name=\"crefframe\" ucd=\"VOX:STC_CoordRefFrame\" datatype=\"char\" arraysize=\"*\" value=\"FK5\">\r\n",
        "\t<DESCRIPTION>Coordinate System Reference Frame</DESCRIPTION>\r\n",
        "</PARAM>\r\n",
        "<PARAM name=\"cequinox\" ucd=\"VOX:STC_CoordEquinox\" datatype=\"double\" value=\"2000.0\">\r\n",
        "\t<DESCRIPTION>Equinox of the image world coordinate system (WCS).</DESCRIPTION>\r\n",
        "</PARAM>\r\n",
        "<PARAM name=\"ctype\" ucd=\"VOX:WCS_CoordProjection\" datatype=\"char\" arraysize=\"3\" value=\"SIN\">\r\n",
        "\t<DESCRIPTION>Orthographic Projection.\r\n",
        "\t\tThe first image axis represents right ascension\r\n",
        "\t\tand the second represents declination.</DESCRIPTION>\r\n",
        "</PARAM>\r\n",
        "<PARAM name=\"bunit\" ucd=\"VOX:BandPass_Unit\" datatype=\"char\" arraysize=\"*\" value=\"meters\">\r\n",
        "\t<DESCRIPTION>The units used to represent bandpass values.</DESCRIPTION>\r\n",
        "</PARAM>\r\n",
        "<TABLE>\r\n",
        "<FIELD ID=\"name\" name=\"name\" ucd=\"VOX:Image_Title\" datatype=\"char\" arraysize=\"*\" >\r\n",
        "\t<DESCRIPTION>Concise description of the image returned.</DESCRIPTION>\r\n",
        "</FIELD>\r\n",
        "<FIELD ID=\"download\" name=\"download\" ucd=\"VOX:Image_AccessReference\" datatype=\"char\" arraysize=\"*\" >\r\n",
        "\t<DESCRIPTION>Image access reference URL.</DESCRIPTION>\r\n",
        "</FIELD>\r\n",
        "<FIELD ID=\"center_ra\" name=\"center_ra\" ucd=\"POS_EQ_RA_MAIN\" ref=\"J2000\" datatype=\"double\" unit=\"deg\" >\r\n",
        "\t<DESCRIPTION>ICRS right-ascension of the image center.</DESCRIPTION>\r\n",
        "</FIELD>\r\n",
        "<FIELD ID=\"center_dec\" name=\"center_dec\" ucd=\"POS_EQ_DEC_MAIN\" ref=\"J2000\" datatype=\"double\" unit=\"deg\" >\r\n",
        "\t<DESCRIPTION>ICRS declination of the image center.</DESCRIPTION>\r\n",
        "</FIELD>\r\n",
        "<FIELD ID=\"naxes\" name=\"naxes\" ucd=\"VOX:Image_Naxes\" datatype=\"int\" >\r\n",
        "\t<DESCRIPTION>Number of Image Axes.</DESCRIPTION>\r\n",
        "</FIELD>\r\n",
        "<FIELD ID=\"naxis\" name=\"naxis\" ucd=\"VOX:Image_Naxis\" datatype=\"int\" arraysize=\"2\" >\r\n",
        "\t<DESCRIPTION>An array giving the length in pixels of each image axis.</DESCRIPTION>\r\n",
        "</FIELD>\r\n",
        "<FIELD ID=\"scale\" name=\"scale\" ucd=\"VOX:Image_Scale\" datatype=\"double\" unit=\"deg\" arraysize=\"2\" >\r\n",
        "\t<DESCRIPTION>An array giving the scale in degrees per pixel of each image axis.</DESCRIPTION>\r\n",
        "</FIELD>\r\n",
        "<FIELD ID=\"format\" name=\"format\" ucd=\"VOX:Image_Format\" datatype=\"char\" arraysize=\"*\" >\r\n",
        "\t<DESCRIPTION>MIME-type of the object pointed to by the image access reference URL.</DESCRIPTION>\r\n",
        "</FIELD>\r\n",
        "<FIELD ID=\"crpix\" name=\"crpix\" ucd=\"VOX:WCS_CoordRefPixel\" datatype=\"double\" arraysize=\"2\" >\r\n",
        "\t<DESCRIPTION>An array specifying the image pixel coordinates of the WCS reference pixel.</DESCRIPTION>\r\n",
        "</FIELD>\r\n",
        "<FIELD ID=\"crval\" name=\"crval\" ucd=\"VOX:WCS_CoordRefValue\" datatype=\"double\" unit=\"deg\" arraysize=\"2\" >\r\n",
        "\t<DESCRIPTION>An array specifying the world coordinates of the WCS reference pixel.</DESCRIPTION>\r\n",
        "</FIELD>\r\n",
        "<FIELD ID=\"crota2\" name=\"crota2\" datatype=\"double\" unit=\"deg\" >\r\n",
        "\t<DESCRIPTION>Twist in degrees about Image Center, +AXIS2 West of North (J2000)</DESCRIPTION>\r\n",
        "</FIELD>\r\n",
        "<FIELD ID=\"band\" name=\"band\" ucd=\"VOX:BandPass_ID\" datatype=\"char\" arraysize=\"*\" >\r\n",
        "\t<DESCRIPTION>2MASS Image Band</DESCRIPTION>\r\n",
        "\t<VALUES type=\"actual\">\r\n",
        "\t\t<OPTION name=\"2MASS J-Band\" value=\"J\" />\r\n",
        "\t\t<OPTION name=\"2MASS H-Band\" value=\"H\" />\r\n",
        "\t\t<OPTION name=\"2MASS Ks-Band\" value=\"K\" />\r\n",
        "\t</VALUES>\r\n",
        "</FIELD>\r\n",
        "<FIELD ID=\"bref\" name=\"bref\" ucd=\"VOX:BandPass_RefValue\" datatype=\"double\" unit=\"meters\" >\r\n",
        "\t<DESCRIPTION>The reference wavelength of the 2MASS Image Filter.</DESCRIPTION>\r\n",
        "\t<LINK content-role=\"doc\" content-type=\"text/html\" href=\"http://www.ipac.caltech.edu/2mass/releases/allsky/doc/sec6_4a.html\" /></FIELD>\r\n",
        "<FIELD ID=\"bhi\" name=\"bhi\" ucd=\"VOX:BandPass_HiLimit\" datatype=\"double\" unit=\"meters\" >\r\n",
        "\t<DESCRIPTION>Upper wavelength limit of the 2MASS Image Filter.</DESCRIPTION>\r\n",
        "\t<LINK content-role=\"doc\" content-type=\"text/html\" href=\"http://www.ipac.caltech.edu/2mass/releases/allsky/doc/sec6_4a.html\" /></FIELD>\r\n",
        "<FIELD ID=\"blo\" name=\"blo\" ucd=\"VOX:BandPass_LoLimit\" datatype=\"double\" unit=\"meters\" >\r\n",
        "\t<DESCRIPTION>Lower wavelength limit of the 2MASS Image Filter.</DESCRIPTION>\r\n",
        "\t<LINK content-role=\"doc\" content-type=\"text/html\" href=\"http://www.ipac.caltech.edu/2mass/releases/allsky/doc/sec6_4a.html\" /></FIELD>\r\n",
        "<FIELD ID=\"pers_art\" name=\"pers_art\" datatype=\"char\" arraysize=\"*\" >\r\n",
        "\t<DESCRIPTION>Persistence artifacts URL</DESCRIPTION>\r\n",
        "</FIELD>\r\n",
        "<FIELD ID=\"glint_art\" name=\"glint_art\" datatype=\"char\" arraysize=\"*\" >\r\n",
        "\t<DESCRIPTION>Filter glint artifacts URL</DESCRIPTION>\r\n",
        "</FIELD>\r\n",
        "<FIELD ID=\"type\" name=\"type\" datatype=\"char\" arraysize=\"*\" >\r\n",
        "\t<DESCRIPTION>Type of Image (Q=Quicklook; A=Atlas)</DESCRIPTION>\r\n",
        "\t<VALUES type=\"actual\">\r\n",
        "\t\t<OPTION name=\"Quicklook\" value=\"Q\" />\r\n",
        "\t\t<OPTION name=\"Atlas\" value=\"A\" />\r\n",
        "\t</VALUES>\r\n",
        "</FIELD>\r\n",
        "<FIELD ID=\"dataset\" name=\"dataset\" datatype=\"char\" arraysize=\"*\" >\r\n",
        "\t<DESCRIPTION>The 2MASS dataset the image belongs to.</DESCRIPTION>\r\n",
        "\t<VALUES type=\"actual\">\r\n",
        "\t\t<OPTION name=\"All-Sky Release Survey\" value=\"asky\" />\r\n",
        "\t\t<OPTION name=\"Full Survey\" value=\"askyw\" />\r",
        "\r\n",
        "\t\t<OPTION name=\"6X Catalog\" value=\"sx\" />\r\n",
        "\t\t<OPTION name=\"Full 6X\" value=\"sxw\" />\r\n",
        "\t\t<OPTION name=\"Calibration\" value=\"cal\" />\r\n",
        "\t</VALUES>\r\n",
        "</FIELD>\r\n",
        "<FIELD ID=\"pixflags\" name=\"pixflags\" ucd=\"VOX:Image_PixFlags\" datatype=\"char\" arraysize=\"*\" >\r\n",
        "\t<DESCRIPTION>Pixel flags of source image</DESCRIPTION>\r\n",
        "</FIELD>\r\n",
        "<FIELD ID=\"id\" name=\"id\" datatype=\"char\" arraysize=\"*\" >\r\n",
        "\t<DESCRIPTION>\r\n",
        "An identifier for the search constraint\r\n",
        "the FITS Image was found/retrieved for\r\n",
        "\t</DESCRIPTION>\r\n",
        "</FIELD>\r\n",
        "<FIELD ID=\"scntr\" name=\"scntr\" datatype=\"int\" >\r\n",
        "\t<DESCRIPTION>\r\n",
        "This field will contain null values unless the meta-data table is the result\r\n",
        "of a query involving a list of constraints (positions, coadd_keys, or DHSs).\r\n",
        "When non-null, the value of this column is an integer identifier for the search\r\n",
        "constraint the FITS Image was found/retrieved for.\r\n",
        "\t</DESCRIPTION>\r\n",
        "</FIELD>\r\n",
        "<FIELD ID=\"date\" name=\"date\" datatype=\"char\" arraysize=\"*\" >\r\n",
        "\t<DESCRIPTION>\r\n",
        "The reference date of the FITS image, in yymmdd format (yy: last 2 digits of the\r\n",
        "observation year, mm: integer month, dd: integer day). This can differ by one day\r\n",
        "from the actual UT observation date.\r\n",
        "\t</DESCRIPTION>\r\n",
        "</FIELD>\r\n",
        "<FIELD ID=\"hem\" name=\"hem\" datatype=\"char\" arraysize=\"*\" >\r\n",
        "\t<DESCRIPTION>\r\n",
        "The hemisphere of the 2MASS observatory where the FITS image was taken. There are\r\n",
        "only two possible values: 'n' = north (Mt. Hopkins), and 's' = south (Cerro Tololo).\r\n",
        "\t</DESCRIPTION>\r\n",
        "\t<VALUES type=\"actual\">\r\n",
        "\t\t<OPTION name=\"North (Mt. Hopkins)\" value=\"n\" />\r\n",
        "\t\t<OPTION name=\"South (Cerro Tololo)\" value=\"s\" />\r\n",
        "\t</VALUES>\r\n",
        "</FIELD>\r\n",
        "<FIELD ID=\"scan\" name=\"scan\" datatype=\"int\" >\r\n",
        "\t<DESCRIPTION>The nightly scan number of the FITS image.</DESCRIPTION>\r\n",
        "</FIELD>\r\n",
        "<FIELD ID=\"image\" name=\"image\" datatype=\"int\" >\r\n",
        "\t<DESCRIPTION>The image number of the FITS image.</DESCRIPTION>\r\n",
        "</FIELD>\r\n",
        "<FIELD ID=\"ut_date\" name=\"ut_date\" datatype=\"char\" arraysize=\"*\" >\r\n",
        "\t<DESCRIPTION>\r\n",
        "UT when the FITS image was taken, in yymmdd format (yy: last 2 digits of the\r\n",
        "observation year, mm: integer month, dd: integer day).\r\n",
        "\t</DESCRIPTION>\r\n",
        "</FIELD>\r\n",
        "<FIELD ID=\"coadd_key\" name=\"coadd_key\" datatype=\"int\" >\r\n",
        "\t<DESCRIPTION>\r\n",
        "The coadd_key value of the FITS image. This is a unique identifier for the observation\r\n",
        "date, observatory hemisphere, nightly scan number, and image number of the FITS image.\r\n",
        "Each source in the 2MASS All-Sky Point and Extended Source Catalogs is tagged with a\r\n",
        "coadd_key value identifying the 2MASS Image Set it was extracted from.\r\n",
        "\t</DESCRIPTION>\r\n",
        "</FIELD>\r\n",
        "<FIELD ID=\"seesh\" name=\"seesh\" datatype=\"double\" unit=\"arcseconds\" >\r\n",
        "\t<DESCRIPTION>Seeing Full Width Half Maximum (in arcseconds)</DESCRIPTION>\r\n",
        "</FIELD>\r\n",
        "<FIELD ID=\"magzp\" name=\"magzp\" datatype=\"double\" >\r\n",
        "\t<DESCRIPTION>Photometric zero-point magnitude of the FITS image.</DESCRIPTION>\r\n",
        "</FIELD>\r\n",
        "<FIELD ID=\"msnr10\" name=\"msnr10\" datatype=\"double\" >\r\n",
        "\t<DESCRIPTION>Approximate SNR=10 magnitude of the FITS image.</DESCRIPTION>\r\n",
        "</FIELD>\r\n",
        "<FIELD ID=\"bin\" name=\"bin\" datatype=\"int\" >\r\n",
        "\t<DESCRIPTION>The ID of the HTM triangle (subdivision level 7) containing the FITS image reference location.</DESCRIPTION>\r\n",
        "</FIELD>\r\n",
        "<DATA><TABLEDATA>\r\n",
        "<TR>\r\n",
        "\t<TD>All-Sky Release Survey J-Band Atlas Image: 000902 s 085 0150</TD>\r\n",
        "\t<TD><![CDATA[http://irsa.ipac.caltech.edu/cgi-bin/2MASS/IM/nph-im?ds=asky&atdir=/ti07&dh=000902s&scan=085&name=ji0850150.fits]]></TD>\r\n",
        "\t<TD> 1.050085967e+01</TD><TD> 3.368790777e+00</TD><TD>2</TD>\r\n",
        "\t<TD> 512 1024</TD>\r\n",
        "\t<TD>-2.777777845e-04  2.777777845e-04</TD>\r\n",
        "\t<TD>image/fits</TD>\r\n",
        "\t<TD> 2.56500e+02  5.12500e+02</TD>\r\n",
        "\t<TD> 1.050085967e+01  3.368790777e+00</TD>\r\n",
        "\t<TD>-9.836998488e-04</TD>\r\n",
        "\t<TD>J</TD><TD>1.235e-06</TD><TD>1.404e-06</TD><TD>1.066e-06</TD>\r\n",
        "\t<TD><![CDATA[http://irsa.ipac.caltech.edu/cgi-bin/2MASS/IM/nph-art?arttype=pers&ds=asky&date=000902&hem=s&scan=085]]></TD>\r\n",
        "\t<TD><![CDATA[http://irsa.ipac.caltech.edu/cgi-bin/2MASS/IM/nph-art?arttype=glint&ds=asky&date=000902&hem=s&scan=085]]></TD>\r\n",
        "\t<TD>A</TD><TD>asky</TD><TD>CZ</TD><TD>null</TD><TD>null</TD>\r\n",
        "\t<TD>000902</TD><TD>s</TD><TD>85</TD><TD>150</TD>\r\n",
        "\t<TD>000902</TD><TD>1520520</TD>\r\n",
        "\t<TD> 2.51426e+00</TD><TD> 2.09311e+01</TD><TD> 1.66490e+01</TD><TD>232032323</TD>\r\n",
        "</TR>\r\n",
        "<TR>\r\n",
        "\t<TD>All-Sky Release Survey J-Band Atlas Image: 000902 s 085 0162</TD>\r\n",
        "\t<TD><![CDATA[http://irsa.ipac.caltech.edu/cgi-bin/2MASS/IM/nph-im?ds=asky&atdir=/ti07&dh=000902s&scan=085&name=ji0850162.fits]]></TD>\r\n",
        "\t<TD> 1.050086430e+01</TD><TD> 3.638235222e+00</TD><TD>2</TD>\r\n",
        "\t<TD> 512 1024</TD>\r\n",
        "\t<TD>-2.777777845e-04  2.777777845e-04</TD>\r\n",
        "\t<TD>image/fits</TD>\r\n",
        "\t<TD> 2.56500e+02  5.12500e+02</TD>\r\n",
        "\t<TD> 1.050086430e+01  3.638235222e+00</TD>\r\n",
        "\t<TD>-9.839831155e-04</TD>\r\n",
        "\t<TD>J</TD><TD>1.235e-06</TD><TD>1.404e-06</TD><TD>1.066e-06</TD>\r\n",
        "\t<TD><![CDATA[http://irsa.ipac.caltech.edu/cgi-bin/2MASS/IM/nph-art?arttype=pers&ds=asky&date=000902&hem=s&scan=085]]></TD>\r\n",
        "\t<TD><![CDATA[http://irsa.ipac.caltech.edu/cgi-bin/2MASS/IM/nph-art?arttype=glint&ds=asky&date=000902&hem=s&scan=085]]></TD>\r\n",
        "\t<TD>A</TD><TD>asky</TD><TD>CZ</TD><TD>null</TD><TD>null</TD>\r\n",
        "\t<TD>000902</TD><TD>s</TD><TD>85</TD><TD>162</TD>\r\n",
        "\t<TD>000902</TD><TD>1520521</TD>\r\n",
        "\t<TD> 2.45156e+00</TD><TD> 2.09307e+01</TD><TD> 1.66490e+01</TD><TD>232032321</TD>\r\n",
        "</TR>\r\n",
        "</TABLEDATA></DATA>\r\n",
        "</TABLE>\r\n",
        "</RESOURCE>\r\n",
        "</VOTABLE>\r\n"
       ]
      }
     ],
     "prompt_number": 4
    },
    {
     "cell_type": "code",
     "collapsed": false,
     "input": [
      "#Can not have spacing surrounding quotation\" http:/.. \"\n",
      "band='J'\n",
      "ra=10.5\n",
      "dec = 3.5\n",
      "margin =0.1\n",
      "import os\n",
      "out = \"FORMAT=image/fits&band={}&POS={},{}&SIZE={}\".format(band,str(ra),str(dec),str(margin))\n",
      "os.system(\"wget -O tbl.xml {}http://irsa.ipac.caltech.edu/cgi-bin/2MASS/IM/nph-im_sia?{}{}\".format(' \"',out,'\" '))\n",
      "print \"wget -O tbl.xml {}http://irsa.ipac.caltech.edu/cgi-bin/2MASS/IM/nph-im_sia?{}{}\".format(' \"',out,'\" ')"
     ],
     "language": "python",
     "metadata": {},
     "outputs": [
      {
       "output_type": "stream",
       "stream": "stdout",
       "text": [
        "wget -O tbl.xml  \"http://irsa.ipac.caltech.edu/cgi-bin/2MASS/IM/nph-im_sia?FORMAT=image/fits&band=J&POS=10.5,3.5&SIZE=0.1\" \n"
       ]
      }
     ],
     "prompt_number": 8
    },
    {
     "cell_type": "code",
     "collapsed": false,
     "input": [
      "a='a, b; c*d\\ne'\n",
      "import re\n",
      "re.split('; |, |\\*|\\n',a)"
     ],
     "language": "python",
     "metadata": {},
     "outputs": [
      {
       "metadata": {},
       "output_type": "pyout",
       "prompt_number": 6,
       "text": [
        "['a', 'b', 'c', 'd', 'e']"
       ]
      }
     ],
     "prompt_number": 6
    },
    {
     "cell_type": "code",
     "collapsed": false,
     "input": [
      "line=\"<TD><![CDATA[http://irsa.ipac.caltech.edu/cgi-bin/2MASS/IM/nph-im?ds=asky&atdir=/ti07&dh=000902s&scan=085&name=ji0850150.fits]]></TD>\"\n",
      "line.split('[')[-1].split(']')[0]"
     ],
     "language": "python",
     "metadata": {},
     "outputs": [
      {
       "metadata": {},
       "output_type": "pyout",
       "prompt_number": 14,
       "text": [
        "'http://irsa.ipac.caltech.edu/cgi-bin/2MASS/IM/nph-im?ds=asky&atdir=/ti07&dh=000902s&scan=085&name=ji0850150.fits'"
       ]
      }
     ],
     "prompt_number": 14
    },
    {
     "cell_type": "code",
     "collapsed": false,
     "input": [
      "cd ../pipeline/"
     ],
     "language": "python",
     "metadata": {},
     "outputs": [
      {
       "output_type": "stream",
       "stream": "stdout",
       "text": [
        "/Users/dorislee/Desktop/GSoC2014/workarea-rc3-project/pipeline\n"
       ]
      }
     ],
     "prompt_number": 1
    },
    {
     "cell_type": "code",
     "collapsed": false,
     "input": [
      "from gator import Gator\n",
      "from twoMass import TwoMass\n",
      "a=Gator()\n",
      "tm = TwoMass()"
     ],
     "language": "python",
     "metadata": {},
     "outputs": [],
     "prompt_number": 2
    },
    {
     "cell_type": "code",
     "collapsed": false,
     "input": [
      "# cat tbl.xml"
     ],
     "language": "python",
     "metadata": {},
     "outputs": [],
     "prompt_number": 3
    },
    {
     "cell_type": "code",
     "collapsed": false,
     "input": [
      "a.getData('J',10.5,3.5,0.1,tm)"
     ],
     "language": "python",
     "metadata": {},
     "outputs": [
      {
       "output_type": "stream",
       "stream": "stdout",
       "text": [
        "wget -O tbl.xml  \"http://irsa.ipac.caltech.edu/cgi-bin/2MASS/IM/nph-im_sia?FORMAT=image/fits&band=J&POS=10.5,3.5&SIZE=0.1\" \n",
        "here\n",
        "wget -O 2MASS_J_10.5_3.5.fits  \"http://irsa.ipac.caltech.edu/cgi-bin/2MASS/IM/nph-im?ds=asky&atdir=/ti07&dh=000902s&scan=085&name=ji0850150.fits\"  \n",
        "wget -O 2MASS_J_10.5_3.5_1.fits  \"http://irsa.ipac.caltech.edu/cgi-bin/2MASS/IM/nph-im?ds=asky&atdir=/ti07&dh=000902s&scan=085&name=ji0850162.fits\"  "
       ]
      },
      {
       "output_type": "stream",
       "stream": "stdout",
       "text": [
        "\n"
       ]
      }
     ],
     "prompt_number": 3
    },
    {
     "cell_type": "code",
     "collapsed": false,
     "input": [
      "# ls"
     ],
     "language": "python",
     "metadata": {},
     "outputs": [],
     "prompt_number": 3
    },
    {
     "cell_type": "code",
     "collapsed": false,
     "input": [
      "a.otherRC3(0.08958,-2.61206,0.02*3,tm)"
     ],
     "language": "python",
     "metadata": {},
     "outputs": [
      {
       "output_type": "stream",
       "stream": "stdout",
       "text": [
        "spatial=box&catalog=fp_xsc&size=216.0&outfmt=1&objstr=0.08958,-2.61206\n",
        "querying: wget  \"http://irsa.ipac.caltech.edu/cgi-bin/Gator/nph-query?spatial=box&catalog=fp_xsc&size=216.0&outfmt=1&objstr=0.08958,-2.61206\" \n"
       ]
      }
     ],
     "prompt_number": 3
    },
    {
     "cell_type": "heading",
     "level": 3,
     "metadata": {},
     "source": [
      "Trying to find a way to actually implement other_rc3s"
     ]
    },
    {
     "cell_type": "code",
     "collapsed": false,
     "input": [
      "# from astropy.vo.client import conesearch\n",
      "from astropy import *"
     ],
     "language": "python",
     "metadata": {},
     "outputs": [],
     "prompt_number": 5
    },
    {
     "cell_type": "code",
     "collapsed": false,
     "input": [
      "conesearch.list_catalogs()"
     ],
     "language": "python",
     "metadata": {},
     "outputs": [
      {
       "metadata": {},
       "output_type": "pyout",
       "prompt_number": 6,
       "text": [
        "[u'2MASS All-Sky Point Source Catalog 1',\n",
        " u'Guide Star Catalog 2.3 1',\n",
        " u'SDSS DR7 - Sloan Digital Sky Survey Data Release 7 1',\n",
        " u'SDSS DR7 - Sloan Digital Sky Survey Data Release 7 2',\n",
        " u'SDSS DR7 - Sloan Digital Sky Survey Data Release 7 3',\n",
        " u'SDSS DR7 - Sloan Digital Sky Survey Data Release 7 4',\n",
        " u'SDSS DR8 - Sloan Digital Sky Survey Data Release 8 2',\n",
        " u'The HST Guide Star Catalog, Version 1.2 (Lasker+ 1996) 1',\n",
        " u'The HST Guide Star Catalog, Version GSC-ACT (Lasker+ 1996-99) 1',\n",
        " u'The PMM USNO-A1.0 Catalogue (Monet 1997) 1',\n",
        " u'The USNO-A2.0 Catalogue (Monet+ 1998) 1',\n",
        " u'Two Micron All Sky Survey (2MASS) 1',\n",
        " u'Two Micron All Sky Survey (2MASS) 2',\n",
        " u'USNO-A2 Catalogue 1',\n",
        " u'USNO-A2.0 1']"
       ]
      }
     ],
     "prompt_number": 6
    },
    {
     "cell_type": "code",
     "collapsed": false,
     "input": [
      "my_catname= 'Two Micron All Sky Survey (2MASS) 1'"
     ],
     "language": "python",
     "metadata": {},
     "outputs": [],
     "prompt_number": 7
    },
    {
     "cell_type": "code",
     "collapsed": false,
     "input": [],
     "language": "python",
     "metadata": {},
     "outputs": []
    }
   ],
   "metadata": {}
  }
 ]
}