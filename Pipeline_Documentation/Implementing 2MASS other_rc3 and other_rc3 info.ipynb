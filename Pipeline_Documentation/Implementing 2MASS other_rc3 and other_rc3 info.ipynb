{
 "metadata": {
  "name": "",
  "signature": "sha256:f40917b24fab64aabea19e81712ada2ae00453cd2fdbe49e76587a5e98dc9caf"
 },
 "nbformat": 3,
 "nbformat_minor": 0,
 "worksheets": [
  {
   "cells": [
    {
     "cell_type": "code",
     "collapsed": false,
     "input": [
      "import warnings\n",
      "warnings.filterwarnings('ignore',message='profile')\n",
      "warnings.filterwarnings('ignore',message='_astropy_init')\n",
      "warnings.filterwarnings('ignore',message='ConfigurationDefaultMissingWarning ')"
     ],
     "language": "python",
     "metadata": {},
     "outputs": [],
     "prompt_number": 16
    },
    {
     "cell_type": "code",
     "collapsed": false,
     "input": [
      "cd ../pipeline_final/"
     ],
     "language": "python",
     "metadata": {},
     "outputs": [
      {
       "output_type": "stream",
       "stream": "stdout",
       "text": [
        "/Users/dorislee/Desktop/GSoC2014/workarea-rc3-project/pipeline_final\n"
       ]
      }
     ],
     "prompt_number": 17
    },
    {
     "cell_type": "code",
     "collapsed": false,
     "input": [
      "from gator import Gator\n",
      "from twoMass import *\n",
      "a=Gator()\n",
      "# a.getData('J',10.5,3.5,0.1)\n",
      "tm = TwoMass()\n",
      "# a.otherRC3(0.08958,-2.61206,0.02*3,tm)"
     ],
     "language": "python",
     "metadata": {},
     "outputs": [],
     "prompt_number": 18
    },
    {
     "cell_type": "markdown",
     "metadata": {},
     "source": [
      "I decided that I won't use the gator Interface URL API because astro query Results is a table Which is much cleaner to parse\n"
     ]
    },
    {
     "cell_type": "code",
     "collapsed": false,
     "input": [
      "from astroquery.irsa import Irsa\n",
      "import astropy.units as u\n",
      "tbl = Irsa.query_region(\"00h42m44.330s +41d16m07.50s\",catalog='fp_xsc', spatial='Box',width=5 * u.arcsec)"
     ],
     "language": "python",
     "metadata": {},
     "outputs": [
      {
       "output_type": "stream",
       "stream": "stderr",
       "text": [
        "WARNING: AstropyDeprecationWarning: Initializing frame classes like \"ICRS\" using string or other non-Quantity arguments is deprecated, and will be removed in the next version of Astropy.  Instead, you probably want to use the SkyCoord class with the \"system=icrs\" keyword, or if you really want to use the low-level frame classes, create it with an Angle or Quantity. [astropy.coordinates.baseframe]\n",
        "WARNING:astropy:AstropyDeprecationWarning: Initializing frame classes like \"ICRS\" using string or other non-Quantity arguments is deprecated, and will be removed in the next version of Astropy.  Instead, you probably want to use the SkyCoord class with the \"system=icrs\" keyword, or if you really want to use the low-level frame classes, create it with an Angle or Quantity.\n"
       ]
      },
      {
       "output_type": "stream",
       "stream": "stderr",
       "text": [
        "/Users/dorislee/.virtualenvs/py27dev/lib/python2.7/site-packages/astroquery/irsa/core.py:413: UserWarning: Coordinate string is being interpreted as an ICRS coordinate.\n",
        "  warnings.warn(\"Coordinate string is being interpreted as an ICRS coordinate.\")\n"
       ]
      }
     ],
     "prompt_number": 19
    },
    {
     "cell_type": "code",
     "collapsed": false,
     "input": [
      "tbl"
     ],
     "language": "python",
     "metadata": {},
     "outputs": [
      {
       "html": [
        "<table id=\"table4631735248\"><thead><tr><th>designation</th><th>ra</th><th>dec</th><th>...</th><th>k_msig_ext</th><th>cc_flg</th><th>id</th></tr></thead><thead><tr><th></th><th>deg</th><th>deg</th><th>...</th><th>mag</th><th></th><th></th></tr></thead><tr><td>00424433+4116074</td><td>10.685</td><td>41.269</td><td>...</td><td>0.017000000000000001</td><td>Z</td><td>0</td></tr></table>"
       ],
       "metadata": {},
       "output_type": "pyout",
       "prompt_number": 20,
       "text": [
        "<Table rows=1 names=('designation','ra','dec','clon','clat','sup_ra','sup_dec','glon','glat','density','r_k20fe','j_m_k20fe','j_msig_k20fe','j_flg_k20fe','h_m_k20fe','h_msig_k20fe','h_flg_k20fe','k_m_k20fe','k_msig_k20fe','k_flg_k20fe','k_ba','k_phi','sup_ba','sup_phi','r_ext','j_m_ext','h_m_ext','h_msig_ext','k_m_ext','k_msig_ext','cc_flg','id') units=(None,'deg','deg',None,None,'deg','deg','deg','deg',None,'arcs','mag','mag',None,'mag','mag',None,'mag','mag',None,None,'deg',None,'deg','arcs','mag','mag','mag','mag','mag',None,None)>\n",
        "masked_array(data = [ ('00424433+4116074', 10.68471, 41.268749, '00h42m44.33s', '41d16m07.50s', 10.68471, 41.268749, 121.174, -21.573, --, 1614.7, 2.149, 0.015, 1, 1.331, 0.016, 1, 1.038, 0.016, 1, 0.6, 45, 0.473, 45, 3100.0, 2.094, 1.283, 0.017, 0.984, 0.017, 'Z', '0')],\n",
        "             mask = [ (False, False, False, False, False, False, False, False, False, True, False, False, False, False, False, False, False, False, False, False, False, False, False, False, False, False, False, False, False, False, False, False)],\n",
        "       fill_value = ('?', 1e+20, 1e+20, '?', '?', 1e+20, 1e+20, 1e+20, 1e+20, 1e+20, 1e+20, 1e+20, 1e+20, 999999, 1e+20, 1e+20, 999999, 1e+20, 1e+20, 999999, 1e+20, 999999, 1e+20, 999999, 1e+20, 1e+20, 1e+20, 1e+20, 1e+20, 1e+20, '?', '?'),\n",
        "            dtype = [('designation', 'O'), ('ra', '<f8'), ('dec', '<f8'), ('clon', 'O'), ('clat', 'O'), ('sup_ra', '<f8'), ('sup_dec', '<f8'), ('glon', '<f8'), ('glat', '<f8'), ('density', '<f8'), ('r_k20fe', '<f8'), ('j_m_k20fe', '<f8'), ('j_msig_k20fe', '<f8'), ('j_flg_k20fe', '<i4'), ('h_m_k20fe', '<f8'), ('h_msig_k20fe', '<f8'), ('h_flg_k20fe', '<i4'), ('k_m_k20fe', '<f8'), ('k_msig_k20fe', '<f8'), ('k_flg_k20fe', '<i4'), ('k_ba', '<f8'), ('k_phi', '<i4'), ('sup_ba', '<f8'), ('sup_phi', '<i4'), ('r_ext', '<f8'), ('j_m_ext', '<f8'), ('h_m_ext', '<f8'), ('h_msig_ext', '<f8'), ('k_m_ext', '<f8'), ('k_msig_ext', '<f8'), ('cc_flg', 'O'), ('id', 'O')])"
       ]
      }
     ],
     "prompt_number": 20
    },
    {
     "cell_type": "code",
     "collapsed": false,
     "input": [
      "tbl.columns"
     ],
     "language": "python",
     "metadata": {},
     "outputs": [
      {
       "metadata": {},
       "output_type": "pyout",
       "prompt_number": 23,
       "text": [
        "<TableColumns names=('designation','ra','dec','clon','clat','sup_ra','sup_dec','glon','glat','density','r_k20fe','j_m_k20fe','j_msig_k20fe','j_flg_k20fe','h_m_k20fe','h_msig_k20fe','h_flg_k20fe','k_m_k20fe','k_msig_k20fe','k_flg_k20fe','k_ba','k_phi','sup_ba','sup_phi','r_ext','j_m_ext','h_m_ext','h_msig_ext','k_m_ext','k_msig_ext','cc_flg','id')>"
       ]
      }
     ],
     "prompt_number": 23
    },
    {
     "cell_type": "code",
     "collapsed": false,
     "input": [
      "tbl['ra'].name=\"_RAJ2000\"\n",
      "tbl['dec'].name=\"_DEJ2000\""
     ],
     "language": "python",
     "metadata": {},
     "outputs": [],
     "prompt_number": 6
    },
    {
     "cell_type": "code",
     "collapsed": false,
     "input": [
      "# tbl.add_column()"
     ],
     "language": "python",
     "metadata": {},
     "outputs": [],
     "prompt_number": 7
    },
    {
     "cell_type": "code",
     "collapsed": false,
     "input": [
      "tbl.keep_columns(['designation','_RAJ2000','_DEJ2000'])"
     ],
     "language": "python",
     "metadata": {},
     "outputs": [],
     "prompt_number": 8
    },
    {
     "cell_type": "code",
     "collapsed": false,
     "input": [
      "tbl"
     ],
     "language": "python",
     "metadata": {},
     "outputs": [
      {
       "html": [
        "<table id=\"table4618669776\"><thead><tr><th>designation</th><th>_RAJ2000</th><th>_DEJ2000</th></tr></thead><thead><tr><th></th><th>deg</th><th>deg</th></tr></thead><tr><td>00424433+4116074</td><td>10.685</td><td>41.269</td></tr></table>"
       ],
       "metadata": {},
       "output_type": "pyout",
       "prompt_number": 9,
       "text": [
        "<Table rows=1 names=('designation','_RAJ2000','_DEJ2000') units=(None,'deg','deg')>\n",
        "masked_array(data = [('00424433+4116074', 10.68471, 41.268749)],\n",
        "             mask = [(False, False, False)],\n",
        "       fill_value = ('?', 1e+20, 1e+20),\n",
        "            dtype = [('designation', 'O'), ('_RAJ2000', '<f8'), ('_DEJ2000', '<f8')])"
       ]
      }
     ],
     "prompt_number": 9
    },
    {
     "cell_type": "code",
     "collapsed": false,
     "input": [
      "#Converting Table results to dictionary form\n",
      "lst=[]\n",
      "try :\n",
      "    for i in range(50): \n",
      "#         other_rc3.append([int(tbl[i]['PGC'][3:]),tbl[i]['_RAJ2000'],tbl[i]['_DEJ2000']])\n",
      "        lst.append(tuple([tbl[i]['_RAJ2000'],tbl[i]['_DEJ2000']]))\n",
      "        #print (tbl[i])\n",
      "except(IndexError):\n",
      "    #Intentionally Crash\n",
      "    pass"
     ],
     "language": "python",
     "metadata": {},
     "outputs": [],
     "prompt_number": 10
    },
    {
     "cell_type": "code",
     "collapsed": false,
     "input": [
      "lst"
     ],
     "language": "python",
     "metadata": {},
     "outputs": [
      {
       "metadata": {},
       "output_type": "pyout",
       "prompt_number": 11,
       "text": [
        "[(10.684710000000001, 41.268749)]"
       ]
      }
     ],
     "prompt_number": 11
    },
    {
     "cell_type": "code",
     "collapsed": false,
     "input": [
      "# tuple([1,1])"
     ],
     "language": "python",
     "metadata": {},
     "outputs": [],
     "prompt_number": 12
    },
    {
     "cell_type": "code",
     "collapsed": false,
     "input": [
      "# for i in \n",
      "# (0.0,0.0)"
     ],
     "language": "python",
     "metadata": {},
     "outputs": [],
     "prompt_number": 13
    },
    {
     "cell_type": "code",
     "collapsed": false,
     "input": [
      "from astropy import coordinates\n",
      "coordinate_list = coordinates.SkyCoord(lst * u.deg, frame='icrs')\n",
      "coordinate_list"
     ],
     "language": "python",
     "metadata": {},
     "outputs": [
      {
       "metadata": {},
       "output_type": "pyout",
       "prompt_number": 14,
       "text": [
        "<SkyCoord (ICRS): (ra, dec) in deg\n",
        "    (10.68471, 41.268749)>"
       ]
      }
     ],
     "prompt_number": 14
    },
    {
     "cell_type": "code",
     "collapsed": false,
     "input": [
      "from astropy.table import *\n",
      "#Set up yown own table with coordinates \n",
      "coord_tbl = table.Table(data=[coordinate_list.fk5.ra.deg,\n",
      "                              coordinate_list.fk5.dec.deg],\n",
      "                        names=('_RAJ2000', '_DEJ2000')\n",
      "                        )\n",
      "coord_tbl['_RAJ2000'].unit = u.deg\n",
      "coord_tbl['_DEJ2000'].unit = u.deg\n",
      "coord_tbl"
     ],
     "language": "python",
     "metadata": {},
     "outputs": [
      {
       "html": [
        "<table id=\"table4623588176\"><thead><tr><th>_RAJ2000</th><th>_DEJ2000</th></tr></thead><thead><tr><th>deg</th><th>deg</th></tr></thead><tr><td>10.6847215392</td><td>41.2687504591</td></tr></table>"
       ],
       "metadata": {},
       "output_type": "pyout",
       "prompt_number": 15,
       "text": [
        "<Table rows=1 names=('_RAJ2000','_DEJ2000') units=('deg','deg')>\n",
        "array([(10.6847215392157, 41.26875045907677)], \n",
        "      dtype=[('_RAJ2000', '<f8'), ('_DEJ2000', '<f8')])"
       ]
      }
     ],
     "prompt_number": 15
    },
    {
     "cell_type": "code",
     "collapsed": false,
     "input": [
      "#Converting Table results to list form\n",
      "other_rc3=[]\n",
      "try :\n",
      "    for i in range(50): \n",
      "#         other_rc3.append([int(tbl[i]['PGC'][3:]),tbl[i]['_RAJ2000'],tbl[i]['_DEJ2000']])\n",
      "        other_rc3.append([tbl[i]['designation'],tbl[i]['_RAJ2000'],tbl[i]['_DEJ2000']])\n",
      "        #print (tbl[i])\n",
      "except(IndexError):\n",
      "    #Intentionally Crash\n",
      "    pass\n",
      "other_rc3"
     ],
     "language": "python",
     "metadata": {},
     "outputs": [
      {
       "metadata": {},
       "output_type": "pyout",
       "prompt_number": 16,
       "text": [
        "[['00424433+4116074', 10.684710000000001, 41.268749]]"
       ]
      }
     ],
     "prompt_number": 16
    },
    {
     "cell_type": "heading",
     "level": 3,
     "metadata": {},
     "source": [
      "Cross correlate with Vizier to get PGC number"
     ]
    },
    {
     "cell_type": "code",
     "collapsed": false,
     "input": [
      "from astropy import units as u\n",
      "from astropy import *\n",
      "from astroquery.vizier import *\n",
      "vlbacal = Vizier.find_catalogs('Petrov VLBA Calibrator')\n",
      "{k:v.description for k,v in vlbacal.iteritems()}"
     ],
     "language": "python",
     "metadata": {},
     "outputs": [
      {
       "output_type": "stream",
       "stream": "stderr",
       "text": [
        "/Users/dorislee/.virtualenvs/py27dev/lib/python2.7/site-packages/astroquery/vizier/core.py:560: UserWarning: VOTABLE parsing raised exception: \n",
        "  warnings.warn(\"VOTABLE parsing raised exception: {0}\".format(ex))\n"
       ]
      },
      {
       "metadata": {},
       "output_type": "pyout",
       "prompt_number": 6,
       "text": [
        "{u'J/AJ/126/2562': u'Second VLBA calibrator survey: VCS2 (Fomalont+, 2003)',\n",
        " u'J/AJ/129/1163': u'Third VLBA calibrator survey: VCS3 (Petrov+, 2005)',\n",
        " u'J/AJ/131/1872': u'Fourth VLBA calibrator survey: VCS4 (Petrov+, 2006)',\n",
        " u'J/AJ/133/1236': u'Fifth VLBA calibrator survey: VCS5 (Kovalev+, 2007)',\n",
        " u'J/AJ/136/580': u'Sixth VLBA calibrator survey: VCS6 (Petrov+, 2008)',\n",
        " u'J/ApJS/141/13': u'VLBA calibrator survey: VCS1 catalog (Beasley+, 2002)'}"
       ]
      }
     ],
     "prompt_number": 6
    },
    {
     "cell_type": "code",
     "collapsed": false,
     "input": [
      "viz = Vizier(catalog=vlbacal.keys())"
     ],
     "language": "python",
     "metadata": {},
     "outputs": [],
     "prompt_number": 7
    },
    {
     "cell_type": "code",
     "collapsed": false,
     "input": [
      "# from astropy.quantity import *\n",
      "q =Quantity(5,Unit(\"degree\"))"
     ],
     "language": "python",
     "metadata": {},
     "outputs": [
      {
       "ename": "NameError",
       "evalue": "name 'Quantity' is not defined",
       "output_type": "pyerr",
       "traceback": [
        "\u001b[0;31m---------------------------------------------------------------------------\u001b[0m\n\u001b[0;31mNameError\u001b[0m                                 Traceback (most recent call last)",
        "\u001b[0;32m<ipython-input-8-6baf6f699323>\u001b[0m in \u001b[0;36m<module>\u001b[0;34m()\u001b[0m\n\u001b[1;32m      1\u001b[0m \u001b[0;31m# from astropy.quantity import *\u001b[0m\u001b[0;34m\u001b[0m\u001b[0;34m\u001b[0m\u001b[0m\n\u001b[0;32m----> 2\u001b[0;31m \u001b[0mq\u001b[0m \u001b[0;34m=\u001b[0m\u001b[0mQuantity\u001b[0m\u001b[0;34m(\u001b[0m\u001b[0;36m5\u001b[0m\u001b[0;34m,\u001b[0m\u001b[0mUnit\u001b[0m\u001b[0;34m(\u001b[0m\u001b[0;34m\"degree\"\u001b[0m\u001b[0;34m)\u001b[0m\u001b[0;34m)\u001b[0m\u001b[0;34m\u001b[0m\u001b[0m\n\u001b[0m",
        "\u001b[0;31mNameError\u001b[0m: name 'Quantity' is not defined"
       ]
      }
     ],
     "prompt_number": 8
    },
    {
     "cell_type": "code",
     "collapsed": false,
     "input": [
      "from astropy.coordinates import *\n",
      "viz.query_region(coordinates.FK5(ra=299.590, dec=35.201, unit=(u.deg, u.deg)),radius=q)"
     ],
     "language": "python",
     "metadata": {},
     "outputs": [
      {
       "ename": "NameError",
       "evalue": "name 'q' is not defined",
       "output_type": "pyerr",
       "traceback": [
        "\u001b[0;31m---------------------------------------------------------------------------\u001b[0m\n\u001b[0;31mNameError\u001b[0m                                 Traceback (most recent call last)",
        "\u001b[0;32m<ipython-input-41-89a0920e2220>\u001b[0m in \u001b[0;36m<module>\u001b[0;34m()\u001b[0m\n\u001b[1;32m      1\u001b[0m \u001b[0;32mfrom\u001b[0m \u001b[0mastropy\u001b[0m\u001b[0;34m.\u001b[0m\u001b[0mcoordinates\u001b[0m \u001b[0;32mimport\u001b[0m \u001b[0;34m*\u001b[0m\u001b[0;34m\u001b[0m\u001b[0m\n\u001b[0;32m----> 2\u001b[0;31m \u001b[0mviz\u001b[0m\u001b[0;34m.\u001b[0m\u001b[0mquery_region\u001b[0m\u001b[0;34m(\u001b[0m\u001b[0mcoordinates\u001b[0m\u001b[0;34m.\u001b[0m\u001b[0mFK5\u001b[0m\u001b[0;34m(\u001b[0m\u001b[0mra\u001b[0m\u001b[0;34m=\u001b[0m\u001b[0;36m299.590\u001b[0m\u001b[0;34m,\u001b[0m \u001b[0mdec\u001b[0m\u001b[0;34m=\u001b[0m\u001b[0;36m35.201\u001b[0m\u001b[0;34m,\u001b[0m \u001b[0munit\u001b[0m\u001b[0;34m=\u001b[0m\u001b[0;34m(\u001b[0m\u001b[0mu\u001b[0m\u001b[0;34m.\u001b[0m\u001b[0mdeg\u001b[0m\u001b[0;34m,\u001b[0m \u001b[0mu\u001b[0m\u001b[0;34m.\u001b[0m\u001b[0mdeg\u001b[0m\u001b[0;34m)\u001b[0m\u001b[0;34m)\u001b[0m\u001b[0;34m,\u001b[0m\u001b[0mradius\u001b[0m\u001b[0;34m=\u001b[0m\u001b[0mq\u001b[0m\u001b[0;34m)\u001b[0m\u001b[0;34m\u001b[0m\u001b[0m\n\u001b[0m",
        "\u001b[0;31mNameError\u001b[0m: name 'q' is not defined"
       ]
      }
     ],
     "prompt_number": 41
    },
    {
     "cell_type": "code",
     "collapsed": false,
     "input": [
      "vlbacal_matches= viz.query_region(coord_tbl, radius=2*u.deg)"
     ],
     "language": "python",
     "metadata": {},
     "outputs": []
    },
    {
     "cell_type": "code",
     "collapsed": false,
     "input": [
      "viz=Vizier(catalog=vlbacal.keys())"
     ],
     "language": "python",
     "metadata": {},
     "outputs": []
    },
    {
     "cell_type": "heading",
     "level": 2,
     "metadata": {},
     "source": [
      "ESO DEMO"
     ]
    },
    {
     "cell_type": "code",
     "collapsed": false,
     "input": [
      "from astropy import units as u"
     ],
     "language": "python",
     "metadata": {},
     "outputs": [],
     "prompt_number": 9
    },
    {
     "cell_type": "code",
     "collapsed": false,
     "input": [
      "coordinate_list = [ coordinates.SkyCoord( i[0]*u.deg,i[1]*u.deg, frame='fk5')  for i in [(0.0,0.0),(49.488,-0.39),(43.1,0.07)]]\n",
      "coordinate_list"
     ],
     "language": "python",
     "metadata": {},
     "outputs": [
      {
       "metadata": {},
       "output_type": "pyout",
       "prompt_number": 43,
       "text": [
        "[<SkyCoord (FK5): equinox=J2000.000, ra=0.0 deg, dec=0.0 deg>,\n",
        " <SkyCoord (FK5): equinox=J2000.000, ra=49.488 deg, dec=-0.39 deg>,\n",
        " <SkyCoord (FK5): equinox=J2000.000, ra=43.1 deg, dec=0.07 deg>]"
       ]
      }
     ],
     "prompt_number": 43
    },
    {
     "cell_type": "code",
     "collapsed": false,
     "input": [
      "coordinate_list = coordinates.SkyCoord([(0.0,0.0),(49.488,-0.39),(43.1,0.07)] * u.deg, frame='galactic')\n",
      "coordinate_list"
     ],
     "language": "python",
     "metadata": {},
     "outputs": [
      {
       "metadata": {},
       "output_type": "pyout",
       "prompt_number": 44,
       "text": [
        "<SkyCoord (Galactic): (l, b) in deg\n",
        "    [(0.0, 0.0), (49.488, -0.39), (43.1, 0.07)]>"
       ]
      }
     ],
     "prompt_number": 44
    },
    {
     "cell_type": "code",
     "collapsed": false,
     "input": [
      "# coordinate_list = coordinates.SkyCoord(49.488 * u.deg,-0.39* u.deg, frame='galactic')\n",
      "# coordinate_list"
     ],
     "language": "python",
     "metadata": {},
     "outputs": [],
     "prompt_number": 45
    },
    {
     "cell_type": "markdown",
     "metadata": {},
     "source": [
      "Build your own table"
     ]
    },
    {
     "cell_type": "code",
     "collapsed": false,
     "input": [
      "coord_tbl = table.Table(data=[coordinate_list.fk5.ra.deg,\n",
      "                              coordinate_list.fk5.dec.deg],\n",
      "                        names=('_RAJ2000', '_DEJ2000')\n",
      "                        )\n",
      "coord_tbl['_RAJ2000'].unit = u.deg\n",
      "coord_tbl['_DEJ2000'].unit = u.deg\n",
      "coord_tbl"
     ],
     "language": "python",
     "metadata": {},
     "outputs": [
      {
       "html": [
        "<table id=\"table4621973456\"><thead><tr><th>_RAJ2000</th><th>_DEJ2000</th></tr></thead><thead><tr><th>deg</th><th>deg</th></tr></thead><tr><td>266.404929574</td><td>-28.9362178833</td></tr><tr><td>290.934395293</td><td>14.5067674093</td></tr><tr><td>287.471975893</td><td>9.07173444604</td></tr></table>"
       ],
       "metadata": {},
       "output_type": "pyout",
       "prompt_number": 46,
       "text": [
        "<Table rows=3 names=('_RAJ2000','_DEJ2000') units=('deg','deg')>\n",
        "array([(266.4049295744125, -28.936217883314157),\n",
        "       (290.934395292749, 14.506767409259584),\n",
        "       (287.4719758931401, 9.071734446037407)], \n",
        "      dtype=[('_RAJ2000', '<f8'), ('_DEJ2000', '<f8')])"
       ]
      }
     ],
     "prompt_number": 46
    },
    {
     "cell_type": "code",
     "collapsed": false,
     "input": [
      "vlbacal = Vizier.find_catalogs('Petrov VLBA Calibrator')\n",
      "{k:v.description for k,v in vlbacal.iteritems()}"
     ],
     "language": "python",
     "metadata": {},
     "outputs": [
      {
       "metadata": {},
       "output_type": "pyout",
       "prompt_number": 10,
       "text": [
        "{u'J/AJ/126/2562': u'Second VLBA calibrator survey: VCS2 (Fomalont+, 2003)',\n",
        " u'J/AJ/129/1163': u'Third VLBA calibrator survey: VCS3 (Petrov+, 2005)',\n",
        " u'J/AJ/131/1872': u'Fourth VLBA calibrator survey: VCS4 (Petrov+, 2006)',\n",
        " u'J/AJ/133/1236': u'Fifth VLBA calibrator survey: VCS5 (Kovalev+, 2007)',\n",
        " u'J/AJ/136/580': u'Sixth VLBA calibrator survey: VCS6 (Petrov+, 2008)',\n",
        " u'J/ApJS/141/13': u'VLBA calibrator survey: VCS1 catalog (Beasley+, 2002)'}"
       ]
      }
     ],
     "prompt_number": 10
    },
    {
     "cell_type": "code",
     "collapsed": false,
     "input": [
      "viz = Vizier(catalog=vlbacal.keys())"
     ],
     "language": "python",
     "metadata": {},
     "outputs": [],
     "prompt_number": 37
    },
    {
     "cell_type": "code",
     "collapsed": false,
     "input": [
      "from astropy.coordinates import SkyCoord\n",
      "pos =SkyCoord(49.488* u.deg,-0.39* u.deg, frame='fk5')\n",
      "vlbacal_matches=viz.query_region(pos, radius=2*u.deg)\n",
      "vlbacal_matches"
     ],
     "language": "python",
     "metadata": {},
     "outputs": [
      {
       "metadata": {},
       "output_type": "pyout",
       "prompt_number": 38,
       "text": [
        "TableList with 1 tables:\n",
        "\t'0:VII/155/rc3' with 13 column(s) and 27 row(s) "
       ]
      }
     ],
     "prompt_number": 38
    },
    {
     "cell_type": "markdown",
     "metadata": {},
     "source": [
      "Can only do this on single object, not SkyCoord List (Astropy Version issue, I have 0.4 , astroquery problably doesn't). So need to loop through SkyCoord"
     ]
    },
    {
     "cell_type": "code",
     "collapsed": false,
     "input": [
      "vlbacal_matches[0]"
     ],
     "language": "python",
     "metadata": {},
     "outputs": [
      {
       "html": [
        "<table id=\"table4496014352\"><thead><tr><th>_RAJ2000</th><th>_DEJ2000</th><th>IVS</th><th>VCS5</th><th>...</th><th>Nobs</th><th>Xtot</th><th>Stot</th><th>Band</th></tr></thead><thead><tr><th>deg</th><th>deg</th><th></th><th></th><th>...</th><th></th><th>Jy</th><th>Jy</th><th></th></tr></thead><tr><td>49.560114</td><td>-0.496926</td><td>0315-006</td><td>J0318-0029</td><td>...</td><td>16</td><td>0.12</td><td>0.13</td><td>X/S</td></tr></table>"
       ],
       "metadata": {},
       "output_type": "pyout",
       "prompt_number": 15,
       "text": [
        "<Table rows=1 names=('_RAJ2000','_DEJ2000','IVS','VCS5','RAJ2000','e_RAJ2000','DEJ2000','e_DEJ2000','Nobs','Xtot','Stot','Band') units=('deg','deg',None,None,'\"h:m:s\"','mas','\"d:m:s\"','mas',None,'Jy','Jy',None)>\n",
        "masked_array(data = [ (49.560114, -0.496926, '0315-006', 'J0318-0029', '03 18 14.427315', 3.140000104904175, '-00 29 48.93263', 2.6600000858306885, 16, 0.11999999731779099, 0.12999999523162842, 'X/S')],\n",
        "             mask = [ (False, False, False, False, False, False, False, False, False, False, False, False)],\n",
        "       fill_value = (1e+20, 1e+20, 'N/A', 'N/A', 'N/A', 1.0000000200408773e+20, 'N/A', 1.0000000200408773e+20, 16959, 1.0000000200408773e+20, 1.0000000200408773e+20, 'N/A'),\n",
        "            dtype = [('_RAJ2000', '<f8'), ('_DEJ2000', '<f8'), ('IVS', 'S8'), ('VCS5', 'S10'), ('RAJ2000', 'S15'), ('e_RAJ2000', '<f4'), ('DEJ2000', 'S15'), ('e_DEJ2000', '<f4'), ('Nobs', '<i2'), ('Xtot', '<f4'), ('Stot', '<f4'), ('Band', 'S3')])"
       ]
      }
     ],
     "prompt_number": 15
    },
    {
     "cell_type": "code",
     "collapsed": false,
     "input": [
      "# vlbacal_matches[1]"
     ],
     "language": "python",
     "metadata": {},
     "outputs": [],
     "prompt_number": 16
    },
    {
     "cell_type": "code",
     "collapsed": false,
     "input": [
      "vlbacal_matches[0]['_RAJ2000'].data"
     ],
     "language": "python",
     "metadata": {},
     "outputs": [
      {
       "metadata": {},
       "output_type": "pyout",
       "prompt_number": 17,
       "text": [
        "masked_array(data = [49.560114],\n",
        "             mask = [False],\n",
        "       fill_value = 1e+20)"
       ]
      }
     ],
     "prompt_number": 17
    },
    {
     "cell_type": "code",
     "collapsed": false,
     "input": [
      "# pos =SkyCoord(49.488* u.deg,-0.39* u.deg, frame='fk5')"
     ],
     "language": "python",
     "metadata": {},
     "outputs": [],
     "prompt_number": 18
    },
    {
     "cell_type": "code",
     "collapsed": false,
     "input": [
      "vlbacal_matches[0]['_RAJ2000'].data"
     ],
     "language": "python",
     "metadata": {},
     "outputs": [
      {
       "metadata": {},
       "output_type": "pyout",
       "prompt_number": 28,
       "text": [
        "masked_array(data = [49.560114],\n",
        "             mask = [False],\n",
        "       fill_value = 1e+20)"
       ]
      }
     ],
     "prompt_number": 28
    },
    {
     "cell_type": "code",
     "collapsed": false,
     "input": [
      "vlbacal_matches[0]['_RAJ2000'].data[0]"
     ],
     "language": "python",
     "metadata": {},
     "outputs": [
      {
       "metadata": {},
       "output_type": "pyout",
       "prompt_number": 29,
       "text": [
        "49.560113999999999"
       ]
      }
     ],
     "prompt_number": 29
    },
    {
     "cell_type": "code",
     "collapsed": false,
     "input": [
      "vlbacal_matches[0]['PGC'].data[0]"
     ],
     "language": "python",
     "metadata": {},
     "outputs": [
      {
       "ename": "KeyError",
       "evalue": "'PGC'",
       "output_type": "pyerr",
       "traceback": [
        "\u001b[0;31m---------------------------------------------------------------------------\u001b[0m\n\u001b[0;31mKeyError\u001b[0m                                  Traceback (most recent call last)",
        "\u001b[0;32m<ipython-input-30-9bcf2380e869>\u001b[0m in \u001b[0;36m<module>\u001b[0;34m()\u001b[0m\n\u001b[0;32m----> 1\u001b[0;31m \u001b[0mvlbacal_matches\u001b[0m\u001b[0;34m[\u001b[0m\u001b[0;36m0\u001b[0m\u001b[0;34m]\u001b[0m\u001b[0;34m[\u001b[0m\u001b[0;34m'PGC'\u001b[0m\u001b[0;34m]\u001b[0m\u001b[0;34m.\u001b[0m\u001b[0mdata\u001b[0m\u001b[0;34m[\u001b[0m\u001b[0;36m0\u001b[0m\u001b[0;34m]\u001b[0m\u001b[0;34m\u001b[0m\u001b[0m\n\u001b[0m",
        "\u001b[0;32m/Users/dorislee/.virtualenvs/py27dev/lib/python2.7/site-packages/astropy-0.4.dev9207-py2.7-macosx-10.9-intel.egg/astropy/table/table.pyc\u001b[0m in \u001b[0;36m__getitem__\u001b[0;34m(self, item)\u001b[0m\n\u001b[1;32m    869\u001b[0m     \u001b[0;32mdef\u001b[0m \u001b[0m__getitem__\u001b[0m\u001b[0;34m(\u001b[0m\u001b[0mself\u001b[0m\u001b[0;34m,\u001b[0m \u001b[0mitem\u001b[0m\u001b[0;34m)\u001b[0m\u001b[0;34m:\u001b[0m\u001b[0;34m\u001b[0m\u001b[0m\n\u001b[1;32m    870\u001b[0m         \u001b[0;32mif\u001b[0m \u001b[0misinstance\u001b[0m\u001b[0;34m(\u001b[0m\u001b[0mitem\u001b[0m\u001b[0;34m,\u001b[0m \u001b[0msix\u001b[0m\u001b[0;34m.\u001b[0m\u001b[0mstring_types\u001b[0m\u001b[0;34m)\u001b[0m\u001b[0;34m:\u001b[0m\u001b[0;34m\u001b[0m\u001b[0m\n\u001b[0;32m--> 871\u001b[0;31m             \u001b[0;32mreturn\u001b[0m \u001b[0mself\u001b[0m\u001b[0;34m.\u001b[0m\u001b[0mcolumns\u001b[0m\u001b[0;34m[\u001b[0m\u001b[0mitem\u001b[0m\u001b[0;34m]\u001b[0m\u001b[0;34m\u001b[0m\u001b[0m\n\u001b[0m\u001b[1;32m    872\u001b[0m         \u001b[0;32melif\u001b[0m \u001b[0misinstance\u001b[0m\u001b[0;34m(\u001b[0m\u001b[0mitem\u001b[0m\u001b[0;34m,\u001b[0m \u001b[0;34m(\u001b[0m\u001b[0mint\u001b[0m\u001b[0;34m,\u001b[0m \u001b[0mnp\u001b[0m\u001b[0;34m.\u001b[0m\u001b[0minteger\u001b[0m\u001b[0;34m)\u001b[0m\u001b[0;34m)\u001b[0m\u001b[0;34m:\u001b[0m\u001b[0;34m\u001b[0m\u001b[0m\n\u001b[1;32m    873\u001b[0m             \u001b[0;32mreturn\u001b[0m \u001b[0mself\u001b[0m\u001b[0;34m.\u001b[0m\u001b[0mRow\u001b[0m\u001b[0;34m(\u001b[0m\u001b[0mself\u001b[0m\u001b[0;34m,\u001b[0m \u001b[0mitem\u001b[0m\u001b[0;34m)\u001b[0m\u001b[0;34m\u001b[0m\u001b[0m\n",
        "\u001b[0;32m/Users/dorislee/.virtualenvs/py27dev/lib/python2.7/site-packages/astropy-0.4.dev9207-py2.7-macosx-10.9-intel.egg/astropy/table/table.pyc\u001b[0m in \u001b[0;36m__getitem__\u001b[0;34m(self, item)\u001b[0m\n\u001b[1;32m     75\u001b[0m         \"\"\"\n\u001b[1;32m     76\u001b[0m         \u001b[0;32mif\u001b[0m \u001b[0misinstance\u001b[0m\u001b[0;34m(\u001b[0m\u001b[0mitem\u001b[0m\u001b[0;34m,\u001b[0m \u001b[0msix\u001b[0m\u001b[0;34m.\u001b[0m\u001b[0mstring_types\u001b[0m\u001b[0;34m)\u001b[0m\u001b[0;34m:\u001b[0m\u001b[0;34m\u001b[0m\u001b[0m\n\u001b[0;32m---> 77\u001b[0;31m             \u001b[0;32mreturn\u001b[0m \u001b[0mOrderedDict\u001b[0m\u001b[0;34m.\u001b[0m\u001b[0m__getitem__\u001b[0m\u001b[0;34m(\u001b[0m\u001b[0mself\u001b[0m\u001b[0;34m,\u001b[0m \u001b[0mitem\u001b[0m\u001b[0;34m)\u001b[0m\u001b[0;34m\u001b[0m\u001b[0m\n\u001b[0m\u001b[1;32m     78\u001b[0m         \u001b[0;32melif\u001b[0m \u001b[0misinstance\u001b[0m\u001b[0;34m(\u001b[0m\u001b[0mitem\u001b[0m\u001b[0;34m,\u001b[0m \u001b[0mint\u001b[0m\u001b[0;34m)\u001b[0m\u001b[0;34m:\u001b[0m\u001b[0;34m\u001b[0m\u001b[0m\n\u001b[1;32m     79\u001b[0m             \u001b[0;32mreturn\u001b[0m \u001b[0mself\u001b[0m\u001b[0;34m.\u001b[0m\u001b[0mvalues\u001b[0m\u001b[0;34m(\u001b[0m\u001b[0;34m)\u001b[0m\u001b[0;34m[\u001b[0m\u001b[0mitem\u001b[0m\u001b[0;34m]\u001b[0m\u001b[0;34m\u001b[0m\u001b[0m\n",
        "\u001b[0;31mKeyError\u001b[0m: 'PGC'"
       ]
      }
     ],
     "prompt_number": 30
    },
    {
     "cell_type": "heading",
     "level": 1,
     "metadata": {},
     "source": [
      "RC3 Table search"
     ]
    },
    {
     "cell_type": "code",
     "collapsed": false,
     "input": [
      "vlbacal = Vizier.find_catalogs('Third Reference Catalog')\n",
      "{k:v.description for k,v in vlbacal.iteritems()}"
     ],
     "language": "python",
     "metadata": {},
     "outputs": [
      {
       "metadata": {},
       "output_type": "pyout",
       "prompt_number": 31,
       "text": [
        "{u'J/AJ/108/2128': u'RC3 corrections and additions (Corwin+ 1994)',\n",
        " u'V/128': u'Chromospherically Active Binaries. Third version (Eker+, 2008)',\n",
        " u'VII/155': u'Third Reference Cat. of Bright Galaxies (RC3) (de Vaucouleurs+ 1991)'}"
       ]
      }
     ],
     "prompt_number": 31
    },
    {
     "cell_type": "code",
     "collapsed": false,
     "input": [
      "rc3Cat = Vizier(catalog='VII/155')"
     ],
     "language": "python",
     "metadata": {},
     "outputs": [
      {
       "ename": "NameError",
       "evalue": "name 'Vizier' is not defined",
       "output_type": "pyerr",
       "traceback": [
        "\u001b[0;31m---------------------------------------------------------------------------\u001b[0m\n\u001b[0;31mNameError\u001b[0m                                 Traceback (most recent call last)",
        "\u001b[0;32m<ipython-input-1-f8995020a635>\u001b[0m in \u001b[0;36m<module>\u001b[0;34m()\u001b[0m\n\u001b[0;32m----> 1\u001b[0;31m \u001b[0mrc3Cat\u001b[0m \u001b[0;34m=\u001b[0m \u001b[0mVizier\u001b[0m\u001b[0;34m(\u001b[0m\u001b[0mcatalog\u001b[0m\u001b[0;34m=\u001b[0m\u001b[0;34m'VII/155'\u001b[0m\u001b[0;34m)\u001b[0m\u001b[0;34m\u001b[0m\u001b[0m\n\u001b[0m",
        "\u001b[0;31mNameError\u001b[0m: name 'Vizier' is not defined"
       ]
      }
     ],
     "prompt_number": 1
    },
    {
     "cell_type": "code",
     "collapsed": false,
     "input": [
      "rc3Cat"
     ],
     "language": "python",
     "metadata": {},
     "outputs": [
      {
       "metadata": {},
       "output_type": "pyout",
       "prompt_number": 35,
       "text": [
        "<astroquery.vizier.core.VizierClass at 0x10bd02310>"
       ]
      }
     ],
     "prompt_number": 35
    },
    {
     "cell_type": "code",
     "collapsed": false,
     "input": [
      "from astropy import *\n",
      "from astroquery.vizier import *\n",
      "import astropy.units as u\n",
      "from astropy.coordinates import SkyCoord\n",
      "rc3Cat = Vizier(catalog='VII/155/rc3')\n",
      "pos =SkyCoord(49.488* u.deg,-0.39* u.deg, frame='fk5')\n",
      "rc3_matches=rc3Cat.query_region(pos, radius=0.5*u.deg)\n",
      "rc3_matches"
     ],
     "language": "python",
     "metadata": {},
     "outputs": [
      {
       "output_type": "stream",
       "stream": "stderr",
       "text": [
        "WARNING: AstropyDeprecationWarning: ConfigurationItem has been deprecated in astropy 0.4. Use ConfigItem objects as members of ConfigNamespace subclasses instead.  See ConfigNamespace for an example. [astropy.config.configuration]\n",
        "WARNING:astropy:AstropyDeprecationWarning: ConfigurationItem has been deprecated in astropy 0.4. Use ConfigItem objects as members of ConfigNamespace subclasses instead.  See ConfigNamespace for an example.\n"
       ]
      },
      {
       "output_type": "stream",
       "stream": "stderr",
       "text": [
        "/Users/dorislee/.virtualenvs/py27dev/lib/python2.7/site-packages/astroquery/vizier/core.py:560: UserWarning: VOTABLE parsing raised exception: \n",
        "  warnings.warn(\"VOTABLE parsing raised exception: {0}\".format(ex))\n"
       ]
      },
      {
       "metadata": {},
       "output_type": "pyout",
       "prompt_number": 1,
       "text": [
        "TableList with 1 tables:\n",
        "\t'0:VII/155/rc3' with 13 column(s) and 3 row(s) "
       ]
      }
     ],
     "prompt_number": 1
    },
    {
     "cell_type": "code",
     "collapsed": false,
     "input": [
      "list(rc3_matches[0]['PGC'].data)"
     ],
     "language": "python",
     "metadata": {},
     "outputs": [
      {
       "metadata": {},
       "output_type": "pyout",
       "prompt_number": 2,
       "text": [
        "['PGC12163', 'PGC12220', 'PGC12262']"
       ]
      }
     ],
     "prompt_number": 2
    },
    {
     "cell_type": "code",
     "collapsed": false,
     "input": [
      "cd ../pipeline_final/"
     ],
     "language": "python",
     "metadata": {},
     "outputs": [
      {
       "output_type": "stream",
       "stream": "stdout",
       "text": [
        "/Users/dorislee/Desktop/GSoC2014/workarea-rc3-project/pipeline_final\n"
       ]
      }
     ],
     "prompt_number": 3
    },
    {
     "cell_type": "code",
     "collapsed": false,
     "input": [
      "from gator import Gator\n",
      "from twoMass import *\n",
      "a=Gator()\n",
      "# a.getData('J',10.5,3.5,0.1)\n",
      "tm = TwoMass()\n",
      "a.otherRC3(0.08958,-2.61206,0.02*3,tm)"
     ],
     "language": "python",
     "metadata": {},
     "outputs": [
      {
       "output_type": "stream",
       "stream": "stdout",
       "text": [
        "<SkyCoord (FK5): equinox=J2000.000, ra=0.08958 deg, dec=-2.61206 deg>\n",
        "TableList with 1 tables:\n",
        "\t'0:VII/155/rc3' with 13 column(s) and 1 row(s) \n"
       ]
      },
      {
       "metadata": {},
       "output_type": "pyout",
       "prompt_number": 13,
       "text": [
        "['PGC   23']"
       ]
      }
     ],
     "prompt_number": 13
    },
    {
     "cell_type": "code",
     "collapsed": false,
     "input": [
      "float(a.otherRC3(0.08958,-2.61206,0.02*3,tm)[0][3:]) #jsut to make sure this works for converting spaces into float."
     ],
     "language": "python",
     "metadata": {},
     "outputs": [
      {
       "output_type": "stream",
       "stream": "stdout",
       "text": [
        "<SkyCoord (FK5): equinox=J2000.000, ra=0.08958 deg, dec=-2.61206 deg>\n",
        "TableList with 1 tables:\n",
        "\t'0:VII/155/rc3' with 13 column(s) and 1 row(s) \n"
       ]
      },
      {
       "metadata": {},
       "output_type": "pyout",
       "prompt_number": 14,
       "text": [
        "23.0"
       ]
      }
     ],
     "prompt_number": 14
    },
    {
     "cell_type": "code",
     "collapsed": false,
     "input": [
      "a.otherRC3(0.158083, 28.384556,0.06,tm)"
     ],
     "language": "python",
     "metadata": {},
     "outputs": [
      {
       "output_type": "stream",
       "stream": "stdout",
       "text": [
        "<SkyCoord (FK5): equinox=J2000.000, ra=0.158083 deg, dec=28.384556 deg>\n",
        "TableList with 1 tables:\n",
        "\t'0:VII/155/rc3' with 13 column(s) and 3 row(s) "
       ]
      },
      {
       "output_type": "stream",
       "stream": "stdout",
       "text": [
        "\n"
       ]
      },
      {
       "metadata": {},
       "output_type": "pyout",
       "prompt_number": 10,
       "text": [
        "['PGC   54', 'PGC   58', 'PGC   63']"
       ]
      }
     ],
     "prompt_number": 10
    },
    {
     "cell_type": "code",
     "collapsed": false,
     "input": [
      "a.otherRC3(49.488,-0.39,0.7,tm)"
     ],
     "language": "python",
     "metadata": {},
     "outputs": [
      {
       "output_type": "stream",
       "stream": "stdout",
       "text": [
        "<SkyCoord (FK5): equinox=J2000.000, ra=49.488 deg, dec=-0.39 deg>\n",
        "TableList with 1 tables:\n",
        "\t'0:VII/155/rc3' with 13 column(s) and 3 row(s) "
       ]
      },
      {
       "output_type": "stream",
       "stream": "stdout",
       "text": [
        "\n"
       ]
      },
      {
       "metadata": {},
       "output_type": "pyout",
       "prompt_number": 11,
       "text": [
        "['PGC12163', 'PGC12220', 'PGC12262']"
       ]
      }
     ],
     "prompt_number": 11
    },
    {
     "cell_type": "markdown",
     "metadata": {},
     "source": [
      "Will have empty TableList if you do catalog = catalog inside the assignment so changed name to catalog = cat. Local name is bad."
     ]
    },
    {
     "cell_type": "markdown",
     "metadata": {},
     "source": [
      "A real RC3    "
     ]
    },
    {
     "cell_type": "code",
     "collapsed": false,
     "input": [
      "a.otherRC3(0.120833333333,-40.4833333333,3*0.032497410061,tm)"
     ],
     "language": "python",
     "metadata": {},
     "outputs": [
      {
       "output_type": "stream",
       "stream": "stdout",
       "text": [
        "<SkyCoord (FK5): equinox=J2000.000, ra=0.120833333333 deg, dec=-40.4833333333 deg>\n",
        "TableList with 1 tables:\n",
        "\t'0:VII/155/rc3' with 13 column(s) and 1 row(s) "
       ]
      },
      {
       "output_type": "stream",
       "stream": "stdout",
       "text": [
        "\n"
       ]
      },
      {
       "metadata": {},
       "output_type": "pyout",
       "prompt_number": 8,
       "text": [
        "['PGC   43']"
       ]
      }
     ],
     "prompt_number": 8
    },
    {
     "cell_type": "code",
     "collapsed": false,
     "input": [
      "\"test{}\".format(3)"
     ],
     "language": "python",
     "metadata": {},
     "outputs": [
      {
       "metadata": {},
       "output_type": "pyout",
       "prompt_number": 15,
       "text": [
        "'test3'"
       ]
      }
     ],
     "prompt_number": 15
    },
    {
     "cell_type": "markdown",
     "metadata": {},
     "source": [
      "Killed process by \n",
      "doris@bigdog-data:/data/small/doris/pipeline_final$ kill -sigterm 1800\n",
      "doris@bigdog-data:/data/small/doris/pipeline_final$ ps auxwww|grep -i bulk_run.py \n",
      "doris     2189  0.0  0.0  10464   948 pts/1    S+   18:35   0:00 grep --color=auto -i bulk_run.py\n",
      "        \n",
      "        \n",
      "crashed at \n",
      "SDSS_r_20.925_6.71444444444.fits\n",
      "Inside Mosaic All Error\n",
      "20.9191666667       33.2811111111        0.011503202228        5099\n",
      "\n",
      "The last updated was \n",
      "20.9054166667       -1.83       0.1557285       +33.6017420       0.0043016748332       5097\n",
      "\n"
     ]
    },
    {
     "cell_type": "code",
     "collapsed": false,
     "input": [
      "from astroquery.irsa import Irsa\n",
      "import astropy.units as u\n",
      "from astropy.coordinates import SkyCoord\n",
      "pos =SkyCoord(0.08958* u.deg,-2.61206* u.deg, frame='fk5')\n",
      "tbl = Irsa.query_region(pos,catalog='fp_xsc', spatial='Box',width=1000 * u.arcsec)\n",
      "print (tbl)\n",
      "list(tbl['designation'])"
     ],
     "language": "python",
     "metadata": {},
     "outputs": [
      {
       "output_type": "stream",
       "stream": "stdout",
       "text": [
        "  designation       ra     dec       clon     ...      k_msig_ext     cc_flg  id\n",
        "                   deg     deg                ...         mag                   \n",
        "---------------- ------- ------- ------------ ... ------------------- ------ ---\n",
        "00001695-0238213   0.071  -2.639 00h00m16.96s ... 0.17699999999999999      0   0\n",
        "00003143-0233533   0.131  -2.565 00h00m31.43s ...               0.215      0   1\n",
        "00004325-0230052   0.180  -2.501 00h00m43.26s ... 0.19800000000000001      0   2\n",
        "00002322-0237463   0.097  -2.630 00h00m23.23s ... 0.13200000000000001      0   3\n",
        "00003925-0237112   0.164  -2.620 00h00m39.26s ... 0.23699999999999999      0   4\n",
        "00002449-0232453   0.102  -2.546 00h00m24.49s ... 0.26800000000000002      0   5\n",
        "00002629-0234183   0.110  -2.572 00h00m26.30s ...               0.078      0   6\n",
        "00003043-0234443   0.127  -2.579 00h00m30.43s ...               0.222      0   7\n",
        "00001668-0243493   0.070  -2.730 00h00m16.69s ... 0.14599999999999999      0   8\n",
        "00004913-0233511   0.205  -2.564 00h00m49.13s ... 0.28100000000000003      0   9\n",
        "00002149-0236433   0.090  -2.612 00h00m21.49s ...               0.062      0  10\n",
        "00000661-0233434   0.028  -2.562 00h00m06.61s ...               0.249      0  11\n",
        "00003010-0243253   0.125  -2.724 00h00m30.10s ...               0.245      0  12\n",
        "23595010-0231299 359.959  -2.525 23h59m50.11s ... 0.20799999999999999      0  13\n",
        "23595143-0232419 359.964  -2.545 23h59m51.44s ...               0.125      0  14\n"
       ]
      },
      {
       "metadata": {},
       "output_type": "pyout",
       "prompt_number": 35,
       "text": [
        "['00001695-0238213',\n",
        " '00003143-0233533',\n",
        " '00004325-0230052',\n",
        " '00002322-0237463',\n",
        " '00003925-0237112',\n",
        " '00002449-0232453',\n",
        " '00002629-0234183',\n",
        " '00003043-0234443',\n",
        " '00001668-0243493',\n",
        " '00004913-0233511',\n",
        " '00002149-0236433',\n",
        " '00000661-0233434',\n",
        " '00003010-0243253',\n",
        " '23595010-0231299',\n",
        " '23595143-0232419']"
       ]
      }
     ],
     "prompt_number": 35
    },
    {
     "cell_type": "code",
     "collapsed": false,
     "input": [
      "ra=0.159583333333\n",
      "dec=28.385\n",
      "margin = 51.657526073167695\n",
      "rc3Cat = Vizier(catalog='VII/155/rc3')\n",
      "pos =SkyCoord(ra* u.deg,dec* u.deg, frame='fk5')\n",
      "print(pos)\n",
      "rc3_matches=rc3Cat.query_region(pos, radius=2*margin*u.deg)\n",
      "print (rc3_matches[0])\n",
      "other_rc3s=[]\n",
      "if (len(rc3_matches)!=0):\n",
      "    \n",
      "    # It is practically impossible for len to beb zero because the galaxy of interest would always detect itself\n",
      "    # unless we are using it as a rc3 finder for any ra,dec\n",
      "    for i in range(len(rc3_matches[0][0])):\n",
      "        lst = []\n",
      "        lst.append(rc3_matches[0]['PGC'].data[i])\n",
      "        lst.append(rc3_matches[0]['_RAJ2000'].data[i])\n",
      "        lst.append(rc3_matches[0]['_DEJ2000'].data[i])\n",
      "        other_rc3s.append(lst)\n",
      "other_rc3s\n",
      "len(rc3_matches[0][0])"
     ],
     "language": "python",
     "metadata": {},
     "outputs": [
      {
       "output_type": "stream",
       "stream": "stdout",
       "text": [
        "<SkyCoord (FK5): equinox=J2000.000, ra=0.159583333333 deg, dec=28.385 deg>\n",
        "_RAJ2000 _DEJ2000   RA2000     DE2000  ...  R25    BT  BT_code   cz  \n",
        "  deg      deg     \"h:m:s\"    \"d:m:s\"  ...        mag          km / s\n",
        "-------- -------- ---------- --------- ... ----- ----- ------- ------\n",
        "  0.0079  47.2744 00 00 01.8 +47 16 28 ...  0.07   nan             --\n",
        "  0.0366  -6.3747 00 00 08.7 -06 22 29 ...  0.74   nan           6493\n",
        "  0.0891  -2.6105 00 00 21.3 -02 36 38 ...  0.25   nan             --\n",
        "  0.1003  39.4999 00 00 24.0 +39 30 00 ...  0.00   nan             --\n",
        "  0.1003  17.2166 00 00 24.0 +17 13 00 ...  0.01   nan             --\n",
        "  0.1003   7.8333 00 00 24.0 +07 50 00 ...  0.24   nan             --\n",
        "  0.1212 -40.4833 00 00 29.0 -40 29 00 ...  0.55   nan           3164\n",
        "  0.1587  20.0591 00 00 38.0 +20 03 33 ...  0.09   nan             --\n",
        "  0.1599  28.3850 00 00 38.3 +28 23 06 ...  0.48 14.84       S   8705\n",
        "  0.1503  33.6000 00 00 36.0 +33 36 00 ...  0.39   nan             --\n",
        "  0.1849  28.4014 00 00 44.3 +28 24 05 ...  0.24 15.71       S   8216\n",
        "     ...      ...        ...       ... ...   ...   ...     ...    ...\n",
        "  0.4824 -27.6266 00 01 55.7 -27 37 36 ...  0.07 14.66           8507\n",
        "  0.4874 -15.4502 00 01 56.9 -15 27 01 ...  0.46 11.03       M    -75\n",
        "  0.4753  17.5500 00 01 54.0 +17 33 00 ...  0.19   nan             --\n",
        "  0.4753  40.3166 00 01 54.0 +40 19 00 ...  0.13   nan             --\n",
        "  0.5158 -33.4683 00 02 03.7 -33 28 06 ...  0.23   nan           8758\n",
        "  0.5003  16.5833 00 02 00.0 +16 35 00 ...  0.25   nan             --\n",
        "  0.5399   2.9406 00 02 09.5 +02 56 26 ...  0.07   nan             --\n",
        "  0.5441 -43.9752 00 02 10.5 -43 58 31 ...  0.09   nan             --\n",
        "  0.5812  12.9719 00 02 19.4 +12 58 19 ...  0.15   nan           5532\n",
        "  0.5753  27.2000 00 02 18.0 +27 12 00 ...  0.82   nan             --\n"
       ]
      },
      {
       "metadata": {},
       "output_type": "pyout",
       "prompt_number": 56,
       "text": [
        "13"
       ]
      }
     ],
     "prompt_number": 56
    },
    {
     "cell_type": "code",
     "collapsed": false,
     "input": [
      "# rc3_matches[0]['cc']\n",
      "rc3_matches[0][0]"
     ],
     "language": "python",
     "metadata": {},
     "outputs": [
      {
       "metadata": {},
       "output_type": "pyout",
       "prompt_number": 60,
       "text": [
        "<Row 0 of table\n",
        " values=(0.0079, 47.2744, 00 00 01.8, +47 16 28, UGC 12889, PGC    2, .SBT3.., 3.0, 1.33000004292, 0.070000000298, --, , --)\n",
        " dtype=[('_RAJ2000', '<f8'), ('_DEJ2000', '<f8'), ('RA2000', 'S10'), ('DE2000', 'S9'), ('altname', 'S15'), ('PGC', 'S11'), ('type', 'S7'), ('T', '<f4'), ('D25', '<f4'), ('R25', '<f4'), ('BT', '<f4'), ('BT_code', 'S1'), ('cz', '<i4')]>"
       ]
      }
     ],
     "prompt_number": 60
    },
    {
     "cell_type": "code",
     "collapsed": false,
     "input": [
      "from astroquery.irsa import Irsa\n",
      "from astropy import *\n",
      "from astropy.coordinates import SkyCoord\n",
      "import astropy.units as u \n",
      "ra = 14\n",
      "dec = -13\n",
      "margin =1\n",
      "pos =SkyCoord(ra* u.deg,dec* u.deg, frame='fk5')\n",
      "tbl=Irsa.query_region(pos,catalog='fp_xsc', spatial='Box',width=2*margin*u.deg)"
     ],
     "language": "python",
     "metadata": {},
     "outputs": [],
     "prompt_number": 103
    },
    {
     "cell_type": "code",
     "collapsed": false,
     "input": [
      "# print (tbl['cc_flg'])"
     ],
     "language": "python",
     "metadata": {},
     "outputs": [],
     "prompt_number": 104
    },
    {
     "cell_type": "code",
     "collapsed": false,
     "input": [
      "lst=[]\n",
      "for i in range(len(tbl['designation'])):\n",
      "    if (tbl[0]['cc_flg']=='0'):\n",
      "        lst.append(tbl[i]['designation'])\n",
      "lst"
     ],
     "language": "python",
     "metadata": {},
     "outputs": [
      {
       "metadata": {},
       "output_type": "pyout",
       "prompt_number": 109,
       "text": [
        "['00523695-1309235',\n",
        " '00530750-1311242',\n",
        " '00534143-1308328',\n",
        " '00521936-1307015',\n",
        " '00525566-1317063',\n",
        " '00533389-1310251',\n",
        " '00521641-1306425',\n",
        " '00531643-1308102',\n",
        " '00530634-1315222',\n",
        " '00515524-1310148',\n",
        " '00532951-1313341',\n",
        " '00532423-1309321',\n",
        " '00531321-1309502',\n",
        " '00522244-1326345',\n",
        " '00521867-1314115',\n",
        " '00532991-1307291',\n",
        " '00530087-1316443',\n",
        " '00534122-1309428',\n",
        " '00532985-1309381',\n",
        " '00524138-1223052',\n",
        " '00515762-1228138',\n",
        " '00531019-1223362',\n",
        " '00531394-1223002',\n",
        " '01000201-1205033',\n",
        " '00595219-1207503',\n",
        " '01000119-1202013',\n",
        " '01000168-1218163',\n",
        " '01000003-1205553',\n",
        " '01000176-1236263',\n",
        " '00570581-1202154',\n",
        " '00570455-1206098',\n",
        " '00564689-1202519',\n",
        " '00564280-1222069',\n",
        " '00571740-1209134',\n",
        " '00570949-1203014',\n",
        " '00541592-1202396',\n",
        " '00540849-1200416',\n",
        " '00544530-1200566',\n",
        " '00541456-1207176',\n",
        " '00555949-1225492',\n",
        " '00540154-1250368',\n",
        " '00544012-1232096',\n",
        " '00555895-1229222',\n",
        " '00550738-1240063',\n",
        " '00540147-1251078',\n",
        " '00545481-1236536',\n",
        " '00544866-1234516',\n",
        " '00535594-1249348',\n",
        " '00540401-1251138',\n",
        " '00552549-1240414',\n",
        " '00535791-1229428',\n",
        " '00545973-1239025',\n",
        " '00541093-1234186',\n",
        " '00552768-1238054',\n",
        " '00550820-1242053',\n",
        " '00552542-1231254',\n",
        " '00551456-1234144',\n",
        " '00541317-1257576',\n",
        " '00541064-1301366',\n",
        " '00560234-1218162',\n",
        " '00545560-1206016',\n",
        " '00562287-1221170',\n",
        " '00550755-1211273',\n",
        " '00562068-1218410',\n",
        " '00550706-1209475',\n",
        " '00562915-1219380',\n",
        " '00553703-1202313',\n",
        " '00552623-1208464',\n",
        " '00561795-1205380',\n",
        " '00551976-1201414',\n",
        " '00552855-1207084',\n",
        " '00545628-1208305',\n",
        " '00553764-1216123',\n",
        " '00554085-1201123',\n",
        " '00540343-1215488',\n",
        " '00550174-1207375',\n",
        " '00531971-1300481',\n",
        " '00523195-1305475',\n",
        " '00530160-1253593',\n",
        " '00531122-1255082',\n",
        " '00515463-1257478',\n",
        " '00532153-1237591',\n",
        " '00532382-1306041',\n",
        " '00532415-1259361',\n",
        " '00532852-1250341',\n",
        " '00520250-1301188',\n",
        " '00531245-1256032',\n",
        " '00533032-1306461',\n",
        " '00520581-1215458',\n",
        " '00525060-1214533',\n",
        " '00521035-1202575',\n",
        " '00525974-1217563',\n",
        " '00525469-1214433',\n",
        " '00541891-1359466',\n",
        " '00534840-1351148',\n",
        " '00540645-1337338',\n",
        " '00533671-1349541',\n",
        " '00535190-1310368',\n",
        " '00534239-1310248',\n",
        " '00540420-1350338',\n",
        " '00540006-1319168',\n",
        " '00533874-1327188',\n",
        " '00540411-1331378',\n",
        " '00534765-1351358',\n",
        " '00534430-1311418',\n",
        " '00523358-1357465',\n",
        " '00533693-1355331',\n",
        " '00533617-1355541',\n",
        " '00535933-1356198',\n",
        " '00542982-1334496',\n",
        " '00563064-1316340',\n",
        " '00560059-1321232',\n",
        " '00550242-1340415',\n",
        " '00541884-1343486',\n",
        " '00561688-1317580',\n",
        " '00540616-1328288',\n",
        " '00553256-1327384',\n",
        " '00542406-1331136',\n",
        " '00563875-1310229',\n",
        " '00542241-1320176',\n",
        " '00552063-1322074',\n",
        " '00541164-1338236',\n",
        " '00540767-1328556',\n",
        " '00552474-1308574',\n",
        " '00560423-1321292',\n",
        " '00554818-1310162',\n",
        " '00551014-1330304',\n",
        " '00551362-1355234',\n",
        " '00553182-1358284',\n",
        " '00553169-1358494',\n",
        " '00561276-1356250',\n",
        " '00544074-1357366',\n",
        " '00585748-1333592',\n",
        " '00584754-1312132',\n",
        " '00580198-1333280',\n",
        " '00584761-1333552',\n",
        " '00581633-1312198',\n",
        " '00583898-1313582',\n",
        " '00580995-1330088',\n",
        " '00573334-1314014',\n",
        " '00584302-1326462',\n",
        " '00574895-1335200',\n",
        " '00583031-1334448',\n",
        " '00573451-1317044',\n",
        " '00563359-1320030',\n",
        " '00564622-1333279',\n",
        " '00565575-1334269',\n",
        " '00564485-1316059',\n",
        " '00560319-1355142',\n",
        " '00570462-1348488',\n",
        " '00565088-1335419',\n",
        " '00551369-1350404',\n",
        " '00564965-1330589',\n",
        " '00570738-1320104',\n",
        " '00552886-1340184',\n",
        " '00555068-1343262',\n",
        " '00570261-1336408',\n",
        " '00570320-1314498',\n",
        " '00560652-1351520',\n",
        " '00555918-1337192',\n",
        " '00550957-1351114',\n",
        " '00561647-1349210',\n",
        " '00563943-1319539',\n",
        " '00545619-1353025',\n",
        " '00564649-1332499',\n",
        " '00555582-1338402',\n",
        " '00565225-1326269',\n",
        " '00593036-1332092',\n",
        " '00592558-1353562',\n",
        " '00594014-1326253',\n",
        " '00594596-1354023',\n",
        " '00592229-1353342',\n",
        " '00590924-1345502',\n",
        " '00593662-1347283',\n",
        " '00593259-1355342',\n",
        " '01000050-1327313',\n",
        " '00583211-1342278',\n",
        " '00594301-1342553',\n",
        " '00593772-1353153',\n",
        " '00594547-1356423',\n",
        " '00591747-1341252',\n",
        " '00594197-1355493',\n",
        " '00595908-1359433',\n",
        " '00573988-1220370',\n",
        " '00580945-1206328',\n",
        " '00573262-1222434',\n",
        " '00575393-1207270',\n",
        " '00585919-1210492',\n",
        " '00572197-1217284',\n",
        " '00571221-1221304',\n",
        " '00590341-1200302',\n",
        " '00581197-1202458',\n",
        " '00590172-1216552',\n",
        " '00593761-1201193',\n",
        " '00565354-1304169',\n",
        " '00562016-1305070',\n",
        " '00562986-1250260',\n",
        " '00552344-1307544',\n",
        " '00555646-1302332',\n",
        " '00552932-1253534',\n",
        " '00552830-1300514',\n",
        " '00565442-1257139',\n",
        " '00564854-1256289',\n",
        " '00564409-1303479',\n",
        " '00551735-1256384',\n",
        " '00565539-1306019',\n",
        " '00554591-1242492',\n",
        " '00560310-1306122',\n",
        " '00555735-1300482',\n",
        " '00550448-1259115',\n",
        " '00552282-1307414',\n",
        " '00542391-1300156',\n",
        " '00564580-1302229',\n",
        " '00562734-1302500',\n",
        " '00542254-1302576',\n",
        " '00551892-1300164',\n",
        " '00565977-1305388',\n",
        " '00552706-1254074',\n",
        " '00551373-1253004',\n",
        " '00593873-1249573',\n",
        " '01000460-1300434',\n",
        " '00594276-1245463',\n",
        " '00593476-1248513',\n",
        " '00594851-1238343',\n",
        " '01000405-1258474',\n",
        " '00591389-1258392',\n",
        " '00595432-1309153',\n",
        " '00591197-1242232',\n",
        " '00572437-1306564',\n",
        " '00575860-1259190',\n",
        " '00590311-1240382',\n",
        " '00594113-1242343',\n",
        " '00591081-1252342',\n",
        " '00593321-1236013',\n",
        " '01000171-1255083',\n",
        " '00593661-1248523',\n",
        " '00594421-1232553',\n",
        " '00593887-1247043',\n",
        " '00593257-1258072',\n",
        " '00591320-1231432',\n",
        " '00575449-1247390',\n",
        " '00593506-1226203',\n",
        " '00573796-1226420',\n",
        " '00583557-1244342',\n",
        " '00575073-1247590',\n",
        " '00591770-1227372',\n",
        " '00570727-1245354',\n",
        " '00581599-1233328',\n",
        " '00581257-1252578',\n",
        " '00572430-1304424',\n",
        " '00570926-1242524',\n",
        " '00572115-1229064',\n",
        " '00583995-1233322',\n",
        " '00572088-1229444',\n",
        " '00573796-1233320',\n",
        " '00574143-1256310',\n",
        " '00571377-1239444',\n",
        " '00584665-1232292',\n",
        " '00571657-1228274',\n",
        " '00580512-1247078',\n",
        " '00585908-1239482',\n",
        " '00565345-1229219',\n",
        " '00593068-1228362',\n",
        " '00582726-1230498']"
       ]
      }
     ],
     "prompt_number": 109
    },
    {
     "cell_type": "code",
     "collapsed": false,
     "input": [
      "len(tbl['designation'])"
     ],
     "language": "python",
     "metadata": {},
     "outputs": [
      {
       "metadata": {},
       "output_type": "pyout",
       "prompt_number": 108,
       "text": [
        "264"
       ]
      }
     ],
     "prompt_number": 108
    },
    {
     "cell_type": "code",
     "collapsed": false,
     "input": [
      "tbl['designation']"
     ],
     "language": "python",
     "metadata": {},
     "outputs": [
      {
       "metadata": {},
       "output_type": "pyout",
       "prompt_number": 107,
       "text": [
        "<MaskedColumn name='designation' unit=None format=None description=None>\n",
        "masked_array(data = ['00523695-1309235' '00530750-1311242' '00534143-1308328'\n",
        " '00521936-1307015' '00525566-1317063' '00533389-1310251'\n",
        " '00521641-1306425' '00531643-1308102' '00530634-1315222'\n",
        " '00515524-1310148' '00532951-1313341' '00532423-1309321'\n",
        " '00531321-1309502' '00522244-1326345' '00521867-1314115'\n",
        " '00532991-1307291' '00530087-1316443' '00534122-1309428'\n",
        " '00532985-1309381' '00524138-1223052' '00515762-1228138'\n",
        " '00531019-1223362' '00531394-1223002' '01000201-1205033'\n",
        " '00595219-1207503' '01000119-1202013' '01000168-1218163'\n",
        " '01000003-1205553' '01000176-1236263' '00570581-1202154'\n",
        " '00570455-1206098' '00564689-1202519' '00564280-1222069'\n",
        " '00571740-1209134' '00570949-1203014' '00541592-1202396'\n",
        " '00540849-1200416' '00544530-1200566' '00541456-1207176'\n",
        " '00555949-1225492' '00540154-1250368' '00544012-1232096'\n",
        " '00555895-1229222' '00550738-1240063' '00540147-1251078'\n",
        " '00545481-1236536' '00544866-1234516' '00535594-1249348'\n",
        " '00540401-1251138' '00552549-1240414' '00535791-1229428'\n",
        " '00545973-1239025' '00541093-1234186' '00552768-1238054'\n",
        " '00550820-1242053' '00552542-1231254' '00551456-1234144'\n",
        " '00541317-1257576' '00541064-1301366' '00560234-1218162'\n",
        " '00545560-1206016' '00562287-1221170' '00550755-1211273'\n",
        " '00562068-1218410' '00550706-1209475' '00562915-1219380'\n",
        " '00553703-1202313' '00552623-1208464' '00561795-1205380'\n",
        " '00551976-1201414' '00552855-1207084' '00545628-1208305'\n",
        " '00553764-1216123' '00554085-1201123' '00540343-1215488'\n",
        " '00550174-1207375' '00531971-1300481' '00523195-1305475'\n",
        " '00530160-1253593' '00531122-1255082' '00515463-1257478'\n",
        " '00532153-1237591' '00532382-1306041' '00532415-1259361'\n",
        " '00532852-1250341' '00520250-1301188' '00531245-1256032'\n",
        " '00533032-1306461' '00520581-1215458' '00525060-1214533'\n",
        " '00521035-1202575' '00525974-1217563' '00525469-1214433'\n",
        " '00541891-1359466' '00534840-1351148' '00540645-1337338'\n",
        " '00533671-1349541' '00535190-1310368' '00534239-1310248'\n",
        " '00540420-1350338' '00540006-1319168' '00533874-1327188'\n",
        " '00540411-1331378' '00534765-1351358' '00534430-1311418'\n",
        " '00523358-1357465' '00533693-1355331' '00533617-1355541'\n",
        " '00535933-1356198' '00542982-1334496' '00563064-1316340'\n",
        " '00560059-1321232' '00550242-1340415' '00541884-1343486'\n",
        " '00561688-1317580' '00540616-1328288' '00553256-1327384'\n",
        " '00542406-1331136' '00563875-1310229' '00542241-1320176'\n",
        " '00552063-1322074' '00541164-1338236' '00540767-1328556'\n",
        " '00552474-1308574' '00560423-1321292' '00554818-1310162'\n",
        " '00551014-1330304' '00551362-1355234' '00553182-1358284'\n",
        " '00553169-1358494' '00561276-1356250' '00544074-1357366'\n",
        " '00585748-1333592' '00584754-1312132' '00580198-1333280'\n",
        " '00584761-1333552' '00581633-1312198' '00583898-1313582'\n",
        " '00580995-1330088' '00573334-1314014' '00584302-1326462'\n",
        " '00574895-1335200' '00583031-1334448' '00573451-1317044'\n",
        " '00563359-1320030' '00564622-1333279' '00565575-1334269'\n",
        " '00564485-1316059' '00560319-1355142' '00570462-1348488'\n",
        " '00565088-1335419' '00551369-1350404' '00564965-1330589'\n",
        " '00570738-1320104' '00552886-1340184' '00555068-1343262'\n",
        " '00570261-1336408' '00570320-1314498' '00560652-1351520'\n",
        " '00555918-1337192' '00550957-1351114' '00561647-1349210'\n",
        " '00563943-1319539' '00545619-1353025' '00564649-1332499'\n",
        " '00555582-1338402' '00565225-1326269' '00593036-1332092'\n",
        " '00592558-1353562' '00594014-1326253' '00594596-1354023'\n",
        " '00592229-1353342' '00590924-1345502' '00593662-1347283'\n",
        " '00593259-1355342' '01000050-1327313' '00583211-1342278'\n",
        " '00594301-1342553' '00593772-1353153' '00594547-1356423'\n",
        " '00591747-1341252' '00594197-1355493' '00595908-1359433'\n",
        " '00573988-1220370' '00580945-1206328' '00573262-1222434'\n",
        " '00575393-1207270' '00585919-1210492' '00572197-1217284'\n",
        " '00571221-1221304' '00590341-1200302' '00581197-1202458'\n",
        " '00590172-1216552' '00593761-1201193' '00565354-1304169'\n",
        " '00562016-1305070' '00562986-1250260' '00552344-1307544'\n",
        " '00555646-1302332' '00552932-1253534' '00552830-1300514'\n",
        " '00565442-1257139' '00564854-1256289' '00564409-1303479'\n",
        " '00551735-1256384' '00565539-1306019' '00554591-1242492'\n",
        " '00560310-1306122' '00555735-1300482' '00550448-1259115'\n",
        " '00552282-1307414' '00542391-1300156' '00564580-1302229'\n",
        " '00562734-1302500' '00542254-1302576' '00551892-1300164'\n",
        " '00565977-1305388' '00552706-1254074' '00551373-1253004'\n",
        " '00593873-1249573' '01000460-1300434' '00594276-1245463'\n",
        " '00593476-1248513' '00594851-1238343' '01000405-1258474'\n",
        " '00591389-1258392' '00595432-1309153' '00591197-1242232'\n",
        " '00572437-1306564' '00575860-1259190' '00590311-1240382'\n",
        " '00594113-1242343' '00591081-1252342' '00593321-1236013'\n",
        " '01000171-1255083' '00593661-1248523' '00594421-1232553'\n",
        " '00593887-1247043' '00593257-1258072' '00591320-1231432'\n",
        " '00575449-1247390' '00593506-1226203' '00573796-1226420'\n",
        " '00583557-1244342' '00575073-1247590' '00591770-1227372'\n",
        " '00570727-1245354' '00581599-1233328' '00581257-1252578'\n",
        " '00572430-1304424' '00570926-1242524' '00572115-1229064'\n",
        " '00583995-1233322' '00572088-1229444' '00573796-1233320'\n",
        " '00574143-1256310' '00571377-1239444' '00584665-1232292'\n",
        " '00571657-1228274' '00580512-1247078' '00585908-1239482'\n",
        " '00565345-1229219' '00593068-1228362' '00582726-1230498'],\n",
        "             mask = [False False False False False False False False False False False False\n",
        " False False False False False False False False False False False False\n",
        " False False False False False False False False False False False False\n",
        " False False False False False False False False False False False False\n",
        " False False False False False False False False False False False False\n",
        " False False False False False False False False False False False False\n",
        " False False False False False False False False False False False False\n",
        " False False False False False False False False False False False False\n",
        " False False False False False False False False False False False False\n",
        " False False False False False False False False False False False False\n",
        " False False False False False False False False False False False False\n",
        " False False False False False False False False False False False False\n",
        " False False False False False False False False False False False False\n",
        " False False False False False False False False False False False False\n",
        " False False False False False False False False False False False False\n",
        " False False False False False False False False False False False False\n",
        " False False False False False False False False False False False False\n",
        " False False False False False False False False False False False False\n",
        " False False False False False False False False False False False False\n",
        " False False False False False False False False False False False False\n",
        " False False False False False False False False False False False False\n",
        " False False False False False False False False False False False False],\n",
        "       fill_value = ?)"
       ]
      }
     ],
     "prompt_number": 107
    },
    {
     "cell_type": "code",
     "collapsed": false,
     "input": [],
     "language": "python",
     "metadata": {},
     "outputs": []
    }
   ],
   "metadata": {}
  }
 ]
}