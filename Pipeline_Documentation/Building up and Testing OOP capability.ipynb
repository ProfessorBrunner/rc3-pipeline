{
 "metadata": {
  "name": "",
  "signature": "sha256:b3c373be29aa85e12f2d61bb42877dbf8d0d08122d18d573076a8a07e6894d34"
 },
 "nbformat": 3,
 "nbformat_minor": 0,
 "worksheets": [
  {
   "cells": [
    {
     "cell_type": "code",
     "collapsed": false,
     "input": [
      "cd ../pipeline/"
     ],
     "language": "python",
     "metadata": {},
     "outputs": [
      {
       "output_type": "stream",
       "stream": "stdout",
       "text": [
        "/Users/dorislee/Desktop/GSoC2014/workarea-rc3-project/pipeline\n"
       ]
      }
     ],
     "prompt_number": 1
    },
    {
     "cell_type": "code",
     "collapsed": false,
     "input": [
      "from survey import Survey\n",
      "from sdss import *\n",
      "from skyserver import SkyServer"
     ],
     "language": "python",
     "metadata": {},
     "outputs": [],
     "prompt_number": 2
    },
    {
     "cell_type": "code",
     "collapsed": false,
     "input": [
      "sdss=SDSS()"
     ],
     "language": "python",
     "metadata": {},
     "outputs": [],
     "prompt_number": 3
    },
    {
     "cell_type": "code",
     "collapsed": false,
     "input": [
      "SkyServer()"
     ],
     "language": "python",
     "metadata": {},
     "outputs": [
      {
       "metadata": {},
       "output_type": "pyout",
       "prompt_number": 4,
       "text": [
        "<skyserver.SkyServer at 0x11078c350>"
       ]
      }
     ],
     "prompt_number": 4
    },
    {
     "cell_type": "code",
     "collapsed": false,
     "input": [
      "# a= skyserver()\n",
      "print(sdss.name)\n",
      "print (type(sdss.data_server))\n",
      "# print (sdss.data_server.test())\n",
      "a=sdss.data_server"
     ],
     "language": "python",
     "metadata": {},
     "outputs": [
      {
       "output_type": "stream",
       "stream": "stdout",
       "text": [
        "SDSS\n",
        "<class 'skyserver.SkyServer'>\n"
       ]
      }
     ],
     "prompt_number": 5
    },
    {
     "cell_type": "markdown",
     "metadata": {},
     "source": [
      "Note: Remember To do return instead of doing an assignment to Instance Attribute\n",
      "\n",
      "\n",
      "self.data_server=MAST()"
     ]
    },
    {
     "cell_type": "code",
     "collapsed": false,
     "input": [
      "a.query(\"SELECT distinct rc3.pgc,rc3.ra,rc3.dec FROM PhotoObj as po JOIN RC3 as rc3 ON rc3.objid = po.objid  WHERE  po.dec between 14.98 and  15\")"
     ],
     "language": "python",
     "metadata": {},
     "outputs": [
      {
       "metadata": {},
       "output_type": "pyout",
       "prompt_number": 6,
       "text": [
        "[['PGC 36344', '175.5775', '14.994722'],\n",
        " ['PGC 41061', '187.18025', '14.9995'],\n",
        " ['PGC  4705', '19.690846', '14.993144']]"
       ]
      }
     ],
     "prompt_number": 6
    },
    {
     "cell_type": "code",
     "collapsed": false,
     "input": [
      "a.query(\"SELECT distinct run,camcol,field FROM PhotoObj WHERE  CLEAN =1 and ra between 1 and  1.00001\")"
     ],
     "language": "python",
     "metadata": {},
     "outputs": [
      {
       "metadata": {},
       "output_type": "pyout",
       "prompt_number": 7,
       "text": [
        "[['4135', '4', '292'],\n",
        " ['5598', '6', '122'],\n",
        " ['7912', '5', '163'],\n",
        " ['7923', '4', '188'],\n",
        " ['8100', '1', '326'],\n",
        " ['8116', '4', '236']]"
       ]
      }
     ],
     "prompt_number": 7
    },
    {
     "cell_type": "code",
     "collapsed": false,
     "input": [
      "a.otherRC3(175,15,2*0.5)"
     ],
     "language": "python",
     "metadata": {},
     "outputs": [
      {
       "metadata": {},
       "output_type": "pyout",
       "prompt_number": 8,
       "text": [
        "[['PGC 36197', '175.056292', '15.342361'],\n",
        " ['PGC 35952', '174.257917', '15.570611'],\n",
        " ['PGC 36193', '175.039083', '15.327306'],\n",
        " ['PGC 36344', '175.5775', '14.994722'],\n",
        " ['PGC 36295', '175.461', '15.97375'],\n",
        " ['PGC 35966', '174.306292', '15.432556'],\n",
        " ['PGC 36294', '175.415542', '15.965722']]"
       ]
      }
     ],
     "prompt_number": 8
    },
    {
     "cell_type": "code",
     "collapsed": false,
     "input": [
      "a.runCamcolFieldConverter(175,15,3*0.01)"
     ],
     "language": "python",
     "metadata": {},
     "outputs": [
      {
       "metadata": {},
       "output_type": "pyout",
       "prompt_number": 9,
       "text": [
        "[['3631', '4', '387'],\n",
        " ['4344', '4', '238'],\n",
        " ['4381', '4', '30'],\n",
        " ['4381', '4', '31']]"
       ]
      }
     ],
     "prompt_number": 9
    },
    {
     "cell_type": "code",
     "collapsed": false,
     "input": [
      "a.runCamcolFieldConverter(175,15,3*0.01,need_clean=True)"
     ],
     "language": "python",
     "metadata": {},
     "outputs": [
      {
       "metadata": {},
       "output_type": "pyout",
       "prompt_number": 10,
       "text": [
        "[['3631', '4', '387'],\n",
        " ['4344', '4', '238'],\n",
        " ['4381', '4', '30'],\n",
        " ['4381', '4', '31']]"
       ]
      }
     ],
     "prompt_number": 10
    },
    {
     "cell_type": "code",
     "collapsed": false,
     "input": [
      "a.getData('r',4135,4,292)"
     ],
     "language": "python",
     "metadata": {},
     "outputs": [],
     "prompt_number": 11
    },
    {
     "cell_type": "markdown",
     "metadata": {},
     "source": [
      "Note: If you Run Python using the flag -B (ex. python -B server.py ) then no bytecode file (.pyc) will be produced"
     ]
    },
    {
     "cell_type": "code",
     "collapsed": false,
     "input": [
      "str(a)"
     ],
     "language": "python",
     "metadata": {},
     "outputs": [
      {
       "metadata": {},
       "output_type": "pyout",
       "prompt_number": 12,
       "text": [
        "'The SkyServer Server Object'"
       ]
      }
     ],
     "prompt_number": 12
    },
    {
     "cell_type": "code",
     "collapsed": false,
     "input": [
      "from rc3Catalog import RC3Catalog\n",
      "from rc3 import RC3"
     ],
     "language": "python",
     "metadata": {},
     "outputs": [],
     "prompt_number": 13
    },
    {
     "cell_type": "code",
     "collapsed": false,
     "input": [
      "rc3cat = RC3Catalog()"
     ],
     "language": "python",
     "metadata": {},
     "outputs": [],
     "prompt_number": 14
    },
    {
     "cell_type": "code",
     "collapsed": false,
     "input": [
      "# rc3cat.allObj #Prints all rc3 object inside the catalog"
     ],
     "language": "python",
     "metadata": {},
     "outputs": [],
     "prompt_number": 15
    },
    {
     "cell_type": "code",
     "collapsed": false,
     "input": [
      "rc3cat = RC3Catalog()\n",
      "sloan = SDSS()\n",
      "rc3cat.mosaicAll(sloan)"
     ],
     "language": "python",
     "metadata": {},
     "outputs": [
      {
       "output_type": "stream",
       "stream": "stdout",
       "text": [
        "------------------mosaic_band----------------------\n",
        "Querying data that lies inside margin\n",
        "[]"
       ]
      },
      {
       "output_type": "stream",
       "stream": "stdout",
       "text": [
        "\n",
        "[]\n",
        "The given ra, dec of this galaxy does not lie in the SDSS footprint. Onto the next galaxy!\n",
        "------------------mosaic_band----------------------\n",
        "Querying data that lies inside margin\n",
        "[['8100', '6', '320']]"
       ]
      },
      {
       "output_type": "stream",
       "stream": "stdout",
       "text": [
        "\n",
        "[['8100', '6', '320']]\n",
        "Complete Query. These data lies within margin: \n",
        "[['8100', '6', '320']]\n",
        "Retrieving data from SDSS SAS server for rband\n",
        "Creating mosaic for r band."
       ]
      },
      {
       "output_type": "stream",
       "stream": "stdout",
       "text": [
        "\n",
        "Only one field in region of interest\n",
        "Completed Mosaic"
       ]
      },
      {
       "output_type": "stream",
       "stream": "stdout",
       "text": [
        "\n",
        "1th iteration\n",
        "------------------source_info----------------------\n",
        "Source info for SDSS_r_0.03625_-6.37472222222.fits\n",
        "[['PGC    12', '0.036', '-6.374']]"
       ]
      },
      {
       "output_type": "stream",
       "stream": "stdout",
       "text": [
        "\n",
        "ra,dec of catalog sources\n",
        "rc3_data: [array(['PGC    12', '0.036', '-6.374'], \n",
        "      dtype='|S9')]\n",
        "[]\n",
        "Radius: [8.0622577482985491, 4.9497474683058327, 1.8027756377319946, 3.0413812651491097, 3.2015621187164243, 3.6055512754639891, 2.9154759474226504, 6.3639610306789276, 2.5, 7.433034373659253, 7.0710678118654755, 3.6055512754639891, 1.1180339887498949, 3.2015621187164243, 2.9154759474226504, 3.2015621187164243, 1.4142135623730951, 3.6055512754639891, 3.5355339059327378, 1.4142135623730951, 3.2015621187164243, 4.2426406871192848, 3.905124837953327, 3.905124837953327, 10.124228365658293, 5.315072906367325, 10.259142264341596, 2.8284271247461903, 2.8284271247461903, 13.435028842544403, 3.905124837953327, 3.2015621187164243, 6.4031242374328485, 1.1180339887498949, 2.8284271247461903, 10.259142264341596, 2.5, 2.8284271247461903, 2.2360679774997898, 2.1213203435596424, 4.9497474683058327, 7.1589105316381767, 2.1213203435596424, 3.5355339059327378, 1.1180339887498949, 1.8027756377319946, 1.4142135623730951, 1.4142135623730951, 2.8284271247461903, 2.8284271247461903, 2.8284271247461903]\n",
        "SExtract_dict: {2.5: array([ 0.0534375, -6.4044586]), 7.0710678118654755: array([ 0.0137669, -6.365382 ]), 6.4031242374328485: array([ 0.0434314, -6.3920242]), 3.6055512754639891: array([ 0.0216325, -6.398324 ]), 2.2360679774997898: array([ 0.0584631, -6.3669645]), 1.4142135623730951: array([ 0.0728447, -6.3718383]), 2.8284271247461903: array([  9.07400000e-04,  -6.38054090e+00]), 13.435028842544403: array([ 0.04156  , -6.3684676]), 10.259142264341596: array([ 0.0494544, -6.3939623]), 4.2426406871192848: array([ 0.030846 , -6.3422456]), 2.9154759474226504: array([ 0.0204367, -6.3415649]), 7.1589105316381767: array([ 0.0624922, -6.3635266]), 3.5355339059327378: array([ 0.0647343, -6.3446339]), 3.0413812651491097: array([ 0.0753228, -6.3631977]), 6.3639610306789276: array([  4.31640000e-03,  -6.36612870e+00]), 3.905124837953327: array([ 0.0409229, -6.360963 ]), 5.315072906367325: array([ 0.0350247, -6.4089259]), 3.2015621187164243: array([ 0.0420561, -6.3652152]), 4.9497474683058327: array([ 0.0605134, -6.3798806]), 1.8027756377319946: array([ 0.069901, -6.389159]), 2.1213203435596424: array([ 0.0636405, -6.3668505]), 1.1180339887498949: array([ 0.0671778, -6.3635609]), 10.124228365658293: array([ 0.0333822, -6.3991134]), 7.433034373659253: array([ 0.0085678, -6.3992543]), 8.0622577482985491: array([ 0.0714206, -6.3605256])}\n",
        "Source is Obvious\n",
        "Biggest Galaxy with radius 13.4350288425 pixels!\n",
        "new_ra and new_dec: 0.0415600 , -6.3684676  \n",
        "No detected RC3 sources in image. Mosaic using a larger margin\n",
        "------------------mosaic_band----------------------\n",
        "Querying data that lies inside margin\n",
        "[['8095', '6', '300'], ['8100', '6', '320']]"
       ]
      },
      {
       "output_type": "stream",
       "stream": "stdout",
       "text": [
        "\n",
        "[['8095', '6', '300'], ['8100', '6', '320']]\n",
        "Complete Query. These data lies within margin: \n",
        "[['8095', '6', '300'], ['8100', '6', '320']]\n",
        "Retrieving data from SDSS SAS server for rband\n",
        "Creating mosaic for r band."
       ]
      },
      {
       "output_type": "stream",
       "stream": "stdout",
       "text": [
        "\n",
        "Reprojecting images"
       ]
      },
      {
       "output_type": "stream",
       "stream": "stdout",
       "text": [
        "\n",
        "Completed Mosaic for r"
       ]
      },
      {
       "output_type": "stream",
       "stream": "stdout",
       "text": [
        "\n",
        "Completed Mosaic\n",
        "2th iteration\n",
        "------------------source_info----------------------\n",
        "Source info for SDSS_r_0.03625_-6.37472222222.fits\n",
        "[['PGC    12', '0.036', '-6.374']]"
       ]
      },
      {
       "output_type": "stream",
       "stream": "stdout",
       "text": [
        "\n",
        "ra,dec of catalog sources\n",
        "rc3_data: [array(['PGC    12', '0.036', '-6.374'], \n",
        "      dtype='|S9')]\n",
        "[]\n",
        "Radius: [1.8027756377319946, 2.1213203435596424, 1.5811388300841898, 2.1213203435596424, 3.2015621187164243, 1.8027756377319946, 2.1213203435596424, 2.8284271247461903, 2.1213203435596424, 4.0311288741492746, 1.1180339887498949, 4.7169905660283016, 2.1213203435596424, 2.2360679774997898, 2.5, 6.7268120235368549, 2.5, 1.8027756377319946, 2.1213203435596424, 3.6055512754639891, 1.8027756377319946, 2.5, 7.3824115301167001, 4.9497474683058327, 3.2015621187164243, 2.8284271247461903, 2.1213203435596424, 3.5355339059327378]\n",
        "SExtract_dict: {2.5: array([ 0.0232479, -6.3872598]), 3.5355339059327378: array([ 0.0085686, -6.3992521]), 6.7268120235368549: array([ 0.0415569, -6.3684673]), 4.9497474683058327: array([ 0.0494533, -6.3939592]), 3.2015621187164243: array([ 0.0330739, -6.3970142]), 3.6055512754639891: array([ 0.0605059, -6.3799079]), 1.5811388300841898: array([ 0.0512807, -6.3496962]), 7.3824115301167001: array([ 0.0434359, -6.3920252]), 1.1180339887498949: array([ 0.0231459, -6.3640729]), 1.8027756377319946: array([ 0.0397084, -6.3810819]), 2.1213203435596424: array([ 0.0351829, -6.398663 ]), 2.2360679774997898: array([ 0.0584758, -6.3668059]), 4.7169905660283016: array([ 0.0137783, -6.3653786]), 2.8284271247461903: array([ 0.0216004, -6.3984051]), 4.0311288741492746: array([ 0.0624461, -6.3635098])}\n",
        "Source is Obvious\n",
        "Biggest Galaxy with radius 7.38241153012 pixels!\n",
        "new_ra and new_dec: 0.0434359 , -6.3920252  \n",
        "No detected RC3 sources in image. Mosaic using a larger margin\n",
        "------------------mosaic_band----------------------\n",
        "Querying data that lies inside margin\n",
        "[['8095', '6', '301'], ['8095', '6', '300'], ['8100', '6', '320']]"
       ]
      },
      {
       "output_type": "stream",
       "stream": "stdout",
       "text": [
        "\n",
        "[['8095', '6', '300'], ['8095', '6', '301'], ['8100', '6', '320']]\n",
        "Complete Query. These data lies within margin: \n",
        "[['8095', '6', '301'], ['8095', '6', '300'], ['8100', '6', '320']]\n",
        "Retrieving data from SDSS SAS server for rband\n",
        "Creating mosaic for r band."
       ]
      },
      {
       "output_type": "stream",
       "stream": "stdout",
       "text": [
        "\n",
        "Reprojecting images"
       ]
      },
      {
       "output_type": "stream",
       "stream": "stdout",
       "text": [
        "\n",
        "Completed Mosaic for r"
       ]
      },
      {
       "output_type": "stream",
       "stream": "stdout",
       "text": [
        "\n",
        "Completed Mosaic\n",
        "3th iteration\n",
        "------------------mosaic_band----------------------\n",
        "Querying data that lies inside margin\n",
        "[['6361', '4', '13'], ['6361', '4', '14'], ['6371', '4', '153'], ['7778', '3', '317']]"
       ]
      }
     ]
    },
    {
     "cell_type": "code",
     "collapsed": false,
     "input": [
      "cd ../bulk_run/"
     ],
     "language": "python",
     "metadata": {},
     "outputs": [
      {
       "output_type": "stream",
       "stream": "stdout",
       "text": [
        "/Users/dorislee/Desktop/GSoC2014/workarea-rc3-project/bulk_run\n"
       ]
      }
     ],
     "prompt_number": 1
    },
    {
     "cell_type": "code",
     "collapsed": false,
     "input": [
      "from sdss import SDSS\n",
      "from rc3 import RC3"
     ],
     "language": "python",
     "metadata": {},
     "outputs": [],
     "prompt_number": 4
    },
    {
     "cell_type": "code",
     "collapsed": false,
     "input": [
      "sdss=SDSS()"
     ],
     "language": "python",
     "metadata": {},
     "outputs": [],
     "prompt_number": 5
    },
    {
     "cell_type": "code",
     "collapsed": false,
     "input": [
      "source_confusion_example_obj = RC3(0.184583333333,28.4013888889,0.0132388039385,58)   "
     ],
     "language": "python",
     "metadata": {},
     "outputs": [],
     "prompt_number": 8
    },
    {
     "cell_type": "code",
     "collapsed": false,
     "input": [
      "# mosaic_all_bands does not do source confusion checkup, only source_info does source ocnfusion check\n",
      "source_confusion_example_obj.mosaic_all_bands(0.184583333333,28.4013888889,3*0.0132388039385,0.0132388039385,58,sdss)"
     ],
     "language": "python",
     "metadata": {},
     "outputs": [
      {
       "output_type": "stream",
       "stream": "stdout",
       "text": [
        "------------------mosaic_all_bands----------------------\n"
       ]
      },
      {
       "ename": "OSError",
       "evalue": "[Errno 17] File exists: '0.184583333333,28.4013888889'",
       "output_type": "pyerr",
       "traceback": [
        "\u001b[0;31m---------------------------------------------------------------------------\u001b[0m\n\u001b[0;31mOSError\u001b[0m                                   Traceback (most recent call last)",
        "\u001b[0;32m<ipython-input-12-f98a032f2bf5>\u001b[0m in \u001b[0;36m<module>\u001b[0;34m()\u001b[0m\n\u001b[1;32m      1\u001b[0m \u001b[0;31m# mosaic_all_bands does not do source confusion checkup, only source_info does source ocnfusion check\u001b[0m\u001b[0;34m\u001b[0m\u001b[0;34m\u001b[0m\u001b[0m\n\u001b[0;32m----> 2\u001b[0;31m \u001b[0msource_confusion_example_obj\u001b[0m\u001b[0;34m.\u001b[0m\u001b[0mmosaic_all_bands\u001b[0m\u001b[0;34m(\u001b[0m\u001b[0;36m0.184583333333\u001b[0m\u001b[0;34m,\u001b[0m\u001b[0;36m28.4013888889\u001b[0m\u001b[0;34m,\u001b[0m\u001b[0;36m3\u001b[0m\u001b[0;34m*\u001b[0m\u001b[0;36m0.0132388039385\u001b[0m\u001b[0;34m,\u001b[0m\u001b[0;36m0.0132388039385\u001b[0m\u001b[0;34m,\u001b[0m\u001b[0;36m58\u001b[0m\u001b[0;34m,\u001b[0m\u001b[0msdss\u001b[0m\u001b[0;34m)\u001b[0m\u001b[0;34m\u001b[0m\u001b[0m\n\u001b[0m",
        "\u001b[0;32m/Users/dorislee/Desktop/GSoC2014/workarea-rc3-project/bulk_run/rc3.py\u001b[0m in \u001b[0;36mmosaic_all_bands\u001b[0;34m(self, ra, dec, margin, radius, pgc, survey)\u001b[0m\n\u001b[1;32m    364\u001b[0m         \u001b[0;32mprint\u001b[0m \u001b[0;34m(\u001b[0m\u001b[0;34m\"------------------mosaic_all_bands----------------------\"\u001b[0m\u001b[0;34m)\u001b[0m\u001b[0;34m\u001b[0m\u001b[0m\n\u001b[1;32m    365\u001b[0m         \u001b[0mfilename\u001b[0m \u001b[0;34m=\u001b[0m \u001b[0;34m\"{},{}\"\u001b[0m\u001b[0;34m.\u001b[0m\u001b[0mformat\u001b[0m\u001b[0;34m(\u001b[0m\u001b[0mstr\u001b[0m\u001b[0;34m(\u001b[0m\u001b[0mra\u001b[0m\u001b[0;34m)\u001b[0m\u001b[0;34m,\u001b[0m\u001b[0mstr\u001b[0m\u001b[0;34m(\u001b[0m\u001b[0mdec\u001b[0m\u001b[0;34m)\u001b[0m\u001b[0;34m)\u001b[0m\u001b[0;34m\u001b[0m\u001b[0m\n\u001b[0;32m--> 366\u001b[0;31m         \u001b[0mos\u001b[0m\u001b[0;34m.\u001b[0m\u001b[0mmkdir\u001b[0m\u001b[0;34m(\u001b[0m\u001b[0mfilename\u001b[0m\u001b[0;34m)\u001b[0m\u001b[0;34m\u001b[0m\u001b[0m\n\u001b[0m\u001b[1;32m    367\u001b[0m         \u001b[0mos\u001b[0m\u001b[0;34m.\u001b[0m\u001b[0mchdir\u001b[0m\u001b[0;34m(\u001b[0m\u001b[0mfilename\u001b[0m\u001b[0;34m)\u001b[0m\u001b[0;34m\u001b[0m\u001b[0m\n\u001b[1;32m    368\u001b[0m         \u001b[0mbands\u001b[0m \u001b[0;34m=\u001b[0m\u001b[0;34m[\u001b[0m\u001b[0;34m'u'\u001b[0m\u001b[0;34m,\u001b[0m\u001b[0;34m'g'\u001b[0m\u001b[0;34m,\u001b[0m\u001b[0;34m'r'\u001b[0m\u001b[0;34m,\u001b[0m\u001b[0;34m'i'\u001b[0m\u001b[0;34m,\u001b[0m\u001b[0;34m'z'\u001b[0m\u001b[0;34m]\u001b[0m\u001b[0;34m\u001b[0m\u001b[0m\n",
        "\u001b[0;31mOSError\u001b[0m: [Errno 17] File exists: '0.184583333333,28.4013888889'"
       ]
      }
     ],
     "prompt_number": 12
    },
    {
     "cell_type": "code",
     "collapsed": false,
     "input": [
      "from rc3Catalog import RC3Catalog \n",
      "rc3cat = RC3Catalog()\n",
      "sloan = SDSS()\n",
      "rc3cat.mosaicAll(sloan)"
     ],
     "language": "python",
     "metadata": {},
     "outputs": [
      {
       "output_type": "stream",
       "stream": "stdout",
       "text": [
        "------------------mosaic_band----------------------\n",
        "Querying data that lies inside margin\n",
        "[]"
       ]
      },
      {
       "output_type": "stream",
       "stream": "stdout",
       "text": [
        "\n",
        "[]\n",
        "The given ra, dec of this galaxy does not lie in the survey footprint. Onto the next galaxy!\n",
        "------------------mosaic_band----------------------\n",
        "Querying data that lies inside margin\n",
        "[['8100', '6', '320']]"
       ]
      },
      {
       "output_type": "stream",
       "stream": "stdout",
       "text": [
        "\n",
        "[['8100', '6', '320']]\n",
        "Complete Query. These data lies within margin: \n",
        "[['8100', '6', '320']]\n",
        "Retrieving data from server for rband\n",
        "Creating mosaic for r band."
       ]
      },
      {
       "output_type": "stream",
       "stream": "stdout",
       "text": [
        "\n",
        "Only one field in region of interest\n",
        "Completed Mosaic"
       ]
      },
      {
       "output_type": "stream",
       "stream": "stdout",
       "text": [
        "\n",
        "1th iteration\n",
        "------------------source_info----------------------\n",
        "Source info for SDSS_r_0.03625_-6.37472222222.fits\n",
        "[['PGC    12', '0.036', '-6.374']]"
       ]
      },
      {
       "output_type": "stream",
       "stream": "stdout",
       "text": [
        "\n",
        "ra,dec of catalog sources\n",
        "rc3_data: [array(['PGC    12', '0.036', '-6.374'], \n",
        "      dtype='|S9')]\n",
        "[]\n",
        "Radius: [8.0622577482985491, 4.9497474683058327, 1.8027756377319946, 3.0413812651491097, 3.2015621187164243, 3.6055512754639891, 2.9154759474226504, 6.3639610306789276, 2.5, 7.433034373659253, 7.0710678118654755, 3.6055512754639891, 1.1180339887498949, 3.2015621187164243, 2.9154759474226504, 3.2015621187164243, 1.4142135623730951, 3.6055512754639891, 3.5355339059327378, 1.4142135623730951, 3.2015621187164243, 4.2426406871192848, 3.905124837953327, 3.905124837953327, 10.124228365658293, 5.315072906367325, 10.259142264341596, 2.8284271247461903, 2.8284271247461903, 13.435028842544403, 3.905124837953327, 3.2015621187164243, 6.4031242374328485, 1.1180339887498949, 2.8284271247461903, 10.259142264341596, 2.5, 2.8284271247461903, 2.2360679774997898, 2.1213203435596424, 4.9497474683058327, 7.1589105316381767, 2.1213203435596424, 3.5355339059327378, 1.1180339887498949, 1.8027756377319946, 1.4142135623730951, 1.4142135623730951, 2.8284271247461903, 2.8284271247461903, 2.8284271247461903]\n",
        "SExtract_dict: {2.5: array([ 0.0534375, -6.4044586]), 7.0710678118654755: array([ 0.0137669, -6.365382 ]), 6.4031242374328485: array([ 0.0434314, -6.3920242]), 3.6055512754639891: array([ 0.0216325, -6.398324 ]), 2.2360679774997898: array([ 0.0584631, -6.3669645]), 1.4142135623730951: array([ 0.0728447, -6.3718383]), 2.8284271247461903: array([  9.07400000e-04,  -6.38054090e+00]), 13.435028842544403: array([ 0.04156  , -6.3684676]), 10.259142264341596: array([ 0.0494544, -6.3939623]), 4.2426406871192848: array([ 0.030846 , -6.3422456]), 2.9154759474226504: array([ 0.0204367, -6.3415649]), 7.1589105316381767: array([ 0.0624922, -6.3635266]), 3.5355339059327378: array([ 0.0647343, -6.3446339]), 3.0413812651491097: array([ 0.0753228, -6.3631977]), 6.3639610306789276: array([  4.31640000e-03,  -6.36612870e+00]), 3.905124837953327: array([ 0.0409229, -6.360963 ]), 5.315072906367325: array([ 0.0350247, -6.4089259]), 3.2015621187164243: array([ 0.0420561, -6.3652152]), 4.9497474683058327: array([ 0.0605134, -6.3798806]), 1.8027756377319946: array([ 0.069901, -6.389159]), 2.1213203435596424: array([ 0.0636405, -6.3668505]), 1.1180339887498949: array([ 0.0671778, -6.3635609]), 10.124228365658293: array([ 0.0333822, -6.3991134]), 7.433034373659253: array([ 0.0085678, -6.3992543]), 8.0622577482985491: array([ 0.0714206, -6.3605256])}\n",
        "Source is Obvious\n",
        "Biggest Galaxy with radius 13.4350288425 pixels!\n",
        "new_ra and new_dec: 0.0415600 , -6.3684676  \n",
        "No detected RC3 sources in image. Mosaic using a larger margin\n",
        "------------------mosaic_band----------------------\n",
        "Querying data that lies inside margin\n",
        "[['8095', '6', '300'], ['8100', '6', '320']]"
       ]
      },
      {
       "output_type": "stream",
       "stream": "stdout",
       "text": [
        "\n",
        "[['8095', '6', '300'], ['8100', '6', '320']]\n",
        "Complete Query. These data lies within margin: \n",
        "[['8095', '6', '300'], ['8100', '6', '320']]\n",
        "Retrieving data from server for rband\n",
        "Creating mosaic for r band."
       ]
      },
      {
       "output_type": "stream",
       "stream": "stdout",
       "text": [
        "\n",
        "Reprojecting images"
       ]
      },
      {
       "output_type": "stream",
       "stream": "stdout",
       "text": [
        "\n",
        "Completed Mosaic for r"
       ]
      },
      {
       "output_type": "stream",
       "stream": "stdout",
       "text": [
        "\n",
        "Completed Mosaic\n",
        "2th iteration\n",
        "------------------source_info----------------------\n",
        "Source info for SDSS_r_0.03625_-6.37472222222.fits\n",
        "[['PGC    12', '0.036', '-6.374']]"
       ]
      },
      {
       "output_type": "stream",
       "stream": "stdout",
       "text": [
        "\n",
        "ra,dec of catalog sources\n",
        "rc3_data: [array(['PGC    12', '0.036', '-6.374'], \n",
        "      dtype='|S9')]\n",
        "[]\n",
        "Radius: [1.8027756377319946, 2.1213203435596424, 1.5811388300841898, 2.1213203435596424, 3.2015621187164243, 1.8027756377319946, 2.1213203435596424, 2.8284271247461903, 2.1213203435596424, 4.0311288741492746, 1.1180339887498949, 4.7169905660283016, 2.1213203435596424, 2.2360679774997898, 2.5, 6.7268120235368549, 2.5, 1.8027756377319946, 2.1213203435596424, 3.6055512754639891, 1.8027756377319946, 2.5, 7.3824115301167001, 4.9497474683058327, 3.2015621187164243, 2.8284271247461903, 2.1213203435596424, 3.5355339059327378]\n",
        "SExtract_dict: {2.5: array([ 0.0232479, -6.3872598]), 3.5355339059327378: array([ 0.0085686, -6.3992521]), 6.7268120235368549: array([ 0.0415569, -6.3684673]), 4.9497474683058327: array([ 0.0494533, -6.3939592]), 3.2015621187164243: array([ 0.0330739, -6.3970142]), 3.6055512754639891: array([ 0.0605059, -6.3799079]), 1.5811388300841898: array([ 0.0512807, -6.3496962]), 7.3824115301167001: array([ 0.0434359, -6.3920252]), 1.1180339887498949: array([ 0.0231459, -6.3640729]), 1.8027756377319946: array([ 0.0397084, -6.3810819]), 2.1213203435596424: array([ 0.0351829, -6.398663 ]), 2.2360679774997898: array([ 0.0584758, -6.3668059]), 4.7169905660283016: array([ 0.0137783, -6.3653786]), 2.8284271247461903: array([ 0.0216004, -6.3984051]), 4.0311288741492746: array([ 0.0624461, -6.3635098])}\n",
        "Source is Obvious\n",
        "Biggest Galaxy with radius 7.38241153012 pixels!\n",
        "new_ra and new_dec: 0.0434359 , -6.3920252  \n",
        "No detected RC3 sources in image. Mosaic using a larger margin\n",
        "------------------mosaic_band----------------------\n",
        "Querying data that lies inside margin\n",
        "[['8095', '6', '301'], ['8100', '6', '320'], ['8095', '6', '300']]"
       ]
      },
      {
       "output_type": "stream",
       "stream": "stdout",
       "text": [
        "\n",
        "[['8095', '6', '300'], ['8095', '6', '301'], ['8100', '6', '320']]\n",
        "Complete Query. These data lies within margin: \n",
        "[['8095', '6', '301'], ['8100', '6', '320'], ['8095', '6', '300']]\n",
        "Retrieving data from server for rband\n",
        "Creating mosaic for r band."
       ]
      },
      {
       "output_type": "stream",
       "stream": "stdout",
       "text": [
        "\n",
        "Reprojecting images"
       ]
      },
      {
       "output_type": "stream",
       "stream": "stdout",
       "text": [
        "\n",
        "Completed Mosaic for r"
       ]
      },
      {
       "output_type": "stream",
       "stream": "stdout",
       "text": [
        "\n",
        "Completed Mosaic\n",
        "3th iteration\n",
        "------------------mosaic_band----------------------\n",
        "Querying data that lies inside margin\n",
        "[['6361', '4', '13'], ['6361', '4', '14'], ['6371', '4', '153'], ['7778', '3', '317']]"
       ]
      },
      {
       "output_type": "stream",
       "stream": "stdout",
       "text": [
        "\n",
        "[['6361', '4', '13'], ['6361', '4', '14']]\n",
        "Complete Query. These data lies within margin: \n",
        "[['6361', '4', '13'], ['6361', '4', '14'], ['6371', '4', '153'], ['7778', '3', '317']]\n",
        "Retrieving data from server for rband\n",
        "Creating mosaic for r band."
       ]
      },
      {
       "output_type": "stream",
       "stream": "stdout",
       "text": [
        "\n",
        "Reprojecting images"
       ]
      },
      {
       "output_type": "stream",
       "stream": "stdout",
       "text": [
        "\n",
        "Completed Mosaic for r"
       ]
      },
      {
       "output_type": "stream",
       "stream": "stdout",
       "text": [
        "\n",
        "Completed Mosaic\n",
        "1th iteration\n",
        "------------------source_info----------------------\n",
        "Source info for SDSS_r_0.08875_-2.61055555556.fits\n",
        "[['PGC    23', '0.089583', '-2.612056']]"
       ]
      },
      {
       "output_type": "stream",
       "stream": "stdout",
       "text": [
        "\n",
        "ra,dec of catalog sources\n",
        "rc3_data: [array(['PGC    23', '0.089583', '-2.612056'], \n",
        "      dtype='|S9')]\n",
        "[]\n",
        "Radius: [70.044628630609495, 5.7008771254956896, 3.3541019662496847, 9.2195444572928871, 1.4142135623730951, 2.5, 2.5, 2.2360679774997898, 3.2015621187164243]\n",
        "SExtract_dict: {2.5: array([ 0.0745787, -2.6065316]), 3.3541019662496847: array([ 0.0985166, -2.623256 ]), 9.2195444572928871: array([ 0.0827664, -2.6076089]), 70.044628630609495: array([ 0.0893376, -2.612067 ]), 3.2015621187164243: array([ 0.1036765, -2.5997019]), 5.7008771254956896: array([ 0.103798 , -2.6236216]), 2.2360679774997898: array([ 0.085777 , -2.6219647]), 1.4142135623730951: array([ 0.097051 , -2.5988446])}\n",
        "Source is Obvious\n",
        "Biggest Galaxy with radius 70.0446286306 pixels!\n",
        "new_ra and new_dec: 0.0893376 , -2.6120670  \n",
        "Radii: 70.0446286306 pixel\n",
        "Radii: 0.00770186228283 degrees\n",
        "rc3: 0.08875 , updated: 0.0893376 \n",
        "rc3: -2.61055555556 , updated: -2.6120670 \n",
        "rc3: 0.0102522397773 , updated: 0.00770186228283 \n",
        "------------------mosaic_all_bands----------------------\n",
        "------------------mosaic_band----------------------\n",
        "Querying data that lies inside margin\n",
        "[['6361', '4', '13'], ['6361', '4', '14'], ['6371', '4', '153'], ['7778', '3', '317']]"
       ]
      },
      {
       "output_type": "stream",
       "stream": "stdout",
       "text": [
        "\n",
        "[['6361', '4', '13'], ['6361', '4', '14']]\n",
        "Data contain unclean images\n",
        "Complete Query. These data lies within margin: \n",
        "[['6361', '4', '13'], ['6361', '4', '14'], ['6371', '4', '153'], ['7778', '3', '317']]\n",
        "Retrieving data from server for uband\n",
        "Creating mosaic for u band."
       ]
      },
      {
       "output_type": "stream",
       "stream": "stdout",
       "text": [
        "\n",
        "Reprojecting images"
       ]
      },
      {
       "output_type": "stream",
       "stream": "stdout",
       "text": [
        "\n",
        "Completed Mosaic for u"
       ]
      },
      {
       "output_type": "stream",
       "stream": "stdout",
       "text": [
        "\n",
        "Completed Mosaic\n",
        "------------------mosaic_band----------------------\n",
        "Querying data that lies inside margin\n",
        "[['6361', '4', '13'], ['6361', '4', '14'], ['6371', '4', '153'], ['7778', '3', '317']]"
       ]
      },
      {
       "output_type": "stream",
       "stream": "stdout",
       "text": [
        "\n",
        "[['6361', '4', '13'], ['6361', '4', '14']]\n",
        "Complete Query. These data lies within margin: \n",
        "[['6361', '4', '13'], ['6361', '4', '14'], ['6371', '4', '153'], ['7778', '3', '317']]\n",
        "Retrieving data from server for gband\n",
        "Creating mosaic for g band."
       ]
      },
      {
       "output_type": "stream",
       "stream": "stdout",
       "text": [
        "\n",
        "Reprojecting images"
       ]
      },
      {
       "output_type": "stream",
       "stream": "stdout",
       "text": [
        "\n",
        "Completed Mosaic for g"
       ]
      },
      {
       "output_type": "stream",
       "stream": "stdout",
       "text": [
        "\n",
        "Completed Mosaic\n",
        "------------------mosaic_band----------------------\n",
        "Querying data that lies inside margin\n",
        "[['6361', '4', '13'], ['6361', '4', '14'], ['6371', '4', '153'], ['7778', '3', '317']]"
       ]
      }
     ]
    },
    {
     "cell_type": "code",
     "collapsed": false,
     "input": [
      "Doing a test run in bulk_run/ \n",
      "cp -r bulk_run/ bulk_run_clean/\n",
      "PATH=/usr/bin/:/data/small/des/montage/montage/Montage_v3.3/bin/:/bin:/usr/local/bin/ \n",
      "#Writing \n",
      "nohup python bulk_run.py > /dev/null &"
     ],
     "language": "python",
     "metadata": {},
     "outputs": []
    },
    {
     "cell_type": "code",
     "collapsed": false,
     "input": [
      "other_rc3s=[['PGC    54', '0.158083', '28.384556'], ['PGC    58', '0.183333', '28.401444']]"
     ],
     "language": "python",
     "metadata": {},
     "outputs": [],
     "prompt_number": 14
    },
    {
     "cell_type": "code",
     "collapsed": false,
     "input": [
      "other_rc3s=[['PGC    54', '0.158083', '28.384556'], ['PGC    58', '0.183333', '28.401444']]\n",
      "other_rc3s=[i[1:] for i in other_rc3s]\n",
      "other_rc3s"
     ],
     "language": "python",
     "metadata": {},
     "outputs": [
      {
       "metadata": {},
       "output_type": "pyout",
       "prompt_number": 25,
       "text": [
        "[['0.158083', '28.384556'], ['0.183333', '28.401444']]"
       ]
      }
     ],
     "prompt_number": 25
    },
    {
     "cell_type": "code",
     "collapsed": false,
     "input": [
      "other_rc3s = [map(float,i) for i in other_rc3s]\n",
      "other_rc3s"
     ],
     "language": "python",
     "metadata": {},
     "outputs": [
      {
       "metadata": {},
       "output_type": "pyout",
       "prompt_number": 26,
       "text": [
        "[[0.158083, 28.384556], [0.183333, 28.401444]]"
       ]
      }
     ],
     "prompt_number": 26
    },
    {
     "cell_type": "code",
     "collapsed": false,
     "input": [
      "other_rc3s_info=[['PGC    54', '0.158083', '28.384556'], ['PGC    58', '0.183333', '28.401444']]\n",
      "                        info ={}\n",
      "                        count =0\n",
      "                        for i in other_rc3s_info:\n",
      "                            # list =i.split(',')\n",
      "                            pgc = int(i[0][6:])\n",
      "                            ra= float(i[1][:-1])\n",
      "                            dec= float(i[2][:-1])\n",
      "                            info[pgc]= [ra,dec]\n",
      "                        print (info)"
     ],
     "language": "python",
     "metadata": {},
     "outputs": [
      {
       "output_type": "stream",
       "stream": "stdout",
       "text": [
        "{58: [0.18333, 28.40144], 54: [0.15808, 28.38455]}\n"
       ]
      }
     ],
     "prompt_number": 33
    },
    {
     "cell_type": "code",
     "collapsed": false,
     "input": [
      "Nohup Job started at 9:26 am , July 15"
     ],
     "language": "python",
     "metadata": {},
     "outputs": []
    }
   ],
   "metadata": {}
  }
 ]
}