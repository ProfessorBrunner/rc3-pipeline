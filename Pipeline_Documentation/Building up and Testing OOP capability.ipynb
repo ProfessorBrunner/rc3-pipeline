{
 "metadata": {
  "name": "",
  "signature": "sha256:c693d3d4747bc186c30865f6b43b6bde548709aa6e7345d65492ae814d438869"
 },
 "nbformat": 3,
 "nbformat_minor": 0,
 "worksheets": [
  {
   "cells": [
    {
     "cell_type": "code",
     "collapsed": false,
     "input": [
      "cd ../pipeline/"
     ],
     "language": "python",
     "metadata": {},
     "outputs": [
      {
       "output_type": "stream",
       "stream": "stdout",
       "text": [
        "/Users/dorislee/Desktop/GSoC2014/workarea-rc3-project/pipeline\n"
       ]
      }
     ],
     "prompt_number": 1
    },
    {
     "cell_type": "code",
     "collapsed": false,
     "input": [
      "from survey import Survey\n",
      "from sdss import *\n",
      "from skyserver import SkyServer"
     ],
     "language": "python",
     "metadata": {},
     "outputs": [],
     "prompt_number": 2
    },
    {
     "cell_type": "code",
     "collapsed": false,
     "input": [
      "sdss=SDSS()"
     ],
     "language": "python",
     "metadata": {},
     "outputs": [],
     "prompt_number": 3
    },
    {
     "cell_type": "code",
     "collapsed": false,
     "input": [
      "SkyServer()"
     ],
     "language": "python",
     "metadata": {},
     "outputs": [
      {
       "metadata": {},
       "output_type": "pyout",
       "prompt_number": 4,
       "text": [
        "<skyserver.SkyServer at 0x11095f3d0>"
       ]
      }
     ],
     "prompt_number": 4
    },
    {
     "cell_type": "code",
     "collapsed": false,
     "input": [
      "# a= skyserver()\n",
      "print(sdss.name)\n",
      "print (type(sdss.data_server))\n",
      "# print (sdss.data_server.test())\n",
      "a=sdss.data_server"
     ],
     "language": "python",
     "metadata": {},
     "outputs": [
      {
       "output_type": "stream",
       "stream": "stdout",
       "text": [
        "SDSS\n",
        "<class 'skyserver.SkyServer'>\n"
       ]
      }
     ],
     "prompt_number": 5
    },
    {
     "cell_type": "markdown",
     "metadata": {},
     "source": [
      "Note: Remember To do return instead of doing an assignment to Instance Attribute\n",
      "\n",
      "\n",
      "self.data_server=MAST()"
     ]
    },
    {
     "cell_type": "code",
     "collapsed": false,
     "input": [
      "a.query(\"SELECT distinct rc3.pgc,rc3.ra,rc3.dec FROM PhotoObj as po JOIN RC3 as rc3 ON rc3.objid = po.objid  WHERE  po.dec between 14.98 and  15\")"
     ],
     "language": "python",
     "metadata": {},
     "outputs": [
      {
       "metadata": {},
       "output_type": "pyout",
       "prompt_number": 12,
       "text": [
        "[['PGC 36344', '175.5775', '14.994722'],\n",
        " ['PGC 41061', '187.18025', '14.9995'],\n",
        " ['PGC  4705', '19.690846', '14.993144']]"
       ]
      }
     ],
     "prompt_number": 12
    },
    {
     "cell_type": "code",
     "collapsed": false,
     "input": [
      "a.query(\"SELECT distinct run,camcol,field FROM PhotoObj WHERE  CLEAN =1 and ra between 1 and  1.00001\")"
     ],
     "language": "python",
     "metadata": {},
     "outputs": [
      {
       "metadata": {},
       "output_type": "pyout",
       "prompt_number": 7,
       "text": [
        "[['4135', '4', '292'],\n",
        " ['5598', '6', '122'],\n",
        " ['7912', '5', '163'],\n",
        " ['7923', '4', '188'],\n",
        " ['8100', '1', '326'],\n",
        " ['8116', '4', '236']]"
       ]
      }
     ],
     "prompt_number": 7
    },
    {
     "cell_type": "code",
     "collapsed": false,
     "input": [
      "a.getData('r',4135,4,292)"
     ],
     "language": "python",
     "metadata": {},
     "outputs": [],
     "prompt_number": 8
    },
    {
     "cell_type": "code",
     "collapsed": false,
     "input": [
      "ls"
     ],
     "language": "python",
     "metadata": {},
     "outputs": [
      {
       "output_type": "stream",
       "stream": "stdout",
       "text": [
        "__init__.py\r\n",
        "default.conv\r\n",
        "default.nnw\r\n",
        "default.param\r\n",
        "default.sex\r\n",
        "frame-r-004135-4-0292.fits\r\n",
        "frame-r-004135-4-0292.fits.bz2\r\n",
        "frame-r-004135-4-0292.fits.bz2.1\r\n",
        "frame-r-004135-4-0292.fits.bz2.2\r\n",
        "frame-r-004135-4-0292.fits.bz2.3\r\n",
        "frame-r-004135-4-0292.fits.bz2.4\r\n",
        "gator.py\r\n",
        "gator.pyc\r\n",
        "mast.py\r\n",
        "mast.pyc\r\n",
        "rc3.py\r\n",
        "rc3_latest_working_version.py\r\n",
        "rc3_ra_dec_diameter_pgc.txt\r\n",
        "sdss.py\r\n",
        "sdss.pyc\r\n",
        "server.py\r\n",
        "server.pyc\r\n",
        "skyserver.py\r\n",
        "skyserver.pyc\r\n",
        "sqlcl.py\r\n",
        "sqlcl.pyc\r\n",
        "survey.py\r\n",
        "survey.pyc\r\n",
        "two_mass.py\r\n"
       ]
      }
     ],
     "prompt_number": 9
    },
    {
     "cell_type": "markdown",
     "metadata": {},
     "source": [
      "Note: If you Run Python using the flag -B (ex. python -B server.py ) then no bytecode file (.pyc) will be produced"
     ]
    },
    {
     "cell_type": "code",
     "collapsed": false,
     "input": [
      "str(a)"
     ],
     "language": "python",
     "metadata": {},
     "outputs": [
      {
       "metadata": {},
       "output_type": "pyout",
       "prompt_number": 10,
       "text": [
        "'The SkyServer Server Object'"
       ]
      }
     ],
     "prompt_number": 10
    },
    {
     "cell_type": "code",
     "collapsed": false,
     "input": [],
     "language": "python",
     "metadata": {},
     "outputs": [],
     "prompt_number": 11
    },
    {
     "cell_type": "code",
     "collapsed": false,
     "input": [],
     "language": "python",
     "metadata": {},
     "outputs": [],
     "prompt_number": 11
    },
    {
     "cell_type": "code",
     "collapsed": false,
     "input": [],
     "language": "python",
     "metadata": {},
     "outputs": [],
     "prompt_number": 11
    }
   ],
   "metadata": {}
  }
 ]
}