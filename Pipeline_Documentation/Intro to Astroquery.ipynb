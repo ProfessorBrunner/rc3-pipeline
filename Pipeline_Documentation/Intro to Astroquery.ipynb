{
 "metadata": {
  "name": "",
  "signature": "sha256:21dd723ae14b1846be74369a0522bcead8496e43b4d71d8032629ca499cf80ad"
 },
 "nbformat": 3,
 "nbformat_minor": 0,
 "worksheets": [
  {
   "cells": [
    {
     "cell_type": "markdown",
     "metadata": {},
     "source": [
      "http://eso-python.github.io/ESOPythonTutorials/ESOPythonDemoDay7_Astroquery_ESO_Simbad_Vizier.html"
     ]
    },
    {
     "cell_type": "code",
     "collapsed": false,
     "input": [
      "import warnings\n",
      "warnings.filterwarnings('ignore',message='profile')\n",
      "warnings.filterwarnings('ignore',message='_astropy_init')\n",
      "warnings.filterwarnings('ignore',message='ConfigurationDefaultMissingWarning ')"
     ],
     "language": "python",
     "metadata": {},
     "outputs": [],
     "prompt_number": 2
    },
    {
     "cell_type": "code",
     "collapsed": false,
     "input": [
      "from astroquery.ned import *"
     ],
     "language": "python",
     "metadata": {},
     "outputs": [
      {
       "output_type": "stream",
       "stream": "stderr",
       "text": [
        "WARNING: AstropyDeprecationWarning: ConfigurationItem has been deprecated in astropy 0.4. Use ConfigItem objects as members of ConfigNamespace subclasses instead.  See ConfigNamespace for an example. [astropy.config.configuration]\n",
        "WARNING:astropy:AstropyDeprecationWarning: ConfigurationItem has been deprecated in astropy 0.4. Use ConfigItem objects as members of ConfigNamespace subclasses instead.  See ConfigNamespace for an example.\n"
       ]
      }
     ],
     "prompt_number": 3
    },
    {
     "cell_type": "code",
     "collapsed": false,
     "input": [
      "result_table = Ned.query_object(\"PGC 24\")"
     ],
     "language": "python",
     "metadata": {},
     "outputs": [],
     "prompt_number": 4
    },
    {
     "cell_type": "code",
     "collapsed": false,
     "input": [
      "print (result_table)"
     ],
     "language": "python",
     "metadata": {},
     "outputs": [
      {
       "output_type": "stream",
       "stream": "stdout",
       "text": [
        "No. Object Name       RA(deg)        ... Diameter Points Associations\n",
        "                      degrees        ...                             \n",
        "--- ----------- -------------------- ... --------------- ------------\n",
        "  1     IC 5371 0.061580000000000003 ...               2            0\n"
       ]
      }
     ],
     "prompt_number": 5
    },
    {
     "cell_type": "code",
     "collapsed": false,
     "input": [
      "from astropy import *"
     ],
     "language": "python",
     "metadata": {},
     "outputs": [],
     "prompt_number": 6
    },
    {
     "cell_type": "code",
     "collapsed": false,
     "input": [
      "result_table.pprint()"
     ],
     "language": "python",
     "metadata": {},
     "outputs": [
      {
       "output_type": "stream",
       "stream": "stdout",
       "text": [
        "\u001b[0;31mNo. Object Name       RA(deg)        ... Diameter Points Associations\u001b[0m\n",
        "\u001b[0;31m                      degrees        ...                             \u001b[0m\n",
        "\u001b[0;31m--- ----------- -------------------- ... --------------- ------------\u001b[0m\n",
        "  1     IC 5371 0.061580000000000003 ...               2            0\n"
       ]
      }
     ],
     "prompt_number": 7
    },
    {
     "cell_type": "code",
     "collapsed": false,
     "input": [
      "result_table.colnames"
     ],
     "language": "python",
     "metadata": {},
     "outputs": [
      {
       "metadata": {},
       "output_type": "pyout",
       "prompt_number": 8,
       "text": [
        "['No.',\n",
        " 'Object Name',\n",
        " 'RA(deg)',\n",
        " 'DEC(deg)',\n",
        " 'Type',\n",
        " 'Velocity',\n",
        " 'Redshift',\n",
        " 'Redshift Flag',\n",
        " 'Magnitude and Filter',\n",
        " 'Distance (arcmin)',\n",
        " 'References',\n",
        " 'Notes',\n",
        " 'Photometry Points',\n",
        " 'Positions',\n",
        " 'Redshift Points',\n",
        " 'Diameter Points',\n",
        " 'Associations']"
       ]
      }
     ],
     "prompt_number": 8
    },
    {
     "cell_type": "code",
     "collapsed": false,
     "input": [
      "result_table.keep_columns(['Object Name','RA(deg)','DEC(deg)'])"
     ],
     "language": "python",
     "metadata": {},
     "outputs": [],
     "prompt_number": 9
    },
    {
     "cell_type": "code",
     "collapsed": false,
     "input": [
      "result_table"
     ],
     "language": "python",
     "metadata": {},
     "outputs": [
      {
       "html": [
        "<table id=\"table4572207568\"><thead><tr><th>Object Name</th><th>RA(deg)</th><th>DEC(deg)</th></tr></thead><thead><tr><th></th><th>degrees</th><th>degrees</th></tr></thead><tr><td>IC 5371</td><td>0.061580000000000003</td><td>32.832000000000001</td></tr></table>"
       ],
       "metadata": {},
       "output_type": "pyout",
       "prompt_number": 10,
       "text": [
        "<Table rows=1 names=('Object Name','RA(deg)','DEC(deg)') units=(None,'degrees','degrees')>\n",
        "masked_array(data = [('IC 5371', 0.06158, 32.832)],\n",
        "             mask = [(False, False, False)],\n",
        "       fill_value = ('N/A', 1e+20, 1e+20),\n",
        "            dtype = [('Object Name', 'S30'), ('RA(deg)', '<f8'), ('DEC(deg)', '<f8')])"
       ]
      }
     ],
     "prompt_number": 10
    },
    {
     "cell_type": "code",
     "collapsed": false,
     "input": [
      "# co = coordinates.SkyCoord(ra=,dec )"
     ],
     "language": "python",
     "metadata": {},
     "outputs": [],
     "prompt_number": 11
    },
    {
     "cell_type": "heading",
     "level": 2,
     "metadata": {},
     "source": [
      "Vizier"
     ]
    },
    {
     "cell_type": "code",
     "collapsed": false,
     "input": [
      "from astroquery.vizier import Vizier"
     ],
     "language": "python",
     "metadata": {},
     "outputs": [],
     "prompt_number": 12
    },
    {
     "cell_type": "markdown",
     "metadata": {},
     "source": [
      "http://vizier.u-strasbg.fr/viz-bin/VizieR-2?-source=+VII%2F155%2Frc3&-from=nav&-nav=cat%3AVII%2F155%26tab%3A%7BVII%2F155%2Frc3%7D%26key%3Akw.Wavelength%3Doptical%26key%3Akw.Astronomy%3DAtomic_Data%26key%3Asource%3DRC3%26HTTPPRM%3A%26%26-ref%3DVIZ53c7f48452a2%26-out.max%3D50%26-out.form%3DHTML+Table%26-out.add%3D_r%26-out.add%3D_RAJ%2C_DEJ%26-sort%3D_r%26-order%3DI%26-oc.form%3Dsexa%26-meta.foot%3D1%26-meta%3D1%26-meta.ucd%3D2%26-kw.Wavelength%3Doptical%26-kw.Astronomy%3DAtomic_Data%26-c.eq%3DJ2000%26-c.r%3D++2%26-c.u%3Darcmin%26-c.geom%3Dr%26-usenav%3D1%26-bmark%3DPOST%26"
     ]
    },
    {
     "cell_type": "code",
     "collapsed": false,
     "input": [
      "rc3_cat = Vizier(catalog='VII/155/rc3')"
     ],
     "language": "python",
     "metadata": {},
     "outputs": [],
     "prompt_number": 13
    },
    {
     "cell_type": "code",
     "collapsed": false,
     "input": [
      "rc3_cat"
     ],
     "language": "python",
     "metadata": {},
     "outputs": [
      {
       "metadata": {},
       "output_type": "pyout",
       "prompt_number": 14,
       "text": [
        "<astroquery.vizier.core.VizierClass at 0x110ab8d50>"
       ]
      }
     ],
     "prompt_number": 14
    },
    {
     "cell_type": "code",
     "collapsed": false,
     "input": [
      "rc3_cat.columns"
     ],
     "language": "python",
     "metadata": {},
     "outputs": [
      {
       "metadata": {},
       "output_type": "pyout",
       "prompt_number": 15,
       "text": [
        "['*']"
       ]
      }
     ],
     "prompt_number": 15
    },
    {
     "cell_type": "code",
     "collapsed": false,
     "input": [
      "tbl=rc3_cat.query_constraints(_RAJ2000=\"10.0..10.2\")[0]\n",
      "tbl"
     ],
     "language": "python",
     "metadata": {},
     "outputs": [
      {
       "output_type": "stream",
       "stream": "stderr",
       "text": [
        "/Users/dorislee/.virtualenvs/py27dev/lib/python2.7/site-packages/astroquery/vizier/core.py:560: UserWarning: VOTABLE parsing raised exception: \n",
        "  warnings.warn(\"VOTABLE parsing raised exception: {0}\".format(ex))\n",
        "/Users/dorislee/.virtualenvs/py27dev/lib/python2.7/site-packages/numpy/ma/core.py:3847: UserWarning: Warning: converting a masked element to nan.\n",
        "  warnings.warn(\"Warning: converting a masked element to nan.\")\n"
       ]
      },
      {
       "html": [
        "<table id=\"table4574798160\"><thead><tr><th>_RAJ2000</th><th>_DEJ2000</th><th>RA2000</th><th>DE2000</th><th>...</th><th>R25</th><th>BT</th><th>BT_code</th><th>cz</th></tr></thead><thead><tr><th>deg</th><th>deg</th><th>&quot;h:m:s&quot;</th><th>&quot;d:m:s&quot;</th><th>...</th><th></th><th>mag</th><th></th><th>km / s</th></tr></thead><tr><td>10.0174</td><td>-30.5972</td><td>00 40 04.1</td><td>-30 35 50</td><td>...</td><td>0.12</td><td>nan</td><td></td><td>15102</td></tr><tr><td>10.0466</td><td>22.7164</td><td>00 40 11.1</td><td>+22 42 59</td><td>...</td><td>0.15</td><td>nan</td><td></td><td>5878</td></tr><tr><td>10.0537</td><td>-56.1521</td><td>00 40 12.8</td><td>-56 09 08</td><td>...</td><td>0.09</td><td>nan</td><td></td><td>--</td></tr><tr><td>10.0732</td><td>2.7561</td><td>00 40 17.5</td><td>+02 45 22</td><td>...</td><td>0.03</td><td>nan</td><td></td><td>--</td></tr><tr><td>10.0891</td><td>50.3324</td><td>00 40 21.3</td><td>+50 19 57</td><td>...</td><td>0.39</td><td>nan</td><td></td><td>--</td></tr><tr><td>10.0941</td><td>41.6863</td><td>00 40 22.5</td><td>+41 41 11</td><td>...</td><td>0.30</td><td>8.92</td><td>M</td><td>-254</td></tr><tr><td>10.1003</td><td>6.9000</td><td>00 40 24.0</td><td>+06 54 00</td><td>...</td><td>0.14</td><td>nan</td><td></td><td>--</td></tr><tr><td>10.1237</td><td>25.0261</td><td>00 40 29.6</td><td>+25 01 34</td><td>...</td><td>nan</td><td>nan</td><td></td><td>4500</td></tr><tr><td>10.1332</td><td>-45.9855</td><td>00 40 31.9</td><td>-45 59 08</td><td>...</td><td>0.52</td><td>nan</td><td></td><td>3657</td></tr><tr><td>10.1253</td><td>3.2333</td><td>00 40 30.0</td><td>+03 14 00</td><td>...</td><td>0.59</td><td>nan</td><td></td><td>--</td></tr><tr><td>10.1457</td><td>-13.8739</td><td>00 40 34.9</td><td>-13 52 26</td><td>...</td><td>0.18</td><td>11.60</td><td></td><td>1735</td></tr><tr><td>10.1503</td><td>-0.3000</td><td>00 40 36.0</td><td>-00 18 00</td><td>...</td><td>0.10</td><td>nan</td><td></td><td>--</td></tr><tr><td>10.1799</td><td>-81.5674</td><td>00 40 43.1</td><td>-81 34 03</td><td>...</td><td>0.30</td><td>nan</td><td></td><td>--</td></tr><tr><td>10.1824</td><td>-63.4438</td><td>00 40 43.7</td><td>-63 26 38</td><td>...</td><td>0.32</td><td>nan</td><td></td><td>1771</td></tr><tr><td>10.1999</td><td>-79.2407</td><td>00 40 47.9</td><td>-79 14 27</td><td>...</td><td>0.61</td><td>nan</td><td></td><td>9000</td></tr></table>"
       ],
       "metadata": {},
       "output_type": "pyout",
       "prompt_number": 16,
       "text": [
        "<Table rows=15 names=('_RAJ2000','_DEJ2000','RA2000','DE2000','altname','PGC','type','T','D25','R25','BT','BT_code','cz') units=('deg','deg','\"h:m:s\"','\"d:m:s\"',None,None,None,None,'[0.1arcmin]',None,'mag',None,'km / s')>\n",
        "masked_array(data = [ (10.0174, -30.5972, '00 40 04.1', '-30 35 50', 'ESO  411-  6', 'PGC 2411', '.SBT4P.', 4.199999809265137, 1.149999976158142, 0.11999999731779099, --, '', 15102)\n",
        " (10.0466, 22.7164, '00 40 11.1', '+22 42 59', 'UGC   425', 'PGC 2416', '.SB?...', --, 0.8100000023841858, 0.15000000596046448, --, '', 5878)\n",
        " (10.0537, -56.1521, '00 40 12.8', '-56 09 08', 'ESO  150- 18', 'PGC 2417', '.LA.-..', -3.0, 1.1100000143051147, 0.09000000357627869, --, '', --)\n",
        " (10.0732, 2.7561, '00 40 17.5', '+02 45 22', 'MCG  0- 2-118', 'PGC 2420', '.SAR1?.', 1.0, 0.8700000047683716, 0.029999999329447746, --, '', --)\n",
        " (10.0891, 50.3324, '00 40 21.3', '+50 19 57', 'UGC   427', 'PGC 2427', '.S..6*.', 6.0, 1.1399999856948853, 0.38999998569488525, --, '', --)\n",
        " (10.0941, 41.6863, '00 40 22.5', '+41 41 11', 'UGC   426', 'PGC 2429', '.E.5.P.', -5.0, 2.3399999141693115, 0.30000001192092896, 8.920000076293945, 'M', -254)\n",
        " (10.1003, 6.9, '00 40 24.0', '+06 54 00', 'UGC   429', 'PGC 2431', '.L...*.', -2.0, 1.149999976158142, 0.14000000059604645, --, '', --)\n",
        " (10.1237, 25.0261, '00 40 29.6', '+25 01 34', 'CGCG 479- 58', 'PGC 2432', '', --, --, --, --, '', 4500)\n",
        " (10.1332, -45.9855, '00 40 31.9', '-45 59 08', 'ESO  242- 24', 'PGC 2433', 'PSBS0*/', -0.4000000059604645, 1.1799999475479126, 0.5199999809265137, --, '', 3657)\n",
        " (10.1253, 3.2333, '00 40 30.0', '+03 14 00', 'UGC   430', 'PGC 2435', '.S..6*.', 6.0, 1.090000033378601, 0.5899999737739563, --, '', --)\n",
        " (10.1457, -13.8739, '00 40 34.9', '-13 52 26', 'MCG -2- 2- 81', 'PGC 2437', '.SXS3..', 3.0, 1.7000000476837158, 0.18000000715255737, 11.600000381469727, '', 1735)\n",
        " (10.1503, -0.3, '00 40 36.0', '-00 18 00', 'UGC   432', 'PGC 2440', '.S..3..', 3.0, 1.059999942779541, 0.10000000149011612, --, '', --)\n",
        " (10.1799, -81.5674, '00 40 43.1', '-81 34 03', 'ESO   12- 22', 'PGC 2444', '.SBS4..', 4.0, 1.0299999713897705, 0.30000001192092896, --, '', --)\n",
        " (10.1824, -63.4438, '00 40 43.7', '-63 26 38', 'ESO   79-  5', 'PGC 2445', '.SBT7P*', 6.599999904632568, 1.350000023841858, 0.3199999928474426, --, '', 1771)\n",
        " (10.1999, -79.2407, '00 40 47.9', '-79 14 27', 'ESO   12- 21', 'PGC 2450', '', --, 0.9700000286102295, 0.6100000143051147, --, '', 9000)],\n",
        "             mask = [ (False, False, False, False, False, False, False, False, False, False, True, False, False)\n",
        " (False, False, False, False, False, False, False, True, False, False, True, False, False)\n",
        " (False, False, False, False, False, False, False, False, False, False, True, False, True)\n",
        " (False, False, False, False, False, False, False, False, False, False, True, False, True)\n",
        " (False, False, False, False, False, False, False, False, False, False, True, False, True)\n",
        " (False, False, False, False, False, False, False, False, False, False, False, False, False)\n",
        " (False, False, False, False, False, False, False, False, False, False, True, False, True)\n",
        " (False, False, False, False, False, False, False, True, True, True, True, False, False)\n",
        " (False, False, False, False, False, False, False, False, False, False, True, False, False)\n",
        " (False, False, False, False, False, False, False, False, False, False, True, False, True)\n",
        " (False, False, False, False, False, False, False, False, False, False, False, False, False)\n",
        " (False, False, False, False, False, False, False, False, False, False, True, False, True)\n",
        " (False, False, False, False, False, False, False, False, False, False, True, False, True)\n",
        " (False, False, False, False, False, False, False, False, False, False, True, False, False)\n",
        " (False, False, False, False, False, False, False, True, False, False, True, False, False)],\n",
        "       fill_value = (1e+20, 1e+20, 'N/A', 'N/A', 'N/A', 'N/A', 'N/A', 1.0000000200408773e+20, 1.0000000200408773e+20, 1.0000000200408773e+20, 1.0000000200408773e+20, 'N', 999999),\n",
        "            dtype = [('_RAJ2000', '<f8'), ('_DEJ2000', '<f8'), ('RA2000', 'S10'), ('DE2000', 'S9'), ('altname', 'S15'), ('PGC', 'S11'), ('type', 'S7'), ('T', '<f4'), ('D25', '<f4'), ('R25', '<f4'), ('BT', '<f4'), ('BT_code', 'S1'), ('cz', '<i4')])"
       ]
      }
     ],
     "prompt_number": 16
    },
    {
     "cell_type": "code",
     "collapsed": false,
     "input": [
      "type(tbl)"
     ],
     "language": "python",
     "metadata": {},
     "outputs": [
      {
       "metadata": {},
       "output_type": "pyout",
       "prompt_number": 17,
       "text": [
        "astropy.table.table.Table"
       ]
      }
     ],
     "prompt_number": 17
    },
    {
     "cell_type": "code",
     "collapsed": false,
     "input": [
      "tbl.colnames"
     ],
     "language": "python",
     "metadata": {},
     "outputs": [
      {
       "metadata": {},
       "output_type": "pyout",
       "prompt_number": 18,
       "text": [
        "['_RAJ2000',\n",
        " '_DEJ2000',\n",
        " 'RA2000',\n",
        " 'DE2000',\n",
        " 'altname',\n",
        " 'PGC',\n",
        " 'type',\n",
        " 'T',\n",
        " 'D25',\n",
        " 'R25',\n",
        " 'BT',\n",
        " 'BT_code',\n",
        " 'cz']"
       ]
      }
     ],
     "prompt_number": 18
    },
    {
     "cell_type": "markdown",
     "metadata": {},
     "source": [
      "So PGC information is stored in this table!"
     ]
    },
    {
     "cell_type": "code",
     "collapsed": false,
     "input": [
      "#(ESO) \"The only requirement for this type of query is that the target catalog (agn in the above example) contain the columns _RAJ2000 and _DEJ2000, which all Vizier tables do by default. \"\n",
      "tbl.keep_columns(['_RAJ2000','_DEJ2000','PGC'])"
     ],
     "language": "python",
     "metadata": {},
     "outputs": [],
     "prompt_number": 19
    },
    {
     "cell_type": "code",
     "collapsed": false,
     "input": [
      "tbl"
     ],
     "language": "python",
     "metadata": {},
     "outputs": [
      {
       "html": [
        "<table id=\"table4574798160\"><thead><tr><th>_RAJ2000</th><th>_DEJ2000</th><th>PGC</th></tr></thead><thead><tr><th>deg</th><th>deg</th><th></th></tr></thead><tr><td>10.0174</td><td>-30.5972</td><td>PGC 2411</td></tr><tr><td>10.0466</td><td>22.7164</td><td>PGC 2416</td></tr><tr><td>10.0537</td><td>-56.1521</td><td>PGC 2417</td></tr><tr><td>10.0732</td><td>2.7561</td><td>PGC 2420</td></tr><tr><td>10.0891</td><td>50.3324</td><td>PGC 2427</td></tr><tr><td>10.0941</td><td>41.6863</td><td>PGC 2429</td></tr><tr><td>10.1003</td><td>6.9000</td><td>PGC 2431</td></tr><tr><td>10.1237</td><td>25.0261</td><td>PGC 2432</td></tr><tr><td>10.1332</td><td>-45.9855</td><td>PGC 2433</td></tr><tr><td>10.1253</td><td>3.2333</td><td>PGC 2435</td></tr><tr><td>10.1457</td><td>-13.8739</td><td>PGC 2437</td></tr><tr><td>10.1503</td><td>-0.3000</td><td>PGC 2440</td></tr><tr><td>10.1799</td><td>-81.5674</td><td>PGC 2444</td></tr><tr><td>10.1824</td><td>-63.4438</td><td>PGC 2445</td></tr><tr><td>10.1999</td><td>-79.2407</td><td>PGC 2450</td></tr></table>"
       ],
       "metadata": {},
       "output_type": "pyout",
       "prompt_number": 20,
       "text": [
        "<Table rows=15 names=('_RAJ2000','_DEJ2000','PGC') units=('deg','deg',None)>\n",
        "masked_array(data = [(10.0174, -30.5972, 'PGC 2411') (10.0466, 22.7164, 'PGC 2416')\n",
        " (10.0537, -56.1521, 'PGC 2417') (10.0732, 2.7561, 'PGC 2420')\n",
        " (10.0891, 50.3324, 'PGC 2427') (10.0941, 41.6863, 'PGC 2429')\n",
        " (10.1003, 6.9, 'PGC 2431') (10.1237, 25.0261, 'PGC 2432')\n",
        " (10.1332, -45.9855, 'PGC 2433') (10.1253, 3.2333, 'PGC 2435')\n",
        " (10.1457, -13.8739, 'PGC 2437') (10.1503, -0.3, 'PGC 2440')\n",
        " (10.1799, -81.5674, 'PGC 2444') (10.1824, -63.4438, 'PGC 2445')\n",
        " (10.1999, -79.2407, 'PGC 2450')],\n",
        "             mask = [(False, False, False) (False, False, False) (False, False, False)\n",
        " (False, False, False) (False, False, False) (False, False, False)\n",
        " (False, False, False) (False, False, False) (False, False, False)\n",
        " (False, False, False) (False, False, False) (False, False, False)\n",
        " (False, False, False) (False, False, False) (False, False, False)],\n",
        "       fill_value = (1e+20, 1e+20, 'N/A'),\n",
        "            dtype = [('_RAJ2000', '<f8'), ('_DEJ2000', '<f8'), ('PGC', 'S11')])"
       ]
      }
     ],
     "prompt_number": 20
    },
    {
     "cell_type": "code",
     "collapsed": false,
     "input": [
      "tbl[0]"
     ],
     "language": "python",
     "metadata": {},
     "outputs": [
      {
       "metadata": {},
       "output_type": "pyout",
       "prompt_number": 21,
       "text": [
        "<Row 0 of table\n",
        " values=(10.0174, -30.5972, 'PGC 2411')\n",
        " dtype=[('_RAJ2000', '<f8'), ('_DEJ2000', '<f8'), ('PGC', 'S11')]>"
       ]
      }
     ],
     "prompt_number": 21
    },
    {
     "cell_type": "code",
     "collapsed": false,
     "input": [
      "# [ tbl.index_column(i) for i in tbl.columns]"
     ],
     "language": "python",
     "metadata": {},
     "outputs": [],
     "prompt_number": 26
    },
    {
     "cell_type": "code",
     "collapsed": false,
     "input": [
      "# [tbl[i] for i in range(val)]"
     ],
     "language": "python",
     "metadata": {},
     "outputs": [],
     "prompt_number": 25
    },
    {
     "cell_type": "code",
     "collapsed": false,
     "input": [
      "# # since there is no row or length atrribute\n",
      "# try :\n",
      "#     val =0\n",
      "#     for i in range(50): \n",
      "#         val=i\n",
      "#         null= tbl[i]\n",
      "#         #print (tbl[i])\n",
      "# except(IndexError):\n",
      "#     print (val)\n",
      "i=0"
     ],
     "language": "python",
     "metadata": {},
     "outputs": [],
     "prompt_number": 29
    },
    {
     "cell_type": "code",
     "collapsed": false,
     "input": [
      "tbl[i]"
     ],
     "language": "python",
     "metadata": {},
     "outputs": [
      {
       "metadata": {},
       "output_type": "pyout",
       "prompt_number": 30,
       "text": [
        "<Row 0 of table\n",
        " values=(10.0174, -30.5972, 'PGC 2411')\n",
        " dtype=[('_RAJ2000', '<f8'), ('_DEJ2000', '<f8'), ('PGC', 'S11')]>"
       ]
      }
     ],
     "prompt_number": 30
    },
    {
     "cell_type": "code",
     "collapsed": false,
     "input": [
      "# tbl[i]['_RAJ2000']"
     ],
     "language": "python",
     "metadata": {},
     "outputs": [],
     "prompt_number": 37
    },
    {
     "cell_type": "code",
     "collapsed": false,
     "input": [
      "# tbl[i]['_DEJ2000']"
     ],
     "language": "python",
     "metadata": {},
     "outputs": [],
     "prompt_number": 38
    },
    {
     "cell_type": "code",
     "collapsed": false,
     "input": [
      "(tbl[i]['_RAJ2000'],tbl[i]['_DEJ2000'])"
     ],
     "language": "python",
     "metadata": {},
     "outputs": [
      {
       "metadata": {},
       "output_type": "pyout",
       "prompt_number": 39,
       "text": [
        "(10.0174, -30.597200000000001)"
       ]
      }
     ],
     "prompt_number": 39
    },
    {
     "cell_type": "code",
     "collapsed": false,
     "input": [
      "dict = {}"
     ],
     "language": "python",
     "metadata": {},
     "outputs": [],
     "prompt_number": 40
    },
    {
     "cell_type": "code",
     "collapsed": false,
     "input": [
      "dict[tbl[i]['PGC']]=(tbl[i]['_RAJ2000'],tbl[i]['_DEJ2000'])"
     ],
     "language": "python",
     "metadata": {},
     "outputs": [],
     "prompt_number": 41
    },
    {
     "cell_type": "code",
     "collapsed": false,
     "input": [
      "dict"
     ],
     "language": "python",
     "metadata": {},
     "outputs": [
      {
       "metadata": {},
       "output_type": "pyout",
       "prompt_number": 42,
       "text": [
        "{'PGC 2411': (10.0174, -30.597200000000001)}"
       ]
      }
     ],
     "prompt_number": 42
    },
    {
     "cell_type": "code",
     "collapsed": false,
     "input": [
      "dict[int(tbl[i]['PGC'][3:])]=(tbl[i]['_RAJ2000'],tbl[i]['_DEJ2000'])"
     ],
     "language": "python",
     "metadata": {},
     "outputs": [],
     "prompt_number": 43
    },
    {
     "cell_type": "code",
     "collapsed": false,
     "input": [
      "dict"
     ],
     "language": "python",
     "metadata": {},
     "outputs": [
      {
       "metadata": {},
       "output_type": "pyout",
       "prompt_number": 44,
       "text": [
        "{2411: (10.0174, -30.597200000000001),\n",
        " 'PGC 2411': (10.0174, -30.597200000000001)}"
       ]
      }
     ],
     "prompt_number": 44
    },
    {
     "cell_type": "code",
     "collapsed": false,
     "input": [
      "# tbl"
     ],
     "language": "python",
     "metadata": {},
     "outputs": [],
     "prompt_number": 45
    },
    {
     "cell_type": "code",
     "collapsed": false,
     "input": [
      "#Converting Table results to dictionary form\n",
      "try :\n",
      "    dict = {}\n",
      "    for i in range(50): \n",
      "        dict[int(tbl[i]['PGC'][3:])]=(tbl[i]['_RAJ2000'],tbl[i]['_DEJ2000'])\n",
      "        #print (tbl[i])\n",
      "except(IndexError):\n",
      "    #Intentionally Crash\n",
      "    pass"
     ],
     "language": "python",
     "metadata": {},
     "outputs": [],
     "prompt_number": 46
    },
    {
     "cell_type": "code",
     "collapsed": false,
     "input": [
      "dict"
     ],
     "language": "python",
     "metadata": {},
     "outputs": [
      {
       "metadata": {},
       "output_type": "pyout",
       "prompt_number": 47,
       "text": [
        "{2411: (10.0174, -30.597200000000001),\n",
        " 2416: (10.0466, 22.7164),\n",
        " 2417: (10.053699999999999, -56.152099999999997),\n",
        " 2420: (10.0732, 2.7561),\n",
        " 2427: (10.0891, 50.3324),\n",
        " 2429: (10.094099999999999, 41.686300000000003),\n",
        " 2431: (10.100300000000001, 6.9000000000000004),\n",
        " 2432: (10.123699999999999, 25.0261),\n",
        " 2433: (10.1332, -45.985500000000002),\n",
        " 2435: (10.125299999999999, 3.2332999999999998),\n",
        " 2437: (10.1457, -13.873900000000001),\n",
        " 2440: (10.1503, -0.29999999999999999),\n",
        " 2444: (10.1799, -81.567400000000006),\n",
        " 2445: (10.182399999999999, -63.443800000000003),\n",
        " 2450: (10.1999, -79.240700000000004)}"
       ]
      }
     ],
     "prompt_number": 47
    },
    {
     "cell_type": "code",
     "collapsed": false,
     "input": [],
     "language": "python",
     "metadata": {},
     "outputs": [],
     "prompt_number": 47
    },
    {
     "cell_type": "code",
     "collapsed": false,
     "input": [],
     "language": "python",
     "metadata": {},
     "outputs": []
    }
   ],
   "metadata": {}
  }
 ]
}