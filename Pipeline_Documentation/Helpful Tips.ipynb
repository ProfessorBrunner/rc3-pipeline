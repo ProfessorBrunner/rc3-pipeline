{
 "metadata": {
  "name": "",
  "signature": "sha256:574571726826c821fc654c9c4480ca912a3adb0f9e8f868fac23f70cfc6dc84e"
 },
 "nbformat": 3,
 "nbformat_minor": 0,
 "worksheets": [
  {
   "cells": [
    {
     "cell_type": "markdown",
     "metadata": {},
     "source": [
      "- It is okay to run different procedures on different surveys and different parts of the sky simultaneously as long as the imaging bands do not have overlapping bands to prevent file-already-exist errors"
     ]
    },
    {
     "cell_type": "code",
     "collapsed": false,
     "input": [],
     "language": "python",
     "metadata": {},
     "outputs": []
    }
   ],
   "metadata": {}
  }
 ]
}