{
 "metadata": {
  "name": "",
  "signature": "sha256:096f552d1cd11925e6b450e2246c9ef1f0f0affa6ce41e408bc2b7d13115fe7f"
 },
 "nbformat": 3,
 "nbformat_minor": 0,
 "worksheets": [
  {
   "cells": [
    {
     "cell_type": "markdown",
     "metadata": {},
     "source": [
      "mosaic_band deletes the raw_1r bands"
     ]
    },
    {
     "cell_type": "code",
     "collapsed": false,
     "input": [],
     "language": "python",
     "metadata": {},
     "outputs": []
    }
   ],
   "metadata": {}
  }
 ]
}