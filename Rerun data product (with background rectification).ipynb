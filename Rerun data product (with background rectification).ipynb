{
 "cells": [
  {
   "cell_type": "markdown",
   "metadata": {},
   "source": [
    "Things that need to be removed"
   ]
  },
  {
   "cell_type": "code",
   "execution_count": null,
   "metadata": {
    "collapsed": true
   },
   "outputs": [],
   "source": [
    "/RUN3/20938/u/rawdir\n",
    "/RUN3/20938/u/projdir\n",
    "/RUN5/23117/r/projdi\n",
    "./RUN6/23325/z/rawdir\n",
    "251M\t./RUN6/23325/z/projdir\n",
    "\n",
    "./RUN7/23692/g/rawdir\n",
    "348M\t./RUN7/23692/g/projdir\n",
    "\n",
    "./RUN8/26495/z/rawdir\n",
    "47M\t./RUN8/26495/z/projdir\n",
    "\n",
    "/RUN10/32307/i/rawdir\n",
    "0\t./RUN10/32307/i/projdir\n",
    "\n",
    "./RUN13/38100/i/rawdir\n",
    "\n",
    "\n",
    "/RUN16/44664/i/\n",
    "./RUN21/56094/z/rawdir\n",
    "./RUN23/60095/z/rawdir\n",
    "./RUN24/68392/r/rawdir\n",
    "./RUN25/68177/r/rawdir\n",
    "./RUN26/69311/i/rawdir\n",
    "./RUN28/71063/g/rawdir\n",
    "./RUN29/r/rawdir"
   ]
  },
  {
   "cell_type": "markdown",
   "metadata": {},
   "source": [
    "In RUN1, PGC 359 was bad\n",
    "\n",
    "\n",
    "36.9066666667     -1.15472222222     0.0779558570371      9359"
   ]
  },
  {
   "cell_type": "code",
   "execution_count": null,
   "metadata": {
    "collapsed": true
   },
   "outputs": [],
   "source": [
    "In RC3_RUN23, PGC60095\n",
    "Crashed because of large memory overflow queue limit\n",
    "1.3G\t./60095/z/rawdir\n",
    "12G\t./60095/z/projdir\n",
    "13G\t./60095/z\n",
    "20G\t./60095"
   ]
  },
  {
   "cell_type": "code",
   "execution_count": null,
   "metadata": {
    "collapsed": true
   },
   "outputs": [],
   "source": [
    "RUN 23 started here\n",
    "246.921666667     40.9269444444     0.0289633472037     58199"
   ]
  },
  {
   "cell_type": "code",
   "execution_count": null,
   "metadata": {
    "collapsed": true
   },
   "outputs": [],
   "source": [
    "It crashed at around 28:43:42"
   ]
  },
  {
   "cell_type": "code",
   "execution_count": 1,
   "metadata": {
    "collapsed": false
   },
   "outputs": [
    {
     "data": {
      "text/plain": [
       "20"
      ]
     },
     "execution_count": 1,
     "metadata": {},
     "output_type": "execute_result"
    }
   ],
   "source": [
    "48-28"
   ]
  },
  {
   "cell_type": "markdown",
   "metadata": {},
   "source": [
    "So I'll put in another 20 hours for it'"
   ]
  },
  {
   "cell_type": "markdown",
   "metadata": {},
   "source": [
    "### Processing the objects to see whether there are any extra ones or ones that are not covered"
   ]
  },
  {
   "cell_type": "markdown",
   "metadata": {},
   "source": [
    "Things to do\n",
    "1. print out a list of PGC in original RC3\n",
    "2. print out a list of PGC that is already mosaiced\n",
    "3. cross correlate the two catalog and print a subcatalog (and relavant info) that are not yet mosaiced\n",
    "4. mosaic this subcatalog\n",
    "5. After everything is mosaiced (check from 1,2 that I didn't miss any RC3s)\n",
    "6. Merge all the documents from separate runs\n",
    "    - remove the \"header\" that was copied from the pipeline/ for all the runs except RUN1 (which was manually removed)\n",
    "7. The great thing about this is that ORDER DOESN'T MATTER!! Submit into rc3_database.py and follow instructions from \"Post-processing procedures\" "
   ]
  },
  {
   "cell_type": "code",
   "execution_count": 3,
   "metadata": {
    "collapsed": false
   },
   "outputs": [
    {
     "name": "stdout",
     "output_type": "stream",
     "text": [
      "Populating the interactive namespace from numpy and matplotlib\n"
     ]
    }
   ],
   "source": [
    "%pylab inline"
   ]
  },
  {
   "cell_type": "markdown",
   "metadata": {},
   "source": [
    "### Step 1:"
   ]
  },
  {
   "cell_type": "code",
   "execution_count": 17,
   "metadata": {
    "collapsed": false
   },
   "outputs": [],
   "source": [
    "import os \n",
    "rc3=  np.loadtxt(\"pipeline/rc3_ra_dec_diameter_pgc.txt\")\n",
    "np.savetxt(\"rc3_pgc.txt\",rc3[:,3])"
   ]
  },
  {
   "cell_type": "markdown",
   "metadata": {},
   "source": [
    "### Step 2:"
   ]
  },
  {
   "cell_type": "code",
   "execution_count": null,
   "metadata": {
    "collapsed": true
   },
   "outputs": [],
   "source": [
    "Use list_pgc.sh\n",
    "get pgc_done.txt\n",
    "Need to join with ones in bigdogdata!"
   ]
  },
  {
   "cell_type": "markdown",
   "metadata": {},
   "source": [
    "I realized that I can't do this because we don't guaruntee that the rc3 galaxy lie in sdss footprrint so maybe I need to go into the previous run files and see this..."
   ]
  },
  {
   "cell_type": "markdown",
   "metadata": {},
   "source": [
    "### Step 3:"
   ]
  },
  {
   "cell_type": "code",
   "execution_count": null,
   "metadata": {
    "collapsed": true
   },
   "outputs": [],
   "source": [
    "So we want to compare \n",
    "rc3_in_sdss.txt\n",
    "\n",
    "Combined \n",
    "pgc_done.txt for the nersc ones\n",
    "and pgc_done_bigdog.txt \n"
   ]
  }
 ],
 "metadata": {
  "kernelspec": {
   "display_name": "Python 2",
   "language": "python",
   "name": "python2"
  },
  "language_info": {
   "codemirror_mode": {
    "name": "ipython",
    "version": 2
   },
   "file_extension": ".py",
   "mimetype": "text/x-python",
   "name": "python",
   "nbconvert_exporter": "python",
   "pygments_lexer": "ipython2",
   "version": "2.7.10"
  }
 },
 "nbformat": 4,
 "nbformat_minor": 0
}
