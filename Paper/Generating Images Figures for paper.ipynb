{
 "metadata": {
  "name": "",
  "signature": "sha256:a164eb37718c4a3429c5b5739b6295d1427744bbcca54154d8a096647064afff"
 },
 "nbformat": 3,
 "nbformat_minor": 0,
 "worksheets": [
  {
   "cells": [
    {
     "cell_type": "heading",
     "level": 2,
     "metadata": {},
     "source": [
      "Many-body source confusion"
     ]
    },
    {
     "cell_type": "markdown",
     "metadata": {},
     "source": [
      "http://skyserver.sdss3.org/public/en/tools/chart/navi.aspx?ra=8.556407317362238&dec=-21.4390077142866"
     ]
    },
    {
     "cell_type": "code",
     "collapsed": false,
     "input": [],
     "language": "python",
     "metadata": {},
     "outputs": []
    }
   ],
   "metadata": {}
  }
 ]
}