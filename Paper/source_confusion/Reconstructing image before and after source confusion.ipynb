{
 "metadata": {
  "name": "",
  "signature": "sha256:3250e43b8858d4c78fb7b56d463e43d264ef5f42f0eb6ed914d6d11e430bfe6a"
 },
 "nbformat": 3,
 "nbformat_minor": 0,
 "worksheets": [
  {
   "cells": [
    {
     "cell_type": "markdown",
     "metadata": {},
     "source": [
      "Reverting back to algorithm from git repo version "
     ]
    },
    {
     "cell_type": "markdown",
     "metadata": {},
     "source": [
      "http://nbviewer.ipython.org/github/dorislee0309/workarea-rc3-project/blob/master/notebooks/June2014notebooks/06-27-2014%20Dealing%20with%20Source%20Confusion.ipynb"
     ]
    },
    {
     "cell_type": "markdown",
     "metadata": {},
     "source": [
      "https://github.com/ProfessorBrunner/rc3-sdss/blob/6a65eac7257fa4fd76d65d07e9e8973af2f922ff/rc3.py"
     ]
    },
    {
     "cell_type": "markdown",
     "metadata": {},
     "source": [
      "Results from running it without source confusion: Acoording to Navigator PGC resolve, the right bottomost large galaxy PGC54, the smaller round one is PGC58, the round halo-ish one to the right of PGC58 is PGC63."
     ]
    },
    {
     "cell_type": "markdown",
     "metadata": {},
     "source": [
      "1) do init run on all gaalxies including and in between nthe three galaxies PGC 58,54,63\n",
      "Intentially crash after rfits for 63 is created "
     ]
    },
    {
     "cell_type": "markdown",
     "metadata": {},
     "source": [
      "@\n",
      "0.158333333333     20.0591666667     0.0135471752965        53   \n",
      "0.159583333333     28.385     0.0195816259548        54   \n",
      "0.15     33.6016666667     0.0159165431322        55   \n",
      "0.184583333333     28.4013888889     0.0132388039385        58   \n",
      "0.195     28.4027777778     0.0166666667        63   \n",
      "\u2014\u2014\u2014\u2014\u2014(Crash init_run() intentionally)"
     ]
    },
    {
     "cell_type": "markdown",
     "metadata": {},
     "source": [
      "I have a feeling that there not be true effects of source confusion seen here. If not, then try doing this on again on galaxies from the DSSfullrun with _1,_2..etc labellings. Try picking one with most number of _n like _7 or something."
     ]
    },
    {
     "cell_type": "code",
     "collapsed": false,
     "input": [
      "cd rfits/"
     ],
     "language": "python",
     "metadata": {},
     "outputs": [
      {
       "output_type": "stream",
       "stream": "stdout",
       "text": [
        "/Users/dorislee/Desktop/GSoC2014/rc3-sdss/Paper/source_confusion/rfits\n"
       ]
      }
     ],
     "prompt_number": 1
    },
    {
     "cell_type": "markdown",
     "metadata": {},
     "source": [
      "2) Move everything into rfits. Run the source_info in the main method on it . Just let it run until complete since there is only so many files inside rfits/"
     ]
    },
    {
     "cell_type": "markdown",
     "metadata": {},
     "source": [
      "3) cross correlate the directory name by looking inside rc3_updated since those are the ones that contain the updated value used in directory naming. Manually rename the files."
     ]
    },
    {
     "cell_type": "code",
     "collapsed": false,
     "input": [
      "cat rc3_updated.txt"
     ],
     "language": "python",
     "metadata": {},
     "outputs": [
      {
       "output_type": "stream",
       "stream": "stdout",
       "text": [
        "ra       dec         new_ra      new_dec         radius \r\n",
        "ra       dec         new_ra      new_dec         radius \r\n",
        "ra       dec         new_ra      new_dec         radius \r\n",
        "ra       dec         new_ra      new_dec         radius \r\n",
        "0.158333333333       20.0591666667      0.1592579      +20.0592349      0.000868766314938 \r\n",
        "0.159583333333       28.385      0.1581354      +28.3844687      0.000896585309708 \r\n",
        "0.15       33.6016666667      0.1557459      +33.6017242      0.000900653700248 \r\n",
        "0.184583333333       28.4013888889      0.1914276      +28.4015731      0.00067535282956 \r\n",
        "0.195       28.4027777778      0.1867717      +28.4015153      0.000614876753972 \r\n",
        "0.158333333333       20.0591666667       0.1592950       +20.0592764       0.00612434021478       53 \r\n",
        "0.158333333333       20.0591666667       0.1592950       +20.0592764       0.00612434021478       53 \r\n",
        "0.158333333333       20.0591666667       0.1592950       +20.0592764       0.00612434021478       53 \r\n",
        "0.158333333333       20.0591666667       0.1592950       +20.0592764       0.00612434021478       53 \r\n",
        "0.158333333333       20.0591666667       0.1592950       +20.0592764       0.00612434021478       53 \r\n",
        "0.158333333333       20.0591666667       0.1592950       +20.0592764       0.00612434021478       53 \r\n",
        "0.158333333333       20.0591666667       0.1592950       +20.0592764       0.00612434021478       53 \r\n"
       ]
      }
     ],
     "prompt_number": 2
    },
    {
     "cell_type": "code",
     "collapsed": false,
     "input": [
      "cd 58/"
     ],
     "language": "python",
     "metadata": {},
     "outputs": [
      {
       "output_type": "stream",
       "stream": "stdout",
       "text": [
        "/Users/dorislee/Desktop/GSoC2014/rc3-sdss/Paper/source_confusion/rfits/58\n"
       ]
      }
     ],
     "prompt_number": 3
    },
    {
     "cell_type": "code",
     "collapsed": false,
     "input": [
      "ls"
     ],
     "language": "python",
     "metadata": {},
     "outputs": [
      {
       "output_type": "stream",
       "stream": "stdout",
       "text": [
        "SDSS_0.1867717_+28.4015153_BEST.tiff\r\n",
        "SDSS_0.1867717_+28.4015153_LOW.tiff\r\n",
        "SDSS_g_0.1867717_+28.4015153.fits\r\n",
        "SDSS_i_0.1867717_+28.4015153.fits\r\n",
        "SDSS_r_0.1867717_+28.4015153.fits\r\n",
        "SDSS_u_0.1867717_+28.4015153.fits\r\n",
        "SDSS_z_0.1867717_+28.4015153.fits\r\n",
        "rc3_galaxies_outside_SDSS_footprint.txt\r\n",
        "rc3_galaxies_unclean\r\n"
       ]
      }
     ],
     "prompt_number": 4
    },
    {
     "cell_type": "markdown",
     "metadata": {},
     "source": [
      "# os.system(\"stiff )"
     ]
    },
    {
     "cell_type": "markdown",
     "metadata": {},
     "source": [
      "So I found out that PGC54 is a broken link in the LCDM online database\n",
      "And the PGC58 has the wrong galaxy and so is 68.\n",
      "I suspect this has to do with the bad rerun from 0 to 36 again. \n",
      "So I'll try inidividual source info on PGC54 and PGC 58 to visually inspect the results "
     ]
    },
    {
     "cell_type": "code",
     "collapsed": false,
     "input": [
      "cd .."
     ],
     "language": "python",
     "metadata": {},
     "outputs": [
      {
       "output_type": "stream",
       "stream": "stdout",
       "text": [
        "/Users/dorislee/Desktop/GSoC2014/rc3-sdss/Paper/source_confusion/rfits\n"
       ]
      }
     ],
     "prompt_number": 5
    },
    {
     "cell_type": "code",
     "collapsed": false,
     "input": [
      "ls"
     ],
     "language": "python",
     "metadata": {},
     "outputs": [
      {
       "output_type": "stream",
       "stream": "stdout",
       "text": [
        "\u001b[34m53\u001b[m\u001b[m/\r\n",
        "\u001b[34m53(without_source_confusion_algorithm)\u001b[m\u001b[m/\r\n",
        "\u001b[34m54\u001b[m\u001b[m/\r\n",
        "\u001b[34m55\u001b[m\u001b[m/\r\n",
        "\u001b[34m58\u001b[m\u001b[m/\r\n",
        "\u001b[34m63\u001b[m\u001b[m/\r\n",
        "SDSS_r_0.158333333333_20.0591666667.fits\r\n",
        "SDSS_r_0.159583333333_28.385.fits\r\n",
        "SDSS_r_0.15_33.6016666667.fits\r\n",
        "SDSS_r_0.184583333333_28.4013888889.fits\r\n",
        "SDSS_r_0.195_28.4027777778.fits\r\n",
        "__init__.py\r\n",
        "bulk_run.py\r\n",
        "bulk_run_dss.py\r\n",
        "bulk_run_twoMass.py\r\n",
        "catalog.py\r\n",
        "catalog.pyc\r\n",
        "check.fits\r\n",
        "default.conv\r\n",
        "default.nnw\r\n",
        "default.param\r\n",
        "default.sex\r\n",
        "dss.py\r\n",
        "dssServer.py\r\n",
        "dssServer.pyc\r\n",
        "gator.py\r\n",
        "gator.pyc\r\n",
        "mast.py\r\n",
        "rc3.py\r\n",
        "rc3.pyc\r\n",
        "rc3Catalog.py\r\n",
        "rc3Catalog.pyc\r\n",
        "rc3_galaxies_outside_SDSS_footprint.txt\r\n",
        "rc3_galaxies_unclean\r\n",
        "rc3_latest_working_version.py\r\n",
        "rc3_newer.pyc\r\n",
        "rc3_ra_dec_diameter_pgc.txt\r\n",
        "rc3_updated.txt\r\n",
        "sdss.py\r\n",
        "sdss.pyc\r\n",
        "server.py\r\n",
        "server.pyc\r\n",
        "skyserver.py\r\n",
        "skyserver.pyc\r\n",
        "sqlcl.py\r\n",
        "sqlcl.pyc\r\n",
        "stiff_error.txt\r\n",
        "survey.py\r\n",
        "survey.pyc\r\n",
        "surveyTest.py\r\n",
        "test.cat\r\n",
        "twoMass.py\r\n",
        "twoMass.pyc\r\n"
       ]
      }
     ],
     "prompt_number": 6
    },
    {
     "cell_type": "code",
     "collapsed": false,
     "input": [
      "from rc3 import RC3\n",
      "from sdss import SDSS"
     ],
     "language": "python",
     "metadata": {},
     "outputs": [
      {
       "output_type": "stream",
       "stream": "stderr",
       "text": [
        "WARNING: AstropyDeprecationWarning: ConfigurationItem has been deprecated in astropy 0.4. Use ConfigItem objects as members of ConfigNamespace subclasses instead.  See ConfigNamespace for an example. [astropy.config.configuration]\n",
        "WARNING:astropy:AstropyDeprecationWarning: ConfigurationItem has been deprecated in astropy 0.4. Use ConfigItem objects as members of ConfigNamespace subclasses instead.  See ConfigNamespace for an example.\n"
       ]
      }
     ],
     "prompt_number": 7
    },
    {
     "cell_type": "code",
     "collapsed": false,
     "input": [
      "pgc53 = RC3(0.158333333333,20.0591666667,0.0135471752965,53)"
     ],
     "language": "python",
     "metadata": {},
     "outputs": [],
     "prompt_number": 8
    },
    {
     "cell_type": "code",
     "collapsed": false,
     "input": [
      "pgc53.mosaic_band('r',0.158333333333,20.0591666667,3*0.0135471752965,0.0135471752965,53,SDSS())"
     ],
     "language": "python",
     "metadata": {},
     "outputs": [
      {
       "output_type": "stream",
       "stream": "stdout",
       "text": [
        "------------------mosaic_band----------------------\n",
        "Querying data that lies inside margin\n",
        "(0.158333333333, 20.0591666667, 0.0406415258895)\n",
        "result: [['7923', '4', '182'], ['7923', '4', '183']]"
       ]
      },
      {
       "output_type": "stream",
       "stream": "stdout",
       "text": [
        "\n",
        "clean_result: [['7923', '4', '182'], ['7923', '4', '183']]\n",
        "Complete Query. These data lies within margin: \n",
        "[['7923', '4', '182'], ['7923', '4', '183']]\n",
        "Retrieving data from server for rband\n",
        "Creating mosaic for r band."
       ]
      },
      {
       "output_type": "stream",
       "stream": "stdout",
       "text": [
        "\n",
        "Reprojecting images"
       ]
      },
      {
       "output_type": "stream",
       "stream": "stdout",
       "text": [
        "\n",
        "/Users/dorislee/Desktop/GSoC2014/rc3-sdss/Paper/source_confusion/rfits/r/raw\n",
        "Completed Mosaic for r"
       ]
      },
      {
       "output_type": "stream",
       "stream": "stdout",
       "text": [
        "\n",
        "Completed Mosaic\n"
       ]
      },
      {
       "metadata": {},
       "output_type": "pyout",
       "prompt_number": 10,
       "text": [
        "'SDSS_r_0.158333333333_20.0591666667.fits'"
       ]
      }
     ],
     "prompt_number": 10
    },
    {
     "cell_type": "code",
     "collapsed": false,
     "input": [
      "pgc53 = RC3(0.158333333333,20.0591666667,0.0135471752965,53)\n",
      "pgc53.source_info('SDSS_r_0.158333333333_20.0591666667.fits',SDSS())"
     ],
     "language": "python",
     "metadata": {},
     "outputs": [
      {
       "output_type": "stream",
       "stream": "stdout",
       "text": [
        "1th iteration\n",
        "------------------source_info----------------------\n",
        "Source info for SDSS_r_0.158333333333_20.0591666667.fits\n",
        "Trying to write info into fits file\n",
        "[['PGC    53', '0.158312', '20.059209']]"
       ]
      },
      {
       "output_type": "stream",
       "stream": "stdout",
       "text": [
        "\n",
        "ra,dec of catalog sources\n",
        "rc3_data: [[53, 0.158312, 20.059209]]\n",
        "Radius: [55.69784555977008, 3.2015621187164243, 3.2015621187164243, 2.2360679774997898, 2.5, 1.4142135623730951, 3.6055512754639891, 3.5355339059327378, 6.0207972893961479, 2.8284271247461903, 2.1213203435596424, 1.4142135623730951, 1.1180339887498949, 2.8284271247461903, 2.8284271247461903, 4.9497474683058327, 3.1622776601683795, 2.2360679774997898, 3.3541019662496847, 2.5, 2.1213203435596424, 4.9497474683058327, 9.3005376188691375, 5.8523499553598128, 1.8027756377319946, 1.8027756377319946, 2.2360679774997898, 1.8027756377319946, 3.2015621187164243, 1.4142135623730951]\n",
        "Source is Obvious\n",
        "[55.69784555977008, 3.2015621187164243, 3.2015621187164243, 2.2360679774997898, 2.5, 1.4142135623730951, 3.6055512754639891, 3.5355339059327378, 6.0207972893961479, 2.8284271247461903, 2.1213203435596424, 1.4142135623730951, 1.1180339887498949, 2.8284271247461903, 2.8284271247461903, 4.9497474683058327, 3.1622776601683795, 2.2360679774997898, 3.3541019662496847, 2.5, 2.1213203435596424, 4.9497474683058327, 9.3005376188691375, 5.8523499553598128, 1.8027756377319946, 1.8027756377319946, 2.2360679774997898, 1.8027756377319946, 3.2015621187164243, 1.4142135623730951]\n",
        "Biggest Galaxy with radius 55.6978455598 pixels!\n",
        "new_ra and new_dec: 0.1592950 , +20.0592764  \n",
        "Radii: 55.6978455598 pixel\n",
        "Radii: 0.00612434021478 degrees\n",
        "rc3: 0.158333333333 , updated: 0.1592950 \n",
        "rc3: 20.0591666667 , updated: +20.0592764 \n",
        "rc3: 0.0135471752965 , updated: 0.00612434021478 \n",
        "------------------mosaic_all_bands----------------------\n",
        "------------------mosaic_band----------------------\n",
        "Querying data that lies inside margin\n",
        "('0.1592950', '+20.0592764', 0.0406415258895)\n",
        "result: [['7923', '4', '182'], ['7923', '4', '183']]"
       ]
      }
     ]
    },
    {
     "cell_type": "code",
     "collapsed": false,
     "input": [
      "1"
     ],
     "language": "python",
     "metadata": {},
     "outputs": []
    }
   ],
   "metadata": {}
  }
 ]
}