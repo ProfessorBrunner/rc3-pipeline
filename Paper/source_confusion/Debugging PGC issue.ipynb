{
 "metadata": {
  "name": "",
  "signature": "sha256:f3f9d8513f673e7a2863108ca5e2e4b787917efaec74346a9b3ff860a613e603"
 },
 "nbformat": 3,
 "nbformat_minor": 0,
 "worksheets": [
  {
   "cells": [
    {
     "cell_type": "markdown",
     "metadata": {},
     "source": [
      "Trying this again on shell: "
     ]
    },
    {
     "cell_type": "code",
     "collapsed": false,
     "input": [
      "from rc3 import RC3\n",
      "from sdss import SDSS\n",
      "pgc58 = RC3(0.184583333333,28.4013888889,0.0132388039385,58)\n",
      "pgc58.mosaic_band('r',0.184583333333,28.4013888889,3*0.0132388039385,0.0132388039385,58,SDSS())\n",
      "pgc58.source_info('SDSS_r_0.184583333333_28.4013888889.fits',SDSS()) "
     ],
     "language": "python",
     "metadata": {},
     "outputs": []
    },
    {
     "cell_type": "markdown",
     "metadata": {},
     "source": [
      "Again I verified that a created a directory with PGC 63 Even though resource to did you know source conf is working correctly as verified by the debug Statement printed so now I will go intoRC3.PY and see what exactly happened when I call mosaic_all it seems like source info is doing everything correctly"
     ]
    },
    {
     "cell_type": "code",
     "collapsed": false,
     "input": [],
     "language": "python",
     "metadata": {},
     "outputs": []
    }
   ],
   "metadata": {}
  }
 ]
}