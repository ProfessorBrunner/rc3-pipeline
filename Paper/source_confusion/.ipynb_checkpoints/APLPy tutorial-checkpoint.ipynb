{
 "metadata": {
  "name": "",
  "signature": "sha256:cc10c55f1b6ea6a07edf9b86981b3a1ac346e77296054fa20655d7b15e14900f"
 },
 "nbformat": 3,
 "nbformat_minor": 0,
 "worksheets": [
  {
   "cells": [
    {
     "cell_type": "code",
     "collapsed": false,
     "input": [
      "cd aplypy_tutorial/"
     ],
     "language": "python",
     "metadata": {},
     "outputs": [
      {
       "output_type": "stream",
       "stream": "stdout",
       "text": [
        "/Users/dorislee/Desktop/GSoC2014/rc3-sdss/Paper/source_confusion/aplypy_tutorial\n"
       ]
      }
     ],
     "prompt_number": 1
    },
    {
     "cell_type": "code",
     "collapsed": false,
     "input": [
      "import aplpy"
     ],
     "language": "python",
     "metadata": {},
     "outputs": [],
     "prompt_number": 2
    },
    {
     "cell_type": "code",
     "collapsed": false,
     "input": [
      "gc = aplpy.FITSFigure('fits/2MASS_k.fits')"
     ],
     "language": "python",
     "metadata": {},
     "outputs": [],
     "prompt_number": 3
    },
    {
     "cell_type": "code",
     "collapsed": false,
     "input": [
      "gc.show_grayscale()"
     ],
     "language": "python",
     "metadata": {},
     "outputs": [
      {
       "output_type": "stream",
       "stream": "stderr",
       "text": [
        "INFO:astropy:Auto-setting vmin to  3.554e+02\n"
       ]
      },
      {
       "output_type": "stream",
       "stream": "stderr",
       "text": [
        "INFO:astropy:Auto-setting vmax to  1.798e+03\n"
       ]
      },
      {
       "output_type": "stream",
       "stream": "stdout",
       "text": [
        "\u001b[0;32mINFO\u001b[0m: Auto-setting vmin to  3.554e+02 [aplpy.aplpy]\n",
        "\u001b[0;32mINFO\u001b[0m: Auto-setting vmax to  1.798e+03 [aplpy.aplpy]\n"
       ]
      }
     ],
     "prompt_number": 4
    },
    {
     "cell_type": "code",
     "collapsed": false,
     "input": [
      "gc.show_colorscale()"
     ],
     "language": "python",
     "metadata": {},
     "outputs": [
      {
       "output_type": "stream",
       "stream": "stderr",
       "text": [
        "INFO:astropy:Auto-setting vmin to  3.554e+02\n"
       ]
      },
      {
       "output_type": "stream",
       "stream": "stderr",
       "text": [
        "INFO:astropy:Auto-setting vmax to  1.798e+03\n"
       ]
      },
      {
       "output_type": "stream",
       "stream": "stdout",
       "text": [
        "\u001b[0;32mINFO\u001b[0m: Auto-setting vmin to  3.554e+02 [aplpy.aplpy]\n",
        "\u001b[0;32mINFO\u001b[0m: Auto-setting vmax to  1.798e+03 [aplpy.aplpy]\n"
       ]
      }
     ],
     "prompt_number": 5
    },
    {
     "cell_type": "code",
     "collapsed": false,
     "input": [
      "gc.show_colorscale(cmap='gist_heat')"
     ],
     "language": "python",
     "metadata": {},
     "outputs": [
      {
       "output_type": "stream",
       "stream": "stderr",
       "text": [
        "INFO:astropy:Auto-setting vmin to  3.554e+02\n"
       ]
      },
      {
       "output_type": "stream",
       "stream": "stderr",
       "text": [
        "INFO:astropy:Auto-setting vmax to  1.798e+03\n"
       ]
      },
      {
       "output_type": "stream",
       "stream": "stdout",
       "text": [
        "\u001b[0;32mINFO\u001b[0m: Auto-setting vmin to  3.554e+02 [aplpy.aplpy]\n",
        "\u001b[0;32mINFO\u001b[0m: Auto-setting vmax to  1.798e+03 [aplpy.aplpy]\n"
       ]
      }
     ],
     "prompt_number": 6
    },
    {
     "cell_type": "markdown",
     "metadata": {},
     "source": [
      "FITS -->coord\n",
      "\n",
      "png/jpg/tiff...etc (may need to convert) --> rgb image"
     ]
    },
    {
     "cell_type": "code",
     "collapsed": false,
     "input": [
      "gc.show_rgb('graphics/2MASS_arcsinh_color.png')"
     ],
     "language": "python",
     "metadata": {},
     "outputs": [],
     "prompt_number": 7
    },
    {
     "cell_type": "code",
     "collapsed": false,
     "input": [
      "gc.tick_labels.set_font(size='small')"
     ],
     "language": "python",
     "metadata": {},
     "outputs": [],
     "prompt_number": 11
    },
    {
     "cell_type": "code",
     "collapsed": false,
     "input": [
      "gc.show_contour('fits/mips_24micron.fits', colors='white')"
     ],
     "language": "python",
     "metadata": {},
     "outputs": [],
     "prompt_number": 12
    },
    {
     "cell_type": "code",
     "collapsed": false,
     "input": [
      "gc.add_grid()"
     ],
     "language": "python",
     "metadata": {},
     "outputs": [],
     "prompt_number": 13
    },
    {
     "cell_type": "code",
     "collapsed": false,
     "input": [
      "gc.remove_grid()"
     ],
     "language": "python",
     "metadata": {},
     "outputs": [],
     "prompt_number": 14
    },
    {
     "cell_type": "heading",
     "level": 1,
     "metadata": {},
     "source": [
      "Plotting Sources by give coord"
     ]
    },
    {
     "cell_type": "markdown",
     "metadata": {},
     "source": [
      "**This is what we want to do for source confused galaxies"
     ]
    },
    {
     "cell_type": "code",
     "collapsed": false,
     "input": [
      "import numpy\n",
      "data = numpy.loadtxt('data/yso_wcs_only.txt')\n",
      "ra, dec = data[:, 0], data[:, 1]\n",
      "gc.show_markers(ra, dec, edgecolor='green', facecolor='none',\n",
      "                marker='o', s=10, alpha=0.5)"
     ],
     "language": "python",
     "metadata": {},
     "outputs": [],
     "prompt_number": 15
    },
    {
     "cell_type": "code",
     "collapsed": false,
     "input": [
      "# cat data/yso_wcs_only.txt"
     ],
     "language": "python",
     "metadata": {},
     "outputs": [],
     "prompt_number": 17
    },
    {
     "cell_type": "code",
     "collapsed": false,
     "input": [
      "gc.show_markers([2.66458020e+02],[-2.83410600e+01], edgecolor = 'red',marker='o')"
     ],
     "language": "python",
     "metadata": {},
     "outputs": [],
     "prompt_number": 20
    },
    {
     "cell_type": "markdown",
     "metadata": {},
     "source": [
      "I dont think there is an option in kwargs to specify text beside each data point. So I can instead just using diffferent colors for each pgc and then create a side legend that says which is which."
     ]
    },
    {
     "cell_type": "markdown",
     "metadata": {},
     "source": [
      "Another idea, we can generate a plot of all the distribution of rc3 galaxy in the whole celecial spherewith this method and using Aitoff projection "
     ]
    },
    {
     "cell_type": "code",
     "collapsed": false,
     "input": [
      "gc.show_markers(ra, dec, layer='marker_set_1', edgecolor='red',\n",
      "                facecolor='none', marker='o', s=10, alpha=0.5)"
     ],
     "language": "python",
     "metadata": {},
     "outputs": [],
     "prompt_number": 21
    },
    {
     "cell_type": "code",
     "collapsed": false,
     "input": [
      "gc.save('myfirstplot.png')"
     ],
     "language": "python",
     "metadata": {},
     "outputs": [],
     "prompt_number": 22
    },
    {
     "cell_type": "code",
     "collapsed": false,
     "input": [
      "ls"
     ],
     "language": "python",
     "metadata": {},
     "outputs": [
      {
       "output_type": "stream",
       "stream": "stdout",
       "text": [
        "\u001b[34mdata\u001b[m\u001b[m/            \u001b[34mgraphics\u001b[m\u001b[m/\r\n",
        "\u001b[34mfits\u001b[m\u001b[m/            myfirstplot.png\r\n"
       ]
      }
     ],
     "prompt_number": 23
    },
    {
     "cell_type": "code",
     "collapsed": false,
     "input": [],
     "language": "python",
     "metadata": {},
     "outputs": []
    }
   ],
   "metadata": {}
  }
 ]
}