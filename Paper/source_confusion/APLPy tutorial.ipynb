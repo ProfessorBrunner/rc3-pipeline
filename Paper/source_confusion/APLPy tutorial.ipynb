{
 "metadata": {
  "name": "",
  "signature": "sha256:4cedf68f12940c99d24cb2c52e7df262d5018e608cebc5ddfdc5177d06b72839"
 },
 "nbformat": 3,
 "nbformat_minor": 0,
 "worksheets": [
  {
   "cells": [
    {
     "cell_type": "code",
     "collapsed": false,
     "input": [
      "cd aplypy_tutorial/"
     ],
     "language": "python",
     "metadata": {},
     "outputs": [
      {
       "output_type": "stream",
       "stream": "stdout",
       "text": [
        "/Users/dorislee/Desktop/GSoC2014/rc3-sdss/Paper/source_confusion/aplypy_tutorial\n"
       ]
      }
     ],
     "prompt_number": 1
    },
    {
     "cell_type": "code",
     "collapsed": false,
     "input": [
      "import aplpy"
     ],
     "language": "python",
     "metadata": {},
     "outputs": [],
     "prompt_number": 2
    },
    {
     "cell_type": "code",
     "collapsed": false,
     "input": [
      "gc = aplpy.FITSFigure('fits/2MASS_k.fits')"
     ],
     "language": "python",
     "metadata": {},
     "outputs": [],
     "prompt_number": 3
    },
    {
     "cell_type": "code",
     "collapsed": false,
     "input": [
      "gc.show_grayscale()"
     ],
     "language": "python",
     "metadata": {},
     "outputs": [
      {
       "output_type": "stream",
       "stream": "stderr",
       "text": [
        "INFO:astropy:Auto-setting vmin to  3.554e+02\n"
       ]
      },
      {
       "output_type": "stream",
       "stream": "stderr",
       "text": [
        "INFO:astropy:Auto-setting vmax to  1.798e+03\n"
       ]
      },
      {
       "output_type": "stream",
       "stream": "stdout",
       "text": [
        "\u001b[0;32mINFO\u001b[0m: Auto-setting vmin to  3.554e+02 [aplpy.aplpy]\n",
        "\u001b[0;32mINFO\u001b[0m: Auto-setting vmax to  1.798e+03 [aplpy.aplpy]\n"
       ]
      }
     ],
     "prompt_number": 4
    },
    {
     "cell_type": "code",
     "collapsed": false,
     "input": [
      "gc.show_colorscale()"
     ],
     "language": "python",
     "metadata": {},
     "outputs": [
      {
       "output_type": "stream",
       "stream": "stderr",
       "text": [
        "INFO:astropy:Auto-setting vmin to  3.554e+02\n"
       ]
      },
      {
       "output_type": "stream",
       "stream": "stderr",
       "text": [
        "INFO:astropy:Auto-setting vmax to  1.798e+03\n"
       ]
      },
      {
       "output_type": "stream",
       "stream": "stdout",
       "text": [
        "\u001b[0;32mINFO\u001b[0m: Auto-setting vmin to  3.554e+02 [aplpy.aplpy]\n",
        "\u001b[0;32mINFO\u001b[0m: Auto-setting vmax to  1.798e+03 [aplpy.aplpy]\n"
       ]
      }
     ],
     "prompt_number": 5
    },
    {
     "cell_type": "code",
     "collapsed": false,
     "input": [
      "gc.show_colorscale(cmap='gist_heat')"
     ],
     "language": "python",
     "metadata": {},
     "outputs": [
      {
       "output_type": "stream",
       "stream": "stderr",
       "text": [
        "INFO:astropy:Auto-setting vmin to  3.554e+02\n"
       ]
      },
      {
       "output_type": "stream",
       "stream": "stderr",
       "text": [
        "INFO:astropy:Auto-setting vmax to  1.798e+03\n"
       ]
      },
      {
       "output_type": "stream",
       "stream": "stdout",
       "text": [
        "\u001b[0;32mINFO\u001b[0m: Auto-setting vmin to  3.554e+02 [aplpy.aplpy]\n",
        "\u001b[0;32mINFO\u001b[0m: Auto-setting vmax to  1.798e+03 [aplpy.aplpy]\n"
       ]
      }
     ],
     "prompt_number": 6
    },
    {
     "cell_type": "markdown",
     "metadata": {},
     "source": [
      "FITS -->coord\n",
      "\n",
      "png/jpg/tiff...etc (may need to convert) --> rgb image"
     ]
    },
    {
     "cell_type": "code",
     "collapsed": false,
     "input": [
      "gc.show_rgb('graphics/2MASS_arcsinh_color.png')"
     ],
     "language": "python",
     "metadata": {},
     "outputs": [],
     "prompt_number": 7
    },
    {
     "cell_type": "code",
     "collapsed": false,
     "input": [
      "gc.tick_labels.set_font(size='small')"
     ],
     "language": "python",
     "metadata": {},
     "outputs": [],
     "prompt_number": 11
    },
    {
     "cell_type": "code",
     "collapsed": false,
     "input": [
      "gc.show_contour('fits/mips_24micron.fits', colors='white')"
     ],
     "language": "python",
     "metadata": {},
     "outputs": [],
     "prompt_number": 12
    },
    {
     "cell_type": "code",
     "collapsed": false,
     "input": [
      "gc.add_grid()"
     ],
     "language": "python",
     "metadata": {},
     "outputs": [],
     "prompt_number": 13
    },
    {
     "cell_type": "code",
     "collapsed": false,
     "input": [
      "gc.remove_grid()"
     ],
     "language": "python",
     "metadata": {},
     "outputs": [],
     "prompt_number": 14
    },
    {
     "cell_type": "heading",
     "level": 1,
     "metadata": {},
     "source": [
      "Plotting Sources by give coord"
     ]
    },
    {
     "cell_type": "markdown",
     "metadata": {},
     "source": [
      "**This is what we want to do for source confused galaxies"
     ]
    },
    {
     "cell_type": "code",
     "collapsed": false,
     "input": [
      "import numpy\n",
      "data = numpy.loadtxt('data/yso_wcs_only.txt')\n",
      "ra, dec = data[:, 0], data[:, 1]\n",
      "gc.show_markers(ra, dec, edgecolor='green', facecolor='none',\n",
      "                marker='o', s=10, alpha=0.5)"
     ],
     "language": "python",
     "metadata": {},
     "outputs": [],
     "prompt_number": 15
    },
    {
     "cell_type": "code",
     "collapsed": false,
     "input": [
      "# cat data/yso_wcs_only.txt"
     ],
     "language": "python",
     "metadata": {},
     "outputs": [],
     "prompt_number": 17
    },
    {
     "cell_type": "code",
     "collapsed": false,
     "input": [
      "gc.show_markers([2.66458020e+02],[-2.83410600e+01], edgecolor = 'red',marker='o')"
     ],
     "language": "python",
     "metadata": {},
     "outputs": [],
     "prompt_number": 20
    },
    {
     "cell_type": "markdown",
     "metadata": {},
     "source": [
      "I dont think there is an option in kwargs to specify text beside each data point. So I can instead just using diffferent colors for each pgc and then create a side legend that says which is which."
     ]
    },
    {
     "cell_type": "markdown",
     "metadata": {},
     "source": [
      "Another idea, we can generate a plot of all the distribution of rc3 galaxy in the whole celecial spherewith this method and using Aitoff projection "
     ]
    },
    {
     "cell_type": "code",
     "collapsed": false,
     "input": [
      "gc.show_markers(ra, dec, layer='marker_set_1', edgecolor='red',\n",
      "                facecolor='none', marker='o', s=10, alpha=0.5)"
     ],
     "language": "python",
     "metadata": {},
     "outputs": [],
     "prompt_number": 21
    },
    {
     "cell_type": "code",
     "collapsed": false,
     "input": [
      "gc.save('myfirstplot.png')"
     ],
     "language": "python",
     "metadata": {},
     "outputs": [],
     "prompt_number": 22
    },
    {
     "cell_type": "code",
     "collapsed": false,
     "input": [
      "ls"
     ],
     "language": "python",
     "metadata": {},
     "outputs": [
      {
       "output_type": "stream",
       "stream": "stdout",
       "text": [
        "\u001b[34mdata\u001b[m\u001b[m/            \u001b[34mgraphics\u001b[m\u001b[m/\r\n",
        "\u001b[34mfits\u001b[m\u001b[m/            myfirstplot.png\r\n"
       ]
      }
     ],
     "prompt_number": 23
    },
    {
     "cell_type": "code",
     "collapsed": false,
     "input": [
      "cd .."
     ],
     "language": "python",
     "metadata": {},
     "outputs": [
      {
       "output_type": "stream",
       "stream": "stdout",
       "text": [
        "/Users/dorislee/Desktop/GSoC2014/rc3-sdss/Paper/source_confusion\n"
       ]
      }
     ],
     "prompt_number": 24
    },
    {
     "cell_type": "code",
     "collapsed": false,
     "input": [
      "ls"
     ],
     "language": "python",
     "metadata": {},
     "outputs": [
      {
       "output_type": "stream",
       "stream": "stdout",
       "text": [
        "APLPy tutorial.ipynb\r\n",
        "Reconstructing image before and after source confusion.ipynb\r\n",
        "\u001b[34maplypy_tutorial\u001b[m\u001b[m/\r\n",
        "rc3.py\r\n",
        "\u001b[34mrfits\u001b[m\u001b[m/\r\n"
       ]
      }
     ],
     "prompt_number": 25
    },
    {
     "cell_type": "code",
     "collapsed": false,
     "input": [
      "cd rfits/"
     ],
     "language": "python",
     "metadata": {},
     "outputs": [
      {
       "output_type": "stream",
       "stream": "stdout",
       "text": [
        "/Users/dorislee/Desktop/GSoC2014/rc3-sdss/Paper/source_confusion/rfits\n"
       ]
      }
     ],
     "prompt_number": 26
    },
    {
     "cell_type": "code",
     "collapsed": false,
     "input": [
      "ls"
     ],
     "language": "python",
     "metadata": {},
     "outputs": [
      {
       "output_type": "stream",
       "stream": "stdout",
       "text": [
        "\u001b[34m0.1557459,+33.6017242\u001b[m\u001b[m/\r\n",
        "\u001b[34m0.1581354,+28.3844687\u001b[m\u001b[m/\r\n",
        "\u001b[34m0.1592579,+20.0592349\u001b[m\u001b[m/\r\n",
        "\u001b[34m0.1867717,+28.4015153\u001b[m\u001b[m/\r\n",
        "\u001b[34m0.1914276,+28.4015731\u001b[m\u001b[m/\r\n",
        "SDSS_r_0.158333333333_20.0591666667.fits\r\n",
        "SDSS_r_0.159583333333_28.385.fits\r\n",
        "SDSS_r_0.15_33.6016666667.fits\r\n",
        "SDSS_r_0.184583333333_28.4013888889.fits\r\n",
        "SDSS_r_0.195_28.4027777778.fits\r\n",
        "check.fits\r\n",
        "default.conv\r\n",
        "default.nnw\r\n",
        "default.param\r\n",
        "default.sex\r\n",
        "rc3.py\r\n",
        "rc3_galaxies_outside_SDSS_footprint.txt\r\n",
        "rc3_galaxies_unclean\r\n",
        "rc3_ra_dec_diameter_pgc.txt\r\n",
        "rc3_updated.txt\r\n",
        "sqlcl.py\r\n",
        "sqlcl.pyc\r\n",
        "test.cat\r\n"
       ]
      }
     ],
     "prompt_number": 27
    },
    {
     "cell_type": "code",
     "collapsed": false,
     "input": [],
     "language": "python",
     "metadata": {},
     "outputs": [],
     "prompt_number": 28
    },
    {
     "cell_type": "code",
     "collapsed": false,
     "input": [],
     "language": "python",
     "metadata": {},
     "outputs": []
    }
   ],
   "metadata": {}
  }
 ]
}