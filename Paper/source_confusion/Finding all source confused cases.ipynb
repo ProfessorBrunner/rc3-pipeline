{
 "metadata": {
  "name": "",
  "signature": "sha256:7fb26d7194882818218132834b0f28d81d9675c966f4cb6e03edf53090281bfd"
 },
 "nbformat": 3,
 "nbformat_minor": 0,
 "worksheets": [
  {
   "cells": [
    {
     "cell_type": "markdown",
     "metadata": {},
     "source": [
      "Find all that is source confused up to the stopped DSS run"
     ]
    },
    {
     "cell_type": "code",
     "collapsed": false,
     "input": [
      "ls -d */| grep *_* "
     ],
     "language": "python",
     "metadata": {},
     "outputs": []
    },
    {
     "cell_type": "code",
     "collapsed": false,
     "input": [
      "I dfound one that is 5 source confusion, this is the most that I have for now.\n",
      "ls -d */| grep *_5\n",
      "15141_5/\n"
     ],
     "language": "python",
     "metadata": {},
     "outputs": []
    },
    {
     "cell_type": "code",
     "collapsed": false,
     "input": [
      "Find an optimal radius such that I can find all sound confused galaxy"
     ],
     "language": "python",
     "metadata": {},
     "outputs": []
    }
   ],
   "metadata": {}
  }
 ]
}