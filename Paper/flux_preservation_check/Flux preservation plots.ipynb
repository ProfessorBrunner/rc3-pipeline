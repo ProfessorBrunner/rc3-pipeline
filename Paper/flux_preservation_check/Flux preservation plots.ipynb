{
 "metadata": {
  "name": "",
  "signature": "sha256:89c7a30fdf29df8da2508fbd7c17cf95ec12a016cfc9a9729736af9d48729497"
 },
 "nbformat": 3,
 "nbformat_minor": 0,
 "worksheets": [
  {
   "cells": [
    {
     "cell_type": "code",
     "collapsed": false,
     "input": [
      "%pylab\n",
      "%matplotlib inline"
     ],
     "language": "python",
     "metadata": {},
     "outputs": [
      {
       "output_type": "stream",
       "stream": "stdout",
       "text": [
        "Using matplotlib backend: MacOSX\n",
        "Populating the interactive namespace from numpy and matplotlib\n"
       ]
      }
     ],
     "prompt_number": 11
    },
    {
     "cell_type": "code",
     "collapsed": false,
     "input": [
      "import numpy as np"
     ],
     "language": "python",
     "metadata": {},
     "outputs": [],
     "prompt_number": 3
    },
    {
     "cell_type": "code",
     "collapsed": false,
     "input": [
      "# mag_mosaic =np.array([-907336000000.0, -713758200000.0, -1259589400000.0, -1424888300000.0, -902536800000.0, -708770600000.0, -803339700000.0, -684872100000.0, -818186800000.0, -1144792900000.0, -856401100000.0, -742387100000.0, -1010274100000.0, -811230300000.0, -1168408000000.0, -920465700000.0, -678505800000.0, -973104800000.0, -1054520800000.0, -574885000000.0, -560213800000.0, -713256200000.0, -1196170500000.0, -840903400000.0, -718635700000.0, -994485800000.0, -746268900000.0, -1108072100000.0, -1036175100000.0, -2091531400000.0, -1008541300000.0, -1003852600000.0, -1209617000000.0, -657250900000.0, -1443635000000.0, -1175462900000.0])\n",
      "# mag_rawdata = np.array([-21019900000.0, -907336000000.0, -15589800000.0, -806600000.0, 3067600000.0, -19710900000.0, -3904400000.0, 1346900000.0, -13179400000.0, -18650600000.0, -6903600000.0, 10188100000.0, -15221400000.0, -6762100000.0, -27640100000.0, -5043900000.0, -7582600000.0, -12589100000.0, -12646600000.0, -13860800000.0, -23715000000.0, -43374200000.0, -72488700000.0, -49855000000.0, 20264800000.0, -718635700000.0, 7056400000.0, -10697000000.0, -6568600000.0, -1036175100000.0, -2091531400000.0, -1008541300000.0, -10014500000.0, -16162400000.0, -7104400000.0, -2970800000.0])"
     ],
     "language": "python",
     "metadata": {},
     "outputs": [],
     "prompt_number": 5
    },
    {
     "cell_type": "code",
     "collapsed": false,
     "input": [
      "mag_rawdata =np.array([26890.03138929999, 13498.473230400003, 58731.890109799984, 92212.72311470004, 32727.07814379999, 19633.745835099995, 65150.93016039996, 37115.14712730001, 19391.725846199995, 44516.99801660002, 64706.861053100016, 18708.714803700008, 78985.07115250008, 45435.55809200005, 48761.031340900015, 41084.2181117, 39654.228138700026, 71133.41827030003, 37506.25689559999, 14947.120303500005, 21745.30115860001, 25921.939546999987, 43377.100415900066, 40752.97388840002, 13144.740056599992, 49676.178844999966, 28705.05671480002, 40160.57937960002, 36507.50892280002, 282662.14057469973, 53737.093361500025, 33310.8602992, 65019.759120400005, 29836.07314740001, 72551.47921380008, 43650.43317320002])\n",
      "mag_mosaic = np.array([852.0362150000001, 13498.473230400003, 479.68089, 926.7195336000002, 278.95820569999995, 526.4342924000001, 260.4839595, 105.051823, 1060.1103845000002, 3236.4939259, 755.0739161, 94.13486449, 339.92976100000004, 506.1611, 1096.4812447999998, 587.7998078999999, 432.6501043, 306.611765, 396.35509040000005, 1312.558139, 1685.7375370000002, 968.1602204000001, 2855.9804421, 5819.821585199996, 866.2839891, 49676.178844999966, 893.4065423999999, 472.42679810000004, 206.81313459999998, 282662.14057469973, 53737.093361500025, 33310.8602992, 539.2040278, 535.3959998, 231.593091, 188.03171500000002])"
     ],
     "language": "python",
     "metadata": {},
     "outputs": [],
     "prompt_number": 15
    },
    {
     "cell_type": "heading",
     "level": 3,
     "metadata": {},
     "source": [
      "Percentage change before and after mosaicing"
     ]
    },
    {
     "cell_type": "code",
     "collapsed": false,
     "input": [
      "(abs(mag_mosaic-mag_rawdata)/mag_rawdata)*100"
     ],
     "language": "python",
     "metadata": {},
     "outputs": [
      {
       "metadata": {},
       "output_type": "pyout",
       "prompt_number": 21,
       "text": [
        "array([ 96.83140491,   0.        ,  99.18327013,  98.99501988,\n",
        "        99.14762264,  97.31872717,  99.60018382,  99.71695701,\n",
        "        94.53318187,  92.72975701,  98.83308523,  99.49683949,\n",
        "        99.56962783,  98.88598023,  97.75131654,  98.56928077,\n",
        "        98.90894332,  99.56896242,  98.94322942,  91.21865542,\n",
        "        92.24780782,  96.26509344,  93.41592588,  85.71927143,\n",
        "        93.40965295,   0.        ,  96.88763359,  98.82365542,\n",
        "        99.43350521,   0.        ,   0.        ,   0.        ,\n",
        "        99.17070744,  98.20554134,  99.68078791,  99.56923288])"
       ]
      }
     ],
     "prompt_number": 21
    },
    {
     "cell_type": "code",
     "collapsed": false,
     "input": [
      "plot(mag_mosaic,mag_rawdata,'o')"
     ],
     "language": "python",
     "metadata": {},
     "outputs": [
      {
       "metadata": {},
       "output_type": "pyout",
       "prompt_number": 18,
       "text": [
        "[<matplotlib.lines.Line2D at 0x10f8bb410>]"
       ]
      },
      {
       "metadata": {},
       "output_type": "display_data",
       "png": "[encoded data removed]",
       "text": [
        "<matplotlib.figure.Figure at 0x10f890390>"
       ]
      }
     ],
     "prompt_number": 18
    },
    {
     "cell_type": "markdown",
     "metadata": {},
     "source": [
      "Check if there are logic error in this program (I suspect there is.)\n",
      "Running flux_preserved.py on only two galaxy by changins  what is inside sample.txt\n",
      "Result:\n",
      "mag_mosaic =[852.0362150000001, 13498.473230400003]\n",
      "mag_rawdata=[26890.03138929999, 13498.473230400003]\n",
      "So one error, pgc39 is bad choice since no mosaicking is done (only one field in raw data)\n",
      "\n",
      "Another error: sextractor param must be in the same directory as where we are running it. So we need to copy the SDSS_r file there.\n",
      "Another error is that right now we are taking any raw frame data, we should just be taking teh one denoted by teh r badn. It might be better to change the inside of rc3.py so that no rc3 raw data  is removed after mosacking"
     ]
    },
    {
     "cell_type": "markdown",
     "metadata": {},
     "source": [
      "[(^)852.0362150000001, 479.68089, 926.7195336000002]\n",
      "[26890.03138929999, 58731.890109799984, 92212.72311470004]\n"
     ]
    },
    {
     "cell_type": "code",
     "collapsed": false,
     "input": [
      "from sdss import SDSS\n",
      "from rc3 import *\n",
      "from skyserver import *\n",
      "ra = 0.1              \n",
      "dec  =  17.225   \n",
      "radius =  0.0289633472037\n",
      "pgc  = 38  \n",
      "rc3Obj= RC3(ra,dec,radius,pgc)\n",
      "ss = SkyServer()\n",
      "info = ss.surveyFieldConverter(rc3Obj.rc3_ra,rc3Obj.rc3_dec,3*rc3Obj.rc3_radius)\n",
      "print info\n",
      "for i in info:\n",
      "    ss.getData('r',i[0],i[1],i[2])\n",
      "    \n",
      "import glob\n",
      "# Selecting any one raw data field, no need to sum together the flux from all fields\n",
      "x= glob.glob(\"frame-*\")\n",
      "print (x)\n",
      "print (x[0])\n"
     ],
     "language": "python",
     "metadata": {},
     "outputs": []
    },
    {
     "cell_type": "code",
     "collapsed": false,
     "input": [
      " sum (mag_lst)\n",
      "26890.03138929999"
     ],
     "language": "python",
     "metadata": {},
     "outputs": []
    },
    {
     "cell_type": "code",
     "collapsed": false,
     "input": [
      "Verified that the program runs as  it should be running by manually checking the results. Not sure "
     ],
     "language": "python",
     "metadata": {},
     "outputs": []
    },
    {
     "cell_type": "heading",
     "level": 4,
     "metadata": {},
     "source": [
      "Running with parameter FLUX_ISOCOR"
     ]
    },
    {
     "cell_type": "code",
     "collapsed": false,
     "input": [
      "[852.0362150000001, 479.68089, 926.7195336000002, 278.95820569999995, 526.4342924000001, 260.4839595, 105.051823, 1060.1103845000002, 3236.4939259, 755.0739161, 94.13486449, 339.92976100000004, 506.1611, 1096.4812447999998, 587.7998078999999, 432.6501043, 306.611765, 396.35509040000005, 1312.558139, 1685.7375370000002, 968.1602204000001, 2855.9804421, 5819.821585199996, 866.2839891]\n",
      "[26890.03138929999, 58731.890109799984, 92212.72311470004, 32727.07814379999, 19633.745835099995, 65150.93016039996, 37115.14712730001, 19391.725846199995, 44516.99801660002, 64706.861053100016, 18708.714803700008, 78985.07115250008, 45435.55809200005, 48761.031340900015, 41084.2181117, 39654.228138700026, 71133.41827030003, 37506.25689559999, 14947.120303500005, 21745.30115860001, 25921.939546999987, 43377.100415900066, 40752.97388840002, 13144.740056599992]"
     ],
     "language": "python",
     "metadata": {},
     "outputs": []
    },
    {
     "cell_type": "heading",
     "level": 4,
     "metadata": {},
     "source": [
      "Running with parameter MAG_ISOCOR"
     ]
    },
    {
     "cell_type": "code",
     "collapsed": false,
     "input": [
      "mag_mosaic = np.array([-28.867700000000003, -15.0625, -17.884999999999998, -6.6121, -17.143700000000003, -13.292800000000002, -12.488499999999998, -11.8494, -22.548199999999998, -11.256, 8.0826, -8.933699999999998, -6.7607, -25.4912, -10.6424, -7.582599999999999, -12.2087, -11.7571, -16.0888, -24.131899999999995, -32.47560000000001, -68.56099999999999, -42.06309999999997, 18.8337])\n",
      "mag_rawdata= np.array([-907.3359999999999, -1259.5893999999996, -1424.8883000000008, -902.5368000000004, -708.7706000000004, -803.3397000000002, -684.8721000000002, -818.1868000000001, -1144.7929000000004, -856.4010999999996, -742.3871000000004, -1010.2740999999997, -811.2303000000002, -1168.4080000000001, -920.4656999999991, -678.5058000000005, -973.1048000000001, -1054.5207999999996, -574.8850000000001, -560.2138000000001, -713.2562000000001, -1196.1704999999995, -840.9034000000004, -718.6357000000003])"
     ],
     "language": "python",
     "metadata": {},
     "outputs": [],
     "prompt_number": 24
    },
    {
     "cell_type": "code",
     "collapsed": false,
     "input": [
      "len([-28.867700000000003, -15.0625, -17.884999999999998, -6.6121, -17.143700000000003, -13.292800000000002, -12.488499999999998, -11.8494, -22.548199999999998, -11.256, 8.0826, -8.933699999999998, -6.7607, -25.4912, -10.6424, -7.582599999999999, -12.2087, -11.7571, -16.0888, -24.131899999999995, -32.47560000000001, -68.56099999999999, -42.06309999999997, 18.8337])"
     ],
     "language": "python",
     "metadata": {},
     "outputs": [
      {
       "metadata": {},
       "output_type": "pyout",
       "prompt_number": 23,
       "text": [
        "24"
       ]
      }
     ],
     "prompt_number": 23
    },
    {
     "cell_type": "code",
     "collapsed": false,
     "input": [
      "(abs(mag_mosaic-mag_rawdata)/mag_rawdata)*100"
     ],
     "language": "python",
     "metadata": {},
     "outputs": [
      {
       "metadata": {},
       "output_type": "pyout",
       "prompt_number": 27,
       "text": [
        "array([ -96.81841126,  -98.8041738 ,  -98.74481389,  -99.26738721,\n",
        "        -97.58120611,  -98.34530772,  -98.17652084,  -98.55174882,\n",
        "        -98.03036864,  -98.68566259, -101.0887312 ,  -99.11571523,\n",
        "        -99.1666115 ,  -97.81829635,  -98.84380265,  -98.88245613,\n",
        "        -98.74538693,  -98.88507652,  -97.2013881 ,  -95.69237673,\n",
        "        -95.44685346,  -94.26829202,  -94.99786777, -102.62075764])"
       ]
      }
     ],
     "prompt_number": 27
    },
    {
     "cell_type": "code",
     "collapsed": false,
     "input": [
      "(mag_mosaic/mag_rawdata)*100"
     ],
     "language": "python",
     "metadata": {},
     "outputs": [
      {
       "metadata": {},
       "output_type": "pyout",
       "prompt_number": 29,
       "text": [
        "array([ 3.18158874,  1.1958262 ,  1.25518611,  0.73261279,  2.41879389,\n",
        "        1.65469228,  1.82347916,  1.44825118,  1.96963136,  1.31433741,\n",
        "       -1.0887312 ,  0.88428477,  0.8333885 ,  2.18170365,  1.15619735,\n",
        "        1.11754387,  1.25461307,  1.11492348,  2.7986119 ,  4.30762327,\n",
        "        4.55314654,  5.73170798,  5.00213223, -2.62075764])"
       ]
      }
     ],
     "prompt_number": 29
    },
    {
     "cell_type": "code",
     "collapsed": false,
     "input": [
      "plot(mag_mosaic,mag_rawdata,'o')"
     ],
     "language": "python",
     "metadata": {},
     "outputs": [
      {
       "metadata": {},
       "output_type": "pyout",
       "prompt_number": 30,
       "text": [
        "[<matplotlib.lines.Line2D at 0x10f9b95d0>]"
       ]
      },
      {
       "metadata": {},
       "output_type": "display_data",
       "png": "[encoded data removed]",
       "text": [
        "<matplotlib.figure.Figure at 0x10f89da50>"
       ]
      }
     ],
     "prompt_number": 30
    },
    {
     "cell_type": "code",
     "collapsed": false,
     "input": [
      "mag_mosaic = np.array([-7.4153, -12.222399999999999, -9.706299999999999, -10.281, -6.9943])\n",
      "mag_rawdata= np.array([-7.3855, -8.7754, -7.6199, -6.6073, -9.0554])"
     ],
     "language": "python",
     "metadata": {},
     "outputs": [],
     "prompt_number": 31
    },
    {
     "cell_type": "code",
     "collapsed": false,
     "input": [
      "plot(mag_mosaic,mag_rawdata,'o')"
     ],
     "language": "python",
     "metadata": {},
     "outputs": [
      {
       "metadata": {},
       "output_type": "pyout",
       "prompt_number": 32,
       "text": [
        "[<matplotlib.lines.Line2D at 0x10fa4b950>]"
       ]
      },
      {
       "metadata": {},
       "output_type": "display_data",
       "png": "[encoded data removed]",
       "text": [
        "<matplotlib.figure.Figure at 0x10f9c9550>"
       ]
      }
     ],
     "prompt_number": 32
    },
    {
     "cell_type": "code",
     "collapsed": false,
     "input": [
      "mag_mosaic = abs(np.array([-7.4153, -12.222399999999999, -9.706299999999999, -10.281, -6.9943]))\n",
      "mag_rawdata= abs(np.array([-7.3855, -8.7754, -7.6199, -6.6073, -9.0554]))"
     ],
     "language": "python",
     "metadata": {},
     "outputs": [],
     "prompt_number": 33
    },
    {
     "cell_type": "code",
     "collapsed": false,
     "input": [
      "plot(mag_mosaic,mag_rawdata,'o')"
     ],
     "language": "python",
     "metadata": {},
     "outputs": [
      {
       "metadata": {},
       "output_type": "pyout",
       "prompt_number": 34,
       "text": [
        "[<matplotlib.lines.Line2D at 0x10fadd250>]"
       ]
      },
      {
       "metadata": {},
       "output_type": "display_data",
       "png": "[encoded data removed]",
       "text": [
        "<matplotlib.figure.Figure at 0x10f8c1910>"
       ]
      }
     ],
     "prompt_number": 34
    },
    {
     "cell_type": "code",
     "collapsed": false,
     "input": [
      "mag_mosaic= [-7.4153, -9.5678, -12.222399999999999, -9.706299999999999, -10.281, -6.9943, -27.702, -8.089500000000001, -30.3373, -6.9813, -23.3301, -9.592600000000001]\n",
      "mag_rawdata= [-7.3855, -6.7701, -8.7754, -7.6199, -6.6073, -9.0554, -8.8058, -10.1291, -8.8058, -9.041, -9.6497, -7.9073]"
     ],
     "language": "python",
     "metadata": {},
     "outputs": [],
     "prompt_number": 35
    },
    {
     "cell_type": "markdown",
     "metadata": {},
     "source": [
      "broke at PGC 282 single field"
     ]
    },
    {
     "cell_type": "code",
     "collapsed": false,
     "input": [
      "plot(abs(np.array(mag_mosaic)),abs(np.array(mag_rawdata)),'o')"
     ],
     "language": "python",
     "metadata": {},
     "outputs": [
      {
       "metadata": {},
       "output_type": "pyout",
       "prompt_number": 38,
       "text": [
        "[<matplotlib.lines.Line2D at 0x10fba5410>]"
       ]
      },
      {
       "metadata": {},
       "output_type": "display_data",
       "png": "[encoded data removed]",
       "text": [
        "<matplotlib.figure.Figure at 0x10bdcf390>"
       ]
      }
     ],
     "prompt_number": 38
    },
    {
     "cell_type": "code",
     "collapsed": false,
     "input": [
      "PGC2537"
     ],
     "language": "python",
     "metadata": {},
     "outputs": []
    },
    {
     "cell_type": "code",
     "collapsed": false,
     "input": [
      "mag_mosaic= abs(np.array([-7.4153, -9.5678, -12.222399999999999, -9.706299999999999, -10.281, -6.9943, -27.702, -8.089500000000001, -30.3373, -6.9813, -23.3301, -9.592600000000001]+[-9.706299999999999, -11.8965, -4.489600000000001, -8.3446, -17.4015, 14.1384, -7.1328, -8.5588, -6.6315, 4.028099999999999, -12.684299999999999, -11.662500000000001, 4.945099999999997, -6.3019, -6.0409, -121.47569999999999, 5.7582, 16.429499999999997, -5.8724]+[-7.237500000000001, -7.061, 5.227499999999999, -19.1068, -4.4478, -7.9753, -10.603200000000001, -5.5422, -17.054, -28.607899999999997, -8.6305, -4.3953999999999995, 1.7533, -6.1578, -10.8046, -7.662, -10.927399999999999, -13.1119, -5.9178, 7.0666, -4.2686, -20.2235, -6.416, -9.9473, -8.9749, -9.0104, -9.8328, -5.5655, -7.2695, -5.5521, 140.09869999999995, -10.3793, -38.262699999999995, -8.1795, -5.9854, 10.543500000000002, -31.672599999999996, -2.0571, -15.531500000000001, -10.8025, -8.434099999999999, -6.4677, -9.7558, -10.3572, -8.217, -14.7594, 12.2, -10.197, -9.5368, -5.8476, -4.9284, -16.582200000000004, -4.228200000000001, -8.6608, -16.0867, -4.9763, -17.7586, -32.667199999999994, -6.5057, -40.53540000000001, -13.8445, -19.791, -10.560599999999999, -28.997499999999995, -8.8208, -10.658, -12.6037, -4.8112]))\n",
      "mag_rawdata= abs(np.array([-7.3855, -6.7701, -8.7754, -7.6199, -6.6073, -9.0554, -8.8058, -10.1291, -8.8058, -9.041, -9.6497, -7.9073]+[-7.6199, -10.2601, -10.6671, -9.5062, -9.703, -8.7967, -9.1909, -6.8308, -9.5837, -8.9422, -10.0264, -10.0264, -10.0053, -10.564, -9.31, -10.0509, -9.7272, -10.2746, -7.6111]+[-8.9883, -9.0979, -7.6259, -9.479, -8.6672, -8.6607, -8.0438, -7.7498, -9.5681, -10.0101, -6.7405, -8.3639, -8.2626, -8.5234, -8.2654, -9.6987, -9.4978, -8.9623, -8.9623, -9.9331, -6.8109, -12.094, -8.5377, -9.3266, -9.0978, -10.6988, -10.2157, -7.833, -9.2962, -9.0051, -8.7584, -8.4776, -8.8499, -10.7016, -7.6166, -10.4122, -10.4155, -8.0391, -9.6457, -9.6599, -8.543, -10.3538, -11.3308, -10.0324, -8.1828, -8.6194, -7.2031, -12.0819, -8.4955, -9.1282, -9.3348, -6.524, -11.2822, -9.5701, -11.3284, -9.2472, -9.9508, -10.5821, -8.6252, -8.8995, -8.7126, -8.785, -10.1218, -7.3747, -9.2824, -12.2096, -8.8496, -10.2496]))"
     ],
     "language": "python",
     "metadata": {},
     "outputs": [],
     "prompt_number": 77
    },
    {
     "cell_type": "code",
     "collapsed": false,
     "input": [
      "len(mag_mosaic)\n",
      "len(mag_rawdata)"
     ],
     "language": "python",
     "metadata": {},
     "outputs": [
      {
       "metadata": {},
       "output_type": "pyout",
       "prompt_number": 79,
       "text": [
        "99"
       ]
      }
     ],
     "prompt_number": 79
    },
    {
     "cell_type": "code",
     "collapsed": false,
     "input": [
      "pylab.plot(mag_mosaic,mag_rawdata,'o')"
     ],
     "language": "python",
     "metadata": {},
     "outputs": [
      {
       "metadata": {},
       "output_type": "pyout",
       "prompt_number": 73,
       "text": [
        "[<matplotlib.lines.Line2D at 0x10fff6290>]"
       ]
      },
      {
       "metadata": {},
       "output_type": "display_data",
       "png": "[encoded data removed]",
       "text": [
        "<matplotlib.figure.Figure at 0x10fd64610>"
       ]
      }
     ],
     "prompt_number": 73
    },
    {
     "cell_type": "code",
     "collapsed": false,
     "input": [
      "pylab.plot(mag_mosaic,mag_rawdata,'o')\n",
      "pylab.xlim([-50,50])"
     ],
     "language": "python",
     "metadata": {},
     "outputs": [
      {
       "metadata": {},
       "output_type": "pyout",
       "prompt_number": 75,
       "text": [
        "(-50, 50)"
       ]
      },
      {
       "metadata": {},
       "output_type": "display_data",
       "png": "[encoded data removed]",
       "text": [
        "<matplotlib.figure.Figure at 0x10ff22d50>"
       ]
      }
     ],
     "prompt_number": 75
    },
    {
     "cell_type": "code",
     "collapsed": false,
     "input": [
      "(abs(mag_mosaic-mag_rawdata)/mag_rawdata)*100 "
     ],
     "language": "python",
     "metadata": {},
     "outputs": [
      {
       "metadata": {},
       "output_type": "pyout",
       "prompt_number": 63,
       "text": [
        "array([  4.03493332e-01,   4.13243527e+01,   3.92802607e+01,\n",
        "         2.73809368e+01,   5.56006236e+01,   2.27610045e+01,\n",
        "         2.14588112e+02,   2.01360437e+01,   2.44514979e+02,\n",
        "         2.27817719e+01,   1.41770210e+02,   2.13132169e+01,\n",
        "         2.73809368e+01,   1.59491623e+01,   5.79117098e+01,\n",
        "         1.22193937e+01,   7.93414408e+01,   6.07239078e+01,\n",
        "         2.23928016e+01,   2.52971833e+01,   3.08043866e+01,\n",
        "         5.49540382e+01,   2.65090162e+01,   1.63179207e+01,\n",
        "         5.05751951e+01,   4.03455131e+01,   3.51138561e+01,\n",
        "         1.10860520e+03,   4.08031088e+01,   5.99040352e+01,\n",
        "         2.28442669e+01,   1.94786556e+01,   2.23886831e+01,\n",
        "         3.14507140e+01,   1.01569786e+02,   4.86823888e+01,\n",
        "         7.91390996e+00,   3.18182948e+01,   2.84858964e+01,\n",
        "         7.82381037e+01,   1.85790352e+02,   2.80394629e+01,\n",
        "         4.74479609e+01,   7.87802871e+01,   2.77541826e+01,\n",
        "         3.07208363e+01,   2.09997216e+01,   1.50519068e+01,\n",
        "         4.63006148e+01,   3.39700746e+01,   2.88580604e+01,\n",
        "         3.73269318e+01,   6.72192823e+01,   2.48509552e+01,\n",
        "         6.65515836e+00,   1.35087604e+00,   1.57812091e+01,\n",
        "         3.74815235e+00,   2.89480403e+01,   2.18013812e+01,\n",
        "         3.83449379e+01,   1.49959239e+03,   2.24320562e+01,\n",
        "         3.32351778e+02,   2.35675039e+01,   2.14163800e+01,\n",
        "         1.26102073e+00,   2.04091018e+02,   7.44113147e+01,\n",
        "         6.10199363e+01,   1.18282798e+01,   1.27472785e+00,\n",
        "         3.75330796e+01,   1.39001659e+01,   3.23751047e+00,\n",
        "         4.17949846e-01,   7.12346567e+01,   6.93715206e+01,\n",
        "         1.56010230e+01,   1.22570773e+01,   3.59391775e+01,\n",
        "         4.72040108e+01,   1.54172287e+02,   6.25232667e+01,\n",
        "         9.50146811e+00,   4.20032838e+01,   4.61858725e+01,\n",
        "         7.84640431e+01,   2.08702431e+02,   2.45733432e+01,\n",
        "         3.55479521e+02,   5.89020499e+01,   1.25281730e+02,\n",
        "         4.33519730e+00,   2.93202435e+02,   4.97285185e+00,\n",
        "         1.27080330e+01,   4.24211264e+01,   5.30596316e+01])"
       ]
      }
     ],
     "prompt_number": 63
    },
    {
     "cell_type": "markdown",
     "metadata": {},
     "source": [
      "Maybe percent change isn't the best way to measure this, since the values are relatively small so any slight change manifest as huge percentage changes."
     ]
    },
    {
     "cell_type": "code",
     "collapsed": false,
     "input": [
      "(mag_mosaic/mag_rawdata)"
     ],
     "language": "python",
     "metadata": {},
     "outputs": [
      {
       "metadata": {},
       "output_type": "pyout",
       "prompt_number": 80,
       "text": [
        "array([  1.00403493,   1.41324353,   1.39280261,   1.27380937,\n",
        "         1.55600624,   0.77238996,   3.14588112,   0.79863956,\n",
        "         3.44514979,   0.77218228,   2.4177021 ,   1.21313217,\n",
        "         1.27380937,   1.15949162,   0.4208829 ,   0.87780606,\n",
        "         1.79341441,   1.60723908,   0.77607198,   1.25297183,\n",
        "         0.69195613,   0.45045962,   1.26509016,   1.16317921,\n",
        "         0.49424805,   0.59654487,   0.64886144,  12.086052  ,\n",
        "         0.59196891,   1.59904035,   0.77155733,   0.80521344,\n",
        "         0.77611317,   0.68549286,   2.01569786,   0.51317611,\n",
        "         0.9208609 ,   1.31818295,   0.71514104,   1.78238104,\n",
        "         2.85790352,   1.28039463,   0.52552039,   0.21219713,\n",
        "         0.72245817,   1.30720836,   0.79000278,   1.15051907,\n",
        "         1.46300615,   0.66029925,   0.7114194 ,   0.62673068,\n",
        "         1.67219282,   0.75149045,   1.06655158,   0.98649124,\n",
        "         0.84218791,   0.96251848,   0.7105196 ,   0.78198619,\n",
        "         0.61655062,  15.99592391,   1.22432056,   4.32351778,\n",
        "         0.76432496,   0.7858362 ,   1.01261021,   3.04091018,\n",
        "         0.25588685,   1.61019936,   1.1182828 ,   0.98725272,\n",
        "         0.6246692 ,   0.86099834,   1.0323751 ,   1.0041795 ,\n",
        "         1.71234657,   1.69371521,   0.84398977,   1.12257077,\n",
        "         0.64060823,   0.52795989,   2.54172287,   0.37476733,\n",
        "         0.90498532,   1.42003284,   0.53814128,   1.78464043,\n",
        "         3.08702431,   0.75426657,   4.55479521,   1.5890205 ,\n",
        "         2.2528173 ,   1.04335197,   3.93202435,   0.95027148,\n",
        "         0.87291967,   1.42421126,   0.46940368])"
       ]
      }
     ],
     "prompt_number": 80
    },
    {
     "cell_type": "code",
     "collapsed": false,
     "input": [
      "(mag_mosaic/mag_rawdata)<2 "
     ],
     "language": "python",
     "metadata": {},
     "outputs": [
      {
       "metadata": {},
       "output_type": "pyout",
       "prompt_number": 90,
       "text": [
        "array([ True,  True,  True,  True,  True,  True, False,  True, False,\n",
        "        True, False,  True,  True,  True,  True,  True,  True,  True,\n",
        "        True,  True,  True,  True,  True,  True,  True,  True,  True,\n",
        "       False,  True,  True,  True,  True,  True,  True, False,  True,\n",
        "        True,  True,  True,  True, False,  True,  True,  True,  True,\n",
        "        True,  True,  True,  True,  True,  True,  True,  True,  True,\n",
        "        True,  True,  True,  True,  True,  True,  True, False,  True,\n",
        "       False,  True,  True,  True, False,  True,  True,  True,  True,\n",
        "        True,  True,  True,  True,  True,  True,  True,  True,  True,\n",
        "        True, False,  True,  True,  True,  True,  True, False,  True,\n",
        "       False,  True, False,  True, False,  True,  True,  True,  True], dtype=bool)"
       ]
      }
     ],
     "prompt_number": 90
    },
    {
     "cell_type": "code",
     "collapsed": false,
     "input": [
      "list((mag_mosaic/mag_rawdata)<2 ).count(True)"
     ],
     "language": "python",
     "metadata": {},
     "outputs": [
      {
       "metadata": {},
       "output_type": "pyout",
       "prompt_number": 93,
       "text": [
        "85"
       ]
      }
     ],
     "prompt_number": 93
    },
    {
     "cell_type": "code",
     "collapsed": false,
     "input": [
      "mag_mosaic= [-7.237500000000001, -7.061, 5.227499999999999, -19.1068, -4.4478, -7.9753, -10.603200000000001, -5.5422, -17.054, -28.607899999999997, -8.6305, -4.3953999999999995, 1.7533, -6.1578, -10.8046, -7.662, -10.927399999999999, -13.1119, -5.9178, 7.0666, -4.2686, -20.2235, -6.416, -9.9473, -8.9749, -9.0104, -9.8328, -5.5655, -7.2695, -5.5521, 140.09869999999995, -10.3793, -38.262699999999995, -8.1795, -5.9854, 10.543500000000002, -31.672599999999996, -2.0571, -15.531500000000001, -10.8025, -8.434099999999999, -6.4677, -9.7558, -10.3572, -8.217, -14.7594, 12.2, -10.197, -9.5368, -5.8476, -4.9284, -16.582200000000004, -4.228200000000001, -8.6608, -16.0867, -4.9763, -17.7586, -32.667199999999994, -6.5057, -40.53540000000001, -13.8445, -19.791, -10.560599999999999, -28.997499999999995, -8.8208, -10.658, -12.6037, -4.8112]\n",
      "mag_rawdata= [-8.9883, -9.0979, -7.6259, -9.479, -8.6672, -8.6607, -8.0438, -7.7498, -9.5681, -10.0101, -6.7405, -8.3639, -8.2626, -8.5234, -8.2654, -9.6987, -9.4978, -8.9623, -8.9623, -9.9331, -6.8109, -12.094, -8.5377, -9.3266, -9.0978, -10.6988, -10.2157, -7.833, -9.2962, -9.0051, -8.7584, -8.4776, -8.8499, -10.7016, -7.6166, -10.4122, -10.4155, -8.0391, -9.6457, -9.6599, -8.543, -10.3538, -11.3308, -10.0324, -8.1828, -8.6194, -7.2031, -12.0819, -8.4955, -9.1282, -9.3348, -6.524, -11.2822, -9.5701, -11.3284, -9.2472, -9.9508, -10.5821, -8.6252, -8.8995, -8.7126, -8.785, -10.1218, -7.3747, -9.2824, -12.2096, -8.8496, -10.2496]"
     ],
     "language": "python",
     "metadata": {},
     "outputs": [],
     "prompt_number": 64
    },
    {
     "cell_type": "code",
     "collapsed": false,
     "input": [
      "589./20000.*100 # SC assume uniformity"
     ],
     "language": "python",
     "metadata": {},
     "outputs": [
      {
       "metadata": {},
       "output_type": "pyout",
       "prompt_number": 95,
       "text": [
        "2.945"
       ]
      }
     ],
     "prompt_number": 95
    },
    {
     "cell_type": "code",
     "collapsed": false,
     "input": [
      "import random\n",
      "randint(0,100,5) "
     ],
     "language": "python",
     "metadata": {},
     "outputs": [
      {
       "metadata": {},
       "output_type": "pyout",
       "prompt_number": 99,
       "text": [
        "array([11, 99, 34, 65, 81])"
       ]
      }
     ],
     "prompt_number": 99
    },
    {
     "cell_type": "code",
     "collapsed": false,
     "input": [],
     "language": "python",
     "metadata": {},
     "outputs": []
    }
   ],
   "metadata": {}
  }
 ]
}