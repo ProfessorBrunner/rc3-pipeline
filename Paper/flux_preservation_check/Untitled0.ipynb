{
 "metadata": {
  "name": "",
  "signature": "sha256:230dba32c024ac47a3adbeebe5760b221900fbb1702a8201e7f82d0d9f38c35f"
 },
 "nbformat": 3,
 "nbformat_minor": 0,
 "worksheets": [
  {
   "cells": [
    {
     "cell_type": "code",
     "collapsed": false,
     "input": [
      "%pylab\n",
      "%matplotlib inline"
     ],
     "language": "python",
     "metadata": {},
     "outputs": [
      {
       "output_type": "stream",
       "stream": "stdout",
       "text": [
        "Using matplotlib backend: MacOSX\n",
        "Populating the interactive namespace from numpy and matplotlib\n"
       ]
      }
     ],
     "prompt_number": 11
    },
    {
     "cell_type": "code",
     "collapsed": false,
     "input": [
      "import numpy as np"
     ],
     "language": "python",
     "metadata": {},
     "outputs": [],
     "prompt_number": 3
    },
    {
     "cell_type": "code",
     "collapsed": false,
     "input": [
      "# mag_mosaic =np.array([-907336000000.0, -713758200000.0, -1259589400000.0, -1424888300000.0, -902536800000.0, -708770600000.0, -803339700000.0, -684872100000.0, -818186800000.0, -1144792900000.0, -856401100000.0, -742387100000.0, -1010274100000.0, -811230300000.0, -1168408000000.0, -920465700000.0, -678505800000.0, -973104800000.0, -1054520800000.0, -574885000000.0, -560213800000.0, -713256200000.0, -1196170500000.0, -840903400000.0, -718635700000.0, -994485800000.0, -746268900000.0, -1108072100000.0, -1036175100000.0, -2091531400000.0, -1008541300000.0, -1003852600000.0, -1209617000000.0, -657250900000.0, -1443635000000.0, -1175462900000.0])\n",
      "# mag_rawdata = np.array([-21019900000.0, -907336000000.0, -15589800000.0, -806600000.0, 3067600000.0, -19710900000.0, -3904400000.0, 1346900000.0, -13179400000.0, -18650600000.0, -6903600000.0, 10188100000.0, -15221400000.0, -6762100000.0, -27640100000.0, -5043900000.0, -7582600000.0, -12589100000.0, -12646600000.0, -13860800000.0, -23715000000.0, -43374200000.0, -72488700000.0, -49855000000.0, 20264800000.0, -718635700000.0, 7056400000.0, -10697000000.0, -6568600000.0, -1036175100000.0, -2091531400000.0, -1008541300000.0, -10014500000.0, -16162400000.0, -7104400000.0, -2970800000.0])"
     ],
     "language": "python",
     "metadata": {},
     "outputs": [],
     "prompt_number": 5
    },
    {
     "cell_type": "code",
     "collapsed": false,
     "input": [
      "mag_rawdata =np.array([26890.03138929999, 13498.473230400003, 58731.890109799984, 92212.72311470004, 32727.07814379999, 19633.745835099995, 65150.93016039996, 37115.14712730001, 19391.725846199995, 44516.99801660002, 64706.861053100016, 18708.714803700008, 78985.07115250008, 45435.55809200005, 48761.031340900015, 41084.2181117, 39654.228138700026, 71133.41827030003, 37506.25689559999, 14947.120303500005, 21745.30115860001, 25921.939546999987, 43377.100415900066, 40752.97388840002, 13144.740056599992, 49676.178844999966, 28705.05671480002, 40160.57937960002, 36507.50892280002, 282662.14057469973, 53737.093361500025, 33310.8602992, 65019.759120400005, 29836.07314740001, 72551.47921380008, 43650.43317320002])\n",
      "mag_mosaic = np.array([852.0362150000001, 13498.473230400003, 479.68089, 926.7195336000002, 278.95820569999995, 526.4342924000001, 260.4839595, 105.051823, 1060.1103845000002, 3236.4939259, 755.0739161, 94.13486449, 339.92976100000004, 506.1611, 1096.4812447999998, 587.7998078999999, 432.6501043, 306.611765, 396.35509040000005, 1312.558139, 1685.7375370000002, 968.1602204000001, 2855.9804421, 5819.821585199996, 866.2839891, 49676.178844999966, 893.4065423999999, 472.42679810000004, 206.81313459999998, 282662.14057469973, 53737.093361500025, 33310.8602992, 539.2040278, 535.3959998, 231.593091, 188.03171500000002])"
     ],
     "language": "python",
     "metadata": {},
     "outputs": [],
     "prompt_number": 15
    },
    {
     "cell_type": "heading",
     "level": 3,
     "metadata": {},
     "source": [
      "Percentage change before and after mosaicing"
     ]
    },
    {
     "cell_type": "code",
     "collapsed": false,
     "input": [
      "(abs(mag_mosaic-mag_rawdata)/mag_rawdata)*100"
     ],
     "language": "python",
     "metadata": {},
     "outputs": [
      {
       "metadata": {},
       "output_type": "pyout",
       "prompt_number": 21,
       "text": [
        "array([ 96.83140491,   0.        ,  99.18327013,  98.99501988,\n",
        "        99.14762264,  97.31872717,  99.60018382,  99.71695701,\n",
        "        94.53318187,  92.72975701,  98.83308523,  99.49683949,\n",
        "        99.56962783,  98.88598023,  97.75131654,  98.56928077,\n",
        "        98.90894332,  99.56896242,  98.94322942,  91.21865542,\n",
        "        92.24780782,  96.26509344,  93.41592588,  85.71927143,\n",
        "        93.40965295,   0.        ,  96.88763359,  98.82365542,\n",
        "        99.43350521,   0.        ,   0.        ,   0.        ,\n",
        "        99.17070744,  98.20554134,  99.68078791,  99.56923288])"
       ]
      }
     ],
     "prompt_number": 21
    },
    {
     "cell_type": "code",
     "collapsed": false,
     "input": [],
     "language": "python",
     "metadata": {},
     "outputs": [],
     "prompt_number": 19
    },
    {
     "cell_type": "code",
     "collapsed": false,
     "input": [
      "plot(mag_mosaic,mag_rawdata,'o')"
     ],
     "language": "python",
     "metadata": {},
     "outputs": [
      {
       "metadata": {},
       "output_type": "pyout",
       "prompt_number": 18,
       "text": [
        "[<matplotlib.lines.Line2D at 0x10f8bb410>]"
       ]
      },
      {
       "metadata": {},
       "output_type": "display_data",
       "png": "[encoded data removed]",
       "text": [
        "<matplotlib.figure.Figure at 0x10f890390>"
       ]
      }
     ],
     "prompt_number": 18
    },
    {
     "cell_type": "code",
     "collapsed": false,
     "input": [],
     "language": "python",
     "metadata": {},
     "outputs": [
      {
       "metadata": {},
       "output_type": "pyout",
       "prompt_number": 14,
       "text": [
        "42.16557167255791"
       ]
      }
     ],
     "prompt_number": 14
    },
    {
     "cell_type": "code",
     "collapsed": false,
     "input": [
      "Check if there are logic error in this program (I suspect there is.)\n",
      "Running flux_preserved.py on only two galaxy by changins  what is inside sample.txt\n",
      "Result:\n",
      "mag_mosaic =[852.0362150000001, 13498.473230400003]\n",
      "mag_rawdata=[26890.03138929999, 13498.473230400003]\n",
      "So one error, pgc39 is bad choice since no mosaicking is done (only one field in raw data)\n",
      "\n",
      "Another error: sextractor param must be in the same directory as where we are running it. So we need to copy the SDSS_r file there. "
     ],
     "language": "python",
     "metadata": {},
     "outputs": []
    }
   ],
   "metadata": {}
  }
 ]
}