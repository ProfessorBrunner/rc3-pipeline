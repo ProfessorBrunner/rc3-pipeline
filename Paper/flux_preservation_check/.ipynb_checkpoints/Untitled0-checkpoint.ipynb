{
 "metadata": {
  "name": "",
  "signature": "sha256:36914c39f9844e8462340f77025f59d62868df1ea4b680510e5cb366154e5fd3"
 },
 "nbformat": 3,
 "nbformat_minor": 0,
 "worksheets": [
  {
   "cells": [
    {
     "cell_type": "code",
     "collapsed": false,
     "input": [
      "%pylab\n",
      "%matplotlib inline"
     ],
     "language": "python",
     "metadata": {},
     "outputs": [
      {
       "output_type": "stream",
       "stream": "stdout",
       "text": [
        "Using matplotlib backend: MacOSX\n",
        "Populating the interactive namespace from numpy and matplotlib\n"
       ]
      }
     ],
     "prompt_number": 11
    },
    {
     "cell_type": "code",
     "collapsed": false,
     "input": [
      "import numpy as np"
     ],
     "language": "python",
     "metadata": {},
     "outputs": [],
     "prompt_number": 3
    },
    {
     "cell_type": "code",
     "collapsed": false,
     "input": [
      "# mag_mosaic =np.array([-907336000000.0, -713758200000.0, -1259589400000.0, -1424888300000.0, -902536800000.0, -708770600000.0, -803339700000.0, -684872100000.0, -818186800000.0, -1144792900000.0, -856401100000.0, -742387100000.0, -1010274100000.0, -811230300000.0, -1168408000000.0, -920465700000.0, -678505800000.0, -973104800000.0, -1054520800000.0, -574885000000.0, -560213800000.0, -713256200000.0, -1196170500000.0, -840903400000.0, -718635700000.0, -994485800000.0, -746268900000.0, -1108072100000.0, -1036175100000.0, -2091531400000.0, -1008541300000.0, -1003852600000.0, -1209617000000.0, -657250900000.0, -1443635000000.0, -1175462900000.0])\n",
      "# mag_rawdata = np.array([-21019900000.0, -907336000000.0, -15589800000.0, -806600000.0, 3067600000.0, -19710900000.0, -3904400000.0, 1346900000.0, -13179400000.0, -18650600000.0, -6903600000.0, 10188100000.0, -15221400000.0, -6762100000.0, -27640100000.0, -5043900000.0, -7582600000.0, -12589100000.0, -12646600000.0, -13860800000.0, -23715000000.0, -43374200000.0, -72488700000.0, -49855000000.0, 20264800000.0, -718635700000.0, 7056400000.0, -10697000000.0, -6568600000.0, -1036175100000.0, -2091531400000.0, -1008541300000.0, -10014500000.0, -16162400000.0, -7104400000.0, -2970800000.0])"
     ],
     "language": "python",
     "metadata": {},
     "outputs": [],
     "prompt_number": 5
    },
    {
     "cell_type": "code",
     "collapsed": false,
     "input": [
      "mag_rawdata =np.array([26890.03138929999, 13498.473230400003, 58731.890109799984, 92212.72311470004, 32727.07814379999, 19633.745835099995, 65150.93016039996, 37115.14712730001, 19391.725846199995, 44516.99801660002, 64706.861053100016, 18708.714803700008, 78985.07115250008, 45435.55809200005, 48761.031340900015, 41084.2181117, 39654.228138700026, 71133.41827030003, 37506.25689559999, 14947.120303500005, 21745.30115860001, 25921.939546999987, 43377.100415900066, 40752.97388840002, 13144.740056599992, 49676.178844999966, 28705.05671480002, 40160.57937960002, 36507.50892280002, 282662.14057469973, 53737.093361500025, 33310.8602992, 65019.759120400005, 29836.07314740001, 72551.47921380008, 43650.43317320002])\n",
      "mag_mosaic = np.array([852.0362150000001, 13498.473230400003, 479.68089, 926.7195336000002, 278.95820569999995, 526.4342924000001, 260.4839595, 105.051823, 1060.1103845000002, 3236.4939259, 755.0739161, 94.13486449, 339.92976100000004, 506.1611, 1096.4812447999998, 587.7998078999999, 432.6501043, 306.611765, 396.35509040000005, 1312.558139, 1685.7375370000002, 968.1602204000001, 2855.9804421, 5819.821585199996, 866.2839891, 49676.178844999966, 893.4065423999999, 472.42679810000004, 206.81313459999998, 282662.14057469973, 53737.093361500025, 33310.8602992, 539.2040278, 535.3959998, 231.593091, 188.03171500000002])"
     ],
     "language": "python",
     "metadata": {},
     "outputs": [],
     "prompt_number": 15
    },
    {
     "cell_type": "heading",
     "level": 3,
     "metadata": {},
     "source": [
      "Percentage change before and after mosaicing"
     ]
    },
    {
     "cell_type": "code",
     "collapsed": false,
     "input": [
      "(abs(mag_mosaic-mag_rawdata)/mag_rawdata)*100"
     ],
     "language": "python",
     "metadata": {},
     "outputs": [
      {
       "metadata": {},
       "output_type": "pyout",
       "prompt_number": 21,
       "text": [
        "array([ 96.83140491,   0.        ,  99.18327013,  98.99501988,\n",
        "        99.14762264,  97.31872717,  99.60018382,  99.71695701,\n",
        "        94.53318187,  92.72975701,  98.83308523,  99.49683949,\n",
        "        99.56962783,  98.88598023,  97.75131654,  98.56928077,\n",
        "        98.90894332,  99.56896242,  98.94322942,  91.21865542,\n",
        "        92.24780782,  96.26509344,  93.41592588,  85.71927143,\n",
        "        93.40965295,   0.        ,  96.88763359,  98.82365542,\n",
        "        99.43350521,   0.        ,   0.        ,   0.        ,\n",
        "        99.17070744,  98.20554134,  99.68078791,  99.56923288])"
       ]
      }
     ],
     "prompt_number": 21
    },
    {
     "cell_type": "code",
     "collapsed": false,
     "input": [],
     "language": "python",
     "metadata": {},
     "outputs": [],
     "prompt_number": 19
    },
    {
     "cell_type": "code",
     "collapsed": false,
     "input": [
      "plot(mag_mosaic,mag_rawdata,'o')"
     ],
     "language": "python",
     "metadata": {},
     "outputs": [
      {
       "metadata": {},
       "output_type": "pyout",
       "prompt_number": 18,
       "text": [
        "[<matplotlib.lines.Line2D at 0x10f8bb410>]"
       ]
      },
      {
       "metadata": {},
       "output_type": "display_data",
       "png": "[encoded data removed]",
       "text": [
        "<matplotlib.figure.Figure at 0x10f890390>"
       ]
      }
     ],
     "prompt_number": 18
    },
    {
     "cell_type": "code",
     "collapsed": false,
     "input": [],
     "language": "python",
     "metadata": {},
     "outputs": [
      {
       "metadata": {},
       "output_type": "pyout",
       "prompt_number": 14,
       "text": [
        "42.16557167255791"
       ]
      }
     ],
     "prompt_number": 14
    },
    {
     "cell_type": "markdown",
     "metadata": {},
     "source": [
      "Check if there are logic error in this program (I suspect there is.)\n",
      "Running flux_preserved.py on only two galaxy by changins  what is inside sample.txt\n",
      "Result:\n",
      "mag_mosaic =[852.0362150000001, 13498.473230400003]\n",
      "mag_rawdata=[26890.03138929999, 13498.473230400003]\n",
      "So one error, pgc39 is bad choice since no mosaicking is done (only one field in raw data)\n",
      "\n",
      "Another error: sextractor param must be in the same directory as where we are running it. So we need to copy the SDSS_r file there.\n",
      "Another error is that right now we are taking any raw frame data, we should just be taking teh one denoted by teh r badn. It might be better to change the inside of rc3.py so that no rc3 raw data  is removed after mosacking"
     ]
    },
    {
     "cell_type": "markdown",
     "metadata": {},
     "source": [
      "[(^)852.0362150000001, 479.68089, 926.7195336000002]\n",
      "[26890.03138929999, 58731.890109799984, 92212.72311470004]\n"
     ]
    },
    {
     "cell_type": "code",
     "collapsed": false,
     "input": [
      "from sdss import SDSS\n",
      "from rc3 import *\n",
      "from skyserver import *\n",
      "ra = 0.1              \n",
      "dec  =  17.225   \n",
      "radius =  0.0289633472037\n",
      "pgc  = 38  \n",
      "rc3Obj= RC3(ra,dec,radius,pgc)\n",
      "ss = SkyServer()\n",
      "info = ss.surveyFieldConverter(rc3Obj.rc3_ra,rc3Obj.rc3_dec,3*rc3Obj.rc3_radius)\n",
      "print info\n",
      "for i in info:\n",
      "    ss.getData('r',i[0],i[1],i[2])\n",
      "    \n",
      "import glob\n",
      "# Selecting any one raw data field, no need to sum together the flux from all fields\n",
      "x= glob.glob(\"frame-*\")\n",
      "print (x)\n",
      "print (x[0])\n"
     ],
     "language": "python",
     "metadata": {},
     "outputs": []
    },
    {
     "cell_type": "code",
     "collapsed": false,
     "input": [
      " sum (mag_lst)\n",
      "26890.03138929999"
     ],
     "language": "python",
     "metadata": {},
     "outputs": []
    },
    {
     "cell_type": "code",
     "collapsed": false,
     "input": [
      "Verified that the program runs as  it should be running by manually checking the results. Not sure "
     ],
     "language": "python",
     "metadata": {},
     "outputs": []
    },
    {
     "cell_type": "heading",
     "level": 4,
     "metadata": {},
     "source": [
      "Running with parameter FLUX_ISOCOR"
     ]
    },
    {
     "cell_type": "code",
     "collapsed": false,
     "input": [
      "[852.0362150000001, 479.68089, 926.7195336000002, 278.95820569999995, 526.4342924000001, 260.4839595, 105.051823, 1060.1103845000002, 3236.4939259, 755.0739161, 94.13486449, 339.92976100000004, 506.1611, 1096.4812447999998, 587.7998078999999, 432.6501043, 306.611765, 396.35509040000005, 1312.558139, 1685.7375370000002, 968.1602204000001, 2855.9804421, 5819.821585199996, 866.2839891]\n",
      "[26890.03138929999, 58731.890109799984, 92212.72311470004, 32727.07814379999, 19633.745835099995, 65150.93016039996, 37115.14712730001, 19391.725846199995, 44516.99801660002, 64706.861053100016, 18708.714803700008, 78985.07115250008, 45435.55809200005, 48761.031340900015, 41084.2181117, 39654.228138700026, 71133.41827030003, 37506.25689559999, 14947.120303500005, 21745.30115860001, 25921.939546999987, 43377.100415900066, 40752.97388840002, 13144.740056599992]"
     ],
     "language": "python",
     "metadata": {},
     "outputs": []
    },
    {
     "cell_type": "heading",
     "level": 4,
     "metadata": {},
     "source": [
      "Running with parameter MAG_ISOCOR"
     ]
    },
    {
     "cell_type": "code",
     "collapsed": false,
     "input": [
      "mag_mosaic = np.array([-28.867700000000003, -15.0625, -17.884999999999998, -6.6121, -17.143700000000003, -13.292800000000002, -12.488499999999998, -11.8494, -22.548199999999998, -11.256, 8.0826, -8.933699999999998, -6.7607, -25.4912, -10.6424, -7.582599999999999, -12.2087, -11.7571, -16.0888, -24.131899999999995, -32.47560000000001, -68.56099999999999, -42.06309999999997, 18.8337])\n",
      "mag_rawdata= np.array([-907.3359999999999, -1259.5893999999996, -1424.8883000000008, -902.5368000000004, -708.7706000000004, -803.3397000000002, -684.8721000000002, -818.1868000000001, -1144.7929000000004, -856.4010999999996, -742.3871000000004, -1010.2740999999997, -811.2303000000002, -1168.4080000000001, -920.4656999999991, -678.5058000000005, -973.1048000000001, -1054.5207999999996, -574.8850000000001, -560.2138000000001, -713.2562000000001, -1196.1704999999995, -840.9034000000004, -718.6357000000003])"
     ],
     "language": "python",
     "metadata": {},
     "outputs": [],
     "prompt_number": 24
    },
    {
     "cell_type": "code",
     "collapsed": false,
     "input": [
      "len([-28.867700000000003, -15.0625, -17.884999999999998, -6.6121, -17.143700000000003, -13.292800000000002, -12.488499999999998, -11.8494, -22.548199999999998, -11.256, 8.0826, -8.933699999999998, -6.7607, -25.4912, -10.6424, -7.582599999999999, -12.2087, -11.7571, -16.0888, -24.131899999999995, -32.47560000000001, -68.56099999999999, -42.06309999999997, 18.8337])"
     ],
     "language": "python",
     "metadata": {},
     "outputs": [
      {
       "metadata": {},
       "output_type": "pyout",
       "prompt_number": 23,
       "text": [
        "24"
       ]
      }
     ],
     "prompt_number": 23
    },
    {
     "cell_type": "code",
     "collapsed": false,
     "input": [
      "(abs(mag_mosaic-mag_rawdata)/mag_rawdata)*100"
     ],
     "language": "python",
     "metadata": {},
     "outputs": [
      {
       "metadata": {},
       "output_type": "pyout",
       "prompt_number": 27,
       "text": [
        "array([ -96.81841126,  -98.8041738 ,  -98.74481389,  -99.26738721,\n",
        "        -97.58120611,  -98.34530772,  -98.17652084,  -98.55174882,\n",
        "        -98.03036864,  -98.68566259, -101.0887312 ,  -99.11571523,\n",
        "        -99.1666115 ,  -97.81829635,  -98.84380265,  -98.88245613,\n",
        "        -98.74538693,  -98.88507652,  -97.2013881 ,  -95.69237673,\n",
        "        -95.44685346,  -94.26829202,  -94.99786777, -102.62075764])"
       ]
      }
     ],
     "prompt_number": 27
    },
    {
     "cell_type": "code",
     "collapsed": false,
     "input": [
      "(mag_mosaic/mag_rawdata)*100"
     ],
     "language": "python",
     "metadata": {},
     "outputs": [
      {
       "metadata": {},
       "output_type": "pyout",
       "prompt_number": 29,
       "text": [
        "array([ 3.18158874,  1.1958262 ,  1.25518611,  0.73261279,  2.41879389,\n",
        "        1.65469228,  1.82347916,  1.44825118,  1.96963136,  1.31433741,\n",
        "       -1.0887312 ,  0.88428477,  0.8333885 ,  2.18170365,  1.15619735,\n",
        "        1.11754387,  1.25461307,  1.11492348,  2.7986119 ,  4.30762327,\n",
        "        4.55314654,  5.73170798,  5.00213223, -2.62075764])"
       ]
      }
     ],
     "prompt_number": 29
    },
    {
     "cell_type": "code",
     "collapsed": false,
     "input": [
      "plot(mag_mosaic,mag_rawdata,'o')"
     ],
     "language": "python",
     "metadata": {},
     "outputs": [
      {
       "metadata": {},
       "output_type": "pyout",
       "prompt_number": 30,
       "text": [
        "[<matplotlib.lines.Line2D at 0x10f9b95d0>]"
       ]
      },
      {
       "metadata": {},
       "output_type": "display_data",
       "png": "[encoded data removed]",
       "text": [
        "<matplotlib.figure.Figure at 0x10f89da50>"
       ]
      }
     ],
     "prompt_number": 30
    },
    {
     "cell_type": "code",
     "collapsed": false,
     "input": [
      "mag_mosaic = np.array([-7.4153, -12.222399999999999, -9.706299999999999, -10.281, -6.9943])\n",
      "mag_rawdata= np.array([-7.3855, -8.7754, -7.6199, -6.6073, -9.0554])"
     ],
     "language": "python",
     "metadata": {},
     "outputs": [],
     "prompt_number": 31
    },
    {
     "cell_type": "code",
     "collapsed": false,
     "input": [
      "plot(mag_mosaic,mag_rawdata,'o')"
     ],
     "language": "python",
     "metadata": {},
     "outputs": [
      {
       "metadata": {},
       "output_type": "pyout",
       "prompt_number": 32,
       "text": [
        "[<matplotlib.lines.Line2D at 0x10fa4b950>]"
       ]
      },
      {
       "metadata": {},
       "output_type": "display_data",
       "png": "[encoded data removed]",
       "text": [
        "<matplotlib.figure.Figure at 0x10f9c9550>"
       ]
      }
     ],
     "prompt_number": 32
    },
    {
     "cell_type": "code",
     "collapsed": false,
     "input": [],
     "language": "python",
     "metadata": {},
     "outputs": []
    }
   ],
   "metadata": {}
  }
 ]
}