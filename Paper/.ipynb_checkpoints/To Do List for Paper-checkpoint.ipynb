{
 "metadata": {
  "name": "",
  "signature": "sha256:669a3c74aa169cf5af39d041dff0204108bc984adac3a7bab2ce1824dcc0e479"
 },
 "nbformat": 3,
 "nbformat_minor": 0,
 "worksheets": [
  {
   "cells": [
    {
     "cell_type": "heading",
     "level": 1,
     "metadata": {},
     "source": [
      "Major Steps"
     ]
    },
    {
     "cell_type": "markdown",
     "metadata": {},
     "source": [
      "- abstract\n",
      "- article text\n",
      "- Clean up Git Permanent repo for code\n",
      "- \n"
     ]
    },
    {
     "cell_type": "heading",
     "level": 1,
     "metadata": {},
     "source": [
      "Task and Miscl"
     ]
    },
    {
     "cell_type": "markdown",
     "metadata": {},
     "source": [
      "- Inform Prof Brunner to use my legal name not Doris\n",
      "- open access or subscription\n",
      "    - arxiv open access (Green open access?)\n",
      "- Funding Sources Google state\n",
      "- You choose your own referee? (3?)\n",
      "- LaTeX elsarticle.cls class \n",
      "- Graphical abstract\n",
      "- Highlights\n",
      "- Keywords\n",
      "- refer to permanent URL where we put updated position information as well as image files "
     ]
    },
    {
     "cell_type": "code",
     "collapsed": false,
     "input": [],
     "language": "python",
     "metadata": {},
     "outputs": []
    }
   ],
   "metadata": {}
  }
 ]
}