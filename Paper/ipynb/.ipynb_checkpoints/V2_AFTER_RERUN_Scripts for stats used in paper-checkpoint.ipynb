{
 "metadata": {
  "name": "",
  "signature": "sha256:c9da8c66febb67583666e1b67822460f35e49e766ef07ef0b12709a75b368cab"
 },
 "nbformat": 3,
 "nbformat_minor": 0,
 "worksheets": [
  {
   "cells": [
    {
     "cell_type": "code",
     "collapsed": false,
     "input": [
      "select\n",
      "    count(case when in_SDSS_footprint=1 then 1 end) AS  mosaic\n",
      "from rc3\n",
      "\n",
      "\n",
      "OUTPUT : 12418"
     ],
     "language": "python",
     "metadata": {},
     "outputs": []
    },
    {
     "cell_type": "code",
     "collapsed": false,
     "input": [
      "Entered this query and found that there are about 3 unresolved source confusion cases\n",
      "\n",
      "SELECT * FROM RC3 WHERE new_ra NOT IN (\n",
      "   SELECT new_ra\n",
      "     FROM rc3\n",
      "     WHERE new_ra = 0.0\n",
      ")AND new_dec NOT IN (\n",
      "   SELECT new_dec\n",
      "     FROM rc3\n",
      "     WHERE new_dec = 0.0\n",
      ")AND new_ra IN(\n",
      "    select new_ra from rc3 group by  new_ra having count(*) > 1\n",
      ")AND new_dec IN(\n",
      "    select new_dec from rc3 group by  new_dec having count(*) > 1\n",
      ")"
     ],
     "language": "python",
     "metadata": {},
     "outputs": []
    },
    {
     "cell_type": "code",
     "collapsed": false,
     "input": [
      "1-3./12507."
     ],
     "language": "python",
     "metadata": {},
     "outputs": [
      {
       "metadata": {},
       "output_type": "pyout",
       "prompt_number": 2,
       "text": [
        "0.9997601343247782"
       ]
      }
     ],
     "prompt_number": 2
    },
    {
     "cell_type": "markdown",
     "metadata": {},
     "source": [
      "The mosaicing was  successful for 99.98% of the galaxies. "
     ]
    },
    {
     "cell_type": "code",
     "collapsed": false,
     "input": [
      "select\n",
      "    count(case when in_SDSS_footprint=1 then 1 end) AS mosaic,\n",
      "    count(case when (error=0 and in_SDSS_footprint=1)then 1 end) AS success\n",
      "from rc3"
     ],
     "language": "python",
     "metadata": {},
     "outputs": []
    },
    {
     "cell_type": "code",
     "collapsed": false,
     "input": [
      "sucess:9335\n",
      "error: 12418\n"
     ],
     "language": "python",
     "metadata": {},
     "outputs": []
    },
    {
     "cell_type": "code",
     "collapsed": false,
     "input": [
      "(9335./12418.)*100 #This is alot lower than it used to be!"
     ],
     "language": "python",
     "metadata": {},
     "outputs": [
      {
       "metadata": {},
       "output_type": "pyout",
       "prompt_number": 3,
       "text": [
        "75.17313577065549"
       ]
      }
     ],
     "prompt_number": 3
    },
    {
     "cell_type": "markdown",
     "metadata": {},
     "source": [
      "____ galaxies is mosaiced using updated positions that were more than 1 arcminute off the values recorded in the RC3 catalog"
     ]
    },
    {
     "cell_type": "markdown",
     "metadata": {},
     "source": [
      "1 arc min = 0.0166666667 degrees"
     ]
    },
    {
     "cell_type": "markdown",
     "metadata": {},
     "source": [
      "0.0166666667"
     ]
    },
    {
     "cell_type": "code",
     "collapsed": false,
     "input": [
      "select\n",
      "    count(case when (ABS(new_ra-rc3_ra)>0.0166666667 or ABS(new_dec-rc3_dec)>0.0166666667)and in_SDSS_footprint=1 then 1 end) AS  mosaic\n",
      "from rc3"
     ],
     "language": "python",
     "metadata": {},
     "outputs": []
    },
    {
     "cell_type": "markdown",
     "metadata": {},
     "source": [
      "OUTPUT: 4283"
     ]
    }
   ],
   "metadata": {}
  }
 ]
}