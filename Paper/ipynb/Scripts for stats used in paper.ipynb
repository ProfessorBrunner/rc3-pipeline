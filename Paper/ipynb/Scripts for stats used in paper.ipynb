{
 "metadata": {
  "name": "",
  "signature": "sha256:4a110b296be79975e79c7f9fde9bc6e6e412a90fe4668803b21d28af6b028d68"
 },
 "nbformat": 3,
 "nbformat_minor": 0,
 "worksheets": [
  {
   "cells": [
    {
     "cell_type": "code",
     "collapsed": false,
     "input": [
      "select\n",
      "    count(case when in_SDSS_footprint=1 then 1 end) AS  mosaic\n",
      "from rc3\n",
      "\n",
      "\n",
      "OUTPUT : 12507"
     ],
     "language": "python",
     "metadata": {},
     "outputs": []
    },
    {
     "cell_type": "code",
     "collapsed": false,
     "input": [
      "Entered this query and found that there are about 4 unresolved source confusion cases\n",
      "\n",
      "SELECT * FROM RC3 WHERE new_ra NOT IN (\n",
      "   SELECT new_ra\n",
      "     FROM rc3\n",
      "     WHERE new_ra = 0.0\n",
      ")AND new_dec NOT IN (\n",
      "   SELECT new_dec\n",
      "     FROM rc3\n",
      "     WHERE new_dec = 0.0\n",
      ")AND new_ra IN(\n",
      "    select new_ra from rc3 group by  new_ra having count(*) > 1\n",
      ")AND new_dec IN(\n",
      "    select new_dec from rc3 group by  new_dec having count(*) > 1\n",
      ")"
     ],
     "language": "python",
     "metadata": {},
     "outputs": []
    },
    {
     "cell_type": "code",
     "collapsed": false,
     "input": [
      "4./12507."
     ],
     "language": "python",
     "metadata": {},
     "outputs": [
      {
       "metadata": {},
       "output_type": "pyout",
       "prompt_number": 3,
       "text": [
        "0.0003198209002958343"
       ]
      }
     ],
     "prompt_number": 3
    },
    {
     "cell_type": "code",
     "collapsed": false,
     "input": [
      "1-4./12507."
     ],
     "language": "python",
     "metadata": {},
     "outputs": [
      {
       "metadata": {},
       "output_type": "pyout",
       "prompt_number": 4,
       "text": [
        "0.9996801790997042"
       ]
      }
     ],
     "prompt_number": 4
    },
    {
     "cell_type": "markdown",
     "metadata": {},
     "source": [
      "The mosaicing was  successful for 90.22\\% of the galaxies. "
     ]
    },
    {
     "cell_type": "markdown",
     "metadata": {},
     "source": [
      "select\n",
      "    count(case when in_SDSS_footprint=1 then 1 end) AS mosaic,\n",
      "    count(case when (error=0 and in_SDSS_footprint=1)then 1 end) AS success\n",
      "from rc3"
     ]
    },
    {
     "cell_type": "code",
     "collapsed": false,
     "input": [
      "(11284./12507.)*100"
     ],
     "language": "python",
     "metadata": {},
     "outputs": [
      {
       "metadata": {},
       "output_type": "pyout",
       "prompt_number": 6,
       "text": [
        "90.22147597345487"
       ]
      }
     ],
     "prompt_number": 6
    },
    {
     "cell_type": "markdown",
     "metadata": {},
     "source": [
      " \\_ galaxies is mosaiced using updated positions that were more than 1 arcminute off the values recorded in the RC3 catalog"
     ]
    },
    {
     "cell_type": "markdown",
     "metadata": {},
     "source": [
      "1 arc min = 0.0166666667 degrees"
     ]
    },
    {
     "cell_type": "markdown",
     "metadata": {},
     "source": [
      "0.0166666667"
     ]
    },
    {
     "cell_type": "code",
     "collapsed": false,
     "input": [
      "select\n",
      "    count(case when (ABS(new_ra-rc3_ra)>0.0166666667 or ABS(new_dec-rc3_dec)>0.0166666667)and in_SDSS_footprint=1 then 1 end) AS  mosaic\n",
      "from rc3\n",
      "OUTPUT 2446"
     ],
     "language": "python",
     "metadata": {},
     "outputs": []
    }
   ],
   "metadata": {}
  }
 ]
}