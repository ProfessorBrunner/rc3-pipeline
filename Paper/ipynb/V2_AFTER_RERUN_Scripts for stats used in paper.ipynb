{
 "metadata": {
  "name": "",
  "signature": "sha256:254bc7a00e150fa5e095250d352dcb4af1336bab487ae38c66d254a42698da63"
 },
 "nbformat": 3,
 "nbformat_minor": 0,
 "worksheets": [
  {
   "cells": [
    {
     "cell_type": "markdown",
     "metadata": {},
     "source": [
      "13583"
     ]
    },
    {
     "cell_type": "code",
     "collapsed": false,
     "input": [
      "select\n",
      "    count(case when in_SDSS_footprint=1 then 1 end) AS  mosaic\n",
      "from rc3\n",
      "\n",
      "\n",
      "OUTPUT : 12418"
     ],
     "language": "python",
     "metadata": {},
     "outputs": []
    },
    {
     "cell_type": "code",
     "collapsed": false,
     "input": [
      "Entered this query and found that there are about 3 unresolved source confusion cases\n",
      "\n",
      "SELECT * FROM RC3 WHERE new_ra NOT IN (\n",
      "   SELECT new_ra\n",
      "     FROM rc3\n",
      "     WHERE new_ra = 0.0\n",
      ")AND new_dec NOT IN (\n",
      "   SELECT new_dec\n",
      "     FROM rc3\n",
      "     WHERE new_dec = 0.0\n",
      ")AND new_ra IN(\n",
      "    select new_ra from rc3 group by  new_ra having count(*) > 1\n",
      ")AND new_dec IN(\n",
      "    select new_dec from rc3 group by  new_dec having count(*) > 1\n",
      ")"
     ],
     "language": "python",
     "metadata": {},
     "outputs": []
    },
    {
     "cell_type": "code",
     "collapsed": false,
     "input": [
      "1-3./12507."
     ],
     "language": "python",
     "metadata": {},
     "outputs": [
      {
       "metadata": {},
       "output_type": "pyout",
       "prompt_number": 2,
       "text": [
        "0.9997601343247782"
       ]
      }
     ],
     "prompt_number": 2
    },
    {
     "cell_type": "markdown",
     "metadata": {},
     "source": [
      "The Source Confusion was  successful for 99.98% of the galaxies. "
     ]
    },
    {
     "cell_type": "code",
     "collapsed": false,
     "input": [
      "select\n",
      "    count(case when in_SDSS_footprint=1 then 1 end) AS mosaic,\n",
      "    count(case when (error=0 and in_SDSS_footprint=1)then 1 end) AS success\n",
      "from rc3"
     ],
     "language": "python",
     "metadata": {},
     "outputs": []
    },
    {
     "cell_type": "code",
     "collapsed": false,
     "input": [
      "sucess:9335\n",
      "mosaic: 12418\n"
     ],
     "language": "python",
     "metadata": {},
     "outputs": []
    },
    {
     "cell_type": "code",
     "collapsed": false,
     "input": [
      "(9335./12418.)*100 #This is alot lower than it used to be!"
     ],
     "language": "python",
     "metadata": {},
     "outputs": [
      {
       "metadata": {},
       "output_type": "pyout",
       "prompt_number": 3,
       "text": [
        "75.17313577065549"
       ]
      }
     ],
     "prompt_number": 3
    },
    {
     "cell_type": "markdown",
     "metadata": {},
     "source": [
      "including error =2  now because stiff_error isn't really an error, FITS are still genereated , and we can obtain color image by fixing the dimensionss, but we didn't , this can be easily fixed so I won't call that an error."
     ]
    },
    {
     "cell_type": "code",
     "collapsed": false,
     "input": [
      "select\n",
      "    count(case when in_SDSS_footprint=1 then 1 end) AS mosaic,\n",
      "    count(case when ((error=0 and in_SDSS_footprint=1)or (error =2 and in_SDSS_footprint=1) )then 1 end) AS success\n",
      "from rc3"
     ],
     "language": "python",
     "metadata": {},
     "outputs": []
    },
    {
     "cell_type": "code",
     "collapsed": false,
     "input": [
      "sucess:9510\n",
      "mosaic: 12418"
     ],
     "language": "python",
     "metadata": {},
     "outputs": []
    },
    {
     "cell_type": "code",
     "collapsed": false,
     "input": [
      "(9510./12418.)*100"
     ],
     "language": "python",
     "metadata": {},
     "outputs": [
      {
       "metadata": {},
       "output_type": "pyout",
       "prompt_number": 1,
       "text": [
        "76.58238041552585"
       ]
      }
     ],
     "prompt_number": 1
    },
    {
     "cell_type": "markdown",
     "metadata": {},
     "source": [
      "____ galaxies is mosaiced using updated positions that were more than 1 arcminute off the values recorded in the RC3 catalog"
     ]
    },
    {
     "cell_type": "markdown",
     "metadata": {},
     "source": [
      "1 arc min = 0.0166666667 degrees"
     ]
    },
    {
     "cell_type": "markdown",
     "metadata": {},
     "source": [
      "0.0166666667"
     ]
    },
    {
     "cell_type": "code",
     "collapsed": false,
     "input": [
      "select\n",
      "    count(case when (ABS(new_ra-rc3_ra)>0.0166666667 or ABS(new_dec-rc3_dec)>0.0166666667)and in_SDSS_footprint=1 then 1 end) AS  mosaic\n",
      "from rc3"
     ],
     "language": "python",
     "metadata": {},
     "outputs": []
    },
    {
     "cell_type": "markdown",
     "metadata": {},
     "source": [
      "OUTPUT: 4283"
     ]
    },
    {
     "cell_type": "code",
     "collapsed": false,
     "input": [
      "12418./ 23010"
     ],
     "language": "python",
     "metadata": {},
     "outputs": [
      {
       "metadata": {},
       "output_type": "pyout",
       "prompt_number": 2,
       "text": [
        "0.5396784006953499"
       ]
      }
     ],
     "prompt_number": 2
    },
    {
     "cell_type": "markdown",
     "metadata": {},
     "source": [
      "Strange, this is a bit more than 1/3 of the night sky."
     ]
    },
    {
     "cell_type": "heading",
     "level": 1,
     "metadata": {},
     "source": [
      "DSS"
     ]
    },
    {
     "cell_type": "markdown",
     "metadata": {},
     "source": [
      "In the data transfer script, I included a variable ADDITIONAL_NUM_DSS_COUNT which counts the number of RC3 in DSS footprint but not inside SDSS. ADDITIONAL_NUM_DSS_COUNT = 13583 "
     ]
    },
    {
     "cell_type": "code",
     "collapsed": false,
     "input": [
      "For a sanity check:\n",
      "    \n",
      "    1) DSS (assume ~100% completenss) fills up the 50% rest of the catalog, 13583 extra galaxies that are covered by DSS and not in SDSS footprint b"
     ],
     "language": "python",
     "metadata": {},
     "outputs": []
    },
    {
     "cell_type": "code",
     "collapsed": false,
     "input": [
      "12418*0.7658+13583"
     ],
     "language": "python",
     "metadata": {},
     "outputs": [
      {
       "metadata": {},
       "output_type": "pyout",
       "prompt_number": 3,
       "text": [
        "23092.704400000002"
       ]
      }
     ],
     "prompt_number": 3
    },
    {
     "cell_type": "markdown",
     "metadata": {},
     "source": [
      "Should have been 23,010 , I am a few galaxies over.. not sure why."
     ]
    },
    {
     "cell_type": "markdown",
     "metadata": {},
     "source": [
      "*#Rerun a SQL query  to see if sdss and rc3 overlap/extra "
     ]
    },
    {
     "cell_type": "code",
     "collapsed": false,
     "input": [],
     "language": "python",
     "metadata": {},
     "outputs": []
    }
   ],
   "metadata": {}
  }
 ]
}