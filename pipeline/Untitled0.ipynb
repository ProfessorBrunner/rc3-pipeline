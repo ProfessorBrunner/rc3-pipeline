{
 "metadata": {
  "name": "",
  "signature": "sha256:2b9ec705782b093bd90e9fbb44f3177a056e18cf92df27c2e886a8f8b60ae411"
 },
 "nbformat": 3,
 "nbformat_minor": 0,
 "worksheets": [
  {
   "cells": [
    {
     "cell_type": "code",
     "collapsed": false,
     "input": [
      "import skyserver"
     ],
     "language": "python",
     "metadata": {},
     "outputs": [
      {
       "output_type": "stream",
       "stream": "stderr",
       "text": [
        "WARNING: AstropyDeprecationWarning: ConfigurationItem has been deprecated in astropy 0.4. Use ConfigItem objects as members of ConfigNamespace subclasses instead.  See ConfigNamespace for an example. [astropy.config.configuration]\n",
        "WARNING:astropy:AstropyDeprecationWarning: ConfigurationItem has been deprecated in astropy 0.4. Use ConfigItem objects as members of ConfigNamespace subclasses instead.  See ConfigNamespace for an example.\n"
       ]
      }
     ],
     "prompt_number": 1
    },
    {
     "cell_type": "code",
     "collapsed": false,
     "input": [
      "s = skyserver.SkyServer()"
     ],
     "language": "python",
     "metadata": {},
     "outputs": [],
     "prompt_number": 2
    },
    {
     "cell_type": "code",
     "collapsed": false,
     "input": [
      "s.surveyFieldConverter(14.1785651, -9.9140282, 0.1581138833247,debug=True)"
     ],
     "language": "python",
     "metadata": {},
     "outputs": [
      {
       "output_type": "stream",
       "stream": "stdout",
       "text": [
        "SELECT distinct run,camcol,field FROM PhotoObj WHERE  ra between 14.1785651-0.158113883325 and  14.1785651+0.158113883325and dec between -9.9140282-0.158113883325 and  -9.9140282+0.158113883325\n"
       ]
      },
      {
       "metadata": {},
       "output_type": "pyout",
       "prompt_number": 3,
       "text": [
        "[['1740', '3', '114'],\n",
        " ['1729', '4', '175'],\n",
        " ['1666', '4', '285'],\n",
        " ['1729', '4', '176'],\n",
        " ['1740', '3', '116'],\n",
        " ['1740', '3', '115'],\n",
        " ['1666', '4', '286'],\n",
        " ['1729', '4', '177'],\n",
        " ['1666', '4', '284']]"
       ]
      }
     ],
     "prompt_number": 3
    },
    {
     "cell_type": "code",
     "collapsed": false,
     "input": [
      "s.surveyFieldConverter(148.888495, 69.0654192, 103.60000000005,debug=True)"
     ],
     "language": "python",
     "metadata": {},
     "outputs": []
    },
    {
     "cell_type": "code",
     "collapsed": false,
     "input": [],
     "language": "python",
     "metadata": {},
     "outputs": []
    }
   ],
   "metadata": {}
  }
 ]
}