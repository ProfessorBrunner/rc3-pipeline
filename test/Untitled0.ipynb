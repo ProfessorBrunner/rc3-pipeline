{
 "metadata": {
  "name": "",
  "signature": "sha256:da04377a3ce114631db5891dcc6ad72ea863f2f0d64b47995553bceaeb68f276"
 },
 "nbformat": 3,
 "nbformat_minor": 0,
 "worksheets": [
  {
   "cells": [
    {
     "cell_type": "code",
     "collapsed": false,
     "input": [
      "%pylab inline"
     ],
     "language": "python",
     "metadata": {},
     "outputs": [
      {
       "output_type": "stream",
       "stream": "stdout",
       "text": [
        "Populating the interactive namespace from numpy and matplotlib\n"
       ]
      }
     ],
     "prompt_number": 1
    },
    {
     "cell_type": "code",
     "collapsed": false,
     "input": [
      "cd photo/57096/"
     ],
     "language": "python",
     "metadata": {},
     "outputs": [
      {
       "output_type": "stream",
       "stream": "stdout",
       "text": [
        "/Users/dorislee/Desktop/Doris_Files/Fall2014/GSoC2014/rc3-pipeline/test/photo/57096\n"
       ]
      }
     ],
     "prompt_number": 2
    },
    {
     "cell_type": "code",
     "collapsed": false,
     "input": [
      "import os\n",
      "os.system(\"sex SDSS_r_57096r.fits  -CHECKIMAGE_NAME output2_check.fits -CATALOG_NAME output2.cat \")"
     ],
     "language": "python",
     "metadata": {},
     "outputs": [
      {
       "metadata": {},
       "output_type": "pyout",
       "prompt_number": 7,
       "text": [
        "0"
       ]
      }
     ],
     "prompt_number": 7
    },
    {
     "cell_type": "heading",
     "level": 1,
     "metadata": {},
     "source": [
      "Machine dependence? "
     ]
    },
    {
     "cell_type": "code",
     "collapsed": false,
     "input": [
      "os.system(\"diff -q output.cat output2.cat\")"
     ],
     "language": "python",
     "metadata": {},
     "outputs": [
      {
       "metadata": {},
       "output_type": "pyout",
       "prompt_number": 9,
       "text": [
        "256"
       ]
      }
     ],
     "prompt_number": 9
    },
    {
     "cell_type": "markdown",
     "metadata": {},
     "source": [
      "\"Files output.cat and output2.cat differ\""
     ]
    },
    {
     "cell_type": "markdown",
     "metadata": {},
     "source": [
      "Result on bigdog and local is different "
     ]
    },
    {
     "cell_type": "markdown",
     "metadata": {},
     "source": [
      "Ran post_analysis on these two sources locally"
     ]
    },
    {
     "cell_type": "code",
     "collapsed": false,
     "input": [
      "cd .."
     ],
     "language": "python",
     "metadata": {},
     "outputs": [
      {
       "output_type": "stream",
       "stream": "stdout",
       "text": [
        "/Users/dorislee/Desktop/Doris_Files/Fall2014/GSoC2014/rc3-pipeline/test/photo\n"
       ]
      }
     ],
     "prompt_number": 3
    },
    {
     "cell_type": "code",
     "collapsed": false,
     "input": [
      "input = np.loadtxt(\"input_mag\")\n",
      "output = np.loadtxt(\"output_mag\")\n",
      "import pltx\n",
      "pltx.fit_and_plot(input[::,2],output[::,2],xlabel=\"Input Magnitude\",ylabel=\"Output Magnitude\",title=\"500 RC3 Random Test\",marker='.')"
     ],
     "language": "python",
     "metadata": {},
     "outputs": [
      {
       "output_type": "stream",
       "stream": "stdout",
       "text": [
        "[ 0.8982723   1.45389968]\n",
        " \n",
        "0.8983 x + 1.454\n"
       ]
      },
      {
       "metadata": {},
       "output_type": "pyout",
       "prompt_number": 6,
       "text": [
        "poly1d([ 0.8982723 ,  1.45389968])"
       ]
      },
      {
       "metadata": {},
       "output_type": "display_data",
       "png": "[encoded data removed]",
       "text": [
        "<matplotlib.figure.Figure at 0x1052fb690>"
       ]
      }
     ],
     "prompt_number": 6
    },
    {
     "cell_type": "markdown",
     "metadata": {},
     "source": [
      "So the offset persist even running on the local machine"
     ]
    },
    {
     "cell_type": "heading",
     "level": 1,
     "metadata": {},
     "source": [
      "Removing header information from SDSS fields "
     ]
    },
    {
     "cell_type": "code",
     "collapsed": false,
     "input": [
      "import astropy.io.fits as pf\n",
      "import glob"
     ],
     "language": "python",
     "metadata": {},
     "outputs": [],
     "prompt_number": 68
    },
    {
     "cell_type": "code",
     "collapsed": false,
     "input": [
      "cd ../photo\\ copy"
     ],
     "language": "python",
     "metadata": {},
     "outputs": [
      {
       "output_type": "stream",
       "stream": "stdout",
       "text": [
        "/Users/dorislee/Desktop/Doris_Files/Fall2014/GSoC2014/rc3-pipeline/test/photo copy\n"
       ]
      }
     ],
     "prompt_number": 89
    },
    {
     "cell_type": "code",
     "collapsed": false,
     "input": [
      "for f in glob.glob('69633/r/raw/frame-r-*.fits'):\n",
      "    print f\n",
      "    fits1 = f\n",
      "    # x = pf.getdata(fits1)# Don't flip the array for this analysis, we don't need it to be north up\n",
      "    hdr = pf.getheader(fits1)\n",
      "    for i in hdr:\n",
      "#         if i not in ['SIMPLE','BITPIX','NAXIS','NAXIS1','NAXIS2','EXTEND','CTYPE1','CTYPE2','CRVAL1','CRVAL2','CRPIX1','CRPIX2','CDELT1','CDELT2','CROTA2','EQUINOX']:\n",
      "#             hdr.remove(i)\n",
      "        if i not in ['SIMPLE','BITPIX','NAXIS','NAXIS1','NAXIS2','EXTEND','CTYPE1','CTYPE2','CRVAL1','CRVAL2','CRPIX1','CRPIX2','CDELT1','CDELT2','CROTA2','EQUINOX']:\n",
      "            print i,\"=                  \", hdr[i],\"                                                  \",\n",
      "#     print \"CDELT1  =         -0.000277778                                                  CDELT2  =          0.000277778                                                  CROTA2  =             0.000000                                                  END                                   \"\n",
      "    print \"-------------------------\""
     ],
     "language": "python",
     "metadata": {},
     "outputs": [
      {
       "output_type": "stream",
       "stream": "stdout",
       "text": [
        "69633/r/raw/frame-r-007754-1-0188.fits\n",
        "BZERO =                   0.0                                                    BSCALE =                   1.0                                                    TAI =                   4731621822.3                                                    RA =                   340.46658                                                    DEC =                   4.550586                                                    SPA =                   87.926                                                    IPA =                   90.976                                                    IPARATE =                   0.0004                                                    AZ =                   3.60928                                                    ALT =                   61.906092                                                    FOCUS =                   -283.3                                                    DATE-OBS =                   2008-10-25                                                    TAIHMS =                   03:23:42.30                                                    COMMENT =                    TAI,RA,DEC,SPA,IPA,IPARATE,AZ,ALT,FOCUS at reading of col 0, row 0\n",
        " CCD-specific parameters\n",
        " Calibration parameters\n",
        " Floats truncated at 10 binary digits with FLOATCOMPRESS                                                    ORIGIN =                   SDSS                                                    TELESCOP =                   2.5m                                                    TIMESYS =                   TAI                                                    RUN =                   7754                                                    FRAME =                   188                                                    CCDLOC =                   11                                                    STRIPE =                   80                                                    STRIP =                   N                                                    FLAVOR =                   science                                                    OBSERVER =                   asimmons                                                    SYS_SCN =                   mean                                                    EQNX_SCN =                   2000.0                                                    NODE =                   95.0                                                    INCL =                   -5.0                                                    XBORE =                   -22.74                                                    YBORE =                   0.0                                                    OBJECT =                   80 N                                                    EXPTIME =                   53.907456                                                    SYSTEM =                   FK5                                                    CCDMODE =                   DRIFT                                                    C_OBS =                   26322                                                    COLBIN =                   1                                                    ROWBIN =                   1                                                    DAVERS =                   v15_13_1                                                    SCDMETHD =                   sqrtDynamic                                                    SCDWIDTH =                   1280                                                    SCDDECMF =                   1                                                    SCDOFSET =                   40                                                    SCDDYNTH =                   -20                                                    SCDSTTHL =                   30                                                    SCDSTTHR =                   30                                                    SCDREDSZ =                   515                                                    SCDSKYL =                   0                                                    SCDSKYR =                   0                                                    COMMENT =                    TAI,RA,DEC,SPA,IPA,IPARATE,AZ,ALT,FOCUS at reading of col 0, row 0\n",
        " CCD-specific parameters\n",
        " Calibration parameters\n",
        " Floats truncated at 10 binary digits with FLOATCOMPRESS                                                    CAMROW =                   1                                                    BADLINES =                   0                                                    SOFTBIAS =                   1000                                                    BUNIT =                   nanomaggy                                                    FILTER =                   r                                                    CAMCOL =                   1                                                    VERSION =                   v5_6_3                                                    DERV_VER =                   NOCVS:v8_23                                                    ASTR_VER =                   NOCVS:v5_24                                                    ASTRO_ID =                   2009-05-09T01:23:48 11004                                                    BIAS_ID =                   PS                                                    FRAME_ID =                   2009-09-18T18:05:35 24750                                                    KO_VER =                   devel                                                    PS_ID =                   2009-05-08T23:54:00 25332 camCol 1                                                    ATVSN =                   NOCVS:v5_24                                                    RADECSYS =                   ICRS                                                    CUNIT1 =                   deg                                                    CUNIT2 =                   deg                                                    CD1_1 =                   -3.90685308327e-06                                                    CD1_2 =                   0.000109887949387                                                    CD2_1 =                   0.000109914935601                                                    CD2_2 =                   3.89506586814e-06                                                    HISTORY =                   GSSSPUTAST: Sep 18 18:05:45 2009\n",
        "SDSS_FRAME_ASTROM: Astrometry fixed for dr9 Tue Jun 26 19:26:27 2012                                                    COMMENT =                    TAI,RA,DEC,SPA,IPA,IPARATE,AZ,ALT,FOCUS at reading of col 0, row 0\n",
        " CCD-specific parameters\n",
        " Calibration parameters\n",
        " Floats truncated at 10 binary digits with FLOATCOMPRESS                                                    COMMENT =                    TAI,RA,DEC,SPA,IPA,IPARATE,AZ,ALT,FOCUS at reading of col 0, row 0\n",
        " CCD-specific parameters\n",
        " Calibration parameters\n",
        " Floats truncated at 10 binary digits with FLOATCOMPRESS                                                    NMGY =                   0.00500525                                                    NMGYIVAR =                   0.176917                                                    VERSIDL =                   7.0                                                    VERSUTIL =                   v5_5_5                                                    VERSPOP =                   v1_11_1                                                    PCALIB =                   /clusterfs/riemann/raid006/bosswork/groups/boss/calib/2009-06-14/cal                                                    PSKY =                   /clusterfs/riemann/raid006/bosswork/groups/boss/photo/sky                                                    RERUN =                   301                                                    HISTORY =                   GSSSPUTAST: Sep 18 18:05:45 2009\n",
        "SDSS_FRAME_ASTROM: Astrometry fixed for dr9 Tue Jun 26 19:26:27 2012                                                    -------------------------\n",
        "69633/r/raw/frame-r-007754-1-0189.fits\n",
        "BZERO =                   0.0                                                    BSCALE =                   1.0                                                    TAI =                   4731621858.12                                                    RA =                   340.61663                                                    DEC =                   4.555987                                                    SPA =                   87.938                                                    IPA =                   90.99                                                    IPARATE =                   0.0004                                                    AZ =                   3.610824                                                    ALT =                   61.911504                                                    FOCUS =                   -285.2                                                    DATE-OBS =                   2008-10-25                                                    TAIHMS =                   03:24:18.12                                                    COMMENT =                    TAI,RA,DEC,SPA,IPA,IPARATE,AZ,ALT,FOCUS at reading of col 0, row 0\n",
        " CCD-specific parameters\n",
        " Calibration parameters\n",
        " Floats truncated at 10 binary digits with FLOATCOMPRESS                                                    ORIGIN =                   SDSS                                                    TELESCOP =                   2.5m                                                    TIMESYS =                   TAI                                                    RUN =                   7754                                                    FRAME =                   189                                                    CCDLOC =                   11                                                    STRIPE =                   80                                                    STRIP =                   N                                                    FLAVOR =                   science                                                    OBSERVER =                   asimmons                                                    SYS_SCN =                   mean                                                    EQNX_SCN =                   2000.0                                                    NODE =                   95.0                                                    INCL =                   -5.0                                                    XBORE =                   -22.74                                                    YBORE =                   0.0                                                    OBJECT =                   80 N                                                    EXPTIME =                   53.907456                                                    SYSTEM =                   FK5                                                    CCDMODE =                   DRIFT                                                    C_OBS =                   26322                                                    COLBIN =                   1                                                    ROWBIN =                   1                                                    DAVERS =                   v15_13_1                                                    SCDMETHD =                   sqrtDynamic                                                    SCDWIDTH =                   1280                                                    SCDDECMF =                   1                                                    SCDOFSET =                   40                                                    SCDDYNTH =                   -20                                                    SCDSTTHL =                   30                                                    SCDSTTHR =                   30                                                    SCDREDSZ =                   515                                                    SCDSKYL =                   0                                                    SCDSKYR =                   0                                                    COMMENT =                    TAI,RA,DEC,SPA,IPA,IPARATE,AZ,ALT,FOCUS at reading of col 0, row 0\n",
        " CCD-specific parameters\n",
        " Calibration parameters\n",
        " Floats truncated at 10 binary digits with FLOATCOMPRESS                                                    CAMROW =                   1                                                    BADLINES =                   0                                                    SOFTBIAS =                   1000                                                    BUNIT =                   nanomaggy                                                    FILTER =                   r                                                    CAMCOL =                   1                                                    VERSION =                   v5_6_3                                                    DERV_VER =                   NOCVS:v8_23                                                    ASTR_VER =                   NOCVS:v5_24                                                    ASTRO_ID =                   2009-05-09T01:23:48 11004                                                    BIAS_ID =                   PS                                                    FRAME_ID =                   2009-09-18T18:06:02 24927                                                    KO_VER =                   devel                                                    PS_ID =                   2009-05-08T23:54:00 25332 camCol 1                                                    ATVSN =                   NOCVS:v5_24                                                    RADECSYS =                   ICRS                                                    CUNIT1 =                   deg                                                    CUNIT2 =                   deg                                                    CD1_1 =                   -3.88364422282e-06                                                    CD1_2 =                   0.000109922594494                                                    CD2_1 =                   0.000109915176721                                                    CD2_2 =                   3.8430240311e-06                                                    HISTORY =                   GSSSPUTAST: Sep 18 18:06:12 2009\n",
        "SDSS_FRAME_ASTROM: Astrometry fixed for dr9 Tue Jun 26 19:26:58 2012                                                    COMMENT =                    TAI,RA,DEC,SPA,IPA,IPARATE,AZ,ALT,FOCUS at reading of col 0, row 0\n",
        " CCD-specific parameters\n",
        " Calibration parameters\n",
        " Floats truncated at 10 binary digits with FLOATCOMPRESS                                                    COMMENT =                    TAI,RA,DEC,SPA,IPA,IPARATE,AZ,ALT,FOCUS at reading of col 0, row 0\n",
        " CCD-specific parameters\n",
        " Calibration parameters\n",
        " Floats truncated at 10 binary digits with FLOATCOMPRESS                                                    NMGY =                   0.00500518                                                    NMGYIVAR =                   0.176919                                                    VERSIDL =                   7.0                                                    VERSUTIL =                   v5_5_5                                                    VERSPOP =                   v1_11_1                                                    PCALIB =                   /clusterfs/riemann/raid006/bosswork/groups/boss/calib/2009-06-14/cal                                                    PSKY =                   /clusterfs/riemann/raid006/bosswork/groups/boss/photo/sky                                                    RERUN =                   301                                                    HISTORY =                   GSSSPUTAST: Sep 18 18:06:12 2009\n",
        "SDSS_FRAME_ASTROM: Astrometry fixed for dr9 Tue Jun 26 19:26:58 2012                                                    -------------------------\n"
       ]
      }
     ],
     "prompt_number": 97
    },
    {
     "cell_type": "code",
     "collapsed": false,
     "input": [
      "(1./0.176919**2)*0.00500518"
     ],
     "language": "python",
     "metadata": {},
     "outputs": [
      {
       "metadata": {},
       "output_type": "pyout",
       "prompt_number": 85,
       "text": [
        "0.15990820513633838"
       ]
      }
     ],
     "prompt_number": 85
    },
    {
     "cell_type": "markdown",
     "metadata": {},
     "source": [
      "Removed everything after ``OBJECT`` ---> bad, lost information SExtractor erros while reading the image "
     ]
    },
    {
     "cell_type": "markdown",
     "metadata": {},
     "source": [
      "Retain just the same header information as what is in the SDSS_r_* output mosaics"
     ]
    },
    {
     "cell_type": "heading",
     "level": 5,
     "metadata": {},
     "source": [
      "This issue still persist if I explicitly flag and run by ``\"sex -MAG_ZEROPOINT    0.0  SDSS_r_{}r.fits\".format(PGC)``"
     ]
    },
    {
     "cell_type": "code",
     "collapsed": false,
     "input": [
      "input = np.loadtxt(\"../photo2/input_mag\")\n",
      "output = np.loadtxt(\"../photo2/output_mag\")\n",
      "import pltx\n",
      "pltx.fit_and_plot(input[::,2],output[::,2],xlabel=\"Input Magnitude\",ylabel=\"Output Magnitude\",title=\"500 RC3 Random Test\",marker='.')"
     ],
     "language": "python",
     "metadata": {},
     "outputs": [
      {
       "output_type": "stream",
       "stream": "stdout",
       "text": [
        "[ 0.89819411  1.45380015]\n",
        " \n",
        "0.8982 x + 1.454\n"
       ]
      },
      {
       "metadata": {},
       "output_type": "pyout",
       "prompt_number": 86,
       "text": [
        "poly1d([ 0.89819411,  1.45380015])"
       ]
      },
      {
       "metadata": {},
       "output_type": "display_data",
       "png": "[encoded data removed]",
       "text": [
        "<matplotlib.figure.Figure at 0x105324f10>"
       ]
      }
     ],
     "prompt_number": 86
    },
    {
     "cell_type": "heading",
     "level": 1,
     "metadata": {},
     "source": [
      "Test 5: Changing MAG_ISOCORR to MAG_AUTO"
     ]
    },
    {
     "cell_type": "markdown",
     "metadata": {},
     "source": [
      "maybe the isophotoal correction uses the background to do some weird stuff"
     ]
    },
    {
     "cell_type": "code",
     "collapsed": false,
     "input": [
      "input = np.loadtxt(\"../input_mag\")\n",
      "output = np.loadtxt(\"../output_mag\")\n",
      "pltx.fit_and_plot(input[::,2],output[::,2],xlabel=\"Input Magnitude\",ylabel=\"Output Magnitude\",title=\"500 RC3 Random Test\",marker='.')"
     ],
     "language": "python",
     "metadata": {},
     "outputs": []
    },
    {
     "cell_type": "heading",
     "level": 1,
     "metadata": {},
     "source": [
      "Attempt to remove header again , safely using pyfits"
     ]
    },
    {
     "cell_type": "code",
     "collapsed": false,
     "input": [],
     "language": "python",
     "metadata": {},
     "outputs": []
    }
   ],
   "metadata": {}
  }
 ]
}