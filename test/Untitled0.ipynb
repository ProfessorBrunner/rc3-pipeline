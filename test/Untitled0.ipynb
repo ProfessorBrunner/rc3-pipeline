{
 "metadata": {
  "name": "",
  "signature": "sha256:e7e208e2e09a0fff327e42c1849ab4e4446b0543d412db964d5d0e9f9cb6a99b"
 },
 "nbformat": 3,
 "nbformat_minor": 0,
 "worksheets": [
  {
   "cells": [
    {
     "cell_type": "code",
     "collapsed": false,
     "input": [
      "%pylab inline"
     ],
     "language": "python",
     "metadata": {},
     "outputs": [
      {
       "output_type": "stream",
       "stream": "stdout",
       "text": [
        "Populating the interactive namespace from numpy and matplotlib\n"
       ]
      },
      {
       "output_type": "stream",
       "stream": "stderr",
       "text": [
        "WARNING: pylab import has clobbered these variables: ['f']\n",
        "`%matplotlib` prevents importing * from pylab and numpy\n"
       ]
      }
     ],
     "prompt_number": 145
    },
    {
     "cell_type": "code",
     "collapsed": false,
     "input": [
      "cd photo/57096/"
     ],
     "language": "python",
     "metadata": {},
     "outputs": [
      {
       "output_type": "stream",
       "stream": "stdout",
       "text": [
        "/Users/dorislee/Desktop/Doris_Files/Fall2014/GSoC2014/rc3-pipeline/test/photo/57096\n"
       ]
      }
     ],
     "prompt_number": 2
    },
    {
     "cell_type": "code",
     "collapsed": false,
     "input": [
      "import os\n",
      "os.system(\"sex SDSS_r_57096r.fits  -CHECKIMAGE_NAME output2_check.fits -CATALOG_NAME output2.cat \")"
     ],
     "language": "python",
     "metadata": {},
     "outputs": [
      {
       "metadata": {},
       "output_type": "pyout",
       "prompt_number": 7,
       "text": [
        "0"
       ]
      }
     ],
     "prompt_number": 7
    },
    {
     "cell_type": "heading",
     "level": 1,
     "metadata": {},
     "source": [
      "Machine dependence? "
     ]
    },
    {
     "cell_type": "code",
     "collapsed": false,
     "input": [
      "os.system(\"diff -q output.cat output2.cat\")"
     ],
     "language": "python",
     "metadata": {},
     "outputs": [
      {
       "metadata": {},
       "output_type": "pyout",
       "prompt_number": 9,
       "text": [
        "256"
       ]
      }
     ],
     "prompt_number": 9
    },
    {
     "cell_type": "markdown",
     "metadata": {},
     "source": [
      "\"Files output.cat and output2.cat differ\""
     ]
    },
    {
     "cell_type": "markdown",
     "metadata": {},
     "source": [
      "Result on bigdog and local is different "
     ]
    },
    {
     "cell_type": "markdown",
     "metadata": {},
     "source": [
      "Ran post_analysis on these two sources locally"
     ]
    },
    {
     "cell_type": "code",
     "collapsed": false,
     "input": [
      "cd .."
     ],
     "language": "python",
     "metadata": {},
     "outputs": [
      {
       "output_type": "stream",
       "stream": "stdout",
       "text": [
        "/Users/dorislee/Desktop/Doris_Files/Fall2014/GSoC2014/rc3-pipeline/test/photo\n"
       ]
      }
     ],
     "prompt_number": 3
    },
    {
     "cell_type": "code",
     "collapsed": false,
     "input": [
      "input = np.loadtxt(\"input_mag\")\n",
      "output = np.loadtxt(\"output_mag\")\n",
      "import pltx\n",
      "pltx.fit_and_plot(input[::,2],output[::,2],xlabel=\"Input Magnitude\",ylabel=\"Output Magnitude\",title=\"500 RC3 Random Test\",marker='.')"
     ],
     "language": "python",
     "metadata": {},
     "outputs": [
      {
       "output_type": "stream",
       "stream": "stdout",
       "text": [
        "[ 0.8982723   1.45389968]\n",
        " \n",
        "0.8983 x + 1.454\n"
       ]
      },
      {
       "metadata": {},
       "output_type": "pyout",
       "prompt_number": 6,
       "text": [
        "poly1d([ 0.8982723 ,  1.45389968])"
       ]
      },
      {
       "metadata": {},
       "output_type": "display_data",
       "png": "[encoded data removed]",
       "text": [
        "<matplotlib.figure.Figure at 0x1052fb690>"
       ]
      }
     ],
     "prompt_number": 6
    },
    {
     "cell_type": "markdown",
     "metadata": {},
     "source": [
      "So the offset persist even running on the local machine"
     ]
    },
    {
     "cell_type": "heading",
     "level": 1,
     "metadata": {},
     "source": [
      "Removing header information from SDSS fields "
     ]
    },
    {
     "cell_type": "code",
     "collapsed": false,
     "input": [
      "import astropy.io.fits as pf\n",
      "import glob"
     ],
     "language": "python",
     "metadata": {},
     "outputs": [],
     "prompt_number": 68
    },
    {
     "cell_type": "code",
     "collapsed": false,
     "input": [
      "cd ../photo\\ copy"
     ],
     "language": "python",
     "metadata": {},
     "outputs": [
      {
       "output_type": "stream",
       "stream": "stdout",
       "text": [
        "/Users/dorislee/Desktop/Doris_Files/Fall2014/GSoC2014/rc3-pipeline/test/photo copy\n"
       ]
      }
     ],
     "prompt_number": 89
    },
    {
     "cell_type": "code",
     "collapsed": false,
     "input": [
      "for f in glob.glob('69633/r/raw/frame-r-*.fits'):\n",
      "    print f\n",
      "    fits1 = f\n",
      "    # x = pf.getdata(fits1)# Don't flip the array for this analysis, we don't need it to be north up\n",
      "    hdr = pf.getheader(fits1)\n",
      "    for i in hdr:\n",
      "#         if i not in ['SIMPLE','BITPIX','NAXIS','NAXIS1','NAXIS2','EXTEND','CTYPE1','CTYPE2','CRVAL1','CRVAL2','CRPIX1','CRPIX2','CDELT1','CDELT2','CROTA2','EQUINOX']:\n",
      "#             hdr.remove(i)\n",
      "        if i not in ['SIMPLE','BITPIX','NAXIS','NAXIS1','NAXIS2','EXTEND','CTYPE1','CTYPE2','CRVAL1','CRVAL2','CRPIX1','CRPIX2','CDELT1','CDELT2','CROTA2','EQUINOX']:\n",
      "            print i,\"=                  \", hdr[i],\"                                                  \",\n",
      "#     print \"CDELT1  =         -0.000277778                                                  CDELT2  =          0.000277778                                                  CROTA2  =             0.000000                                                  END                                   \"\n",
      "    print \"-------------------------\""
     ],
     "language": "python",
     "metadata": {},
     "outputs": [
      {
       "output_type": "stream",
       "stream": "stdout",
       "text": [
        "69633/r/raw/frame-r-007754-1-0188.fits\n",
        "BZERO =                   0.0                                                    BSCALE =                   1.0                                                    TAI =                   4731621822.3                                                    RA =                   340.46658                                                    DEC =                   4.550586                                                    SPA =                   87.926                                                    IPA =                   90.976                                                    IPARATE =                   0.0004                                                    AZ =                   3.60928                                                    ALT =                   61.906092                                                    FOCUS =                   -283.3                                                    DATE-OBS =                   2008-10-25                                                    TAIHMS =                   03:23:42.30                                                    COMMENT =                    TAI,RA,DEC,SPA,IPA,IPARATE,AZ,ALT,FOCUS at reading of col 0, row 0\n",
        " CCD-specific parameters\n",
        " Calibration parameters\n",
        " Floats truncated at 10 binary digits with FLOATCOMPRESS                                                    ORIGIN =                   SDSS                                                    TELESCOP =                   2.5m                                                    TIMESYS =                   TAI                                                    RUN =                   7754                                                    FRAME =                   188                                                    CCDLOC =                   11                                                    STRIPE =                   80                                                    STRIP =                   N                                                    FLAVOR =                   science                                                    OBSERVER =                   asimmons                                                    SYS_SCN =                   mean                                                    EQNX_SCN =                   2000.0                                                    NODE =                   95.0                                                    INCL =                   -5.0                                                    XBORE =                   -22.74                                                    YBORE =                   0.0                                                    OBJECT =                   80 N                                                    EXPTIME =                   53.907456                                                    SYSTEM =                   FK5                                                    CCDMODE =                   DRIFT                                                    C_OBS =                   26322                                                    COLBIN =                   1                                                    ROWBIN =                   1                                                    DAVERS =                   v15_13_1                                                    SCDMETHD =                   sqrtDynamic                                                    SCDWIDTH =                   1280                                                    SCDDECMF =                   1                                                    SCDOFSET =                   40                                                    SCDDYNTH =                   -20                                                    SCDSTTHL =                   30                                                    SCDSTTHR =                   30                                                    SCDREDSZ =                   515                                                    SCDSKYL =                   0                                                    SCDSKYR =                   0                                                    COMMENT =                    TAI,RA,DEC,SPA,IPA,IPARATE,AZ,ALT,FOCUS at reading of col 0, row 0\n",
        " CCD-specific parameters\n",
        " Calibration parameters\n",
        " Floats truncated at 10 binary digits with FLOATCOMPRESS                                                    CAMROW =                   1                                                    BADLINES =                   0                                                    SOFTBIAS =                   1000                                                    BUNIT =                   nanomaggy                                                    FILTER =                   r                                                    CAMCOL =                   1                                                    VERSION =                   v5_6_3                                                    DERV_VER =                   NOCVS:v8_23                                                    ASTR_VER =                   NOCVS:v5_24                                                    ASTRO_ID =                   2009-05-09T01:23:48 11004                                                    BIAS_ID =                   PS                                                    FRAME_ID =                   2009-09-18T18:05:35 24750                                                    KO_VER =                   devel                                                    PS_ID =                   2009-05-08T23:54:00 25332 camCol 1                                                    ATVSN =                   NOCVS:v5_24                                                    RADECSYS =                   ICRS                                                    CUNIT1 =                   deg                                                    CUNIT2 =                   deg                                                    CD1_1 =                   -3.90685308327e-06                                                    CD1_2 =                   0.000109887949387                                                    CD2_1 =                   0.000109914935601                                                    CD2_2 =                   3.89506586814e-06                                                    HISTORY =                   GSSSPUTAST: Sep 18 18:05:45 2009\n",
        "SDSS_FRAME_ASTROM: Astrometry fixed for dr9 Tue Jun 26 19:26:27 2012                                                    COMMENT =                    TAI,RA,DEC,SPA,IPA,IPARATE,AZ,ALT,FOCUS at reading of col 0, row 0\n",
        " CCD-specific parameters\n",
        " Calibration parameters\n",
        " Floats truncated at 10 binary digits with FLOATCOMPRESS                                                    COMMENT =                    TAI,RA,DEC,SPA,IPA,IPARATE,AZ,ALT,FOCUS at reading of col 0, row 0\n",
        " CCD-specific parameters\n",
        " Calibration parameters\n",
        " Floats truncated at 10 binary digits with FLOATCOMPRESS                                                    NMGY =                   0.00500525                                                    NMGYIVAR =                   0.176917                                                    VERSIDL =                   7.0                                                    VERSUTIL =                   v5_5_5                                                    VERSPOP =                   v1_11_1                                                    PCALIB =                   /clusterfs/riemann/raid006/bosswork/groups/boss/calib/2009-06-14/cal                                                    PSKY =                   /clusterfs/riemann/raid006/bosswork/groups/boss/photo/sky                                                    RERUN =                   301                                                    HISTORY =                   GSSSPUTAST: Sep 18 18:05:45 2009\n",
        "SDSS_FRAME_ASTROM: Astrometry fixed for dr9 Tue Jun 26 19:26:27 2012                                                    -------------------------\n",
        "69633/r/raw/frame-r-007754-1-0189.fits\n",
        "BZERO =                   0.0                                                    BSCALE =                   1.0                                                    TAI =                   4731621858.12                                                    RA =                   340.61663                                                    DEC =                   4.555987                                                    SPA =                   87.938                                                    IPA =                   90.99                                                    IPARATE =                   0.0004                                                    AZ =                   3.610824                                                    ALT =                   61.911504                                                    FOCUS =                   -285.2                                                    DATE-OBS =                   2008-10-25                                                    TAIHMS =                   03:24:18.12                                                    COMMENT =                    TAI,RA,DEC,SPA,IPA,IPARATE,AZ,ALT,FOCUS at reading of col 0, row 0\n",
        " CCD-specific parameters\n",
        " Calibration parameters\n",
        " Floats truncated at 10 binary digits with FLOATCOMPRESS                                                    ORIGIN =                   SDSS                                                    TELESCOP =                   2.5m                                                    TIMESYS =                   TAI                                                    RUN =                   7754                                                    FRAME =                   189                                                    CCDLOC =                   11                                                    STRIPE =                   80                                                    STRIP =                   N                                                    FLAVOR =                   science                                                    OBSERVER =                   asimmons                                                    SYS_SCN =                   mean                                                    EQNX_SCN =                   2000.0                                                    NODE =                   95.0                                                    INCL =                   -5.0                                                    XBORE =                   -22.74                                                    YBORE =                   0.0                                                    OBJECT =                   80 N                                                    EXPTIME =                   53.907456                                                    SYSTEM =                   FK5                                                    CCDMODE =                   DRIFT                                                    C_OBS =                   26322                                                    COLBIN =                   1                                                    ROWBIN =                   1                                                    DAVERS =                   v15_13_1                                                    SCDMETHD =                   sqrtDynamic                                                    SCDWIDTH =                   1280                                                    SCDDECMF =                   1                                                    SCDOFSET =                   40                                                    SCDDYNTH =                   -20                                                    SCDSTTHL =                   30                                                    SCDSTTHR =                   30                                                    SCDREDSZ =                   515                                                    SCDSKYL =                   0                                                    SCDSKYR =                   0                                                    COMMENT =                    TAI,RA,DEC,SPA,IPA,IPARATE,AZ,ALT,FOCUS at reading of col 0, row 0\n",
        " CCD-specific parameters\n",
        " Calibration parameters\n",
        " Floats truncated at 10 binary digits with FLOATCOMPRESS                                                    CAMROW =                   1                                                    BADLINES =                   0                                                    SOFTBIAS =                   1000                                                    BUNIT =                   nanomaggy                                                    FILTER =                   r                                                    CAMCOL =                   1                                                    VERSION =                   v5_6_3                                                    DERV_VER =                   NOCVS:v8_23                                                    ASTR_VER =                   NOCVS:v5_24                                                    ASTRO_ID =                   2009-05-09T01:23:48 11004                                                    BIAS_ID =                   PS                                                    FRAME_ID =                   2009-09-18T18:06:02 24927                                                    KO_VER =                   devel                                                    PS_ID =                   2009-05-08T23:54:00 25332 camCol 1                                                    ATVSN =                   NOCVS:v5_24                                                    RADECSYS =                   ICRS                                                    CUNIT1 =                   deg                                                    CUNIT2 =                   deg                                                    CD1_1 =                   -3.88364422282e-06                                                    CD1_2 =                   0.000109922594494                                                    CD2_1 =                   0.000109915176721                                                    CD2_2 =                   3.8430240311e-06                                                    HISTORY =                   GSSSPUTAST: Sep 18 18:06:12 2009\n",
        "SDSS_FRAME_ASTROM: Astrometry fixed for dr9 Tue Jun 26 19:26:58 2012                                                    COMMENT =                    TAI,RA,DEC,SPA,IPA,IPARATE,AZ,ALT,FOCUS at reading of col 0, row 0\n",
        " CCD-specific parameters\n",
        " Calibration parameters\n",
        " Floats truncated at 10 binary digits with FLOATCOMPRESS                                                    COMMENT =                    TAI,RA,DEC,SPA,IPA,IPARATE,AZ,ALT,FOCUS at reading of col 0, row 0\n",
        " CCD-specific parameters\n",
        " Calibration parameters\n",
        " Floats truncated at 10 binary digits with FLOATCOMPRESS                                                    NMGY =                   0.00500518                                                    NMGYIVAR =                   0.176919                                                    VERSIDL =                   7.0                                                    VERSUTIL =                   v5_5_5                                                    VERSPOP =                   v1_11_1                                                    PCALIB =                   /clusterfs/riemann/raid006/bosswork/groups/boss/calib/2009-06-14/cal                                                    PSKY =                   /clusterfs/riemann/raid006/bosswork/groups/boss/photo/sky                                                    RERUN =                   301                                                    HISTORY =                   GSSSPUTAST: Sep 18 18:06:12 2009\n",
        "SDSS_FRAME_ASTROM: Astrometry fixed for dr9 Tue Jun 26 19:26:58 2012                                                    -------------------------\n"
       ]
      }
     ],
     "prompt_number": 97
    },
    {
     "cell_type": "code",
     "collapsed": false,
     "input": [
      "(1./0.176919**2)*0.00500518"
     ],
     "language": "python",
     "metadata": {},
     "outputs": [
      {
       "metadata": {},
       "output_type": "pyout",
       "prompt_number": 85,
       "text": [
        "0.15990820513633838"
       ]
      }
     ],
     "prompt_number": 85
    },
    {
     "cell_type": "markdown",
     "metadata": {},
     "source": [
      "Removed everything after ``OBJECT`` ---> bad, lost information SExtractor erros while reading the image "
     ]
    },
    {
     "cell_type": "markdown",
     "metadata": {},
     "source": [
      "Retain just the same header information as what is in the SDSS_r_* output mosaics"
     ]
    },
    {
     "cell_type": "heading",
     "level": 5,
     "metadata": {},
     "source": [
      "This issue still persist if I explicitly flag and run by ``\"sex -MAG_ZEROPOINT    0.0  SDSS_r_{}r.fits\".format(PGC)``"
     ]
    },
    {
     "cell_type": "code",
     "collapsed": false,
     "input": [
      "input = np.loadtxt(\"../photo2/input_mag\")\n",
      "output = np.loadtxt(\"../photo2/output_mag\")\n",
      "import pltx\n",
      "pltx.fit_and_plot(input[::,2],output[::,2],xlabel=\"Input Magnitude\",ylabel=\"Output Magnitude\",title=\"500 RC3 Random Test\",marker='.')"
     ],
     "language": "python",
     "metadata": {},
     "outputs": [
      {
       "output_type": "stream",
       "stream": "stdout",
       "text": [
        "[ 0.89819411  1.45380015]\n",
        " \n",
        "0.8982 x + 1.454\n"
       ]
      },
      {
       "metadata": {},
       "output_type": "pyout",
       "prompt_number": 86,
       "text": [
        "poly1d([ 0.89819411,  1.45380015])"
       ]
      },
      {
       "metadata": {},
       "output_type": "display_data",
       "png": "[encoded data removed]",
       "text": [
        "<matplotlib.figure.Figure at 0x105324f10>"
       ]
      }
     ],
     "prompt_number": 86
    },
    {
     "cell_type": "heading",
     "level": 1,
     "metadata": {},
     "source": [
      "Test 5: Changing MAG_ISOCORR to MAG_AUTO"
     ]
    },
    {
     "cell_type": "markdown",
     "metadata": {},
     "source": [
      "maybe the isophotoal correction uses the background to do some weird stuff"
     ]
    },
    {
     "cell_type": "markdown",
     "metadata": {},
     "source": [
      "NUM_EDGE_REJECT:  1002"
     ]
    },
    {
     "cell_type": "code",
     "collapsed": false,
     "input": [
      "input = np.loadtxt(\"../input_mag\")\n",
      "output = np.loadtxt(\"../output_mag\")\n",
      "pltx.fit_and_plot(input[::,2],output[::,2],xlabel=\"Input Magnitude\",ylabel=\"Output Magnitude\",title=\"500 RC3 Random Test\",marker='.')"
     ],
     "language": "python",
     "metadata": {},
     "outputs": [
      {
       "output_type": "stream",
       "stream": "stdout",
       "text": [
        "[ 0.96600145  1.79298535]\n",
        " \n",
        "0.966 x + 1.793\n"
       ]
      },
      {
       "metadata": {},
       "output_type": "pyout",
       "prompt_number": 98,
       "text": [
        "poly1d([ 0.96600145,  1.79298535])"
       ]
      },
      {
       "metadata": {},
       "output_type": "display_data",
       "png": "[encoded data removed]",
       "text": [
        "<matplotlib.figure.Figure at 0x105911f50>"
       ]
      }
     ],
     "prompt_number": 98
    },
    {
     "cell_type": "markdown",
     "metadata": {},
     "source": [
      "So the offset still persist"
     ]
    },
    {
     "cell_type": "heading",
     "level": 1,
     "metadata": {},
     "source": [
      "Attempt to remove header again , safely using pyfits"
     ]
    },
    {
     "cell_type": "code",
     "collapsed": false,
     "input": [
      "cd ../photo3/"
     ],
     "language": "python",
     "metadata": {},
     "outputs": [
      {
       "output_type": "stream",
       "stream": "stdout",
       "text": [
        "/Users/dorislee/Desktop/Doris_Files/Fall2014/GSoC2014/rc3-pipeline/test/photo3\n"
       ]
      }
     ],
     "prompt_number": 101
    },
    {
     "cell_type": "code",
     "collapsed": false,
     "input": [
      "fits1 = '69633/r/raw/frame-r-007754-1-0188.fits'\n",
      "# x = pf.getdata(fits1)# Don't flip the array for this analysis, we don't need it to be north up\n",
      "hdr = pf.getheader(fits1)\n",
      "hdr.pop('SIMPLE')\n",
      "# for i in hdr:\n",
      "# #         if i not in ['SIMPLE','BITPIX','NAXIS','NAXIS1','NAXIS2','EXTEND','CTYPE1','CTYPE2','CRVAL1','CRVAL2','CRPIX1','CRPIX2','CDELT1','CDELT2','CROTA2','EQUINOX']:\n",
      "# #             hdr.remove(i)\n",
      "#     if i not in ['SIMPLE','BITPIX','NAXIS','NAXIS1','NAXIS2','EXTEND','CTYPE1','CTYPE2','CRVAL1','CRVAL2','CRPIX1','CRPIX2','CDELT1','CDELT2','CROTA2','EQUINOX']:\n",
      "#         print i,\"=                  \", hdr[i],\"                                                  \",\n",
      "# #     print \"CDELT1  =         -0.000277778                                                  CDELT2  =          0.000277778                                                  CROTA2  =             0.000000                                                  END                                   \"\n",
      "# print \"-------------------------\""
     ],
     "language": "python",
     "metadata": {},
     "outputs": [
      {
       "metadata": {},
       "output_type": "pyout",
       "prompt_number": 105,
       "text": [
        "True"
       ]
      }
     ],
     "prompt_number": 105
    },
    {
     "cell_type": "code",
     "collapsed": false,
     "input": [
      "from astropy.io import fits\n",
      "# hdulist = fits.open(fits1)\n",
      "# hdulist.info()\n",
      "ImageData, ImageHdr = fits.getdata(fits1, 0, header=True)\n",
      "ImageHdr.remove('BITPIX')\n",
      "ImageHdr.remove('SIMPLE')\n",
      "#BITPIX and SIMPLE are still kept automatically, in order to conform to FITS standards\n",
      "ImageHdr.remove('NMGYIVAR') #This really does show that removing actually is taking place.\n",
      "print ImageHdr\n",
      "fits.writeto(fits1,ImageData,ImageHdr,clobber=True)"
     ],
     "language": "python",
     "metadata": {},
     "outputs": [
      {
       "output_type": "stream",
       "stream": "stdout",
       "text": [
        "NAXIS   =                    2 / number of array dimensions                     NAXIS1  =                 2048                                                  NAXIS2  =                 1489                                                  TAI     =        4731621822.30 / 1st row Number of seconds since Nov 17 1858    RA      =            340.46658 / 1st row RA of telescope boresight (deg)        DEC     =            4.550586  / 1st row Dec of telescope boresight (degrees)   SPA     =              87.926  / 1st row Cam col position angle wrt N (deg)     IPA     =              90.976  / 1st row Inst rotator position angle (deg)      IPARATE =              0.0004  / 1st row Inst rotator anglr velocity (deg/sec)  AZ      =            3.609280  / 1st row Azimuth (encoder) of tele (0=N?) (deg) ALT     =            61.906092 / 1st row Altitude (encoder) of tele (degrees)   FOCUS   =           -283.30000 / 1st row - Focus piston (microns?)              DATE-OBS= '2008-10-25'         / 1st row - TAI date                             TAIHMS  = '03:23:42.30'        / 1st row TAI time HH:MM:SS.SS                   COMMENT  TAI,RA,DEC,SPA,IPA,IPARATE,AZ,ALT,FOCUS at reading of col 0, row 0     ORIGIN  = 'SDSS    '                                                            TELESCOP= '2.5m    '                                                            TIMESYS = 'TAI     '                                                            RUN     =                 7754 / Run number                                     FRAME   =                  188 / Frame sequence number within the run           CCDLOC  =                   11 / Survey location of CCD (e.g., rowCol)          STRIPE  =                   80 / Stripe index number (23 <--> eta=0)            STRIP   = 'N       '           / Strip in the stripe being tracked.             FLAVOR  = 'science '           / Flavor of this run                             OBSERVER= 'asimmons'           / Observer                                       SYS_SCN = 'mean    '           / System of the scan great circle (e.g., mean)   EQNX_SCN=           2000.00    / Equinox of the scan great circle. (years)      NODE    =           95.00000   / RA of the great circle's ascending node (deg)  INCL    =           -5.00000   / Great circle's inclination wrt cel. eq. (deg)  XBORE   =           -22.74     / Boresight x offset from the array center (mm)  YBORE   =           0.00       / Boresight x offset from the array center (mm)  OBJECT  = '80 N    '           / e.g., 'stripe 50.6 degrees, north strip'       EXPTIME = '53.907456'          / Exposure time (seconds)                        SYSTEM  = 'FK5     '           / System of the TCC coordinates (e.g., mean)     CCDMODE = 'DRIFT   '           / 'STARING' or 'DRIFT'                           C_OBS   =                26322 / CCD row clock rate (usec/row)                  COLBIN  =                    1 / Binning factor perpendicular to the columns    ROWBIN  =                    1 / Binning factor perpendicular to the rows       DAVERS  = 'v15_13_1'           / Version of DA software                         SCDMETHD= 'sqrtDynamic'        / scdMethod                                      SCDWIDTH=                 1280 / scdDisplayWidth                                SCDDECMF=                    1 / scdDecimateFactor                              SCDOFSET=                   40 / scdDisplayOffset                               SCDDYNTH=                  -20 / scdDynamicThresh                               SCDSTTHL=                   30 / scdStaticThreshL                               SCDSTTHR=                   30 / scdStaticThreshR                               SCDREDSZ=                  515 / scdReduceSize                                  SCDSKYL =                    0 / scdSkyLeft                                     SCDSKYR =                    0 / scdSkyRight                                    COMMENT  CCD-specific parameters                                                CAMROW  =                    1 / Row in the imaging camera                      BADLINES=                    0 / Number of bad lines in frame                   EQUINOX =              2000.00 /                                                SOFTBIAS=                 1000 / software \"bias\" added to all DN                BUNIT   = 'nanomaggy'          / 1 nanomaggy = 3.631e-6 Jy                      FILTER  = 'r       '           / filter used                                    CAMCOL  =                    1 / column in the imaging camera                   VERSION = 'v5_6_3  '                                                            DERV_VER= 'NOCVS:v8_23'                                                         ASTR_VER= 'NOCVS:v5_24'                                                         ASTRO_ID= '2009-05-09T01:23:48 11004'                                           BIAS_ID = 'PS      '                                                            FRAME_ID= '2009-09-18T18:05:35 24750'                                           KO_VER  = 'devel   '                                                            PS_ID   = '2009-05-08T23:54:00 25332 camCol 1'                                  ATVSN   = 'NOCVS:v5_24'        / ASTROTOOLS version tag                         RADECSYS= 'ICRS    '           / International Celestial Ref. System            CTYPE1  = 'RA---TAN'           /Coordinate type                                 CTYPE2  = 'DEC--TAN'           /Coordinate type                                 CUNIT1  = 'deg     '           /Units                                           CUNIT2  = 'deg     '           /Units                                           CRPIX1  =        1025.00000000 /X of reference pixel                            CRPIX2  =        745.000000000 /Y of reference pixel                            CRVAL1  =        341.069355930 /RA of reference pixel (deg)                     CRVAL2  =        3.62699643315 /Dec of reference pixel (deg)                    CD1_1   =   -3.90685308327E-06 /RA deg per column pixel                         CD1_2   =    0.000109887949387 /RA deg per row pixel                            CD2_1   =    0.000109914935601 /Dec deg per column pixel                        CD2_2   =    3.89506586814E-06 /Dec deg per row pixel                           HISTORY GSSSPUTAST: Sep 18 18:05:45 2009                                        COMMENT  Calibration parameters                                                 COMMENT  Floats truncated at 10 binary digits with FLOATCOMPRESS                NMGY    =           0.00500525 / Calibration factor [nMgy per count]            VERSIDL = '7.0     '           / Version of IDL                                 VERSUTIL= 'v5_5_5  '           / Version of idlutils                            VERSPOP = 'v1_11_1 '           / Version of photoop product                     PCALIB  = '/clusterfs/riemann/raid006/bosswork/groups/boss/calib/2009-06-14/cal'PSKY    = '/clusterfs/riemann/raid006/bosswork/groups/boss/photo/sky' / Value ofRERUN   = '301     '           / rerun                                          HISTORY SDSS_FRAME_ASTROM: Astrometry fixed for dr9 Tue Jun 26 19:26:27 2012    END                                                                                                                                                                                                                                                                                                                                                                                                                                                                                                                                                                                                                                                                                                                                                                                                                                                                                                                                                                                                                                                                                                                                                                                                                                                                                                                                                                                                                                                                                             \n"
       ]
      }
     ],
     "prompt_number": 122
    },
    {
     "cell_type": "code",
     "collapsed": false,
     "input": [
      "for f in glob.glob('69633/r/raw/frame-r-*.fits'):\n",
      "    print f\n",
      "    fits1 = f\n",
      "    # x = pf.getdata(fits1)# Don't flip the array for this analysis, we don't need it to be north up\n",
      "#     hdr = pf.getheader(fits1)\n",
      "#     for i in hdr:\n",
      "# #         if i not in ['SIMPLE','BITPIX','NAXIS','NAXIS1','NAXIS2','EXTEND','CTYPE1','CTYPE2','CRVAL1','CRVAL2','CRPIX1','CRPIX2','CDELT1','CDELT2','CROTA2','EQUINOX']:\n",
      "# #             hdr.remove(i)\n",
      "#         if i not in ['SIMPLE','BITPIX','NAXIS','NAXIS1','NAXIS2','EXTEND','CTYPE1','CTYPE2','CRVAL1','CRVAL2','CRPIX1','CRPIX2','CDELT1','CDELT2','CROTA2','EQUINOX']:\n",
      "#             print i,\"=                  \", hdr[i],\"                                                  \",\n",
      "# #     print \"CDELT1  =         -0.000277778                                                  CDELT2  =          0.000277778                                                  CROTA2  =             0.000000                                                  END                                   \"\n",
      "#     print \"-------------------------\"\n",
      "    ImageData, ImageHdr = fits.getdata(fits1, 0, header=True)\n",
      "#     ImageHdr.remove('BITPIX')\n",
      "#     ImageHdr.remove('SIMPLE')\n",
      "    #BITPIX and SIMPLE are still kept automatically, in order to conform to FITS standards\n",
      "    try:\n",
      "        ImageHdr.remove('NMGYIVAR') #This really does show that removing actually is taking place.\n",
      "    except(ValueError):\n",
      "        print \"Ignore\"\n",
      "    print ImageHdr\n",
      "    fits.writeto(fits1,ImageData,ImageHdr,clobber=True)"
     ],
     "language": "python",
     "metadata": {},
     "outputs": [
      {
       "output_type": "stream",
       "stream": "stdout",
       "text": [
        "69633/r/raw/frame-r-007754-1-0188.fits\n",
        "Ignore\n",
        "SIMPLE  =                    T / conforms to FITS standard                      BITPIX  =                  -32 / array data type                                NAXIS   =                    2 / number of array dimensions                     NAXIS1  =                 2048                                                  NAXIS2  =                 1489                                                  TAI     =        4731621822.30 / 1st row Number of seconds since Nov 17 1858    RA      =            340.46658 / 1st row RA of telescope boresight (deg)        DEC     =            4.550586  / 1st row Dec of telescope boresight (degrees)   SPA     =              87.926  / 1st row Cam col position angle wrt N (deg)     IPA     =              90.976  / 1st row Inst rotator position angle (deg)      IPARATE =              0.0004  / 1st row Inst rotator anglr velocity (deg/sec)  AZ      =            3.609280  / 1st row Azimuth (encoder) of tele (0=N?) (deg) ALT     =            61.906092 / 1st row Altitude (encoder) of tele (degrees)   FOCUS   =           -283.30000 / 1st row - Focus piston (microns?)              DATE-OBS= '2008-10-25'         / 1st row - TAI date                             TAIHMS  = '03:23:42.30'        / 1st row TAI time HH:MM:SS.SS                   COMMENT  TAI,RA,DEC,SPA,IPA,IPARATE,AZ,ALT,FOCUS at reading of col 0, row 0     ORIGIN  = 'SDSS    '                                                            TELESCOP= '2.5m    '                                                            TIMESYS = 'TAI     '                                                            RUN     =                 7754 / Run number                                     FRAME   =                  188 / Frame sequence number within the run           CCDLOC  =                   11 / Survey location of CCD (e.g., rowCol)          STRIPE  =                   80 / Stripe index number (23 <--> eta=0)            STRIP   = 'N       '           / Strip in the stripe being tracked.             FLAVOR  = 'science '           / Flavor of this run                             OBSERVER= 'asimmons'           / Observer                                       SYS_SCN = 'mean    '           / System of the scan great circle (e.g., mean)   EQNX_SCN=           2000.00    / Equinox of the scan great circle. (years)      NODE    =           95.00000   / RA of the great circle's ascending node (deg)  INCL    =           -5.00000   / Great circle's inclination wrt cel. eq. (deg)  XBORE   =           -22.74     / Boresight x offset from the array center (mm)  YBORE   =           0.00       / Boresight x offset from the array center (mm)  OBJECT  = '80 N    '           / e.g., 'stripe 50.6 degrees, north strip'       EXPTIME = '53.907456'          / Exposure time (seconds)                        SYSTEM  = 'FK5     '           / System of the TCC coordinates (e.g., mean)     CCDMODE = 'DRIFT   '           / 'STARING' or 'DRIFT'                           C_OBS   =                26322 / CCD row clock rate (usec/row)                  COLBIN  =                    1 / Binning factor perpendicular to the columns    ROWBIN  =                    1 / Binning factor perpendicular to the rows       DAVERS  = 'v15_13_1'           / Version of DA software                         SCDMETHD= 'sqrtDynamic'        / scdMethod                                      SCDWIDTH=                 1280 / scdDisplayWidth                                SCDDECMF=                    1 / scdDecimateFactor                              SCDOFSET=                   40 / scdDisplayOffset                               SCDDYNTH=                  -20 / scdDynamicThresh                               SCDSTTHL=                   30 / scdStaticThreshL                               SCDSTTHR=                   30 / scdStaticThreshR                               SCDREDSZ=                  515 / scdReduceSize                                  SCDSKYL =                    0 / scdSkyLeft                                     SCDSKYR =                    0 / scdSkyRight                                    COMMENT  CCD-specific parameters                                                CAMROW  =                    1 / Row in the imaging camera                      BADLINES=                    0 / Number of bad lines in frame                   EQUINOX =              2000.00 /                                                SOFTBIAS=                 1000 / software \"bias\" added to all DN                BUNIT   = 'nanomaggy'          / 1 nanomaggy = 3.631e-6 Jy                      FILTER  = 'r       '           / filter used                                    CAMCOL  =                    1 / column in the imaging camera                   VERSION = 'v5_6_3  '                                                            DERV_VER= 'NOCVS:v8_23'                                                         ASTR_VER= 'NOCVS:v5_24'                                                         ASTRO_ID= '2009-05-09T01:23:48 11004'                                           BIAS_ID = 'PS      '                                                            FRAME_ID= '2009-09-18T18:05:35 24750'                                           KO_VER  = 'devel   '                                                            PS_ID   = '2009-05-08T23:54:00 25332 camCol 1'                                  ATVSN   = 'NOCVS:v5_24'        / ASTROTOOLS version tag                         RADECSYS= 'ICRS    '           / International Celestial Ref. System            CTYPE1  = 'RA---TAN'           /Coordinate type                                 CTYPE2  = 'DEC--TAN'           /Coordinate type                                 CUNIT1  = 'deg     '           /Units                                           CUNIT2  = 'deg     '           /Units                                           CRPIX1  =        1025.00000000 /X of reference pixel                            CRPIX2  =        745.000000000 /Y of reference pixel                            CRVAL1  =        341.069355930 /RA of reference pixel (deg)                     CRVAL2  =        3.62699643315 /Dec of reference pixel (deg)                    CD1_1   =   -3.90685308327E-06 /RA deg per column pixel                         CD1_2   =    0.000109887949387 /RA deg per row pixel                            CD2_1   =    0.000109914935601 /Dec deg per column pixel                        CD2_2   =    3.89506586814E-06 /Dec deg per row pixel                           HISTORY GSSSPUTAST: Sep 18 18:05:45 2009                                        COMMENT  Calibration parameters                                                 COMMENT  Floats truncated at 10 binary digits with FLOATCOMPRESS                NMGY    =           0.00500525 / Calibration factor [nMgy per count]            VERSIDL = '7.0     '           / Version of IDL                                 VERSUTIL= 'v5_5_5  '           / Version of idlutils                            VERSPOP = 'v1_11_1 '           / Version of photoop product                     PCALIB  = '/clusterfs/riemann/raid006/bosswork/groups/boss/calib/2009-06-14/cal'PSKY    = '/clusterfs/riemann/raid006/bosswork/groups/boss/photo/sky' / Value ofRERUN   = '301     '           / rerun                                          HISTORY SDSS_FRAME_ASTROM: Astrometry fixed for dr9 Tue Jun 26 19:26:27 2012    END                                                                                                                                                                                                                                                                                                                                                                                                                                                                                                                                                                                                                                                                                                                                                                                                                                                                                                                                                                                                                                                                                                                                                                                                                                                                                                                             \n",
        "69633/r/raw/frame-r-007754-1-0189.fits"
       ]
      },
      {
       "output_type": "stream",
       "stream": "stderr",
       "text": [
        "WARNING: Overwriting existing file '69633/r/raw/frame-r-007754-1-0189.fits'. [astropy.io.fits.file]\n",
        "WARNING:astropy:Overwriting existing file '69633/r/raw/frame-r-007754-1-0189.fits'.\n"
       ]
      },
      {
       "output_type": "stream",
       "stream": "stdout",
       "text": [
        "\n",
        "SIMPLE  =                    T /                                                BITPIX  =                  -32 / 32 bit floating point                          NAXIS   =                    2                                                  NAXIS1  =                 2048                                                  NAXIS2  =                 1489                                                  EXTEND  =                    T /Extensions may be present                       BZERO   =              0.00000 /Set by MRD_SCALE                                BSCALE  =              1.00000 /Set by MRD_SCALE                                TAI     =        4731621858.12 / 1st row Number of seconds since Nov 17 1858    RA      =            340.61663 / 1st row RA of telescope boresight (deg)        DEC     =            4.555987  / 1st row Dec of telescope boresight (degrees)   SPA     =              87.938  / 1st row Cam col position angle wrt N (deg)     IPA     =              90.990  / 1st row Inst rotator position angle (deg)      IPARATE =              0.0004  / 1st row Inst rotator anglr velocity (deg/sec)  AZ      =            3.610824  / 1st row Azimuth (encoder) of tele (0=N?) (deg) ALT     =            61.911504 / 1st row Altitude (encoder) of tele (degrees)   FOCUS   =           -285.20000 / 1st row - Focus piston (microns?)              DATE-OBS= '2008-10-25'         / 1st row - TAI date                             TAIHMS  = '03:24:18.12'        / 1st row TAI time HH:MM:SS.SS                   COMMENT  TAI,RA,DEC,SPA,IPA,IPARATE,AZ,ALT,FOCUS at reading of col 0, row 0     ORIGIN  = 'SDSS    '                                                            TELESCOP= '2.5m    '                                                            TIMESYS = 'TAI     '                                                            RUN     =                 7754 / Run number                                     FRAME   =                  189 / Frame sequence number within the run           CCDLOC  =                   11 / Survey location of CCD (e.g., rowCol)          STRIPE  =                   80 / Stripe index number (23 <--> eta=0)            STRIP   = 'N       '           / Strip in the stripe being tracked.             FLAVOR  = 'science '           / Flavor of this run                             OBSERVER= 'asimmons'           / Observer                                       SYS_SCN = 'mean    '           / System of the scan great circle (e.g., mean)   EQNX_SCN=           2000.00    / Equinox of the scan great circle. (years)      NODE    =           95.00000   / RA of the great circle's ascending node (deg)  INCL    =           -5.00000   / Great circle's inclination wrt cel. eq. (deg)  XBORE   =           -22.74     / Boresight x offset from the array center (mm)  YBORE   =           0.00       / Boresight x offset from the array center (mm)  OBJECT  = '80 N    '           / e.g., 'stripe 50.6 degrees, north strip'       EXPTIME = '53.907456'          / Exposure time (seconds)                        SYSTEM  = 'FK5     '           / System of the TCC coordinates (e.g., mean)     CCDMODE = 'DRIFT   '           / 'STARING' or 'DRIFT'                           C_OBS   =                26322 / CCD row clock rate (usec/row)                  COLBIN  =                    1 / Binning factor perpendicular to the columns    ROWBIN  =                    1 / Binning factor perpendicular to the rows       DAVERS  = 'v15_13_1'           / Version of DA software                         SCDMETHD= 'sqrtDynamic'        / scdMethod                                      SCDWIDTH=                 1280 / scdDisplayWidth                                SCDDECMF=                    1 / scdDecimateFactor                              SCDOFSET=                   40 / scdDisplayOffset                               SCDDYNTH=                  -20 / scdDynamicThresh                               SCDSTTHL=                   30 / scdStaticThreshL                               SCDSTTHR=                   30 / scdStaticThreshR                               SCDREDSZ=                  515 / scdReduceSize                                  SCDSKYL =                    0 / scdSkyLeft                                     SCDSKYR =                    0 / scdSkyRight                                    COMMENT  CCD-specific parameters                                                CAMROW  =                    1 / Row in the imaging camera                      BADLINES=                    0 / Number of bad lines in frame                   EQUINOX =              2000.00 /                                                SOFTBIAS=                 1000 / software \"bias\" added to all DN                BUNIT   = 'nanomaggy'          / 1 nanomaggy = 3.631e-6 Jy                      FILTER  = 'r       '           / filter used                                    CAMCOL  =                    1 / column in the imaging camera                   VERSION = 'v5_6_3  '                                                            DERV_VER= 'NOCVS:v8_23'                                                         ASTR_VER= 'NOCVS:v5_24'                                                         ASTRO_ID= '2009-05-09T01:23:48 11004'                                           BIAS_ID = 'PS      '                                                            FRAME_ID= '2009-09-18T18:06:02 24927'                                           KO_VER  = 'devel   '                                                            PS_ID   = '2009-05-08T23:54:00 25332 camCol 1'                                  ATVSN   = 'NOCVS:v5_24'        / ASTROTOOLS version tag                         RADECSYS= 'ICRS    '           / International Celestial Ref. System            CTYPE1  = 'RA---TAN'           /Coordinate type                                 CTYPE2  = 'DEC--TAN'           /Coordinate type                                 CUNIT1  = 'deg     '           /Units                                           CUNIT2  = 'deg     '           /Units                                           CRPIX1  =        1025.00000000 /X of reference pixel                            CRPIX2  =        745.000000000 /Y of reference pixel                            CRVAL1  =        341.219239032 /RA of reference pixel (deg)                     CRVAL2  =        3.63226910270 /Dec of reference pixel (deg)                    CD1_1   =   -3.88364422282E-06 /RA deg per column pixel                         CD1_2   =    0.000109922594494 /RA deg per row pixel                            CD2_1   =    0.000109915176721 /Dec deg per column pixel                        CD2_2   =    3.84302403110E-06 /Dec deg per row pixel                           HISTORY GSSSPUTAST: Sep 18 18:06:12 2009                                        COMMENT  Calibration parameters                                                 COMMENT  Floats truncated at 10 binary digits with FLOATCOMPRESS                NMGY    =           0.00500518 / Calibration factor [nMgy per count]            VERSIDL = '7.0     '           / Version of IDL                                 VERSUTIL= 'v5_5_5  '           / Version of idlutils                            VERSPOP = 'v1_11_1 '           / Version of photoop product                     PCALIB  = '/clusterfs/riemann/raid006/bosswork/groups/boss/calib/2009-06-14/cal'PSKY    = '/clusterfs/riemann/raid006/bosswork/groups/boss/photo/sky' / Value ofRERUN   = '301     '           / rerun                                          HISTORY SDSS_FRAME_ASTROM: Astrometry fixed for dr9 Tue Jun 26 19:26:58 2012    END                                                                                                                                                                                                                                                                                                                                                                                                                                                                                                                                                                                                                                                                                                                                                                                                                                                                                                                                                                                                                                                                             \n"
       ]
      }
     ],
     "prompt_number": 125
    },
    {
     "cell_type": "code",
     "collapsed": false,
     "input": [
      "input = np.loadtxt(\"input_mag\")\n",
      "output = np.loadtxt(\"output_mag\")\n",
      "pltx.fit_and_plot(input[::,2],output[::,2],xlabel=\"Input Magnitude\",ylabel=\"Output Magnitude\",title=\"500 RC3 Random Test\",marker='.')"
     ],
     "language": "python",
     "metadata": {},
     "outputs": [
      {
       "output_type": "stream",
       "stream": "stdout",
       "text": [
        "[ 0.8982723   1.45389968]\n",
        " \n",
        "0.8983 x + 1.454\n"
       ]
      },
      {
       "metadata": {},
       "output_type": "pyout",
       "prompt_number": 127,
       "text": [
        "poly1d([ 0.8982723 ,  1.45389968])"
       ]
      },
      {
       "metadata": {},
       "output_type": "display_data",
       "png": "[encoded data removed]",
       "text": [
        "<matplotlib.figure.Figure at 0x105933910>"
       ]
      }
     ],
     "prompt_number": 127
    },
    {
     "cell_type": "heading",
     "level": 5,
     "metadata": {},
     "source": [
      "Removing just NMGYIVAR doesn't help. I am going to now remove EVERYTHING except astrometry"
     ]
    },
    {
     "cell_type": "code",
     "collapsed": false,
     "input": [
      "cd ../../Desktop/rc3/test/photo3/"
     ],
     "language": "python",
     "metadata": {},
     "outputs": [
      {
       "output_type": "stream",
       "stream": "stdout",
       "text": [
        "/Users/dorislee/Desktop/Doris_Files/Fall2014/GSoC2014/rc3-pipeline/test/photo3\n"
       ]
      }
     ],
     "prompt_number": 148
    },
    {
     "cell_type": "code",
     "collapsed": false,
     "input": [
      "for f in glob.glob('69633/r/raw/frame-r-*.fits'):\n",
      "    ImageData, ImageHdr = fits.getdata(f, 0, header=True)\n",
      "    for i in  ['BZERO','BSCALE','ORIGIN','TELESCOP','TIMESYS','RUN','FRAME','CCDLOC','STRIPE','STRIP','FLAVOR','OBSERVER','OBJECT','EXPTIME','DRIFT','SOFTBIAS','BUNIT','NMGY','NMGYIVAR']:\n",
      "        try: \n",
      "            ImageHdr.remove(i) \n",
      "            print \"Removed \",i\n",
      "        except(ValueError):\n",
      "            print \"Ignore \",i\n",
      "    print \"Writing to\",f\n",
      "    fits.writeto(f,ImageData,ImageHdr,clobber=True)"
     ],
     "language": "python",
     "metadata": {},
     "outputs": [
      {
       "output_type": "stream",
       "stream": "stdout",
       "text": [
        "Ignore  BZERO\n",
        "Ignore  BSCALE\n",
        "Ignore  ORIGIN\n",
        "Ignore  TELESCOP\n",
        "Ignore  TIMESYS\n",
        "Ignore  RUN\n",
        "Ignore  FRAME\n",
        "Ignore  CCDLOC\n",
        "Ignore  STRIPE\n",
        "Ignore  STRIP\n",
        "Ignore  FLAVOR\n",
        "Ignore  OBSERVER\n",
        "Ignore  OBJECT\n",
        "Ignore  EXPTIME\n",
        "Ignore  DRIFT\n",
        "Ignore  SOFTBIAS\n",
        "Ignore  BUNIT\n",
        "Ignore  NMGY\n",
        "Ignore  NMGYIVAR\n",
        "Writing to 69633/r/raw/frame-r-007754-1-0188.fits\n",
        "Ignore  BZERO\n",
        "Ignore  BSCALE\n",
        "Ignore  ORIGIN\n",
        "Ignore  TELESCOP\n",
        "Ignore  TIMESYS\n",
        "Ignore  RUN\n",
        "Ignore  FRAME\n",
        "Ignore  CCDLOC\n",
        "Ignore  STRIPE\n",
        "Ignore  STRIP\n",
        "Ignore  FLAVOR\n",
        "Ignore  OBSERVER\n",
        "Ignore  OBJECT\n",
        "Ignore  EXPTIME\n",
        "Ignore  DRIFT\n",
        "Ignore  SOFTBIAS\n",
        "Ignore  BUNIT\n",
        "Ignore  NMGY\n",
        "Ignore  NMGYIVAR\n",
        "Writing to 69633/r/raw/frame-r-007754-1-0189.fits\n"
       ]
      }
     ],
     "prompt_number": 159
    },
    {
     "cell_type": "markdown",
     "metadata": {},
     "source": [
      "This was apparently removing too much stuff"
     ]
    },
    {
     "cell_type": "code",
     "collapsed": false,
     "input": [],
     "language": "python",
     "metadata": {},
     "outputs": []
    },
    {
     "cell_type": "code",
     "collapsed": false,
     "input": [
      "for f in glob.glob('../photo4/69633/r/raw/frame-r-*.fits'):\n",
      "    ImageData, ImageHdr = fits.getdata(f, 0, header=True)\n",
      "    for i in  ['NMGY','NMGYIVAR','EXPTIME','BZERO','BSCALE','SOFTBIAS','BUNIT','FLAVOR','OBSERVER','OBJECT','DRIFT','TIMESYS','RUN','FRAME','CCDLOC','STRIPE','STRIP','ORIGIN','TELESCOP']:\n",
      "        try: \n",
      "            ImageHdr.remove(i) \n",
      "            print \"Removed \",i\n",
      "        except(ValueError):\n",
      "            print \"Ignore \",i\n",
      "    print \"Writing to\",f\n",
      "    fits.writeto(f,ImageData,ImageHdr,clobber=True)"
     ],
     "language": "python",
     "metadata": {},
     "outputs": [
      {
       "output_type": "stream",
       "stream": "stdout",
       "text": [
        "Ignore  NMGY\n",
        "Ignore  NMGYIVAR\n",
        "Ignore  EXPTIME\n",
        "Ignore  BZERO\n",
        "Ignore  BSCALE\n",
        "Ignore  SOFTBIAS\n",
        "Ignore  BUNIT\n",
        "Ignore  FLAVOR\n",
        "Ignore  OBSERVER\n",
        "Ignore  OBJECT\n",
        "Ignore  DRIFT\n",
        "Ignore  TIMESYS\n",
        "Ignore  RUN\n",
        "Ignore  FRAME\n",
        "Ignore  CCDLOC\n",
        "Ignore  STRIPE\n",
        "Ignore  STRIP\n",
        "Removed  ORIGIN\n",
        "Removed  TELESCOP\n",
        "Writing to ../photo4/69633/r/raw/frame-r-007754-1-0188.fits\n",
        "Ignore "
       ]
      },
      {
       "output_type": "stream",
       "stream": "stdout",
       "text": [
        " NMGY\n",
        "Ignore  NMGYIVAR\n",
        "Ignore  EXPTIME\n",
        "Ignore  BZERO\n",
        "Ignore  BSCALE\n",
        "Ignore  SOFTBIAS\n",
        "Ignore  BUNIT\n",
        "Ignore  FLAVOR\n",
        "Ignore  OBSERVER\n",
        "Ignore  OBJECT\n",
        "Ignore  DRIFT\n",
        "Ignore  TIMESYS\n",
        "Ignore  RUN\n",
        "Ignore  FRAME\n",
        "Ignore  CCDLOC\n",
        "Ignore  STRIPE\n",
        "Ignore  STRIP\n",
        "Removed  ORIGIN\n",
        "Removed  TELESCOP\n",
        "Writing to ../photo4/69633/r/raw/frame-r-007754-1-0189.fits\n"
       ]
      }
     ],
     "prompt_number": 178
    },
    {
     "cell_type": "code",
     "collapsed": false,
     "input": [
      "input = np.loadtxt(\"../photo4/input_mag\")\n",
      "output = np.loadtxt(\"../photo4/output_mag\")\n",
      "pltx.fit_and_plot(input[::,2],output[::,2],xlabel=\"Input Magnitude\",ylabel=\"Output Magnitude\",title=\"500 RC3 Random Test\",marker='.')"
     ],
     "language": "python",
     "metadata": {},
     "outputs": [
      {
       "output_type": "stream",
       "stream": "stdout",
       "text": [
        "[ 0.8982723   1.45389968]\n",
        " \n",
        "0.8983 x + 1.454\n"
       ]
      },
      {
       "metadata": {},
       "output_type": "pyout",
       "prompt_number": 179,
       "text": [
        "poly1d([ 0.8982723 ,  1.45389968])"
       ]
      },
      {
       "metadata": {},
       "output_type": "display_data",
       "png": "[encoded data removed]",
       "text": [
        "<matplotlib.figure.Figure at 0x105942e10>"
       ]
      }
     ],
     "prompt_number": 179
    },
    {
     "cell_type": "code",
     "collapsed": false,
     "input": [
      "for f in glob.glob('../photo4/69633/r/raw/frame-r-*.fits'):\n",
      "    ImageData, ImageHdr = fits.getdata(f, 0, header=True)\n",
      "    for i in  ['NMGY','NMGYIVAR','EXPTIME','BZERO','BSCALE','SOFTBIAS','BUNIT','FLAVOR','OBSERVER','OBJECT','DRIFT','TIMESYS','RUN','FRAME','CCDLOC','STRIPE','STRIP','ORIGIN','TELESCOP','SCDMETHD','SCDWIDTH','SCDDECMF','SCDOFSET','SCDDYNTH','SCDSTTHL','SCDSTTHR','SCDREDSZ','SCDSKYL','SCDSKYR','COMMENT','VERSIDL','VERSUTIL','VERSPOP','PCALIB','PSKY','RERUN','HISTORY','COMMENT','CAMROW','BADLINES','EQUINOX','FILTER','CAMCOL','VERSION','DERV_VER','ASTR_VER','ASTRO_ID','BIAS_ID','FRAME_ID','KO_VER','PS_ID','ATVSN','FOCUS','DATE-OBS','TAIHMS','SYS_SCN','EQNX_SCN','NODE','INCL','XBORE','YBORE','SYSTEM','CCDMODE','C_OBS','COLBIN','ROWBIN','DAVERS','RADECSYS','SPA','IPA','IPARATE','AZ','ALT','TAI','SPA','IPA','IPARATE','AZ','ALT']:\n",
      "        try: \n",
      "            ImageHdr.remove(i) \n",
      "            print \"Removed \",i\n",
      "        except(ValueError):\n",
      "#             print \"Ignore \",i\n",
      "            pass\n",
      "    print \"Writing to\",f\n",
      "    fits.writeto(f,ImageData,ImageHdr,clobber=True)"
     ],
     "language": "python",
     "metadata": {},
     "outputs": [
      {
       "output_type": "stream",
       "stream": "stdout",
       "text": [
        "Writing to ../photo4/69633/r/raw/frame-r-007754-1-0188.fits\n",
        "Writing to"
       ]
      },
      {
       "output_type": "stream",
       "stream": "stdout",
       "text": [
        " ../photo4/69633/r/raw/frame-r-007754-1-0189.fits\n"
       ]
      }
     ],
     "prompt_number": 197
    },
    {
     "cell_type": "markdown",
     "metadata": {},
     "source": [
      "So these are absolute neceassary for astrometry: 'CD1_1''CD1_2','CD2_1','CD2_2'"
     ]
    },
    {
     "cell_type": "code",
     "collapsed": false,
     "input": [
      "input = np.loadtxt(\"../photo4/input_mag\")\n",
      "output = np.loadtxt(\"../photo4/output_mag\")\n",
      "pltx.fit_and_plot(input[::,2],output[::,2],xlabel=\"Input Magnitude\",ylabel=\"Output Magnitude\",title=\"500 RC3 Random Test\",marker='.')"
     ],
     "language": "python",
     "metadata": {},
     "outputs": [
      {
       "output_type": "stream",
       "stream": "stdout",
       "text": [
        "[ 0.8982723   1.45389968]\n",
        " \n",
        "0.8983 x + 1.454\n"
       ]
      },
      {
       "metadata": {},
       "output_type": "pyout",
       "prompt_number": 195,
       "text": [
        "poly1d([ 0.8982723 ,  1.45389968])"
       ]
      },
      {
       "metadata": {},
       "output_type": "display_data",
       "png": "[encoded data removed]",
       "text": [
        "<matplotlib.figure.Figure at 0x1056e1910>"
       ]
      }
     ],
     "prompt_number": 195
    },
    {
     "cell_type": "code",
     "collapsed": false,
     "input": [
      "for f in glob.glob('../photo4/69633/SDSS_r_69633r.fits'):\n",
      "    ImageData, ImageHdr = fits.getdata(f, 0, header=True)\n",
      "#     for i in  ['NMGY','NMGYIVAR','EXPTIME','BZERO','BSCALE','SOFTBIAS','BUNIT','FLAVOR','OBSERVER','OBJECT','DRIFT','TIMESYS','RUN','FRAME','CCDLOC','STRIPE','STRIP','ORIGIN','TELESCOP','SCDMETHD','SCDWIDTH','SCDDECMF','SCDOFSET','SCDDYNTH','SCDSTTHL','SCDSTTHR','SCDREDSZ','SCDSKYL','SCDSKYR']:\n",
      "#         try: \n",
      "#             ImageHdr.remove(i) \n",
      "#             print \"Removed \",i\n",
      "#         except(ValueError):\n",
      "    for i in ImageHdr:\n",
      "        print \",\",i,\n",
      "#     print \"Writing to\",f\n",
      "    fits.writeto(f,ImageData,ImageHdr,clobber=True)"
     ],
     "language": "python",
     "metadata": {},
     "outputs": [
      {
       "output_type": "stream",
       "stream": "stdout",
       "text": [
        ", SIMPLE , BITPIX , NAXIS , NAXIS1 , NAXIS2 , COMMENT , COMMENT , CTYPE1 , CTYPE2 , CRVAL1 , CRVAL2 , CRPIX1 , CRPIX2 , CDELT1 , CDELT2 , CROTA2 , EQUINOX\n"
       ]
      }
     ],
     "prompt_number": 184
    },
    {
     "cell_type": "code",
     "collapsed": false,
     "input": [],
     "language": "python",
     "metadata": {},
     "outputs": []
    }
   ],
   "metadata": {}
  }
 ]
}