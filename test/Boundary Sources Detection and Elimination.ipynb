{
 "metadata": {
  "name": "",
  "signature": "sha256:89aba66276816359cc548c1c016a84636da1713105928cae79ca70390ef3b7a8"
 },
 "nbformat": 3,
 "nbformat_minor": 0,
 "worksheets": [
  {
   "cells": [
    {
     "cell_type": "code",
     "collapsed": false,
     "input": [
      "%pylab inline"
     ],
     "language": "python",
     "metadata": {},
     "outputs": [
      {
       "output_type": "stream",
       "stream": "stdout",
       "text": [
        "Populating the interactive namespace from numpy and matplotlib\n"
       ]
      }
     ],
     "prompt_number": 1
    },
    {
     "cell_type": "code",
     "collapsed": false,
     "input": [
      "cd 5095/"
     ],
     "language": "python",
     "metadata": {},
     "outputs": [
      {
       "output_type": "stream",
       "stream": "stdout",
       "text": [
        "/Users/dorislee/Desktop/Doris_Files/Fall2014/GSoC2014/rc3-pipeline/test/5095\n"
       ]
      }
     ],
     "prompt_number": 3
    },
    {
     "cell_type": "code",
     "collapsed": false,
     "input": [
      "import astropy.io.fits as pf\n",
      "from matplotlib.colors import LogNorm"
     ],
     "language": "python",
     "metadata": {},
     "outputs": [],
     "prompt_number": 13
    },
    {
     "cell_type": "code",
     "collapsed": false,
     "input": [
      "fits1 = 'check.fits'\n",
      "x = pf.getdata(fits1)\n",
      "hdr = pf.getheader(fits1)\n",
      "# Don't flip the array for this analysis, we don't need it to be north up\n",
      "# imp = plt.imshow(x[::-1],cmap='gray_r',vmin=500,vmax=1500,norm=LogNorm())  \n",
      "# plt.colorbar()"
     ],
     "language": "python",
     "metadata": {},
     "outputs": [],
     "prompt_number": 70
    },
    {
     "cell_type": "code",
     "collapsed": false,
     "input": [
      "#all the output mosaics that I have cropped are squares \n",
      "width = x.shape[0]\n",
      "print width"
     ],
     "language": "python",
     "metadata": {},
     "outputs": [
      {
       "output_type": "stream",
       "stream": "stdout",
       "text": [
        "137\n"
       ]
      }
     ],
     "prompt_number": 80
    },
    {
     "cell_type": "markdown",
     "metadata": {},
     "source": [
      "Changed default.param to: \n",
      "    #A_IMAGE\n",
      "    #B_IMAGE\n",
      "    X_IMAGE\n",
      "    Y_IMAGE"
     ]
    },
    {
     "cell_type": "code",
     "collapsed": false,
     "input": [
      "imp = plt.imshow(x,cmap='gray_r',vmin=500,vmax=1500,norm=LogNorm()) \n",
      "plt.colorbar()\n",
      "fig = plt.gcf()\n",
      "catalog = open(\"output2.cat\",'r')\n",
      "for line in catalog:\n",
      "    line = line.split()\n",
      "    if (line[0]!='#'):\n",
      "        ra = float(line[2])\n",
      "        dec = float(line[3])\n",
      "        mag=float(line[10])\n",
      "        radius = float(line[1]) # Objects are not circular\n",
      "        xmin = float(line[4])\n",
      "        ymin = float(line[5])\n",
      "        xmax = float(line[6])\n",
      "        ymax = float(line[7])\n",
      "        xi = float(line[8])\n",
      "        yi = float(line[9])\n",
      "        if ((xmin-radius)<=0 ) or ((ymin-radius)<=0) or ((xmax+radius)>=width)or ((ymax+radius)>=width):\n",
      "            print (\"Source is out of bounds\")\n",
      "            plt.plot(xi,yi,'x',markersize=8,color = 'red')\n",
      "        circle1=plt.Circle((xi,yi),radius,color='skyblue')\n",
      "        fig.gca().add_artist(circle1)\n",
      "plt.show() "
     ],
     "language": "python",
     "metadata": {},
     "outputs": [
      {
       "output_type": "stream",
       "stream": "stdout",
       "text": [
        "Source is out of bounds\n",
        "Source is out of bounds\n"
       ]
      },
      {
       "metadata": {},
       "output_type": "display_data",
       "png": "[encoded data removed]",
       "text": [
        "<matplotlib.figure.Figure at 0x10614ed90>"
       ]
      }
     ],
     "prompt_number": 91
    },
    {
     "cell_type": "code",
     "collapsed": false,
     "input": [
      "cd ../7328/"
     ],
     "language": "python",
     "metadata": {},
     "outputs": [
      {
       "output_type": "stream",
       "stream": "stdout",
       "text": [
        "/Users/dorislee/Desktop/Doris_Files/Fall2014/GSoC2014/rc3-pipeline/test/7328\n"
       ]
      }
     ],
     "prompt_number": 92
    },
    {
     "cell_type": "code",
     "collapsed": false,
     "input": [],
     "language": "python",
     "metadata": {},
     "outputs": []
    }
   ],
   "metadata": {}
  }
 ]
}