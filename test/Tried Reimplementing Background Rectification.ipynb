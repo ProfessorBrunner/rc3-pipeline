{
 "metadata": {
  "name": "",
  "signature": "sha256:9aea5ed967e63f9d13ceb7dab093fbd8bf3e5632d9071c3b1e611bedaf79dec7"
 },
 "nbformat": 3,
 "nbformat_minor": 0,
 "worksheets": [
  {
   "cells": [
    {
     "cell_type": "markdown",
     "metadata": {},
     "source": [
      "Tried reimplementing background rectification procedure but again huge correction table files are produced "
     ]
    },
    {
     "cell_type": "markdown",
     "metadata": {},
     "source": [
      "Deleted everything and start from step 1 using just the downloaded raw files and going through the m101 tutorials ,using terminal command and not even the python wrapper "
     ]
    },
    {
     "cell_type": "markdown",
     "metadata": {},
     "source": [
      " mImgtbl -d rawdir/ images-rawdir.tbl\n",
      "DEBUG: header = [rawdir](7)\n",
      "DEBUG: Opening path    [rawdir]\n",
      "DEBUG:  entry [.]\n",
      "DEBUG: [rawdir/.] -> [.]\n",
      "DEBUG:  entry [..]\n",
      "DEBUG: [rawdir/..] -> [..]\n",
      "DEBUG:  entry [frame-r-003631-1-0353.fits]\n",
      "DEBUG: [rawdir/frame-r-003631-1-0353.fits] -> [frame-r-003631-1-0353.fits]\n",
      "DEBUG: Found file      [rawdir/frame-r-003631-1-0353.fits]\n",
      "DEBUG:  entry [frame-r-003631-1-0354.fits]\n",
      "DEBUG: [rawdir/frame-r-003631-1-0354.fits] -> [frame-r-003631-1-0354.fits]\n",
      "DEBUG: Found file      [rawdir/frame-r-003631-1-0354.fits]\n",
      "DEBUG:  entry [frame-r-003631-1-0355.fits]\n",
      "DEBUG: [rawdir/frame-r-003631-1-0355.fits] -> [frame-r-003631-1-0355.fits]\n",
      "DEBUG: Found file      [rawdir/frame-r-003631-1-0355.fits]\n",
      "DEBUG:  entry [frame-r-003631-1-0356.fits]\n",
      "DEBUG: [rawdir/frame-r-003631-1-0356.fits] -> [frame-r-003631-1-0356.fits]\n",
      "DEBUG: Found file      [rawdir/frame-r-003631-1-0356.fits]\n",
      "DEBUG:  entry [frame-r-003631-2-0354.fits]\n",
      "DEBUG: [rawdir/frame-r-003631-2-0354.fits] -> [frame-r-003631-2-0354.fits]\n",
      "DEBUG: Found file      [rawdir/frame-r-003631-2-0354.fits]\n",
      "DEBUG:  entry [frame-r-003631-2-0355.fits]\n",
      "DEBUG: [rawdir/frame-r-003631-2-0355.fits] -> [frame-r-003631-2-0355.fits]\n",
      "DEBUG: Found file      [rawdir/frame-r-003631-2-0355.fits]\n",
      "DEBUG:  entry [frame-r-003631-2-0356.fits]\n",
      "DEBUG: [rawdir/frame-r-003631-2-0356.fits] -> [frame-r-003631-2-0356.fits]\n",
      "DEBUG: Found file      [rawdir/frame-r-003631-2-0356.fits]\n",
      "DEBUG:  entry [frame-r-004344-1-0204.fits]\n",
      "DEBUG: [rawdir/frame-r-004344-1-0204.fits] -> [frame-r-004344-1-0204.fits]\n",
      "DEBUG: Found file      [rawdir/frame-r-004344-1-0204.fits]\n",
      "DEBUG:  entry [frame-r-004344-1-0205.fits]\n",
      "DEBUG: [rawdir/frame-r-004344-1-0205.fits] -> [frame-r-004344-1-0205.fits]\n",
      "DEBUG: Found file      [rawdir/frame-r-004344-1-0205.fits]\n",
      "DEBUG:  entry [frame-r-004344-1-0206.fits]\n",
      "DEBUG: [rawdir/frame-r-004344-1-0206.fits] -> [frame-r-004344-1-0206.fits]\n",
      "DEBUG: Found file      [rawdir/frame-r-004344-1-0206.fits]\n",
      "DEBUG:  entry [frame-r-004344-1-0207.fits]\n",
      "DEBUG: [rawdir/frame-r-004344-1-0207.fits] -> [frame-r-004344-1-0207.fits]\n",
      "DEBUG: Found file      [rawdir/frame-r-004344-1-0207.fits]\n",
      "[struct stat=\"OK\", count=11, badfits=11, badwcs=11]\n"
     ]
    },
    {
     "cell_type": "markdown",
     "metadata": {},
     "source": [
      "NOTE the badwcs and badfits??"
     ]
    },
    {
     "cell_type": "markdown",
     "metadata": {},
     "source": [
      "``mImgtbl -d rawdir/ images-rawdir.tbl ``\n",
      "\n",
      "\n",
      "``mMakeHdr images-rawdir.tbl template.hdr``"
     ]
    },
    {
     "cell_type": "code",
     "collapsed": false,
     "input": [],
     "language": "python",
     "metadata": {},
     "outputs": []
    }
   ],
   "metadata": {}
  }
 ]
}