{
 "metadata": {
  "name": "",
  "signature": "sha256:42b98300a69e48970cf85b7464f6423037f9a7b71ce04f41068b31a456584bee"
 },
 "nbformat": 3,
 "nbformat_minor": 0,
 "worksheets": [
  {
   "cells": [
    {
     "cell_type": "code",
     "collapsed": false,
     "input": [
      "%pylab inline\n",
      "import sqlcl\n",
      "import os\n",
      "import glob\n",
      "import shutil"
     ],
     "language": "python",
     "metadata": {},
     "outputs": [
      {
       "output_type": "stream",
       "stream": "stdout",
       "text": [
        "Populating the interactive namespace from numpy and matplotlib\n"
       ]
      }
     ],
     "prompt_number": 67
    },
    {
     "cell_type": "code",
     "collapsed": false,
     "input": [
      "def sextractor_another_variable():\n",
      "    mega_x_input = []\n",
      "    mega_x_output=[]\n",
      "    # PGC = 243\n",
      "    try:\n",
      "        for PGC in os.walk('.').next()[1][1:]:\n",
      "            print PGC\n",
      "            for i in glob.glob(\"default.*\"):\n",
      "                shutil.copy(i,\"{}/\".format(PGC))\n",
      "            os.chdir(str(PGC))\n",
      "            os.system(\"sex  SDSS_r_{}r.fits\".format(PGC))\n",
      "            os.rename(\"test.cat\",\"output.cat\") #rename it more appropriately as output catalog\n",
      "            # with open(\"output.txt\",'r') as f:\n",
      "            #     for line in f:\n",
      "            #         print ()\n",
      "            #-------------------------------------#\n",
      "\n",
      "            for i in glob.glob(\"default.*\"):\n",
      "                shutil.copy(i,\"{}/\".format(\"r\"))\n",
      "            os.chdir(\"r\")\n",
      "            all_r_input = glob.glob(\"raw/frame-*\")\n",
      "            os.system(\"sex  {}\".format(all_r_input[0]))\n",
      "            os.rename(\"test.cat\",\"input.cat\")\n",
      "\n",
      "            os.chdir(\"..\")\n",
      "            k=-11 \n",
      "            out_mag_lst = []   \n",
      "            catalog = open(\"output.cat\",'r')\n",
      "            #Select 5 random sources to test\n",
      "            out_coord = []\n",
      "            # import random\n",
      "            # for i in [random.randint(0,10) for i in range(5)]: \n",
      "            for line in catalog:\n",
      "                line = line.split()\n",
      "                if (line[0]!='#'):\n",
      "                    ra = float(line[2])\n",
      "                    dec = float(line[3])\n",
      "                    mag=float(line[10])#*10**(9)\n",
      "        #             print (\"[ra,dec]: {}\".format([ra,dec]))\n",
      "        #             print (\"mag_isocorr: {}\".format(mag))\n",
      "                    out_coord.append([ra,dec])\n",
      "                    out_mag_lst.append(mag)\n",
      "            out_coord = np.array(out_coord)\n",
      "            out_ra_lst = out_coord[::,0]\n",
      "            out_dec_lst = out_coord[::,1]\n",
      "\n",
      "\n",
      "            os.chdir(\"r\")\n",
      "            for r_band_inputs in all_r_input:\n",
      "                os.system(\"sex  {}\".format(r_band_inputs))\n",
      "                os.rename(\"test.cat\",\"input.cat\")\n",
      "                k=-11 \n",
      "                mag_lst = []   \n",
      "                catalog = open(\"input.cat\",'r')\n",
      "                #Select 5 random sources to test\n",
      "                coord = []\n",
      "                # import random\n",
      "                # for i in [random.randint(0,10) for i in range(5)]: \n",
      "                for line in catalog:\n",
      "                    line = line.split()\n",
      "                    if (line[0]!='#'):\n",
      "                        ra = float(line[2])\n",
      "                        dec = float(line[3])\n",
      "                        mag=float(line[10])#*10**(9)\n",
      "        #                 print (\"[ra,dec]: {}\".format([ra,dec]))\n",
      "        #                 print (\"mag_isocorr: {}\".format(mag))\n",
      "                        coord.append([ra,dec])\n",
      "                        mag_lst.append(mag)\n",
      "                        # break\n",
      "                import numpy as np\n",
      "                coord = np.array(coord)\n",
      "                ra_lst = coord[::,0]\n",
      "                dec_lst = coord[::,1]\n",
      "                # plt.plot(ra_lst,dec_lst,'o',color=\"blue\")\n",
      "            # plt.plot(out_ra_lst,out_dec_lst,'*',color=\"red\",markersize=8)\n",
      "            # plt.show()\n",
      "\n",
      "            mag_lst = np.array(mag_lst)\n",
      "            idx = np.where(abs(mag_lst-out_mag_lst[0])<0.1)\n",
      "            epsilon = 0.001#small margin\n",
      "            idx_ra = np.intersect1d(np.where(min(out_ra_lst)<coord[::,0]+epsilon),np.where(coord[::,0]<max(out_ra_lst)+epsilon))\n",
      "            idx_dec = np.intersect1d(np.where(min(out_dec_lst)<coord[::,1]+epsilon),np.where(coord[::,1]<max(out_dec_lst)+epsilon))\n",
      "            intersect = np.intersect1d(idx_ra,idx_dec)\n",
      "            input_within_region  = coord[intersect]\n",
      "            input_within_region_with_mag =np.c_[input_within_region, mag_lst[intersect]] \n",
      "            # plt.plot(input_within_region[::,0],input_within_region[::,1],'o')\n",
      "            # plt.plot(out_ra_lst,out_dec_lst,'o',color=\"red\",ms=5)\n",
      "            # plt.show()\n",
      "            matched_coord = []\n",
      "            for i in out_coord:\n",
      "                for o in input_within_region:\n",
      "                    bool = (abs(i-o)<5e-4)\n",
      "                    if(bool[0] and bool[1]):\n",
      "                        matched_coord.append([i,o])\n",
      "            out_coord_mag = np.c_[out_coord, out_mag_lst] \n",
      "            # Matching coordinates with output magnitudes\n",
      "            matched_coord=np.array(matched_coord)\n",
      "            matched_mag_lst_output =[]\n",
      "            for i in matched_coord[::,0]:\n",
      "                for j in out_coord_mag:\n",
      "                    if i[0]==j[0]:\n",
      "                        matched_mag_lst_output.append(j[2])\n",
      "            # Matching coordinates with input magnitudes\n",
      "            matched_mag_lst_input =[]\n",
      "            for i in matched_coord[::,1]:\n",
      "                for j in input_within_region_with_mag:\n",
      "                    if i[0]==j[0]:\n",
      "                        matched_mag_lst_input.append(j[2])\n",
      "#             plt.plot(matched_mag_lst_output,matched_mag_lst_input,'o')\n",
      "            mega_x_input.append(matched_mag_lst_input)\n",
      "            mega_x_output.append(matched_mag_lst_output)\n",
      "            os.chdir(\"../..\")\n",
      "    except(IndexError):\n",
      "        return (mega_x_input,mega_x_output)"
     ],
     "language": "python",
     "metadata": {},
     "outputs": [],
     "prompt_number": 64
    },
    {
     "cell_type": "code",
     "collapsed": false,
     "input": [
      "def fit_and_plot(x,y,xlabel=\"\",ylabel=\"\",title=\"\",zeroed=False,annotate_fit= True,right_words = False,error_bar=\"\",sci_lim = False,annotate=\"\",right_annotate=False,marker='o'):\n",
      "    fig = plt.figure()\n",
      "    ax1 = fig.add_subplot(111)\n",
      "    ax1.plot(x,y,'{}'.format(marker))\n",
      "    z = np.polyfit(x,y, 1) \n",
      "    print z\n",
      "    p = np.poly1d(z)\n",
      "    print p\n",
      "    if zeroed : \n",
      "        a = np.linspace(0,max(x))\n",
      "    else:\n",
      "        a = np.linspace(min(x),max(x))\n",
      "    ax1.plot(a, p(np.linspace(min(x),max(x))),color=\"red\")\n",
      "    if annotate_fit: \n",
      "        slope = z[0]\n",
      "        intercept = z[1]\n",
      "        if right_words:    \n",
      "            ax1.text(0.48,0.85,\"y= %.5f x + %.5f\"%(slope,intercept), fontsize=13,transform=ax1.transAxes)\n",
      "        else:\n",
      "            ax1.text(0.03,0.85,\"y= %.5f x + %.5f\"%(slope,intercept), fontsize=13,transform=ax1.transAxes)\n",
      "    if title !=\"\":\n",
      "        plt.title(title,fontsize=13 )    \n",
      "        plt.xlabel(xlabel,fontsize=12)\n",
      "        plt.ylabel(ylabel,fontsize=12)\n",
      "#     ax1 = fig.add_subplot(111)\n",
      "#     ax1.text(0.03,0.8,\"y= %.5f x %.5f\"%(p[0],p[1]), fontsize=13,transform=ax.transAxes)\n",
      "    if annotate!=\"\":\n",
      "        if right_annotate: \n",
      "            ax1.text(0.48,0.85,annotate, fontsize=13,transform=ax1.transAxes)\n",
      "    if error_bar!=\"\":\n",
      "        ax1.errorbar(x, y, yerr=error_bar, fmt='o')\n",
      "    if sci_lim:\n",
      "        plt.ticklabel_format(style='sci', axis='x', scilimits=(0,0))\n",
      "    plt.tick_params(axis='both', which='major', labelsize=12)\n",
      "    plt.tick_params(axis='both', which='minor', labelsize=12)\n",
      "    return p"
     ],
     "language": "python",
     "metadata": {},
     "outputs": [],
     "prompt_number": 3
    },
    {
     "cell_type": "code",
     "collapsed": false,
     "input": [
      "_mega = sextractor_another_variable()\n",
      "mega_kron_input =flatten(_mega[0])\n",
      "mega_kron_output=flatten(_mega[1])\n",
      "plt.plot(mega_kron_input,mega_kron_output,'o')"
     ],
     "language": "python",
     "metadata": {},
     "outputs": []
    },
    {
     "cell_type": "code",
     "collapsed": false,
     "input": [
      "input_mag =np.loadtxt(\"input_mag\")\n",
      "output_mag = np.loadtxt(\"output_mag\")\n",
      "fit_and_plot(input_mag,output_mag,xlabel=\"Input Magnitude\",ylabel=\"Output Magnitude\",title=\"Photometric Analysis\",marker=',')\n",
      "#Delta Mag\n",
      "plt.figure()\n",
      "plt.plot(input_mag,input_mag-output_mag,',')\n",
      "plt.ylabel(\"mag_in - mag_out\",fontsize=12)\n",
      "plt.xlabel(\"mag_in\",fontsize=12)"
     ],
     "language": "python",
     "metadata": {},
     "outputs": [
      {
       "output_type": "stream",
       "stream": "stdout",
       "text": [
        "[ 0.94088895  1.65621614]\n",
        " \n",
        "0.9409 x + 1.656\n"
       ]
      },
      {
       "metadata": {},
       "output_type": "pyout",
       "prompt_number": 8,
       "text": [
        "<matplotlib.text.Text at 0x109d91e90>"
       ]
      },
      {
       "metadata": {},
       "output_type": "display_data",
       "png": "[encoded data removed]",
       "text": [
        "<matplotlib.figure.Figure at 0x109ca9d50>"
       ]
      },
      {
       "metadata": {},
       "output_type": "display_data",
       "png": "[encoded data removed]",
       "text": [
        "<matplotlib.figure.Figure at 0x109ca9310>"
       ]
      }
     ],
     "prompt_number": 8
    },
    {
     "cell_type": "markdown",
     "metadata": {},
     "source": [
      "I got the sdss magnitudes and stored them in ``sdss_output``"
     ]
    },
    {
     "cell_type": "code",
     "collapsed": false,
     "input": [
      "np.loadtxt(\"sdds_output\")"
     ],
     "language": "python",
     "metadata": {},
     "outputs": [
      {
       "metadata": {},
       "output_type": "pyout",
       "prompt_number": 10,
       "text": [
        "array([[  0.00000000e+00,   0.00000000e+00,   1.99017432e+01, ...,\n",
        "          0.00000000e+00,   0.00000000e+00,   2.11052600e+01],\n",
        "       [  1.00000000e+00,   0.00000000e+00,   1.99017684e+01, ...,\n",
        "          0.00000000e+00,   0.00000000e+00,   1.58580700e+01],\n",
        "       [  2.00000000e+00,   0.00000000e+00,   1.99017757e+01, ...,\n",
        "          0.00000000e+00,   0.00000000e+00,   2.17403400e+01],\n",
        "       ..., \n",
        "       [  1.44100000e+03,   0.00000000e+00,   2.00987157e+01, ...,\n",
        "          0.00000000e+00,   0.00000000e+00,   2.16286900e+01],\n",
        "       [  1.44200000e+03,   0.00000000e+00,   2.00987306e+01, ...,\n",
        "          0.00000000e+00,   0.00000000e+00,   2.33097800e+01],\n",
        "       [  1.44300000e+03,   0.00000000e+00,   2.00987306e+01, ...,\n",
        "          0.00000000e+00,   0.00000000e+00,   2.20220400e+01]])"
       ]
      }
     ],
     "prompt_number": 10
    },
    {
     "cell_type": "code",
     "collapsed": false,
     "input": [
      "def sdss_source_matching():\n",
      "    import numpy as np\n",
      "    import matplotlib.pyplot as plt\n",
      "    mega_x_input = []\n",
      "    mega_x_output=[]\n",
      "    try:\n",
      "        for PGC in os.walk('.').next()[1][1:]:\n",
      "            print PGC\n",
      "            for i in glob.glob(\"default.*\"):\n",
      "                shutil.copy(i,\"{}/\".format(PGC))\n",
      "            os.chdir(str(PGC))\n",
      "            os.system(\"sex  SDSS_r_{}r.fits\".format(PGC))\n",
      "            os.rename(\"test.cat\",\"output.cat\") #rename it more appropriately as output catalog\n",
      "            # with open(\"output.txt\",'r') as f:\n",
      "            #     for line in f:\n",
      "            #         print ()\n",
      "            #-------------------------------------#\n",
      "            for i in glob.glob(\"default.*\"):\n",
      "                shutil.copy(i,\"{}/\".format(\"r\"))\n",
      "            os.chdir(\"r\")\n",
      "            all_r_input = glob.glob(\"raw/frame-*\")\n",
      "            os.system(\"sex  {}\".format(all_r_input[0]))\n",
      "            os.rename(\"test.cat\",\"input.cat\")\n",
      "\n",
      "            os.chdir(\"..\")\n",
      "            k=-11 \n",
      "            out_mag_lst = []   \n",
      "            catalog = open(\"output.cat\",'r')\n",
      "            #Select 5 random sources to test\n",
      "            out_coord = []\n",
      "            # import random\n",
      "            # for i in [random.randint(0,10) for i in range(5)]: \n",
      "            for line in catalog:\n",
      "                line = line.split()\n",
      "                if (line[0]!='#'):\n",
      "                    ra = float(line[2])\n",
      "                    dec = float(line[3])\n",
      "                    mag=float(line[10])#*10**(9)\n",
      "        #             print (\"[ra,dec]: {}\".format([ra,dec]))\n",
      "        #             print (\"mag_isocorr: {}\".format(mag))\n",
      "                    out_coord.append([ra,dec])\n",
      "                    out_mag_lst.append(mag)\n",
      "            out_coord = np.array(out_coord)\n",
      "            out_ra_lst = out_coord[::,0]\n",
      "            out_dec_lst = out_coord[::,1]\n",
      "\n",
      "            #Input Sources\n",
      "            os.chdir(\"r\")\n",
      "            for r_band_inputs in all_r_input:\n",
      "                #####\n",
      "                # modelMagerr_r \n",
      "                x = pf.getdata(r_band_inputs)\n",
      "                hdr = pf.getheader(r_band_inputs)\n",
      "                ra = hdr['RA']\n",
      "                dec = hdr['DEC']\n",
      "                margin  = 0.22528 #Choose the biggest, because I'm not sure if this is aligned correctly, worse case worse you just spent more time trying to match sources.\n",
      "                result = sqlcl.query(\"SELECT ra, dec, modelMag_r  FROM PhotoObj as po WHERE po.ra between {0}-{2} and  {0}+{2} and po.dec between {1}-{2} and  {1}+{2}\".format(str(ra),str(dec),str(margin))).readlines()\n",
      "#                 result = sqlcl.query(\"SELECT ra, dec, modelMag_r  FROM PhotoObj as po WHERE po.ra between {0} and  {0}+{2} and po.dec between {1} and  {1}+{2}\".format(str(ra),str(dec),str(margin))).readlines()\n",
      "                data =[]\n",
      "                count =0\n",
      "                # print (result)\n",
      "                for i in result:\n",
      "                #     print(i)\n",
      "                    if count>1:\n",
      "                        list =i.split(',')\n",
      "                #         print list\n",
      "                        data.append([float(list[0]),float(list[1]),float(list[2][:-1])])\n",
      "                    count += 1 \n",
      "                data = np.array(data)\n",
      "                #Create and Save Dummy \n",
      "                dummy = np.zeros_like(data[::,0],dtype=int)\n",
      "                sdss_result = np.array([np.arange(len(data[::,0])),dummy, data[::,0], data[::,1],dummy,dummy,dummy,dummy,dummy,dummy,data[::,2]]).T\n",
      "#                 print shape(sdss_result)\n",
      "                np.savetxt(\"sdss_output\",sdss_result)\n",
      "                print (os.getcwd())\n",
      "                ####\n",
      "#                 os.system(\"sex  {}\".format(r_band_inputs))\n",
      "#                 os.rename(\"test.cat\",\"input.cat\")\n",
      "                k=-11 \n",
      "                mag_lst = []   \n",
      "#                 catalog = open(\"input.cat\",'r')\n",
      "                catalog = open(\"sdss_output\",'r')\n",
      "                coord = []\n",
      "                for line in catalog:\n",
      "                    line = line.split()\n",
      "                    if (line[0]!='#'):\n",
      "                        ra = float(line[2])\n",
      "                        dec = float(line[3])\n",
      "                        mag=float(line[10])#*10**(9)\n",
      "        #                 print (\"[ra,dec]: {}\".format([ra,dec]))\n",
      "        #                 print (\"mag_isocorr: {}\".format(mag))\n",
      "                        coord.append([ra,dec])\n",
      "                        mag_lst.append(mag)\n",
      "                        # break\n",
      "                import numpy as np\n",
      "                coord = np.array(coord)\n",
      "                ra_lst = coord[::,0]\n",
      "                dec_lst = coord[::,1]\n",
      "                # plt.plot(ra_lst,dec_lst,'o',color=\"blue\")\n",
      "            # plt.plot(out_ra_lst,out_dec_lst,'*',color=\"red\",markersize=8)\n",
      "            # plt.show()\n",
      "            print (shape(out_coord))\n",
      "            print (shape(coord))\n",
      "            mag_lst = np.array(mag_lst)\n",
      "            idx = np.where(abs(mag_lst-out_mag_lst[0])<0.1)\n",
      "            epsilon = 0.001#small margin\n",
      "            idx_ra = np.intersect1d(np.where(min(out_ra_lst)<coord[::,0]+epsilon),np.where(coord[::,0]<max(out_ra_lst)+epsilon))\n",
      "            idx_dec = np.intersect1d(np.where(min(out_dec_lst)<coord[::,1]+epsilon),np.where(coord[::,1]<max(out_dec_lst)+epsilon))\n",
      "            intersect = np.intersect1d(idx_ra,idx_dec)\n",
      "            input_within_region  = coord[intersect]\n",
      "            input_within_region_with_mag =np.c_[input_within_region, mag_lst[intersect]] \n",
      "            # plt.plot(input_within_region[::,0],input_within_region[::,1],'o')\n",
      "            # plt.plot(out_ra_lst,out_dec_lst,'o',color=\"red\",ms=5)\n",
      "            # plt.show()\n",
      "            matched_coord = []\n",
      "            for i in out_coord:\n",
      "                for o in input_within_region:\n",
      "                    bool = (abs(i-o)<5e-4)\n",
      "                    if(bool[0] and bool[1]):\n",
      "                        matched_coord.append([i,o])\n",
      "            out_coord_mag = np.c_[out_coord, out_mag_lst] \n",
      "            # Matching coordinates with output magnitudes\n",
      "            matched_coord=np.array(matched_coord)\n",
      "            matched_mag_lst_output =[]\n",
      "            for i in matched_coord[::,0]:\n",
      "                for j in out_coord_mag:\n",
      "                    if i[0]==j[0]:\n",
      "                        matched_mag_lst_output.append(j[2])\n",
      "            # Matching coordinates with input magnitudes\n",
      "            matched_mag_lst_input =[]\n",
      "            for i in matched_coord[::,1]:\n",
      "                for j in input_within_region_with_mag:\n",
      "                    if i[0]==j[0]:\n",
      "                        matched_mag_lst_input.append(j[2])\n",
      "#             plt.plot(matched_mag_lst_output,matched_mag_lst_input,'o')\n",
      "            mega_x_input.append(matched_mag_lst_input)\n",
      "            mega_x_output.append(matched_mag_lst_output)\n",
      "            os.chdir(\"../..\")\n",
      "    except(IndexError):\n",
      "        return (mega_x_input,mega_x_output)"
     ],
     "language": "python",
     "metadata": {},
     "outputs": [],
     "prompt_number": 107
    },
    {
     "cell_type": "code",
     "collapsed": false,
     "input": [
      "cd ../../"
     ],
     "language": "python",
     "metadata": {},
     "outputs": [
      {
       "output_type": "stream",
       "stream": "stdout",
       "text": [
        "/Users/dorislee/Desktop/Doris_Files/Fall2014/GSoC2014/rc3-pipeline/test\n"
       ]
      }
     ],
     "prompt_number": 108
    },
    {
     "cell_type": "code",
     "collapsed": false,
     "input": [
      "result = sdss_source_matching()\n",
      "result"
     ],
     "language": "python",
     "metadata": {},
     "outputs": [
      {
       "output_type": "stream",
       "stream": "stdout",
       "text": [
        "16589\n",
        "(86, 2)"
       ]
      },
      {
       "output_type": "stream",
       "stream": "stdout",
       "text": [
        "\n",
        "(7162, 2)\n",
        "[]\n"
       ]
      },
      {
       "metadata": {},
       "output_type": "pyout",
       "prompt_number": 109,
       "text": [
        "([], [])"
       ]
      }
     ],
     "prompt_number": 109
    },
    {
     "cell_type": "code",
     "collapsed": false,
     "input": [
      "cd 16589/r/raw"
     ],
     "language": "python",
     "metadata": {},
     "outputs": [
      {
       "output_type": "stream",
       "stream": "stdout",
       "text": [
        "/Users/dorislee/Desktop/Doris_Files/Fall2014/GSoC2014/rc3-pipeline/test/16589/r/raw\n"
       ]
      }
     ],
     "prompt_number": 46
    },
    {
     "cell_type": "code",
     "collapsed": false,
     "input": [
      "ls"
     ],
     "language": "python",
     "metadata": {},
     "outputs": [
      {
       "output_type": "stream",
       "stream": "stdout",
       "text": [
        "default.conv                default.sex                 frame-r-007178-4-0052.fits\r\n",
        "default.nnw                 frame-r-006708-4-0084.fits  frame-r-007178-4-0053.fits\r\n",
        "default.param               frame-r-006708-4-0085.fits\r\n"
       ]
      }
     ],
     "prompt_number": 22
    },
    {
     "cell_type": "code",
     "collapsed": false,
     "input": [
      "import astropy.io.fits as pf\n",
      "fits_file = \"frame-r-006708-4-0085.fits\"\n",
      "x = pf.getdata(fits_file)\n",
      "hdr = pf.getheader(fits_file)"
     ],
     "language": "python",
     "metadata": {},
     "outputs": [],
     "prompt_number": 31
    },
    {
     "cell_type": "code",
     "collapsed": false,
     "input": [
      "ra = hdr['RA']\n",
      "dec = hdr['DEC']"
     ],
     "language": "python",
     "metadata": {},
     "outputs": [
      {
       "output_type": "stream",
       "stream": "stdout",
       "text": [
        "75.149645\n",
        "-3.665158\n"
       ]
      }
     ],
     "prompt_number": 32
    },
    {
     "cell_type": "markdown",
     "metadata": {},
     "source": [
      "CD1_1   =   -5.25723941534E-05 /RA deg per column pixel                         \n",
      "CD1_2   =    9.66298245492E-05 /RA deg per row pixel                            \n",
      "CD2_1   =    9.66297999915E-05 /Dec deg per column pixel                        \n",
      "CD2_2   =    5.25693422726E-05 /Dec deg per row pixel  "
     ]
    },
    {
     "cell_type": "markdown",
     "metadata": {},
     "source": [
      "0.396 arcseconds/ pixel = 0.00011 degrees / pixel"
     ]
    },
    {
     "cell_type": "code",
     "collapsed": false,
     "input": [
      "shape(x)"
     ],
     "language": "python",
     "metadata": {},
     "outputs": [
      {
       "metadata": {},
       "output_type": "pyout",
       "prompt_number": 33,
       "text": [
        "(1489, 2048)"
       ]
      }
     ],
     "prompt_number": 33
    },
    {
     "cell_type": "code",
     "collapsed": false,
     "input": [
      "print 1489*0.00011 \n",
      "print 2048*0.00011"
     ],
     "language": "python",
     "metadata": {},
     "outputs": [
      {
       "output_type": "stream",
       "stream": "stdout",
       "text": [
        "0.16379\n",
        "0.22528\n"
       ]
      }
     ],
     "prompt_number": 37
    },
    {
     "cell_type": "code",
     "collapsed": false,
     "input": [
      "# modelMagerr_r \n",
      "fits_file = \"frame-r-006708-4-0085.fits\"\n",
      "x = pf.getdata(fits_file)\n",
      "hdr = pf.getheader(fits_file)\n",
      "ra = hdr['RA']\n",
      "dec = hdr['DEC']\n",
      "margin  = 0.22528 #Choose the biggest, because I'm not sure if this is aligned correctly, worse case worse you just spent more time trying to match sources.\n",
      "# result = sqlcl.query(\"SELECT ra, dec, modelMag_r  FROM PhotoObj as po WHERE po.ra between {0}-{2} and  {0}+{2} and po.dec between {1}-{2} and  {1}+{2}\".format(str(ra),str(dec),str(margin))).readlines()\n",
      "result = sqlcl.query(\"SELECT ra, dec, modelMag_r  FROM PhotoObj as po WHERE po.ra between {0} and  {0}+{2} and po.dec between {1} and  {1}+{2}\".format(str(ra),str(dec),str(margin))).readlines()\n",
      "data =[]\n",
      "count =0\n",
      "# print (result)\n",
      "for i in result:\n",
      "#     print(i)\n",
      "    if count>1:\n",
      "        list =i.split(',')\n",
      "#         print list\n",
      "        data.append([float(list[0]),float(list[1]),float(list[2][:-1])])\n",
      "    count += 1 \n",
      "data = np.array(data)\n",
      "#Create and Save Dummy \n",
      "sdss_result = np.array([np.arange(len(data[::,0])),dummy, data[::,0], data[::,1],dummy,dummy,dummy,dummy,dummy,dummy,data[::,2]]).T\n",
      "np.savetxt(\"sdds_output\",sdss_result)"
     ],
     "language": "python",
     "metadata": {},
     "outputs": [],
     "prompt_number": 50
    },
    {
     "cell_type": "code",
     "collapsed": false,
     "input": [
      "shape(data)"
     ],
     "language": "python",
     "metadata": {},
     "outputs": [
      {
       "metadata": {},
       "output_type": "pyout",
       "prompt_number": 51,
       "text": [
        "(1946, 3)"
       ]
      }
     ],
     "prompt_number": 51
    },
    {
     "cell_type": "code",
     "collapsed": false,
     "input": [],
     "language": "python",
     "metadata": {},
     "outputs": []
    }
   ],
   "metadata": {}
  }
 ]
}