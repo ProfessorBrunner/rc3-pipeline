{
 "metadata": {
  "name": "",
  "signature": "sha256:ade7190fcf0c98245431a122fe537b5d37145cb199444d275e03e12b5a6228d2"
 },
 "nbformat": 3,
 "nbformat_minor": 0,
 "worksheets": [
  {
   "cells": [
    {
     "cell_type": "heading",
     "level": 4,
     "metadata": {},
     "source": [
      "Result from a sample of galaxies that lies inside the SDSS footprint"
     ]
    },
    {
     "cell_type": "code",
     "collapsed": false,
     "input": [
      "cat sample.txt"
     ],
     "language": "python",
     "metadata": {},
     "outputs": [
      {
       "output_type": "stream",
       "stream": "stdout",
       "text": [
        "@\r\n",
        "0.1     17.225     0.0289633472037        38   \r\n",
        "0.1     7.84166666667     0.0141856339984        39   \r\n",
        "0.184583333333     28.4013888889     0.0132388039385        58   \r\n",
        "0.262083333333     28.9116666667     0.0264148865938        76  \r\n",
        "9.59125     32.6366666667     0.0264148865938      2286   \r\n",
        "15.7795833333     -6.98861111111     0.0264148865938      3754   \r\n",
        "21.1445833333     3.79694444444     0.0710965866091      5193 \r\n",
        "24.58125     7.53361111111     0.0459038118141      6061 \r\n",
        "36.375     26.7455555556     0.0152001806863      9212  \r\n",
        "195.596666667     28.2219444444     0.0409118153432     45003   \r\n",
        "246.725     51.5538888889     0.0191358937299     58150   \r\n",
        "246.75     56.8872222222     0.0214708259045     58154   \r\n",
        "334.049166667     27.9061111111     0.0187003076091     68460   \r\n",
        "348.95     9.50388888889     0.020037740617     70866   \r\n",
        "354.565416667     17.3455555556     0.0132388039385     71974   \r\n",
        "354.565416667     27.1622222222     0.0132388039385     71976  \r\n",
        "354.61375     4.80083333333     0.0162872870485     71982   \r\n",
        "354.611666667     26.985     0.00438377999526     71984    \r\n",
        "354.625     26.5916666667     0.0132388039385     71986  \r\n"
       ]
      }
     ],
     "prompt_number": 1
    },
    {
     "cell_type": "code",
     "collapsed": false,
     "input": [
      "cat flux_preserved.py"
     ],
     "language": "python",
     "metadata": {},
     "outputs": [
      {
       "output_type": "stream",
       "stream": "stdout",
       "text": [
        "from sdss import SDSS\r\n",
        "from rc3 import *\r\n",
        "from skyserver import *\r\n",
        "with open(\"sample.txt\",'r') as f:\r\n",
        "\tmag_mosaic=[]\r\n",
        "\tmag_rawdata = []\r\n",
        "\tallObj=[]\r\n",
        "\tn = 0\r\n",
        "\tstart=False\r\n",
        "\tfor line in f:\r\n",
        "\t\ta = str(line)[0]\r\n",
        "        if a[0] ==\"@\": \r\n",
        "\t\t\tstart=True\r\n",
        "\t\t\tcontinue\r\n",
        "\t\tif (start):\r\n",
        "\t\t\tn +=1\r\n",
        "\t\t\tra = float(line.split()[0])\r\n",
        "\t\t\tdec = float(line.split()[1])\r\n",
        "\t\t\tradius = float(line.split()[2])/2. \r\n",
        "\t\t\tpgc=str(line.split()[3]).replace(' ', '')\r\n",
        "\t\t\tclean=True\r\n",
        "\t\t\trc3Obj= RC3(ra,dec,radius,pgc)\r\n",
        "\t\t\tss = SkyServer()\r\n",
        "\t\t\tinfo = ss.surveyFieldConverter(rc3Obj.rc3_ra,rc3Obj.rc3_dec,3*rc3Obj.rc3_radius)\r\n",
        "\t\t\tprint info\r\n",
        "\t\t\tr_mosaic = \"\"\r\n",
        "\t\t\tfor i in info:\r\n",
        "\t\t\t\tr_mosaic=ss.getData('r',i[0],i[1],i[2])\r\n",
        "\t\t\t#Data after mosaicing\r\n",
        "\t\t\trfits =rc3Obj.mosaic_band('r',rc3Obj.rc3_ra,rc3Obj.rc3_dec,3*rc3Obj.rc3_radius,rc3Obj.rc3_radius,rc3Obj.pgc,SDSS())\r\n",
        "\t\t\trc3Obj.source_info(rfits,SDSS())\r\n",
        "\t\t\timport os\r\n",
        "\t\t\tos.system(\"sextractor  {}\".format(r_mosaic))\r\n",
        "\t\t\t#Find total flux in image of one field in the raw data \r\n",
        "\t\t\tcatalog = open(\"test.cat\",'r')\r\n",
        "\t\t\tmag_lst = []    \t\r\n",
        "\t\t\tfor line in catalog:\r\n",
        "\t\t\t\tline = line.split()\r\n",
        "\t\t\t\tif (line[0]!='#'):\r\n",
        "\t\t\t    \t#MAG_ISOCOR      Corrected isophotal magnitude                   [mag]\r\n",
        "\t\t\t    \t# in MGY conver to NMGY\r\n",
        "\t\t\t\t\tmag=float(line[10])*10**(9)\r\n",
        "\t\t\t\t\tmag_lst.append(mag)\r\n",
        "\t\t\tmag_rawdata.append(sum(mag_lst))\r\n",
        "\r\n",
        "\r\n",
        "\t\t\tprint (\"r_mosaic: {}\".format(r_mosaic))\r\n",
        "\t\t\timport glob\r\n",
        "\t\t\tx= glob.glob(\"frame-*\")\r\n",
        "\t\t\tprint (x)\r\n",
        "\t\t\tprint (x[0])\r\n",
        "\t\t\t#Find total flux in mosaiced image\r\n",
        "\t\t\tos.system(\"sextractor {}\".format(x[0]))\r\n",
        "\t\t\tcatalog = open(\"test.cat\",'r')\r\n",
        "\t\t\tmag_lst = []    \t\r\n",
        "\t\t\tfor line in catalog:\r\n",
        "\t\t\t    line = line.split()\r\n",
        "\t\t\t    if (line[0]!='#'):\r\n",
        "\t\t\t    \t#MAG_ISOCOR Corrected isophotal magnitude [mag]\r\n",
        "\t\t\t    \t# in MGY convert to NMGY \r\n",
        "\t\t\t    \t# this was actually not necessary if we are not looking at SDSS raw data's FITS header\r\n",
        "\t\t\t        mag=float(line[10])*10**(9)\r\n",
        "\t\t\t        mag_lst.append(mag)\r\n",
        "\t\t\tmag_mosaic.append(sum(mag_lst))\r\n",
        "\t\tos.system(\"rm frame-*\")\r\n",
        "\t\tprint (mag_mosaic)\r\n",
        "\t\tprint (mag_rawdata)\r\n",
        "\tprint (mag_mosaic)\r\n",
        "\tprint (mag_rawdata)\r\n"
       ]
      }
     ],
     "prompt_number": 2
    },
    {
     "cell_type": "heading",
     "level": 4,
     "metadata": {},
     "source": [
      "After running this program, the output is:"
     ]
    },
    {
     "cell_type": "code",
     "collapsed": false,
     "input": [
      "mag_mosaic = [-21019900000.0, -713758200000.0, -1259589400000.0, -1424888300000.0, -1168408000000.0, -574885000000.0, -840903400000.0, -718635700000.0, -994485800000.0, -746268900000.0, -1108072100000.0, -1036175100000.0, -2091531400000.0, -1008541300000.0, -1003852600000.0, -1209617000000.0, -657250900000.0, -1443635000000.0, -1175462900000.0]\n",
      "mag_rawdata = [-21019900000.0, -21019900000.0, -15589800000.0, -806600000.0, -27640100000.0, -13860800000.0, -49855000000.0, 20264800000.0, -718635700000.0, 7056400000.0, -10697000000.0, -6568600000.0, -1036175100000.0, -2091531400000.0, -1008541300000.0, -10014500000.0, -16162400000.0, -7104400000.0, -2970800000.0]"
     ],
     "language": "python",
     "metadata": {},
     "outputs": [],
     "prompt_number": 3
    },
    {
     "cell_type": "code",
     "collapsed": false,
     "input": [
      "% pylab\n",
      "%matplotlib inline\n",
      "import matplotlib.pyplot as plt\n",
      "plt.plot (mag_mosaic,mag_rawdata,'o')"
     ],
     "language": "python",
     "metadata": {},
     "outputs": [
      {
       "output_type": "stream",
       "stream": "stdout",
       "text": [
        "Using matplotlib backend: MacOSX\n",
        "Populating the interactive namespace from numpy and matplotlib\n"
       ]
      },
      {
       "metadata": {},
       "output_type": "pyout",
       "prompt_number": 4,
       "text": [
        "[<matplotlib.lines.Line2D at 0x109193a10>]"
       ]
      },
      {
       "metadata": {},
       "output_type": "display_data",
       "png": "[encoded data removed]",
       "text": [
        "<matplotlib.figure.Figure at 0x105812fd0>"
       ]
      }
     ],
     "prompt_number": 4
    },
    {
     "cell_type": "code",
     "collapsed": false,
     "input": [
      "mag_mosaic= np.array(mag_mosaic)\n",
      "mag_rawdata=np.array(mag_rawdata)"
     ],
     "language": "python",
     "metadata": {},
     "outputs": [],
     "prompt_number": 5
    },
    {
     "cell_type": "code",
     "collapsed": false,
     "input": [
      "flux_preservation = mag_mosaic/mag_rawdata #ratio should be as close to 1 as possible"
     ],
     "language": "python",
     "metadata": {},
     "outputs": [],
     "prompt_number": 6
    },
    {
     "cell_type": "code",
     "collapsed": false,
     "input": [
      "flux_preservation*100 #in percentage"
     ],
     "language": "python",
     "metadata": {},
     "outputs": [
      {
       "metadata": {},
       "output_type": "pyout",
       "prompt_number": 7,
       "text": [
        "array([  1.00000000e+02,   3.39563081e+03,   8.07957382e+03,\n",
        "         1.76653645e+05,   4.22722060e+03,   4.14756003e+03,\n",
        "         1.68669822e+03,  -3.54622646e+03,   1.38385249e+02,\n",
        "        -1.05757738e+04,   1.03587183e+04,   1.57746719e+04,\n",
        "         2.01851154e+02,   4.82202323e+01,   9.95351008e+01,\n",
        "         1.20786559e+04,   4.06654272e+03,   2.03202945e+04,\n",
        "         3.95672176e+04])"
       ]
      }
     ],
     "prompt_number": 7
    },
    {
     "cell_type": "code",
     "collapsed": false,
     "input": [
      "flux_preservation"
     ],
     "language": "python",
     "metadata": {},
     "outputs": [
      {
       "metadata": {},
       "output_type": "pyout",
       "prompt_number": 8,
       "text": [
        "array([  1.00000000e+00,   3.39563081e+01,   8.07957382e+01,\n",
        "         1.76653645e+03,   4.22722060e+01,   4.14756003e+01,\n",
        "         1.68669822e+01,  -3.54622646e+01,   1.38385249e+00,\n",
        "        -1.05757738e+02,   1.03587183e+02,   1.57746719e+02,\n",
        "         2.01851154e+00,   4.82202323e-01,   9.95351008e-01,\n",
        "         1.20786559e+02,   4.06654272e+01,   2.03202945e+02,\n",
        "         3.95672176e+02])"
       ]
      }
     ],
     "prompt_number": 8
    },
    {
     "cell_type": "code",
     "collapsed": false,
     "input": [
      "plot(flux_preservation,'o')"
     ],
     "language": "python",
     "metadata": {},
     "outputs": [
      {
       "metadata": {},
       "output_type": "pyout",
       "prompt_number": 9,
       "text": [
        "[<matplotlib.lines.Line2D at 0x1091da2d0>]"
       ]
      },
      {
       "metadata": {},
       "output_type": "display_data",
       "png": "[encoded data removed]",
       "text": [
        "<matplotlib.figure.Figure at 0x10580ea50>"
       ]
      }
     ],
     "prompt_number": 9
    },
    {
     "cell_type": "heading",
     "level": 4,
     "metadata": {},
     "source": [
      "If we truncate the outlier"
     ]
    },
    {
     "cell_type": "code",
     "collapsed": false,
     "input": [
      "flux_test = [  1.00000000e+00,   3.39563081e+01,   8.07957382e+01,\n",
      "         #1.76653645e+03,\n",
      "         4.22722060e+01,   4.14756003e+01,\n",
      "         1.68669822e+01,  -3.54622646e+01,   1.38385249e+00,\n",
      "        -1.05757738e+02,   1.03587183e+02,   1.57746719e+02,\n",
      "         2.01851154e+00,   4.82202323e-01,   9.95351008e-01,\n",
      "         1.20786559e+02,   4.06654272e+01,   2.03202945e+02,\n",
      "         3.95672176e+02]\n"
     ],
     "language": "python",
     "metadata": {},
     "outputs": [],
     "prompt_number": 10
    },
    {
     "cell_type": "code",
     "collapsed": false,
     "input": [
      "plot(flux_test,'o')"
     ],
     "language": "python",
     "metadata": {},
     "outputs": [
      {
       "metadata": {},
       "output_type": "pyout",
       "prompt_number": 11,
       "text": [
        "[<matplotlib.lines.Line2D at 0x1092d7d50>]"
       ]
      },
      {
       "metadata": {},
       "output_type": "display_data",
       "png": "[encoded data removed]",
       "text": [
        "<matplotlib.figure.Figure at 0x1091e5610>"
       ]
      }
     ],
     "prompt_number": 11
    },
    {
     "cell_type": "code",
     "collapsed": false,
     "input": [],
     "language": "python",
     "metadata": {},
     "outputs": [],
     "prompt_number": 1
    },
    {
     "cell_type": "code",
     "collapsed": false,
     "input": [],
     "language": "python",
     "metadata": {},
     "outputs": [
      {
       "output_type": "stream",
       "stream": "stdout",
       "text": [
        "Populating the interactive namespace from numpy and matplotlib\n"
       ]
      }
     ],
     "prompt_number": 1
    },
    {
     "cell_type": "code",
     "collapsed": false,
     "input": [],
     "language": "python",
     "metadata": {},
     "outputs": []
    }
   ],
   "metadata": {}
  }
 ]
}