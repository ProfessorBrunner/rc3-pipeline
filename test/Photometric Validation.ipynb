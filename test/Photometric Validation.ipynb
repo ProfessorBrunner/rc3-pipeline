{
 "metadata": {
  "name": "",
  "signature": "sha256:c3979ac7d1b8d0ce1b2248e7c03183c1f071c767a28cd767b4bc0ccd0cd9ddbf"
 },
 "nbformat": 3,
 "nbformat_minor": 0,
 "worksheets": [
  {
   "cells": [
    {
     "cell_type": "code",
     "collapsed": false,
     "input": [
      "%pylab inline"
     ],
     "language": "python",
     "metadata": {},
     "outputs": [
      {
       "output_type": "stream",
       "stream": "stdout",
       "text": [
        "Populating the interactive namespace from numpy and matplotlib\n"
       ]
      }
     ],
     "prompt_number": 1
    },
    {
     "cell_type": "code",
     "collapsed": false,
     "input": [
      "mega_mag_input = []\n",
      "mega_mag_output=[]"
     ],
     "language": "python",
     "metadata": {},
     "outputs": [],
     "prompt_number": 2
    },
    {
     "cell_type": "code",
     "collapsed": false,
     "input": [
      "import numpy as np\n",
      "import glob\n",
      "import os\n",
      "import shutil\n",
      "import matplotlib.pyplot as plt\n",
      "# PGC = 243\n",
      "for PGC in os.walk('.').next()[1][1:]:\n",
      "    print PGC\n",
      "    for i in glob.glob(\"default.*\"):\n",
      "        shutil.copy(i,\"{}/\".format(PGC))\n",
      "    os.chdir(str(PGC))\n",
      "    os.system(\"sex  SDSS_r_{}r.fits\".format(PGC))\n",
      "    os.rename(\"test.cat\",\"output.cat\") #rename it more appropriately as output catalog\n",
      "    # with open(\"output.txt\",'r') as f:\n",
      "    #     for line in f:\n",
      "    #         print ()\n",
      "    #-------------------------------------#\n",
      "\n",
      "    for i in glob.glob(\"default.*\"):\n",
      "        shutil.copy(i,\"{}/\".format(\"r\"))\n",
      "    os.chdir(\"r\")\n",
      "    all_r_input = glob.glob(\"raw/frame-*\")\n",
      "    os.system(\"sex  {}\".format(all_r_input[0]))\n",
      "    os.rename(\"test.cat\",\"input.cat\")\n",
      "\n",
      "    os.chdir(\"..\")\n",
      "    k=-11 \n",
      "    out_mag_lst = []   \n",
      "    catalog = open(\"output.cat\",'r')\n",
      "    #Select 5 random sources to test\n",
      "    out_coord = []\n",
      "    # import random\n",
      "    # for i in [random.randint(0,10) for i in range(5)]: \n",
      "    for line in catalog:\n",
      "        line = line.split()\n",
      "        if (line[0]!='#'):\n",
      "            ra = float(line[2])\n",
      "            dec = float(line[3])\n",
      "            mag=float(line[10])#*10**(9)\n",
      "#             print (\"[ra,dec]: {}\".format([ra,dec]))\n",
      "#             print (\"mag_isocorr: {}\".format(mag))\n",
      "            out_coord.append([ra,dec])\n",
      "            out_mag_lst.append(mag)\n",
      "    out_coord = np.array(out_coord)\n",
      "    out_ra_lst = out_coord[::,0]\n",
      "    out_dec_lst = out_coord[::,1]\n",
      "\n",
      "\n",
      "    os.chdir(\"r\")\n",
      "    for r_band_inputs in all_r_input:\n",
      "        os.system(\"sex  {}\".format(r_band_inputs))\n",
      "        os.rename(\"test.cat\",\"input.cat\")\n",
      "        k=-11 \n",
      "        mag_lst = []   \n",
      "        catalog = open(\"input.cat\",'r')\n",
      "        #Select 5 random sources to test\n",
      "        coord = []\n",
      "        # import random\n",
      "        # for i in [random.randint(0,10) for i in range(5)]: \n",
      "        for line in catalog:\n",
      "            line = line.split()\n",
      "            if (line[0]!='#'):\n",
      "                ra = float(line[2])\n",
      "                dec = float(line[3])\n",
      "                mag=float(line[10])#*10**(9)\n",
      "#                 print (\"[ra,dec]: {}\".format([ra,dec]))\n",
      "#                 print (\"mag_isocorr: {}\".format(mag))\n",
      "                coord.append([ra,dec])\n",
      "                mag_lst.append(mag)\n",
      "                # break\n",
      "        import numpy as np\n",
      "        coord = np.array(coord)\n",
      "        ra_lst = coord[::,0]\n",
      "        dec_lst = coord[::,1]\n",
      "        # plt.plot(ra_lst,dec_lst,'o',color=\"blue\")\n",
      "    # plt.plot(out_ra_lst,out_dec_lst,'*',color=\"red\",markersize=8)\n",
      "    # plt.show()\n",
      "\n",
      "    mag_lst = np.array(mag_lst)\n",
      "    idx = np.where(abs(mag_lst-out_mag_lst[0])<0.1)\n",
      "    epsilon = 0.001#small margin\n",
      "    idx_ra = np.intersect1d(np.where(min(out_ra_lst)<coord[::,0]+epsilon),np.where(coord[::,0]<max(out_ra_lst)+epsilon))\n",
      "    idx_dec = np.intersect1d(np.where(min(out_dec_lst)<coord[::,1]+epsilon),np.where(coord[::,1]<max(out_dec_lst)+epsilon))\n",
      "    intersect = np.intersect1d(idx_ra,idx_dec)\n",
      "    input_within_region  = coord[intersect]\n",
      "    input_within_region_with_mag =np.c_[input_within_region, mag_lst[intersect]] \n",
      "    # plt.plot(input_within_region[::,0],input_within_region[::,1],'o')\n",
      "    # plt.plot(out_ra_lst,out_dec_lst,'o',color=\"red\",ms=5)\n",
      "    # plt.show()\n",
      "    matched_coord = []\n",
      "    for i in out_coord:\n",
      "        for o in input_within_region:\n",
      "            bool = (abs(i-o)<5e-4)\n",
      "            if(bool[0] and bool[1]):\n",
      "                matched_coord.append([i,o])\n",
      "    out_coord_mag = np.c_[out_coord, out_mag_lst] \n",
      "    # Matching coordinates with output magnitudes\n",
      "    matched_coord=np.array(matched_coord)\n",
      "    matched_mag_lst_output =[]\n",
      "    for i in matched_coord[::,0]:\n",
      "        for j in out_coord_mag:\n",
      "            if i[0]==j[0]:\n",
      "                matched_mag_lst_output.append(j[2])\n",
      "    # Matching coordinates with input magnitudes\n",
      "    matched_mag_lst_input =[]\n",
      "    for i in matched_coord[::,1]:\n",
      "        for j in input_within_region_with_mag:\n",
      "            if i[0]==j[0]:\n",
      "                matched_mag_lst_input.append(j[2])\n",
      "    plt.plot(matched_mag_lst_output,matched_mag_lst_input,'o')\n",
      "    mega_mag_input.append(matched_mag_lst_input)\n",
      "    mega_mag_output.append(matched_mag_lst_output)\n",
      "    os.chdir(\"../..\")\n",
      "    if PGC == 39724:\n",
      "        plt.plot(-np.arange(10),-np.arange(10))\n",
      "        break"
     ],
     "language": "python",
     "metadata": {},
     "outputs": [
      {
       "output_type": "stream",
       "stream": "stdout",
       "text": [
        "120\n",
        "121"
       ]
      },
      {
       "output_type": "stream",
       "stream": "stdout",
       "text": [
        "\n",
        "2332"
       ]
      },
      {
       "output_type": "stream",
       "stream": "stdout",
       "text": [
        "\n",
        "2352"
       ]
      },
      {
       "output_type": "stream",
       "stream": "stdout",
       "text": [
        "\n",
        "2357"
       ]
      },
      {
       "output_type": "stream",
       "stream": "stdout",
       "text": [
        "\n",
        "2377"
       ]
      },
      {
       "output_type": "stream",
       "stream": "stdout",
       "text": [
        "\n",
        "2420"
       ]
      },
      {
       "output_type": "stream",
       "stream": "stdout",
       "text": [
        "\n",
        "243"
       ]
      },
      {
       "output_type": "stream",
       "stream": "stdout",
       "text": [
        "\n",
        "250"
       ]
      },
      {
       "output_type": "stream",
       "stream": "stdout",
       "text": [
        "\n",
        "298"
       ]
      },
      {
       "output_type": "stream",
       "stream": "stdout",
       "text": [
        "\n",
        "355"
       ]
      },
      {
       "output_type": "stream",
       "stream": "stdout",
       "text": [
        "\n",
        "39724"
       ]
      },
      {
       "output_type": "stream",
       "stream": "stdout",
       "text": [
        "\n"
       ]
      },
      {
       "ename": "IndexError",
       "evalue": "too many indices for array",
       "output_type": "pyerr",
       "traceback": [
        "\u001b[0;31m---------------------------------------------------------------------------\u001b[0m\n\u001b[0;31mIndexError\u001b[0m                                Traceback (most recent call last)",
        "\u001b[0;32m<ipython-input-3-cc30c7cc03b3>\u001b[0m in \u001b[0;36m<module>\u001b[0;34m()\u001b[0m\n\u001b[1;32m     98\u001b[0m     \u001b[0mmatched_coord\u001b[0m\u001b[0;34m=\u001b[0m\u001b[0mnp\u001b[0m\u001b[0;34m.\u001b[0m\u001b[0marray\u001b[0m\u001b[0;34m(\u001b[0m\u001b[0mmatched_coord\u001b[0m\u001b[0;34m)\u001b[0m\u001b[0;34m\u001b[0m\u001b[0m\n\u001b[1;32m     99\u001b[0m     \u001b[0mmatched_mag_lst_output\u001b[0m \u001b[0;34m=\u001b[0m\u001b[0;34m[\u001b[0m\u001b[0;34m]\u001b[0m\u001b[0;34m\u001b[0m\u001b[0m\n\u001b[0;32m--> 100\u001b[0;31m     \u001b[0;32mfor\u001b[0m \u001b[0mi\u001b[0m \u001b[0;32min\u001b[0m \u001b[0mmatched_coord\u001b[0m\u001b[0;34m[\u001b[0m\u001b[0;34m:\u001b[0m\u001b[0;34m:\u001b[0m\u001b[0;34m,\u001b[0m\u001b[0;36m0\u001b[0m\u001b[0;34m]\u001b[0m\u001b[0;34m:\u001b[0m\u001b[0;34m\u001b[0m\u001b[0m\n\u001b[0m\u001b[1;32m    101\u001b[0m         \u001b[0;32mfor\u001b[0m \u001b[0mj\u001b[0m \u001b[0;32min\u001b[0m \u001b[0mout_coord_mag\u001b[0m\u001b[0;34m:\u001b[0m\u001b[0;34m\u001b[0m\u001b[0m\n\u001b[1;32m    102\u001b[0m             \u001b[0;32mif\u001b[0m \u001b[0mi\u001b[0m\u001b[0;34m[\u001b[0m\u001b[0;36m0\u001b[0m\u001b[0;34m]\u001b[0m\u001b[0;34m==\u001b[0m\u001b[0mj\u001b[0m\u001b[0;34m[\u001b[0m\u001b[0;36m0\u001b[0m\u001b[0;34m]\u001b[0m\u001b[0;34m:\u001b[0m\u001b[0;34m\u001b[0m\u001b[0m\n",
        "\u001b[0;31mIndexError\u001b[0m: too many indices for array"
       ]
      },
      {
       "metadata": {},
       "output_type": "display_data",
       "png": "[encoded data removed]",
       "text": [
        "<matplotlib.figure.Figure at 0x10da84a10>"
       ]
      }
     ],
     "prompt_number": 3
    },
    {
     "cell_type": "code",
     "collapsed": false,
     "input": [
      "from compiler.ast import flatten"
     ],
     "language": "python",
     "metadata": {},
     "outputs": [],
     "prompt_number": 12
    },
    {
     "cell_type": "code",
     "collapsed": false,
     "input": [
      "mega_mag_input = flatten(mega_mag_input)\n",
      "mega_mag_output = flatten(mega_mag_output)"
     ],
     "language": "python",
     "metadata": {},
     "outputs": [],
     "prompt_number": 14
    },
    {
     "cell_type": "code",
     "collapsed": false,
     "input": [
      "p1 = fit_and_plot(mega_mag_input,mega_mag_output,\"Input MAG_ISOCOR [mag]\", \"Output MAG_ISOCOR [mag]\",\"Corrected isophotal magnitude of Input and Output Images\"  )"
     ],
     "language": "python",
     "metadata": {},
     "outputs": [
      {
       "output_type": "stream",
       "stream": "stdout",
       "text": [
        "[ 0.98599848  1.6798387 ]\n",
        " \n",
        "0.986 x + 1.68\n"
       ]
      },
      {
       "metadata": {},
       "output_type": "display_data",
       "png": "[encoded data removed]",
       "text": [
        "<matplotlib.figure.Figure at 0x110798e50>"
       ]
      }
     ],
     "prompt_number": 18
    },
    {
     "cell_type": "code",
     "collapsed": false,
     "input": [
      "def fit_and_plot(x,y,xlabel=\"\",ylabel=\"\",title=\"\",zeroed=False,annotate_fit= True,right_words = False,error_bar=\"\",sci_lim = False):\n",
      "#     x=1./x**2\n",
      "#     y=1./y\n",
      "#     fig = plt.figure()\n",
      "    fig = plt.figure()\n",
      "    ax1 = fig.add_subplot(111)\n",
      "    ax1.plot(x,y,'o')\n",
      "    z = np.polyfit(x,y, 1) \n",
      "    print z\n",
      "    p = np.poly1d(z)\n",
      "    print p\n",
      "    if zeroed : \n",
      "        a = np.linspace(0,max(x))\n",
      "    else:\n",
      "        a = np.linspace(min(x),max(x))\n",
      "    ax1.plot(a, p(np.linspace(min(x),max(x))),color=\"red\")\n",
      "    if annotate_fit: \n",
      "        slope = z[0]\n",
      "        intercept = z[1]\n",
      "        if right_words:    \n",
      "            ax1.text(0.48,0.85,\"y= %.5f x + %.5f\"%(slope,intercept), fontsize=13,transform=ax1.transAxes)\n",
      "        else:\n",
      "            ax1.text(0.03,0.85,\"y= %.5f x + %.5f\"%(slope,intercept), fontsize=13,transform=ax1.transAxes)\n",
      "    if title !=\"\":\n",
      "        plt.title(title,fontsize=13 )    \n",
      "        plt.xlabel(xlabel,fontsize=12)\n",
      "        plt.ylabel(ylabel,fontsize=12)\n",
      "#     ax1 = fig.add_subplot(111)\n",
      "#     ax1.text(0.03,0.8,\"y= %.5f x %.5f\"%(p[0],p[1]), fontsize=13,transform=ax.transAxes)\n",
      "    if error_bar!=\"\":\n",
      "        ax1.errorbar(x, y, yerr=error_bar, fmt='o')\n",
      "    if sci_lim:\n",
      "        plt.ticklabel_format(style='sci', axis='x', scilimits=(0,0))\n",
      "    plt.tick_params(axis='both', which='major', labelsize=12)\n",
      "    plt.tick_params(axis='both', which='minor', labelsize=12)\n",
      "    return p"
     ],
     "language": "python",
     "metadata": {},
     "outputs": [],
     "prompt_number": 17
    }
   ],
   "metadata": {}
  }
 ]
}