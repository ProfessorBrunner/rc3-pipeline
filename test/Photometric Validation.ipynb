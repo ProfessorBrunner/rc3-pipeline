{
 "metadata": {
  "name": "",
  "signature": "sha256:c312ea7115afa370893bf940fc41dd4429a3944d894e799d57387a4ba08389d7"
 },
 "nbformat": 3,
 "nbformat_minor": 0,
 "worksheets": [
  {
   "cells": [
    {
     "cell_type": "code",
     "collapsed": false,
     "input": [
      "%pylab inline"
     ],
     "language": "python",
     "metadata": {},
     "outputs": [
      {
       "output_type": "stream",
       "stream": "stdout",
       "text": [
        "Populating the interactive namespace from numpy and matplotlib\n"
       ]
      }
     ],
     "prompt_number": 1
    },
    {
     "cell_type": "code",
     "collapsed": false,
     "input": [
      "mega_mag_input = []\n",
      "mega_mag_output=[]"
     ],
     "language": "python",
     "metadata": {},
     "outputs": [],
     "prompt_number": 2
    },
    {
     "cell_type": "code",
     "collapsed": false,
     "input": [
      "import numpy as np\n",
      "import glob\n",
      "import os\n",
      "import shutil\n",
      "import matplotlib.pyplot as plt\n",
      "# PGC = 243\n",
      "for PGC in os.walk('.').next()[1][1:]:\n",
      "    print PGC\n",
      "    plt.figure()\n",
      "    for i in glob.glob(\"default.*\"):\n",
      "        shutil.copy(i,\"{}/\".format(PGC))\n",
      "    os.chdir(str(PGC))\n",
      "    os.system(\"sex  SDSS_r_{}r.fits\".format(PGC))\n",
      "    os.rename(\"test.cat\",\"output.cat\") #rename it more appropriately as output catalog\n",
      "\n",
      "    for i in glob.glob(\"default.*\"):\n",
      "        shutil.copy(i,\"{}/\".format(\"r\"))\n",
      "    os.chdir(\"r\")\n",
      "    all_r_input = glob.glob(\"raw/frame-*\")\n",
      "    os.system(\"sex  {}\".format(all_r_input[0]))\n",
      "    os.rename(\"test.cat\",\"input.cat\")\n",
      "\n",
      "    os.chdir(\"..\")\n",
      "    k=-11 \n",
      "    out_mag_lst = []   \n",
      "    catalog = open(\"output.cat\",'r')\n",
      "    #Select 5 random sources to test\n",
      "    out_coord = []\n",
      "    # import random\n",
      "    # for i in [random.randint(0,10) for i in range(5)]: \n",
      "    for line in catalog:\n",
      "        line = line.split()\n",
      "        if (line[0]!='#'):\n",
      "            ra = float(line[2])\n",
      "            dec = float(line[3])\n",
      "            mag=float(line[10])#*10**(9)\n",
      "#             print (\"[ra,dec]: {}\".format([ra,dec]))\n",
      "#             print (\"mag_isocorr: {}\".format(mag))\n",
      "            out_coord.append([ra,dec])\n",
      "            out_mag_lst.append(mag)\n",
      "    out_coord = np.array(out_coord)\n",
      "    out_ra_lst = out_coord[::,0]\n",
      "    out_dec_lst = out_coord[::,1]\n",
      "\n",
      "\n",
      "    os.chdir(\"r\")\n",
      "    for r_band_inputs in all_r_input:\n",
      "        os.system(\"sex  {}\".format(r_band_inputs))\n",
      "        os.rename(\"test.cat\",\"input.cat\")\n",
      "        k=-11 \n",
      "        mag_lst = []   \n",
      "        catalog = open(\"input.cat\",'r')\n",
      "        #Select 5 random sources to test\n",
      "        coord = []\n",
      "        # import random\n",
      "        # for i in [random.randint(0,10) for i in range(5)]: \n",
      "        for line in catalog:\n",
      "            line = line.split()\n",
      "            if (line[0]!='#'):\n",
      "                ra = float(line[2])\n",
      "                dec = float(line[3])\n",
      "                mag=float(line[10])#*10**(9)\n",
      "#                 print (\"[ra,dec]: {}\".format([ra,dec]))\n",
      "#                 print (\"mag_isocorr: {}\".format(mag))\n",
      "                coord.append([ra,dec])\n",
      "                mag_lst.append(mag)\n",
      "                # break\n",
      "        import numpy as np\n",
      "        coord = np.array(coord)\n",
      "        ra_lst = coord[::,0]\n",
      "        dec_lst = coord[::,1]\n",
      "        # plt.plot(ra_lst,dec_lst,'o',color=\"blue\")\n",
      "    # plt.plot(out_ra_lst,out_dec_lst,'*',color=\"red\",markersize=8)\n",
      "    # plt.show()\n",
      "\n",
      "    mag_lst = np.array(mag_lst)\n",
      "    idx = np.where(abs(mag_lst-out_mag_lst[0])<0.1)\n",
      "    epsilon = 0.001#small margin\n",
      "    idx_ra = np.intersect1d(np.where(min(out_ra_lst)<coord[::,0]+epsilon),np.where(coord[::,0]<max(out_ra_lst)+epsilon))\n",
      "    idx_dec = np.intersect1d(np.where(min(out_dec_lst)<coord[::,1]+epsilon),np.where(coord[::,1]<max(out_dec_lst)+epsilon))\n",
      "    intersect = np.intersect1d(idx_ra,idx_dec)\n",
      "    input_within_region  = coord[intersect]\n",
      "    input_within_region_with_mag =np.c_[input_within_region, mag_lst[intersect]] \n",
      "    # plt.plot(input_within_region[::,0],input_within_region[::,1],'o')\n",
      "    # plt.plot(out_ra_lst,out_dec_lst,'o',color=\"red\",ms=5)\n",
      "    # plt.show()\n",
      "    matched_coord = []\n",
      "    for i in out_coord:\n",
      "        for o in input_within_region:\n",
      "            bool = (abs(i-o)<5e-4)\n",
      "            if(bool[0] and bool[1]):\n",
      "                matched_coord.append([i,o])\n",
      "    out_coord_mag = np.c_[out_coord, out_mag_lst] \n",
      "    # Matching coordinates with output magnitudes\n",
      "    matched_coord=np.array(matched_coord)\n",
      "    matched_mag_lst_output =[]\n",
      "    for i in matched_coord[::,0]:\n",
      "        for j in out_coord_mag:\n",
      "            if i[0]==j[0]:\n",
      "                matched_mag_lst_output.append(j[2])\n",
      "    # Matching coordinates with input magnitudes\n",
      "    matched_mag_lst_input =[]\n",
      "    for i in matched_coord[::,1]:\n",
      "        for j in input_within_region_with_mag:\n",
      "            if i[0]==j[0]:\n",
      "                matched_mag_lst_input.append(j[2])\n",
      "    plt.plot(matched_mag_lst_output,matched_mag_lst_input,'o')\n",
      "    plt.show()\n",
      "    mega_mag_input.append(matched_mag_lst_input)\n",
      "    mega_mag_output.append(matched_mag_lst_output)\n",
      "    os.chdir(\"../..\")\n",
      "    if PGC == 121:\n",
      "        plt.plot(-np.arange(10),-np.arange(10))\n",
      "        break"
     ],
     "language": "python",
     "metadata": {},
     "outputs": [
      {
       "output_type": "stream",
       "stream": "stdout",
       "text": [
        "1982\n"
       ]
      },
      {
       "metadata": {},
       "output_type": "display_data",
       "png": "[encoded data removed]",
       "text": [
        "<matplotlib.figure.Figure at 0x1087c2fd0>"
       ]
      },
      {
       "output_type": "stream",
       "stream": "stdout",
       "text": [
        "22657\n"
       ]
      },
      {
       "metadata": {},
       "output_type": "display_data",
       "png": "[encoded data removed]",
       "text": [
        "<matplotlib.figure.Figure at 0x1087f0b10>"
       ]
      },
      {
       "output_type": "stream",
       "stream": "stdout",
       "text": [
        "23266\n"
       ]
      },
      {
       "metadata": {},
       "output_type": "display_data",
       "png": "[encoded data removed]",
       "text": [
        "<matplotlib.figure.Figure at 0x1088527d0>"
       ]
      },
      {
       "output_type": "stream",
       "stream": "stdout",
       "text": [
        "26189\n"
       ]
      },
      {
       "metadata": {},
       "output_type": "display_data",
       "png": "[encoded data removed]",
       "text": [
        "<matplotlib.figure.Figure at 0x10875ab50>"
       ]
      },
      {
       "output_type": "stream",
       "stream": "stdout",
       "text": [
        "29805\n"
       ]
      },
      {
       "metadata": {},
       "output_type": "display_data",
       "png": "[encoded data removed]",
       "text": [
        "<matplotlib.figure.Figure at 0x105c6dbd0>"
       ]
      },
      {
       "output_type": "stream",
       "stream": "stdout",
       "text": [
        "32570\n"
       ]
      },
      {
       "metadata": {},
       "output_type": "display_data",
       "png": "[encoded data removed]",
       "text": [
        "<matplotlib.figure.Figure at 0x1087bc550>"
       ]
      },
      {
       "output_type": "stream",
       "stream": "stdout",
       "text": [
        "34826\n"
       ]
      },
      {
       "metadata": {},
       "output_type": "display_data",
       "png": "[encoded data removed]",
       "text": [
        "<matplotlib.figure.Figure at 0x1087c2fd0>"
       ]
      },
      {
       "output_type": "stream",
       "stream": "stdout",
       "text": [
        "36177\n"
       ]
      },
      {
       "metadata": {},
       "output_type": "display_data",
       "png": "[encoded data removed]",
       "text": [
        "<matplotlib.figure.Figure at 0x10875ab50>"
       ]
      },
      {
       "output_type": "stream",
       "stream": "stdout",
       "text": [
        "38921\n"
       ]
      },
      {
       "metadata": {},
       "output_type": "display_data",
       "png": "[encoded data removed]",
       "text": [
        "<matplotlib.figure.Figure at 0x1087c2ed0>"
       ]
      },
      {
       "output_type": "stream",
       "stream": "stdout",
       "text": [
        "40772\n"
       ]
      },
      {
       "ename": "IndexError",
       "evalue": "too many indices for array",
       "output_type": "pyerr",
       "traceback": [
        "\u001b[0;31m---------------------------------------------------------------------------\u001b[0m\n\u001b[0;31mIndexError\u001b[0m                                Traceback (most recent call last)",
        "\u001b[0;32m<ipython-input-9-fc689effb316>\u001b[0m in \u001b[0;36m<module>\u001b[0;34m()\u001b[0m\n\u001b[1;32m     95\u001b[0m     \u001b[0mmatched_coord\u001b[0m\u001b[0;34m=\u001b[0m\u001b[0mnp\u001b[0m\u001b[0;34m.\u001b[0m\u001b[0marray\u001b[0m\u001b[0;34m(\u001b[0m\u001b[0mmatched_coord\u001b[0m\u001b[0;34m)\u001b[0m\u001b[0;34m\u001b[0m\u001b[0m\n\u001b[1;32m     96\u001b[0m     \u001b[0mmatched_mag_lst_output\u001b[0m \u001b[0;34m=\u001b[0m\u001b[0;34m[\u001b[0m\u001b[0;34m]\u001b[0m\u001b[0;34m\u001b[0m\u001b[0m\n\u001b[0;32m---> 97\u001b[0;31m     \u001b[0;32mfor\u001b[0m \u001b[0mi\u001b[0m \u001b[0;32min\u001b[0m \u001b[0mmatched_coord\u001b[0m\u001b[0;34m[\u001b[0m\u001b[0;34m:\u001b[0m\u001b[0;34m:\u001b[0m\u001b[0;34m,\u001b[0m\u001b[0;36m0\u001b[0m\u001b[0;34m]\u001b[0m\u001b[0;34m:\u001b[0m\u001b[0;34m\u001b[0m\u001b[0m\n\u001b[0m\u001b[1;32m     98\u001b[0m         \u001b[0;32mfor\u001b[0m \u001b[0mj\u001b[0m \u001b[0;32min\u001b[0m \u001b[0mout_coord_mag\u001b[0m\u001b[0;34m:\u001b[0m\u001b[0;34m\u001b[0m\u001b[0m\n\u001b[1;32m     99\u001b[0m             \u001b[0;32mif\u001b[0m \u001b[0mi\u001b[0m\u001b[0;34m[\u001b[0m\u001b[0;36m0\u001b[0m\u001b[0;34m]\u001b[0m\u001b[0;34m==\u001b[0m\u001b[0mj\u001b[0m\u001b[0;34m[\u001b[0m\u001b[0;36m0\u001b[0m\u001b[0;34m]\u001b[0m\u001b[0;34m:\u001b[0m\u001b[0;34m\u001b[0m\u001b[0m\n",
        "\u001b[0;31mIndexError\u001b[0m: too many indices for array"
       ]
      },
      {
       "metadata": {},
       "output_type": "display_data",
       "text": [
        "<matplotlib.figure.Figure at 0x105bf26d0>"
       ]
      }
     ],
     "prompt_number": 9
    },
    {
     "cell_type": "code",
     "collapsed": false,
     "input": [
      "from compiler.ast import flatten"
     ],
     "language": "python",
     "metadata": {},
     "outputs": [],
     "prompt_number": 124
    },
    {
     "cell_type": "code",
     "collapsed": false,
     "input": [
      "mega_mag_input = flatten(mega_mag_input)\n",
      "mega_mag_output = flatten(mega_mag_output)"
     ],
     "language": "python",
     "metadata": {},
     "outputs": [],
     "prompt_number": 5
    },
    {
     "cell_type": "heading",
     "level": 3,
     "metadata": {},
     "source": [
      "Getting the mega mag error values "
     ]
    },
    {
     "cell_type": "code",
     "collapsed": false,
     "input": [
      "mega_mag_err_input = []\n",
      "mega_mag_err_output=[]"
     ],
     "language": "python",
     "metadata": {},
     "outputs": [],
     "prompt_number": 9
    },
    {
     "cell_type": "code",
     "collapsed": false,
     "input": [
      "def fit_and_plot(x,y,xlabel=\"\",ylabel=\"\",title=\"\",zeroed=False,annotate_fit= True,right_words = False,error_bar=\"\",sci_lim = False):\n",
      "#     x=1./x**2\n",
      "#     y=1./y\n",
      "#     fig = plt.figure()\n",
      "    fig = plt.figure()\n",
      "    ax1 = fig.add_subplot(111)\n",
      "    ax1.plot(x,y,'o')\n",
      "    z = np.polyfit(x,y, 1) \n",
      "    print z\n",
      "    p = np.poly1d(z)\n",
      "    print p\n",
      "    if zeroed : \n",
      "        a = np.linspace(0,max(x))\n",
      "    else:\n",
      "        a = np.linspace(min(x),max(x))\n",
      "    ax1.plot(a, p(np.linspace(min(x),max(x))),color=\"red\")\n",
      "    if annotate_fit: \n",
      "        slope = z[0]\n",
      "        intercept = z[1]\n",
      "        if right_words:    \n",
      "            ax1.text(0.48,0.85,\"y= %.5f x + %.5f\"%(slope,intercept), fontsize=13,transform=ax1.transAxes)\n",
      "        else:\n",
      "            ax1.text(0.03,0.85,\"y= %.5f x + %.5f\"%(slope,intercept), fontsize=13,transform=ax1.transAxes)\n",
      "    if title !=\"\":\n",
      "        plt.title(title,fontsize=13 )    \n",
      "        plt.xlabel(xlabel,fontsize=12)\n",
      "        plt.ylabel(ylabel,fontsize=12)\n",
      "#     ax1 = fig.add_subplot(111)\n",
      "#     ax1.text(0.03,0.8,\"y= %.5f x %.5f\"%(p[0],p[1]), fontsize=13,transform=ax.transAxes)\n",
      "    if error_bar!=\"\":\n",
      "        ax1.errorbar(x, y, yerr=error_bar, fmt='o')\n",
      "    if sci_lim:\n",
      "        plt.ticklabel_format(style='sci', axis='x', scilimits=(0,0))\n",
      "    plt.tick_params(axis='both', which='major', labelsize=12)\n",
      "    plt.tick_params(axis='both', which='minor', labelsize=12)\n",
      "    return p"
     ],
     "language": "python",
     "metadata": {},
     "outputs": [],
     "prompt_number": 7
    },
    {
     "cell_type": "code",
     "collapsed": false,
     "input": [
      "p1 = fit_and_plot(mega_mag_input,mega_mag_output,\"Input MAG_ISOCOR [mag]\", \"Output MAG_ISOCOR [mag]\",\"Corrected isophotal magnitude of Input and Output Images\"  )"
     ],
     "language": "python",
     "metadata": {},
     "outputs": [
      {
       "output_type": "stream",
       "stream": "stdout",
       "text": [
        "[ 0.99710568  1.82761591]\n",
        " \n",
        "0.9971 x + 1.828\n"
       ]
      },
      {
       "metadata": {},
       "output_type": "display_data",
       "png": "[encoded data removed]",
       "text": [
        "<matplotlib.figure.Figure at 0x11200f810>"
       ]
      }
     ],
     "prompt_number": 8
    },
    {
     "cell_type": "raw",
     "metadata": {},
     "source": [
      "Modified #MAG_ISOCOR\n",
      "MAGERR_ISOCOR"
     ]
    },
    {
     "cell_type": "code",
     "collapsed": false,
     "input": [
      "import numpy as np\n",
      "import glob\n",
      "import os\n",
      "import shutil\n",
      "import matplotlib.pyplot as plt\n",
      "# PGC = 243\n",
      "for PGC in os.walk('.').next()[1][1:]:\n",
      "    print PGC\n",
      "    for i in glob.glob(\"default.*\"):\n",
      "        shutil.copy(i,\"{}/\".format(PGC))\n",
      "    os.chdir(str(PGC))\n",
      "    os.system(\"sex  SDSS_r_{}r.fits\".format(PGC))\n",
      "    os.rename(\"test.cat\",\"output.cat\") #rename it more appropriately as output catalog\n",
      "    # with open(\"output.txt\",'r') as f:\n",
      "    #     for line in f:\n",
      "    #         print ()\n",
      "    #-------------------------------------#\n",
      "\n",
      "    for i in glob.glob(\"default.*\"):\n",
      "        shutil.copy(i,\"{}/\".format(\"r\"))\n",
      "    os.chdir(\"r\")\n",
      "    all_r_input = glob.glob(\"raw/frame-*\")\n",
      "    os.system(\"sex  {}\".format(all_r_input[0]))\n",
      "    os.rename(\"test.cat\",\"input.cat\")\n",
      "\n",
      "    os.chdir(\"..\")\n",
      "    k=-11 \n",
      "    out_mag_lst = []   \n",
      "    catalog = open(\"output.cat\",'r')\n",
      "    #Select 5 random sources to test\n",
      "    out_coord = []\n",
      "    # import random\n",
      "    # for i in [random.randint(0,10) for i in range(5)]: \n",
      "    for line in catalog:\n",
      "        line = line.split()\n",
      "        if (line[0]!='#'):\n",
      "            ra = float(line[2])\n",
      "            dec = float(line[3])\n",
      "            mag=float(line[10])#*10**(9)\n",
      "#             print (\"[ra,dec]: {}\".format([ra,dec]))\n",
      "#             print (\"mag_isocorr: {}\".format(mag))\n",
      "            out_coord.append([ra,dec])\n",
      "            out_mag_lst.append(mag)\n",
      "    out_coord = np.array(out_coord)\n",
      "    out_ra_lst = out_coord[::,0]\n",
      "    out_dec_lst = out_coord[::,1]\n",
      "\n",
      "\n",
      "    os.chdir(\"r\")\n",
      "    for r_band_inputs in all_r_input:\n",
      "        os.system(\"sex  {}\".format(r_band_inputs))\n",
      "        os.rename(\"test.cat\",\"input.cat\")\n",
      "        k=-11 \n",
      "        mag_lst = []   \n",
      "        catalog = open(\"input.cat\",'r')\n",
      "        #Select 5 random sources to test\n",
      "        coord = []\n",
      "        # import random\n",
      "        # for i in [random.randint(0,10) for i in range(5)]: \n",
      "        for line in catalog:\n",
      "            line = line.split()\n",
      "            if (line[0]!='#'):\n",
      "                ra = float(line[2])\n",
      "                dec = float(line[3])\n",
      "                mag=float(line[10])#*10**(9)\n",
      "#                 print (\"[ra,dec]: {}\".format([ra,dec]))\n",
      "#                 print (\"mag_isocorr: {}\".format(mag))\n",
      "                coord.append([ra,dec])\n",
      "                mag_lst.append(mag)\n",
      "                # break\n",
      "        import numpy as np\n",
      "        coord = np.array(coord)\n",
      "        ra_lst = coord[::,0]\n",
      "        dec_lst = coord[::,1]\n",
      "        # plt.plot(ra_lst,dec_lst,'o',color=\"blue\")\n",
      "    # plt.plot(out_ra_lst,out_dec_lst,'*',color=\"red\",markersize=8)\n",
      "    # plt.show()\n",
      "\n",
      "    mag_lst = np.array(mag_lst)\n",
      "    idx = np.where(abs(mag_lst-out_mag_lst[0])<0.1)\n",
      "    epsilon = 0.001#small margin\n",
      "    idx_ra = np.intersect1d(np.where(min(out_ra_lst)<coord[::,0]+epsilon),np.where(coord[::,0]<max(out_ra_lst)+epsilon))\n",
      "    idx_dec = np.intersect1d(np.where(min(out_dec_lst)<coord[::,1]+epsilon),np.where(coord[::,1]<max(out_dec_lst)+epsilon))\n",
      "    intersect = np.intersect1d(idx_ra,idx_dec)\n",
      "    input_within_region  = coord[intersect]\n",
      "    input_within_region_with_mag =np.c_[input_within_region, mag_lst[intersect]] \n",
      "    # plt.plot(input_within_region[::,0],input_within_region[::,1],'o')\n",
      "    # plt.plot(out_ra_lst,out_dec_lst,'o',color=\"red\",ms=5)\n",
      "    # plt.show()\n",
      "    matched_coord = []\n",
      "    for i in out_coord:\n",
      "        for o in input_within_region:\n",
      "            bool = (abs(i-o)<5e-4)\n",
      "            if(bool[0] and bool[1]):\n",
      "                matched_coord.append([i,o])\n",
      "    out_coord_mag = np.c_[out_coord, out_mag_lst] \n",
      "    # Matching coordinates with output magnitudes\n",
      "    matched_coord=np.array(matched_coord)\n",
      "    matched_mag_lst_output =[]\n",
      "    for i in matched_coord[::,0]:\n",
      "        for j in out_coord_mag:\n",
      "            if i[0]==j[0]:\n",
      "                matched_mag_lst_output.append(j[2])\n",
      "    # Matching coordinates with input magnitudes\n",
      "    matched_mag_lst_input =[]\n",
      "    for i in matched_coord[::,1]:\n",
      "        for j in input_within_region_with_mag:\n",
      "            if i[0]==j[0]:\n",
      "                matched_mag_lst_input.append(j[2])\n",
      "    plt.plot(matched_mag_lst_output,matched_mag_lst_input,'o')\n",
      "    mega_mag_err_input.append(matched_mag_lst_input)\n",
      "    mega_mag_err_output.append(matched_mag_lst_output)\n",
      "    os.chdir(\"../..\")\n",
      "#     if PGC == 39724:\n",
      "#         plt.plot(-np.arange(10),-np.arange(10))\n",
      "#         break"
     ],
     "language": "python",
     "metadata": {},
     "outputs": [
      {
       "output_type": "stream",
       "stream": "stdout",
       "text": [
        "16589\n"
       ]
      },
      {
       "ename": "IndexError",
       "evalue": "too many indices for array",
       "output_type": "pyerr",
       "traceback": [
        "\u001b[0;31m---------------------------------------------------------------------------\u001b[0m\n\u001b[0;31mIndexError\u001b[0m                                Traceback (most recent call last)",
        "\u001b[0;32m<ipython-input-3-5953c13d3a3f>\u001b[0m in \u001b[0;36m<module>\u001b[0;34m()\u001b[0m\n\u001b[1;32m     98\u001b[0m     \u001b[0mmatched_coord\u001b[0m\u001b[0;34m=\u001b[0m\u001b[0mnp\u001b[0m\u001b[0;34m.\u001b[0m\u001b[0marray\u001b[0m\u001b[0;34m(\u001b[0m\u001b[0mmatched_coord\u001b[0m\u001b[0;34m)\u001b[0m\u001b[0;34m\u001b[0m\u001b[0m\n\u001b[1;32m     99\u001b[0m     \u001b[0mmatched_mag_lst_output\u001b[0m \u001b[0;34m=\u001b[0m\u001b[0;34m[\u001b[0m\u001b[0;34m]\u001b[0m\u001b[0;34m\u001b[0m\u001b[0m\n\u001b[0;32m--> 100\u001b[0;31m     \u001b[0;32mfor\u001b[0m \u001b[0mi\u001b[0m \u001b[0;32min\u001b[0m \u001b[0mmatched_coord\u001b[0m\u001b[0;34m[\u001b[0m\u001b[0;34m:\u001b[0m\u001b[0;34m:\u001b[0m\u001b[0;34m,\u001b[0m\u001b[0;36m0\u001b[0m\u001b[0;34m]\u001b[0m\u001b[0;34m:\u001b[0m\u001b[0;34m\u001b[0m\u001b[0m\n\u001b[0m\u001b[1;32m    101\u001b[0m         \u001b[0;32mfor\u001b[0m \u001b[0mj\u001b[0m \u001b[0;32min\u001b[0m \u001b[0mout_coord_mag\u001b[0m\u001b[0;34m:\u001b[0m\u001b[0;34m\u001b[0m\u001b[0m\n\u001b[1;32m    102\u001b[0m             \u001b[0;32mif\u001b[0m \u001b[0mi\u001b[0m\u001b[0;34m[\u001b[0m\u001b[0;36m0\u001b[0m\u001b[0;34m]\u001b[0m\u001b[0;34m==\u001b[0m\u001b[0mj\u001b[0m\u001b[0;34m[\u001b[0m\u001b[0;36m0\u001b[0m\u001b[0;34m]\u001b[0m\u001b[0;34m:\u001b[0m\u001b[0;34m\u001b[0m\u001b[0m\n",
        "\u001b[0;31mIndexError\u001b[0m: too many indices for array"
       ]
      }
     ],
     "prompt_number": 3
    },
    {
     "cell_type": "code",
     "collapsed": false,
     "input": [
      "mega_mag_err_input = flatten(mega_mag_err_input)\n",
      "mega_mag_err_output = flatten(mega_mag_err_output)"
     ],
     "language": "python",
     "metadata": {},
     "outputs": [],
     "prompt_number": 17
    },
    {
     "cell_type": "code",
     "collapsed": false,
     "input": [
      "import mpld3\n",
      "# mpld3.enable_notebook()\n",
      "mpld3.disable_notebook()"
     ],
     "language": "python",
     "metadata": {},
     "outputs": [],
     "prompt_number": 50
    },
    {
     "cell_type": "code",
     "collapsed": false,
     "input": [
      "from matplotlib.legend_handler import HandlerLine2D\n",
      "plt.errorbar(mega_mag_input,mega_mag_output,xerr = mega_mag_err_input,yerr = mega_mag_err_output,fmt='.',ecolor='r',label=\"MAGERR_ISO\")\n",
      "plt.legend(loc='upper left',prop={'size':12},numpoints=1)\n",
      "plt.xlim(-10.5,0)\n",
      "plt.xlabel(\"Input Mag\",fontsize=12)\n",
      "plt.ylabel(\"Output Mag\",fontsize=12)"
     ],
     "language": "python",
     "metadata": {},
     "outputs": [
      {
       "metadata": {},
       "output_type": "pyout",
       "prompt_number": 67,
       "text": [
        "<matplotlib.text.Text at 0x1138c0bd0>"
       ]
      },
      {
       "metadata": {},
       "output_type": "display_data",
       "png": "[encoded data removed]",
       "text": [
        "<matplotlib.figure.Figure at 0x1133efe90>"
       ]
      }
     ],
     "prompt_number": 67
    },
    {
     "cell_type": "code",
     "collapsed": false,
     "input": [
      "# plt.title(\"$\\delta$ MAG versus MAG\")\n",
      "plt.ylabel(\"$\\delta$ MAG\",fontsize=12)\n",
      "plt.xlabel(\"MAG\",fontsize=12)\n",
      "plt.plot(mega_mag_input,mega_mag_err_input,'o')"
     ],
     "language": "python",
     "metadata": {},
     "outputs": [
      {
       "metadata": {},
       "output_type": "pyout",
       "prompt_number": 226,
       "text": [
        "[<matplotlib.lines.Line2D at 0x1141a6d50>]"
       ]
      },
      {
       "metadata": {},
       "output_type": "display_data",
       "png": "[encoded data removed]",
       "text": [
        "<matplotlib.figure.Figure at 0x1141a60d0>"
       ]
      }
     ],
     "prompt_number": 226
    },
    {
     "cell_type": "code",
     "collapsed": false,
     "input": [
      "plt.ylabel(\"log($\\delta$ MAG)\",fontsize=12)\n",
      "plt.xlabel(\"MAG\",fontsize=12)\n",
      "plt.plot(mega_mag_input,abs(log10(mega_mag_err_input)),'o')"
     ],
     "language": "python",
     "metadata": {},
     "outputs": [
      {
       "metadata": {},
       "output_type": "pyout",
       "prompt_number": 58,
       "text": [
        "[<matplotlib.lines.Line2D at 0x11316d0d0>]"
       ]
      },
      {
       "metadata": {},
       "output_type": "display_data",
       "png": "[encoded data removed]",
       "text": [
        "<matplotlib.figure.Figure at 0x1132350d0>"
       ]
      }
     ],
     "prompt_number": 58
    },
    {
     "cell_type": "code",
     "collapsed": false,
     "input": [
      "plt.ylabel(\"log($\\delta$ MAG)\",fontsize=12)\n",
      "plt.xlabel(\"MAG\",fontsize=12)\n",
      "plt.plot(mega_mag_output,abs(log10(mega_mag_err_output)),'o')"
     ],
     "language": "python",
     "metadata": {},
     "outputs": [
      {
       "metadata": {},
       "output_type": "pyout",
       "prompt_number": 68,
       "text": [
        "[<matplotlib.lines.Line2D at 0x113896f50>]"
       ]
      },
      {
       "metadata": {},
       "output_type": "display_data",
       "png": "[encoded data removed]",
       "text": [
        "<matplotlib.figure.Figure at 0x113732b90>"
       ]
      }
     ],
     "prompt_number": 68
    },
    {
     "cell_type": "heading",
     "level": 3,
     "metadata": {},
     "source": [
      "Looking at Shape Parameters"
     ]
    },
    {
     "cell_type": "markdown",
     "metadata": {},
     "source": [
      "A_Image, B_image\n",
      "Elongation, ellipticity\n",
      "\n",
      "Not sure if these would work because the sources (other than the main one) is so small and not necearsily elliptical "
     ]
    },
    {
     "cell_type": "code",
     "collapsed": false,
     "input": [
      "cd test/"
     ],
     "language": "python",
     "metadata": {},
     "outputs": [
      {
       "output_type": "stream",
       "stream": "stdout",
       "text": [
        "/Users/dorislee/Desktop/Doris_Files/Fall2014/GSoC2014/rc3-pipeline/test\n"
       ]
      }
     ],
     "prompt_number": 89
    },
    {
     "cell_type": "code",
     "collapsed": false,
     "input": [
      "def sextractor_another_variable():\n",
      "    import numpy as np\n",
      "    import matplotlib.pyplot as plt\n",
      "    mega_x_input = []\n",
      "    mega_x_output=[]\n",
      "    # PGC = 243\n",
      "    try:\n",
      "        for PGC in os.walk('.').next()[1][1:]:\n",
      "            print PGC\n",
      "            for i in glob.glob(\"default.*\"):\n",
      "                shutil.copy(i,\"{}/\".format(PGC))\n",
      "            os.chdir(str(PGC))\n",
      "            os.system(\"sex  SDSS_r_{}r.fits\".format(PGC))\n",
      "            os.rename(\"test.cat\",\"output.cat\") #rename it more appropriately as output catalog\n",
      "            # with open(\"output.txt\",'r') as f:\n",
      "            #     for line in f:\n",
      "            #         print ()\n",
      "            #-------------------------------------#\n",
      "\n",
      "            for i in glob.glob(\"default.*\"):\n",
      "                shutil.copy(i,\"{}/\".format(\"r\"))\n",
      "            os.chdir(\"r\")\n",
      "            all_r_input = glob.glob(\"raw/frame-*\")\n",
      "            os.system(\"sex  {}\".format(all_r_input[0]))\n",
      "            os.rename(\"test.cat\",\"input.cat\")\n",
      "\n",
      "            os.chdir(\"..\")\n",
      "            k=-11 \n",
      "            out_mag_lst = []   \n",
      "            catalog = open(\"output.cat\",'r')\n",
      "            #Select 5 random sources to test\n",
      "            out_coord = []\n",
      "            # import random\n",
      "            # for i in [random.randint(0,10) for i in range(5)]: \n",
      "            for line in catalog:\n",
      "                line = line.split()\n",
      "                if (line[0]!='#'):\n",
      "                    ra = float(line[2])\n",
      "                    dec = float(line[3])\n",
      "                    mag=float(line[10])#*10**(9)\n",
      "        #             print (\"[ra,dec]: {}\".format([ra,dec]))\n",
      "        #             print (\"mag_isocorr: {}\".format(mag))\n",
      "                    out_coord.append([ra,dec])\n",
      "                    out_mag_lst.append(mag)\n",
      "            out_coord = np.array(out_coord)\n",
      "            out_ra_lst = out_coord[::,0]\n",
      "            out_dec_lst = out_coord[::,1]\n",
      "\n",
      "\n",
      "            os.chdir(\"r\")\n",
      "            for r_band_inputs in all_r_input:\n",
      "                os.system(\"sex  {}\".format(r_band_inputs))\n",
      "                os.rename(\"test.cat\",\"input.cat\")\n",
      "                k=-11 \n",
      "                mag_lst = []   \n",
      "                catalog = open(\"input.cat\",'r')\n",
      "                #Select 5 random sources to test\n",
      "                coord = []\n",
      "                # import random\n",
      "                # for i in [random.randint(0,10) for i in range(5)]: \n",
      "                for line in catalog:\n",
      "                    line = line.split()\n",
      "                    if (line[0]!='#'):\n",
      "                        ra = float(line[2])\n",
      "                        dec = float(line[3])\n",
      "                        mag=float(line[10])#*10**(9)\n",
      "        #                 print (\"[ra,dec]: {}\".format([ra,dec]))\n",
      "        #                 print (\"mag_isocorr: {}\".format(mag))\n",
      "                        coord.append([ra,dec])\n",
      "                        mag_lst.append(mag)\n",
      "                        # break\n",
      "                import numpy as np\n",
      "                coord = np.array(coord)\n",
      "                ra_lst = coord[::,0]\n",
      "                dec_lst = coord[::,1]\n",
      "                # plt.plot(ra_lst,dec_lst,'o',color=\"blue\")\n",
      "            # plt.plot(out_ra_lst,out_dec_lst,'*',color=\"red\",markersize=8)\n",
      "            # plt.show()\n",
      "\n",
      "            mag_lst = np.array(mag_lst)\n",
      "            idx = np.where(abs(mag_lst-out_mag_lst[0])<0.1)\n",
      "            epsilon = 0.001#small margin\n",
      "            idx_ra = np.intersect1d(np.where(min(out_ra_lst)<coord[::,0]+epsilon),np.where(coord[::,0]<max(out_ra_lst)+epsilon))\n",
      "            idx_dec = np.intersect1d(np.where(min(out_dec_lst)<coord[::,1]+epsilon),np.where(coord[::,1]<max(out_dec_lst)+epsilon))\n",
      "            intersect = np.intersect1d(idx_ra,idx_dec)\n",
      "            input_within_region  = coord[intersect]\n",
      "            input_within_region_with_mag =np.c_[input_within_region, mag_lst[intersect]] \n",
      "            # plt.plot(input_within_region[::,0],input_within_region[::,1],'o')\n",
      "            # plt.plot(out_ra_lst,out_dec_lst,'o',color=\"red\",ms=5)\n",
      "            # plt.show()\n",
      "            matched_coord = []\n",
      "            for i in out_coord:\n",
      "                for o in input_within_region:\n",
      "                    bool = (abs(i-o)<5e-4)\n",
      "                    if(bool[0] and bool[1]):\n",
      "                        matched_coord.append([i,o])\n",
      "            out_coord_mag = np.c_[out_coord, out_mag_lst] \n",
      "            # Matching coordinates with output magnitudes\n",
      "            matched_coord=np.array(matched_coord)\n",
      "            matched_mag_lst_output =[]\n",
      "            for i in matched_coord[::,0]:\n",
      "                for j in out_coord_mag:\n",
      "                    if i[0]==j[0]:\n",
      "                        matched_mag_lst_output.append(j[2])\n",
      "            # Matching coordinates with input magnitudes\n",
      "            matched_mag_lst_input =[]\n",
      "            for i in matched_coord[::,1]:\n",
      "                for j in input_within_region_with_mag:\n",
      "                    if i[0]==j[0]:\n",
      "                        matched_mag_lst_input.append(j[2])\n",
      "#             plt.plot(matched_mag_lst_output,matched_mag_lst_input,'o')\n",
      "            mega_x_input.append(matched_mag_lst_input)\n",
      "            mega_x_output.append(matched_mag_lst_output)\n",
      "            os.chdir(\"../..\")\n",
      "    except(IndexError):\n",
      "        return (mega_x_input,mega_x_output)"
     ],
     "language": "python",
     "metadata": {},
     "outputs": [],
     "prompt_number": 2
    },
    {
     "cell_type": "code",
     "collapsed": false,
     "input": [
      "cd ../../"
     ],
     "language": "python",
     "metadata": {},
     "outputs": [
      {
       "output_type": "stream",
       "stream": "stdout",
       "text": [
        "/Users/dorislee/Desktop/Doris_Files/Fall2014/GSoC2014/rc3-pipeline/test\n"
       ]
      }
     ],
     "prompt_number": 118
    },
    {
     "cell_type": "code",
     "collapsed": false,
     "input": [
      "_mega = sextractor_another_variable()\n",
      "mega_kron_input =flatten(_mega[0])\n",
      "mega_kron_output=flatten(_mega[1])\n",
      "plt.plot(mega_kron_input,mega_kron_output,'o')"
     ],
     "language": "python",
     "metadata": {},
     "outputs": [
      {
       "metadata": {},
       "output_type": "pyout",
       "prompt_number": 127,
       "text": [
        "[<matplotlib.lines.Line2D at 0x112e03650>]"
       ]
      },
      {
       "metadata": {},
       "output_type": "display_data",
       "png": "[encoded data removed]",
       "text": [
        "<matplotlib.figure.Figure at 0x112e5e790>"
       ]
      }
     ],
     "prompt_number": 127
    },
    {
     "cell_type": "code",
     "collapsed": false,
     "input": [
      "cd ../../250/"
     ],
     "language": "python",
     "metadata": {},
     "outputs": [
      {
       "output_type": "stream",
       "stream": "stdout",
       "text": [
        "/Users/dorislee/Desktop/Doris_Files/Fall2014/GSoC2014/rc3-pipeline/test/250\n"
       ]
      }
     ],
     "prompt_number": 131
    },
    {
     "cell_type": "code",
     "collapsed": false,
     "input": [
      "from astropy.io import fits\n",
      "hdulist = fits.open('SDSS_r_250r.fits')[0].data"
     ],
     "language": "python",
     "metadata": {},
     "outputs": [],
     "prompt_number": 140
    },
    {
     "cell_type": "code",
     "collapsed": false,
     "input": [
      "np.shape(hdulist)"
     ],
     "language": "python",
     "metadata": {},
     "outputs": [
      {
       "metadata": {},
       "output_type": "pyout",
       "prompt_number": 143,
       "text": [
        "(105, 105)"
       ]
      }
     ],
     "prompt_number": 143
    },
    {
     "cell_type": "markdown",
     "metadata": {},
     "source": [
      "0.00011 degree per pixel"
     ]
    },
    {
     "cell_type": "code",
     "collapsed": false,
     "input": [
      "0.00011*105"
     ],
     "language": "python",
     "metadata": {},
     "outputs": [
      {
       "metadata": {},
       "output_type": "pyout",
       "prompt_number": 144,
       "text": [
        "0.011550000000000001"
       ]
      }
     ],
     "prompt_number": 144
    },
    {
     "cell_type": "markdown",
     "metadata": {},
     "source": [
      "0.396 arcsec per pix"
     ]
    },
    {
     "cell_type": "code",
     "collapsed": false,
     "input": [
      "0.396*105"
     ],
     "language": "python",
     "metadata": {},
     "outputs": [
      {
       "metadata": {},
       "output_type": "pyout",
       "prompt_number": 145,
       "text": [
        "41.580000000000005"
       ]
      }
     ],
     "prompt_number": 145
    },
    {
     "cell_type": "heading",
     "level": 3,
     "metadata": {},
     "source": [
      "number of degrees that the object spans \n",
      "ISOAREA_WORLD isophotal area above analysis threshhold [deg^2]"
     ]
    },
    {
     "cell_type": "code",
     "collapsed": false,
     "input": [
      "cd ../../../"
     ],
     "language": "python",
     "metadata": {},
     "outputs": [
      {
       "output_type": "stream",
       "stream": "stdout",
       "text": [
        "/Users/dorislee/Desktop/Doris_Files/Fall2014/GSoC2014/rc3-pipeline/test\n"
       ]
      }
     ],
     "prompt_number": 222
    },
    {
     "cell_type": "code",
     "collapsed": false,
     "input": [
      "_mega = sextractor_another_variable()\n",
      "mega_area_input =flatten(_mega[0])\n",
      "mega_area_output=flatten(_mega[1])"
     ],
     "language": "python",
     "metadata": {},
     "outputs": [
      {
       "output_type": "stream",
       "stream": "stdout",
       "text": [
        "120\n",
        "121"
       ]
      },
      {
       "output_type": "stream",
       "stream": "stdout",
       "text": [
        "\n",
        "2332"
       ]
      },
      {
       "output_type": "stream",
       "stream": "stdout",
       "text": [
        "\n",
        "2352"
       ]
      },
      {
       "output_type": "stream",
       "stream": "stdout",
       "text": [
        "\n",
        "2357"
       ]
      },
      {
       "output_type": "stream",
       "stream": "stdout",
       "text": [
        "\n",
        "2377"
       ]
      },
      {
       "output_type": "stream",
       "stream": "stdout",
       "text": [
        "\n",
        "2420"
       ]
      },
      {
       "output_type": "stream",
       "stream": "stdout",
       "text": [
        "\n",
        "243"
       ]
      },
      {
       "output_type": "stream",
       "stream": "stdout",
       "text": [
        "\n",
        "250"
       ]
      },
      {
       "output_type": "stream",
       "stream": "stdout",
       "text": [
        "\n",
        "298"
       ]
      },
      {
       "output_type": "stream",
       "stream": "stdout",
       "text": [
        "\n",
        "355"
       ]
      },
      {
       "output_type": "stream",
       "stream": "stdout",
       "text": [
        "\n",
        "46541"
       ]
      },
      {
       "output_type": "stream",
       "stream": "stdout",
       "text": [
        "\n",
        "46545"
       ]
      },
      {
       "output_type": "stream",
       "stream": "stdout",
       "text": [
        "\n",
        "46548"
       ]
      },
      {
       "output_type": "stream",
       "stream": "stdout",
       "text": [
        "\n",
        "46552"
       ]
      },
      {
       "output_type": "stream",
       "stream": "stdout",
       "text": [
        "\n",
        "46555"
       ]
      },
      {
       "output_type": "stream",
       "stream": "stdout",
       "text": [
        "\n",
        "46560"
       ]
      },
      {
       "output_type": "stream",
       "stream": "stdout",
       "text": [
        "\n",
        "46561"
       ]
      },
      {
       "output_type": "stream",
       "stream": "stdout",
       "text": [
        "\n",
        "46563"
       ]
      },
      {
       "output_type": "stream",
       "stream": "stdout",
       "text": [
        "\n"
       ]
      },
      {
       "metadata": {},
       "output_type": "display_data",
       "png": "[encoded data removed]",
       "text": [
        "<matplotlib.figure.Figure at 0x1141e39d0>"
       ]
      }
     ],
     "prompt_number": 223
    },
    {
     "cell_type": "code",
     "collapsed": false,
     "input": [
      "fit_and_plot(mega_area_input,mega_area_output)"
     ],
     "language": "python",
     "metadata": {},
     "outputs": [
      {
       "output_type": "stream",
       "stream": "stdout",
       "text": [
        "[  2.96653085e-01  -1.59424849e-06]\n",
        " \n",
        "0.2967 x - 1.594e-06\n"
       ]
      },
      {
       "metadata": {},
       "output_type": "pyout",
       "prompt_number": 224,
       "text": [
        "poly1d([  2.96653085e-01,  -1.59424849e-06])"
       ]
      },
      {
       "metadata": {},
       "output_type": "display_data",
       "png": "[encoded data removed]",
       "text": [
        "<matplotlib.figure.Figure at 0x113f8b710>"
       ]
      }
     ],
     "prompt_number": 224
    },
    {
     "cell_type": "code",
     "collapsed": false,
     "input": [
      "np.where(np.array(mega_area_output)>0.0005)\n",
      "mega_area_input[12]"
     ],
     "language": "python",
     "metadata": {},
     "outputs": [
      {
       "metadata": {},
       "output_type": "pyout",
       "prompt_number": 229,
       "text": [
        "0.0010494600000000001"
       ]
      }
     ],
     "prompt_number": 229
    },
    {
     "cell_type": "heading",
     "level": 3,
     "metadata": {},
     "source": [
      "remove outlier "
     ]
    },
    {
     "cell_type": "code",
     "collapsed": false,
     "input": [
      "mega_area_input= np.delete(mega_area_input,0.0010494600000000001,0)"
     ],
     "language": "python",
     "metadata": {},
     "outputs": [
      {
       "output_type": "stream",
       "stream": "stderr",
       "text": [
        "/Users/dorislee/.virtualenvs/py27dev/lib/python2.7/site-packages/numpy/lib/function_base.py:3596: DeprecationWarning: using a non-integer array as obj in delete will result in an error in the future\n",
        "  \"error in the future\", DeprecationWarning)\n"
       ]
      }
     ],
     "prompt_number": 230
    },
    {
     "cell_type": "code",
     "collapsed": false,
     "input": [
      "mega_area_output = np.delete(mega_area_output,0.000645216,0)"
     ],
     "language": "python",
     "metadata": {},
     "outputs": [
      {
       "output_type": "stream",
       "stream": "stderr",
       "text": [
        "/Users/dorislee/.virtualenvs/py27dev/lib/python2.7/site-packages/numpy/lib/function_base.py:3596: DeprecationWarning: using a non-integer array as obj in delete will result in an error in the future\n",
        "  \"error in the future\", DeprecationWarning)\n"
       ]
      }
     ],
     "prompt_number": 231
    },
    {
     "cell_type": "code",
     "collapsed": false,
     "input": [
      "fit_and_plot(mega_area_input,mega_area_output,title=\"ISOAREA_WORLD\",xlabel=\"Input area\", ylabel=\"Output area\")\n",
      "# plt.ylim(1,4)"
     ],
     "language": "python",
     "metadata": {},
     "outputs": [
      {
       "output_type": "stream",
       "stream": "stdout",
       "text": [
        "[  2.95916689e-01  -2.23546048e-06]\n",
        " \n",
        "0.2959 x - 2.235e-06\n"
       ]
      },
      {
       "metadata": {},
       "output_type": "pyout",
       "prompt_number": 236,
       "text": [
        "poly1d([  2.95916689e-01,  -2.23546048e-06])"
       ]
      },
      {
       "metadata": {},
       "output_type": "display_data",
       "png": "[encoded data removed]",
       "text": [
        "<matplotlib.figure.Figure at 0x11420e110>"
       ]
      }
     ],
     "prompt_number": 236
    },
    {
     "cell_type": "heading",
     "level": 3,
     "metadata": {},
     "source": [
      "Elongation"
     ]
    },
    {
     "cell_type": "code",
     "collapsed": false,
     "input": [
      "cd ../../"
     ],
     "language": "python",
     "metadata": {},
     "outputs": [
      {
       "output_type": "stream",
       "stream": "stdout",
       "text": [
        "/Users/dorislee/Desktop/Doris_Files/Fall2014/GSoC2014/rc3-pipeline/test\n"
       ]
      }
     ],
     "prompt_number": 238
    },
    {
     "cell_type": "code",
     "collapsed": false,
     "input": [
      "_mega = sextractor_another_variable()\n",
      "mega_elong_input =flatten(_mega[0])\n",
      "mega_elong_output=flatten(_mega[1])"
     ],
     "language": "python",
     "metadata": {},
     "outputs": [
      {
       "output_type": "stream",
       "stream": "stdout",
       "text": [
        "120\n",
        "121"
       ]
      },
      {
       "output_type": "stream",
       "stream": "stdout",
       "text": [
        "\n",
        "2332"
       ]
      },
      {
       "output_type": "stream",
       "stream": "stdout",
       "text": [
        "\n",
        "2352"
       ]
      },
      {
       "output_type": "stream",
       "stream": "stdout",
       "text": [
        "\n",
        "2357"
       ]
      },
      {
       "output_type": "stream",
       "stream": "stdout",
       "text": [
        "\n",
        "2377"
       ]
      },
      {
       "output_type": "stream",
       "stream": "stdout",
       "text": [
        "\n",
        "2420"
       ]
      },
      {
       "output_type": "stream",
       "stream": "stdout",
       "text": [
        "\n",
        "243"
       ]
      },
      {
       "output_type": "stream",
       "stream": "stdout",
       "text": [
        "\n",
        "250"
       ]
      },
      {
       "output_type": "stream",
       "stream": "stdout",
       "text": [
        "\n",
        "298"
       ]
      },
      {
       "output_type": "stream",
       "stream": "stdout",
       "text": [
        "\n",
        "355"
       ]
      },
      {
       "output_type": "stream",
       "stream": "stdout",
       "text": [
        "\n",
        "46541"
       ]
      },
      {
       "output_type": "stream",
       "stream": "stdout",
       "text": [
        "\n",
        "46545"
       ]
      },
      {
       "output_type": "stream",
       "stream": "stdout",
       "text": [
        "\n",
        "46548"
       ]
      },
      {
       "output_type": "stream",
       "stream": "stdout",
       "text": [
        "\n",
        "46552"
       ]
      },
      {
       "output_type": "stream",
       "stream": "stdout",
       "text": [
        "\n",
        "46555"
       ]
      },
      {
       "output_type": "stream",
       "stream": "stdout",
       "text": [
        "\n",
        "46560"
       ]
      },
      {
       "output_type": "stream",
       "stream": "stdout",
       "text": [
        "\n",
        "46561"
       ]
      },
      {
       "output_type": "stream",
       "stream": "stdout",
       "text": [
        "\n",
        "46563"
       ]
      },
      {
       "output_type": "stream",
       "stream": "stdout",
       "text": [
        "\n"
       ]
      },
      {
       "metadata": {},
       "output_type": "display_data",
       "png": "[encoded data removed]",
       "text": [
        "<matplotlib.figure.Figure at 0x10fbe6e10>"
       ]
      }
     ],
     "prompt_number": 239
    },
    {
     "cell_type": "code",
     "collapsed": false,
     "input": [
      "fit_and_plot(mega_elong_input,mega_elong_output,title=\"Elongation\")\n",
      "# plt.ylim(1,3.5)"
     ],
     "language": "python",
     "metadata": {},
     "outputs": [
      {
       "output_type": "stream",
       "stream": "stdout",
       "text": [
        "[ 0.93125301  0.08592835]\n",
        " \n",
        "0.9313 x + 0.08593\n"
       ]
      },
      {
       "metadata": {},
       "output_type": "pyout",
       "prompt_number": 240,
       "text": [
        "poly1d([ 0.93125301,  0.08592835])"
       ]
      },
      {
       "metadata": {},
       "output_type": "display_data",
       "png": "[encoded data removed]",
       "text": [
        "<matplotlib.figure.Figure at 0x114161cd0>"
       ]
      }
     ],
     "prompt_number": 240
    },
    {
     "cell_type": "heading",
     "level": 3,
     "metadata": {},
     "source": [
      "Ellipticity"
     ]
    },
    {
     "cell_type": "code",
     "collapsed": false,
     "input": [
      "cd ../../"
     ],
     "language": "python",
     "metadata": {},
     "outputs": [
      {
       "output_type": "stream",
       "stream": "stdout",
       "text": [
        "/Users/dorislee/Desktop/Doris_Files/Fall2014/GSoC2014/rc3-pipeline/test\n"
       ]
      }
     ],
     "prompt_number": 241
    },
    {
     "cell_type": "code",
     "collapsed": false,
     "input": [
      "_mega = sextractor_another_variable()\n",
      "mega_ellip_input =flatten(_mega[0])\n",
      "mega_ellip_output=flatten(_mega[1])"
     ],
     "language": "python",
     "metadata": {},
     "outputs": [
      {
       "output_type": "stream",
       "stream": "stdout",
       "text": [
        "120\n",
        "121"
       ]
      },
      {
       "output_type": "stream",
       "stream": "stdout",
       "text": [
        "\n",
        "2332"
       ]
      },
      {
       "output_type": "stream",
       "stream": "stdout",
       "text": [
        "\n",
        "2352"
       ]
      },
      {
       "output_type": "stream",
       "stream": "stdout",
       "text": [
        "\n",
        "2357"
       ]
      },
      {
       "output_type": "stream",
       "stream": "stdout",
       "text": [
        "\n",
        "2377"
       ]
      },
      {
       "output_type": "stream",
       "stream": "stdout",
       "text": [
        "\n",
        "2420"
       ]
      },
      {
       "output_type": "stream",
       "stream": "stdout",
       "text": [
        "\n",
        "243"
       ]
      },
      {
       "output_type": "stream",
       "stream": "stdout",
       "text": [
        "\n",
        "250"
       ]
      },
      {
       "output_type": "stream",
       "stream": "stdout",
       "text": [
        "\n",
        "298"
       ]
      },
      {
       "output_type": "stream",
       "stream": "stdout",
       "text": [
        "\n",
        "355"
       ]
      },
      {
       "output_type": "stream",
       "stream": "stdout",
       "text": [
        "\n",
        "46541"
       ]
      },
      {
       "output_type": "stream",
       "stream": "stdout",
       "text": [
        "\n",
        "46545"
       ]
      },
      {
       "output_type": "stream",
       "stream": "stdout",
       "text": [
        "\n",
        "46548"
       ]
      },
      {
       "output_type": "stream",
       "stream": "stdout",
       "text": [
        "\n",
        "46552"
       ]
      },
      {
       "output_type": "stream",
       "stream": "stdout",
       "text": [
        "\n",
        "46555"
       ]
      },
      {
       "output_type": "stream",
       "stream": "stdout",
       "text": [
        "\n",
        "46560"
       ]
      },
      {
       "output_type": "stream",
       "stream": "stdout",
       "text": [
        "\n",
        "46561"
       ]
      },
      {
       "output_type": "stream",
       "stream": "stdout",
       "text": [
        "\n",
        "46563"
       ]
      },
      {
       "output_type": "stream",
       "stream": "stdout",
       "text": [
        "\n"
       ]
      },
      {
       "metadata": {},
       "output_type": "display_data",
       "png": "[encoded data removed]",
       "text": [
        "<matplotlib.figure.Figure at 0x112e63390>"
       ]
      }
     ],
     "prompt_number": 242
    },
    {
     "cell_type": "code",
     "collapsed": false,
     "input": [
      "fit_and_plot(mega_ellip_input,mega_ellip_output,title=\"Ellipticity\")\n",
      "# plt.ylim(1,3.5)"
     ],
     "language": "python",
     "metadata": {},
     "outputs": [
      {
       "output_type": "stream",
       "stream": "stdout",
       "text": [
        "[ 0.83240754  0.03247213]\n",
        " \n",
        "0.8324 x + 0.03247\n"
       ]
      },
      {
       "metadata": {},
       "output_type": "pyout",
       "prompt_number": 243,
       "text": [
        "poly1d([ 0.83240754,  0.03247213])"
       ]
      },
      {
       "metadata": {},
       "output_type": "display_data",
       "png": "[encoded data removed]",
       "text": [
        "<matplotlib.figure.Figure at 0x113f9e210>"
       ]
      }
     ],
     "prompt_number": 243
    },
    {
     "cell_type": "heading",
     "level": 1,
     "metadata": {},
     "source": [
      "Debugging outlier \n"
     ]
    },
    {
     "cell_type": "markdown",
     "metadata": {},
     "source": [
      "From the input "
     ]
    },
    {
     "cell_type": "markdown",
     "metadata": {},
     "source": [
      "       330      1.927   0.8839143 +23.2808659       1923        902       1931        910     1.712     1.587  -3.0464"
     ]
    },
    {
     "cell_type": "markdown",
     "metadata": {},
     "source": [
      "The output should have been really been : \n",
      "\n"
     ]
    },
    {
     "cell_type": "markdown",
     "metadata": {},
     "source": [
      "    2     12.294   0.8876716 +23.1913975         58          9         89         29     5.341     2.903  -3.0487"
     ]
    },
    {
     "cell_type": "markdown",
     "metadata": {},
     "source": [
      "Instead it was mistaken as :"
     ]
    },
    {
     "cell_type": "markdown",
     "metadata": {},
     "source": [
      "      354     19.481   0.8873891 +23.1911156       1097        906       1114        934     4.582     2.417  -2.7184"
     ]
    },
    {
     "cell_type": "markdown",
     "metadata": {},
     "source": [
      "Instead these should have been matched: \n",
      "\n",
      "[ra,dec]: [0.8884631, 23.1204433]\n",
      "mag_isocorr: -3.0486\n",
      "\n",
      "\n",
      "[ra,dec]: [0.8839143, 23.2808659]\n",
      "mag_isocorr: -3.0464"
     ]
    },
    {
     "cell_type": "code",
     "collapsed": false,
     "input": [
      "cd ../../"
     ],
     "language": "python",
     "metadata": {},
     "outputs": [
      {
       "output_type": "stream",
       "stream": "stdout",
       "text": [
        "/Users/dorislee/Desktop/Doris_Files/Fall2014/GSoC2014/rc3-pipeline/test\n"
       ]
      }
     ],
     "prompt_number": 11
    },
    {
     "cell_type": "code",
     "collapsed": false,
     "input": [
      "len(input_mag)"
     ],
     "language": "python",
     "metadata": {},
     "outputs": [
      {
       "metadata": {},
       "output_type": "pyout",
       "prompt_number": 35,
       "text": [
        "6353"
       ]
      }
     ],
     "prompt_number": 35
    },
    {
     "cell_type": "code",
     "collapsed": false,
     "input": [
      "input_mag =np.loadtxt(\"input_mag\")\n",
      "output_mag = np.loadtxt(\"output_mag\")"
     ],
     "language": "python",
     "metadata": {},
     "outputs": [],
     "prompt_number": 34
    },
    {
     "cell_type": "code",
     "collapsed": false,
     "input": [
      "def fit_and_plot(x,y,xlabel=\"\",ylabel=\"\",title=\"\",zeroed=False,annotate_fit= True,right_words = False,error_bar=\"\",sci_lim = False,annotate=\"\",right_annotate=False,marker='o'):\n",
      "    fig = plt.figure()\n",
      "    ax1 = fig.add_subplot(111)\n",
      "    ax1.plot(x,y,'{}'.format(marker))\n",
      "    z = np.polyfit(x,y, 1) \n",
      "    print z\n",
      "    p = np.poly1d(z)\n",
      "    print p\n",
      "    if zeroed : \n",
      "        a = np.linspace(0,max(x))\n",
      "    else:\n",
      "        a = np.linspace(min(x),max(x))\n",
      "    ax1.plot(a, p(np.linspace(min(x),max(x))),color=\"red\")\n",
      "    if annotate_fit: \n",
      "        slope = z[0]\n",
      "        intercept = z[1]\n",
      "        if right_words:    \n",
      "            ax1.text(0.48,0.85,\"y= %.5f x + %.5f\"%(slope,intercept), fontsize=13,transform=ax1.transAxes)\n",
      "        else:\n",
      "            ax1.text(0.03,0.85,\"y= %.5f x + %.5f\"%(slope,intercept), fontsize=13,transform=ax1.transAxes)\n",
      "    if title !=\"\":\n",
      "        plt.title(title,fontsize=13 )    \n",
      "        plt.xlabel(xlabel,fontsize=12)\n",
      "        plt.ylabel(ylabel,fontsize=12)\n",
      "#     ax1 = fig.add_subplot(111)\n",
      "#     ax1.text(0.03,0.8,\"y= %.5f x %.5f\"%(p[0],p[1]), fontsize=13,transform=ax.transAxes)\n",
      "    if annotate!=\"\":\n",
      "        if right_annotate: \n",
      "            ax1.text(0.48,0.85,annotate, fontsize=13,transform=ax1.transAxes)\n",
      "    if error_bar!=\"\":\n",
      "        ax1.errorbar(x, y, yerr=error_bar, fmt='o')\n",
      "    if sci_lim:\n",
      "        plt.ticklabel_format(style='sci', axis='x', scilimits=(0,0))\n",
      "    plt.tick_params(axis='both', which='major', labelsize=12)\n",
      "    plt.tick_params(axis='both', which='minor', labelsize=12)\n",
      "    return p"
     ],
     "language": "python",
     "metadata": {},
     "outputs": [],
     "prompt_number": 28
    },
    {
     "cell_type": "code",
     "collapsed": false,
     "input": [
      "plt.plot(input_mag,output_mag,'.')\n",
      "fit_and_plot(input_mag,output_mag,xlabel=\"Input Magnitude\",ylabel=\"Output Magnitude\",title=\"Photometric Analysis\")"
     ],
     "language": "python",
     "metadata": {},
     "outputs": [
      {
       "output_type": "stream",
       "stream": "stdout",
       "text": [
        "[ 0.94088272  1.65621849]\n",
        " \n",
        "0.9409 x + 1.656\n"
       ]
      },
      {
       "metadata": {},
       "output_type": "pyout",
       "prompt_number": 7,
       "text": [
        "poly1d([ 0.94088272,  1.65621849])"
       ]
      },
      {
       "metadata": {},
       "output_type": "display_data",
       "png": "[encoded data removed]",
       "text": [
        "<matplotlib.figure.Figure at 0x10ec149d0>"
       ]
      },
      {
       "metadata": {},
       "output_type": "display_data",
       "png": "[encoded data removed]",
       "text": [
        "<matplotlib.figure.Figure at 0x10ec14a10>"
       ]
      }
     ],
     "prompt_number": 7
    },
    {
     "cell_type": "markdown",
     "metadata": {},
     "source": [
      "doris@bigdog-data:/data/small/doris/photometric_test/test$ find . -name \"failed*\"\n",
      "./35125/failed_msubimage\n",
      "./54129/failed_msubimage\n",
      "./failed_projection\n",
      "./failed_msubimage\n",
      "./32986/failed_msubimage"
     ]
    },
    {
     "cell_type": "markdown",
     "metadata": {},
     "source": [
      "removed these galaxies."
     ]
    },
    {
     "cell_type": "code",
     "collapsed": false,
     "input": [
      "len(input_mag)"
     ],
     "language": "python",
     "metadata": {},
     "outputs": [
      {
       "metadata": {},
       "output_type": "pyout",
       "prompt_number": 8,
       "text": [
        "3242"
       ]
      }
     ],
     "prompt_number": 8
    },
    {
     "cell_type": "code",
     "collapsed": false,
     "input": [
      "input_mag =np.loadtxt(\"input_mag\")\n",
      "output_mag = np.loadtxt(\"output_mag\")\n",
      "plt.plot(input_mag,output_mag,'.')\n",
      "fit_and_plot(input_mag,output_mag,xlabel=\"Input Magnitude\",ylabel=\"Output Magnitude\",title=\"Photometric Analysis\")"
     ],
     "language": "python",
     "metadata": {},
     "outputs": [
      {
       "output_type": "stream",
       "stream": "stdout",
       "text": [
        "[ 0.94088895  1.65621614]\n",
        " \n",
        "0.9409 x + 1.656\n"
       ]
      },
      {
       "metadata": {},
       "output_type": "pyout",
       "prompt_number": 17,
       "text": [
        "poly1d([ 0.94088895,  1.65621614])"
       ]
      },
      {
       "metadata": {},
       "output_type": "display_data",
       "png": "[encoded data removed]",
       "text": [
        "<matplotlib.figure.Figure at 0x10ebd9110>"
       ]
      },
      {
       "metadata": {},
       "output_type": "display_data",
       "png": "[encoded data removed]",
       "text": [
        "<matplotlib.figure.Figure at 0x10ebd9510>"
       ]
      }
     ],
     "prompt_number": 17
    },
    {
     "cell_type": "code",
     "collapsed": false,
     "input": [
      "input_mag_delta =np.loadtxt(\"input_mag_delta\")\n",
      "output_mag_delta = np.loadtxt(\"output_mag_delta\")\n",
      "# plt.plot(input_mag,output_mag,'.')\n",
      "# fit_and_plot(input_mag,output_mag_delta,xlabel=\"Input Magnitude\",ylabel=\"Output Magnitude\",title=\"Photometric Analysis\")"
     ],
     "language": "python",
     "metadata": {},
     "outputs": [],
     "prompt_number": 18
    },
    {
     "cell_type": "code",
     "collapsed": false,
     "input": [
      "print len(input_mag)\n",
      "print len(input_mag_delta)"
     ],
     "language": "python",
     "metadata": {},
     "outputs": [
      {
       "output_type": "stream",
       "stream": "stdout",
       "text": [
        "3241\n",
        "3241\n"
       ]
      }
     ],
     "prompt_number": 19
    },
    {
     "cell_type": "code",
     "collapsed": false,
     "input": [
      "# plt.ylabel(\"log($\\delta$ MAG)\",fontsize=12)\n",
      "# plt.xlabel(\"MAG\",fontsize=12)\n",
      "# plt.plot(input_mag,abs(log10(input_mag_delta)),',')\n",
      "fit_and_plot(input_mag,abs(log10(input_mag_delta)),marker=',',ylabel=\"log($\\delta$ MAG)\",xlabel=\"MAG\",title=\"Inputs\")\n",
      "fit_and_plot(output_mag,abs(log10(output_mag_delta)),marker=',',ylabel=\"log($\\delta$ MAG)\",xlabel=\"MAG\",title=\"Outputs\")"
     ],
     "language": "python",
     "metadata": {},
     "outputs": [
      {
       "output_type": "stream",
       "stream": "stdout",
       "text": [
        "[-0.31037984  0.71732062]\n",
        " \n",
        "-0.3104 x + 0.7173\n",
        "[-0.31329107  1.30563553]\n",
        " \n",
        "-0.3133 x + 1.306\n"
       ]
      },
      {
       "metadata": {},
       "output_type": "pyout",
       "prompt_number": 35,
       "text": [
        "poly1d([-0.31329107,  1.30563553])"
       ]
      },
      {
       "metadata": {},
       "output_type": "display_data",
       "png": "[encoded data removed]",
       "text": [
        "<matplotlib.figure.Figure at 0x10ed1c550>"
       ]
      },
      {
       "metadata": {},
       "output_type": "display_data",
       "png": "[encoded data removed]",
       "text": [
        "<matplotlib.figure.Figure at 0x10ed1c9d0>"
       ]
      }
     ],
     "prompt_number": 35
    },
    {
     "cell_type": "code",
     "collapsed": false,
     "input": [
      "plt.plot(input_mag,input_mag-output_mag,',')\n",
      "plt.ylabel(\"mag_in - mag_out\",fontsize=12)\n",
      "plt.xlabel(\"mag_in\",fontsize=12)\n",
      "# plt.title(\"\")"
     ],
     "language": "python",
     "metadata": {},
     "outputs": [
      {
       "metadata": {},
       "output_type": "pyout",
       "prompt_number": 49,
       "text": [
        "<matplotlib.text.Text at 0x10f64b5d0>"
       ]
      },
      {
       "metadata": {},
       "output_type": "display_data",
       "png": "[encoded data removed]",
       "text": [
        "<matplotlib.figure.Figure at 0x10f5b1610>"
       ]
      }
     ],
     "prompt_number": 49
    },
    {
     "cell_type": "code",
     "collapsed": false,
     "input": [
      "plt.plot(input_mag,abs(input_mag-output_mag),',')"
     ],
     "language": "python",
     "metadata": {},
     "outputs": [
      {
       "metadata": {},
       "output_type": "pyout",
       "prompt_number": 41,
       "text": [
        "[<matplotlib.lines.Line2D at 0x10f1f8a50>]"
       ]
      },
      {
       "metadata": {},
       "output_type": "display_data",
       "png": "[encoded data removed]",
       "text": [
        "<matplotlib.figure.Figure at 0x10f1ca6d0>"
       ]
      }
     ],
     "prompt_number": 41
    },
    {
     "cell_type": "heading",
     "level": 1,
     "metadata": {},
     "source": [
      "Getting Model Magnitude from SDSS"
     ]
    },
    {
     "cell_type": "code",
     "collapsed": false,
     "input": [
      "from skyserver import SkyServer"
     ],
     "language": "python",
     "metadata": {},
     "outputs": [],
     "prompt_number": 52
    },
    {
     "cell_type": "code",
     "collapsed": false,
     "input": [
      "ra= 20\n",
      "dec = 30\n",
      "margin  = 0.1\n",
      "# ss = SkyServer()\n",
      "# ss.query(\"SELECT modelMag_r , modelMagerr_r  FROM PhotoObj as po   WHERE po.ra between {0}-{2} and  {0}+{2} and po.dec between {1}-{2} and  {1}+{2}\".format(str(ra),str(dec),str(margin)))"
     ],
     "language": "python",
     "metadata": {},
     "outputs": [],
     "prompt_number": 101
    },
    {
     "cell_type": "code",
     "collapsed": false,
     "input": [
      "# modelMagerr_r \n",
      "import sqlcl\n",
      "result = sqlcl.query(\"SELECT ra, dec, modelMag_r  FROM PhotoObj as po WHERE po.ra between {0}-{2} and  {0}+{2} and po.dec between {1}-{2} and  {1}+{2}\".format(str(ra),str(dec),str(margin))).readlines()\n",
      "data =[]\n",
      "count =0\n",
      "# print (result)\n",
      "for i in result:\n",
      "#     print(i)\n",
      "    if count>1:\n",
      "        list =i.split(',')\n",
      "#         print list\n",
      "        data.append([float(list[0]),float(list[1]),float(list[2][:-1])])\n",
      "    count += 1 \n",
      "data = np.array(data)"
     ],
     "language": "python",
     "metadata": {},
     "outputs": [],
     "prompt_number": 102
    },
    {
     "cell_type": "code",
     "collapsed": false,
     "input": [
      "data"
     ],
     "language": "python",
     "metadata": {},
     "outputs": [
      {
       "metadata": {},
       "output_type": "pyout",
       "prompt_number": 99,
       "text": [
        "array([[ 19.92288961,  30.05573927,  22.59675   ],\n",
        "       [ 19.92297172,  30.06787552,  22.14215   ],\n",
        "       [ 19.92297273,  30.02266009,  24.90777   ],\n",
        "       ..., \n",
        "       [ 20.09871568,  29.99817766,  21.62869   ],\n",
        "       [ 20.09873058,  29.94262339,  23.30978   ],\n",
        "       [ 20.09873058,  29.99365518,  22.02204   ]])"
       ]
      }
     ],
     "prompt_number": 99
    },
    {
     "cell_type": "markdown",
     "metadata": {},
     "source": [
      "We want to reuse the code in sextractor_another_variable() for source matching, to do this we must trick the program into treating the sdss magnitude as output.cat "
     ]
    },
    {
     "cell_type": "markdown",
     "metadata": {},
     "source": [
      "To do this, we must beef up some dummy (zero valued) columns for the program loops and indx to work correctly"
     ]
    },
    {
     "cell_type": "code",
     "collapsed": false,
     "input": [
      "np.zeros_like()"
     ],
     "language": "python",
     "metadata": {},
     "outputs": []
    },
    {
     "cell_type": "code",
     "collapsed": false,
     "input": [
      "dummy = np.zeros_like(data[::,0],dtype=int)\n",
      "dummy"
     ],
     "language": "python",
     "metadata": {},
     "outputs": [
      {
       "metadata": {},
       "output_type": "pyout",
       "prompt_number": 138,
       "text": [
        "array([0, 0, 0, ..., 0, 0, 0])"
       ]
      }
     ],
     "prompt_number": 138
    },
    {
     "cell_type": "code",
     "collapsed": false,
     "input": [
      "sdss_result = np.array([np.arange(len(data[::,0])),dummy, data[::,0], data[::,1],dummy,dummy,dummy,dummy,dummy,dummy,data[::,2]]).T"
     ],
     "language": "python",
     "metadata": {},
     "outputs": [],
     "prompt_number": 148
    },
    {
     "cell_type": "code",
     "collapsed": false,
     "input": [
      "sdss_result"
     ],
     "language": "python",
     "metadata": {},
     "outputs": [
      {
       "metadata": {},
       "output_type": "pyout",
       "prompt_number": 149,
       "text": [
        "array([[  0.00000000e+00,   0.00000000e+00,   1.99017432e+01, ...,\n",
        "          0.00000000e+00,   0.00000000e+00,   2.11052600e+01],\n",
        "       [  1.00000000e+00,   0.00000000e+00,   1.99017684e+01, ...,\n",
        "          0.00000000e+00,   0.00000000e+00,   1.58580700e+01],\n",
        "       [  2.00000000e+00,   0.00000000e+00,   1.99017757e+01, ...,\n",
        "          0.00000000e+00,   0.00000000e+00,   2.17403400e+01],\n",
        "       ..., \n",
        "       [  1.44100000e+03,   0.00000000e+00,   2.00987157e+01, ...,\n",
        "          0.00000000e+00,   0.00000000e+00,   2.16286900e+01],\n",
        "       [  1.44200000e+03,   0.00000000e+00,   2.00987306e+01, ...,\n",
        "          0.00000000e+00,   0.00000000e+00,   2.33097800e+01],\n",
        "       [  1.44300000e+03,   0.00000000e+00,   2.00987306e+01, ...,\n",
        "          0.00000000e+00,   0.00000000e+00,   2.20220400e+01]])"
       ]
      }
     ],
     "prompt_number": 149
    },
    {
     "cell_type": "code",
     "collapsed": false,
     "input": [
      "np.savetxt(\"sdds_output\",sdss_result)"
     ],
     "language": "python",
     "metadata": {},
     "outputs": [],
     "prompt_number": 150
    },
    {
     "cell_type": "code",
     "collapsed": false,
     "input": [
      "a = np.loadtxt(\"sdds_output\")"
     ],
     "language": "python",
     "metadata": {},
     "outputs": [],
     "prompt_number": 3
    },
    {
     "cell_type": "code",
     "collapsed": false,
     "input": [
      "shape(a[::,3])"
     ],
     "language": "python",
     "metadata": {},
     "outputs": [
      {
       "metadata": {},
       "output_type": "pyout",
       "prompt_number": 7,
       "text": [
        "(1444,)"
       ]
      }
     ],
     "prompt_number": 7
    },
    {
     "cell_type": "code",
     "collapsed": false,
     "input": [
      "a[::,3]"
     ],
     "language": "python",
     "metadata": {},
     "outputs": [
      {
       "metadata": {},
       "output_type": "pyout",
       "prompt_number": 8,
       "text": [
        "array([ 30.006663  ,  29.9767711 ,  30.06333916, ...,  29.99817766,\n",
        "        29.94262339,  29.99365518])"
       ]
      }
     ],
     "prompt_number": 8
    },
    {
     "cell_type": "code",
     "collapsed": false,
     "input": [],
     "language": "python",
     "metadata": {},
     "outputs": []
    }
   ],
   "metadata": {}
  }
 ]
}