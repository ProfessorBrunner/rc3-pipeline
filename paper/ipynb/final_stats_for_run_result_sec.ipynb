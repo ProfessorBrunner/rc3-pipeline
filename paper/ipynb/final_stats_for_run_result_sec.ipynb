{
 "metadata": {
  "name": "",
  "signature": "sha256:e34dd42c59bc55b83e82a2c6ec0f350875a4d325a692882a03336b2088d1996a"
 },
 "nbformat": 3,
 "nbformat_minor": 0,
 "worksheets": [
  {
   "cells": [
    {
     "cell_type": "code",
     "collapsed": false,
     "input": [
      "- The SDSS data needed to be updated since the last rerun (wrong source confusion naming issue)"
     ],
     "language": "python",
     "metadata": {},
     "outputs": []
    }
   ],
   "metadata": {}
  }
 ]
}