{
 "metadata": {
  "name": "",
  "signature": "sha256:4d712c16261d31e37d1a3288af30a610ccf8b854a255eccf4dba27ac30828aa7"
 },
 "nbformat": 3,
 "nbformat_minor": 0,
 "worksheets": [
  {
   "cells": [
    {
     "cell_type": "heading",
     "level": 1,
     "metadata": {},
     "source": [
      "Server Class "
     ]
    },
    {
     "cell_type": "markdown",
     "metadata": {},
     "source": [
      "Every survey object contains a server class which performs all the heavy querying and data retreival work.\n",
      "The server class that you write must implement the methods inside the abstract parent class Server. "
     ]
    },
    {
     "cell_type": "markdown",
     "metadata": {},
     "source": [
      "The mosaicing and position-updating procedure will only work if the returned value of these functions coincide with what the mosacingin program expects. Generally, it is easier to write the code for each method according to this sequence: "
     ]
    },
    {
     "cell_type": "markdown",
     "metadata": {},
     "source": [
      "<ol>\n",
      "<li> query string $\\rightarrow$ __query( )__: queries and download the XML file with FITS URL and other info\n",
      "<li> ra, dec, band, margin, survey$\\rightarrow$ __getData( )__: calls __query__, parses the XML to obtain FITS URL, download all FITS files with the naming convention: \n",
      "<br> ```{survey name}_{band}_{ra}_{dec}_{i}.fits``` where i is the $i^{th}$ number of FITS inside your search margin \uff08if more than 1 FITS)\n",
      "<br> Query Builders:\n",
      "<li> ra,dec,margin,survey $\\rightarrow$ __otherRC3__(): \n",
      "</ol>"
     ]
    },
    {
     "cell_type": "code",
     "collapsed": false,
     "input": [],
     "language": "python",
     "metadata": {},
     "outputs": []
    },
    {
     "cell_type": "markdown",
     "metadata": {},
     "source": [
      "Here is some sample code that parses the output XML file returned by queries, you can adjust this to conform to the particular data services  that you are using.\n"
     ]
    },
    {
     "cell_type": "code",
     "collapsed": false,
     "input": [
      "#Parse XML to find URL of all objects lying inside field \n",
      "with open(\"result.txt\") as f:\n",
      "    n=0\n",
      "    i=0\n",
      "    for line in f: \n",
      "        #The URL is stored in the line  after <fitsurl>\n",
      "        if (line ==\"<fitsurl>\"):\n",
      "            #passing till 1 lines down <fitsurl>\n",
      "            n+=1\n",
      "            pass\n",
      "        elif (n==1):\n",
      "            n=0\n",
      "            url = line.split('[')[-1].split(']')[0]\n",
      "            if (i>0):\n",
      "                #preventing other downloads to override the initial file\n",
      "                filename = \"{}_{}_{}_{}_{}.fits\".format(survey.name,band,str(ra),str(dec),str(i))\n",
      "            else:\n",
      "                filename = \"{}_{}_{}_{}.fits\".format(survey.name,band,str(ra),str(dec))\n",
      "            print (\"wget -O {} {}{}{} \".format(filename,' \"',url,'\" '))\n",
      "            os.system(\"wget -O {} {}{}{} \".format(filename,' \"',url,'\" '))\n",
      "            i+=1"
     ],
     "language": "python",
     "metadata": {},
     "outputs": []
    },
    {
     "cell_type": "heading",
     "level": 1,
     "metadata": {},
     "source": [
      "Survey-dependent parameters"
     ]
    },
    {
     "cell_type": "heading",
     "level": 3,
     "metadata": {},
     "source": [
      "SExtractor"
     ]
    },
    {
     "cell_type": "markdown",
     "metadata": {},
     "source": [
      "- Inside the  .sex (SExtractor configuration) files: \n",
      "     - Change PIXEL_SCALE to appropriate size per pixel in arcseconds to ensure that radius is calculated correctly.\n",
      "     - Other parameters can be adjusted for each survey\n",
      "- If you are not using the default for .param,.conv,.nnw make sure to change the PARAMETERS_NAME, FILTER_NAME,STARNNW_NAME respectively.\n"
     ]
    },
    {
     "cell_type": "heading",
     "level": 3,
     "metadata": {},
     "source": [
      "STIFF"
     ]
    },
    {
     "cell_type": "markdown",
     "metadata": {},
     "source": [
      "Since we are mosaicing 2 color images with different parameters to emphasize low surface structure and wipe away the background, so we  modify the parameters in the Survey object's __stiff_param_low__ and __stiff_param_best__ as command line arguements to overrride the default stiff configuration file.\n",
      "    "
     ]
    },
    {
     "cell_type": "heading",
     "level": 2,
     "metadata": {},
     "source": [
      "Optional"
     ]
    },
    {
     "cell_type": "markdown",
     "metadata": {},
     "source": [
      "These are parameters that are required for the essential mosaic and cordinate update algorithms to work but they are nice information to have around."
     ]
    },
    {
     "cell_type": "heading",
     "level": 3,
     "metadata": {},
     "source": [
      "Data Reliability"
     ]
    },
    {
     "cell_type": "markdown",
     "metadata": {},
     "source": [
      "- __need_clean__ : optional parameter inside the SurveyFieldConverter in the survey's DataServer Class. \n",
      "- If __need_clean__ is set to True, the SurveyFieldConverter will only return objects that are \"clean\"\n",
      "- For SDSS, this information is stored inside the boolean value [__CLEAN__](http://cas.sdss.org/dr4/en/help/docs/realquery.asp#flags) in SQL query search.\n",
      "- For 2MASS, unclean data is represented by non-zero character values in the __cc_flag__ [(contamination/confusion flag)](http://www.ipac.caltech.edu/2mass/releases/allsky/doc/seca3_3a.html#cc_flg). "
     ]
    },
    {
     "cell_type": "code",
     "collapsed": false,
     "input": [],
     "language": "python",
     "metadata": {},
     "outputs": []
    }
   ],
   "metadata": {}
  }
 ]
}