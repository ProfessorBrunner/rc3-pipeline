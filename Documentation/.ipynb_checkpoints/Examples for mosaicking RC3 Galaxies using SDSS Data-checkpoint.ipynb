{
 "metadata": {
  "name": "",
  "signature": "sha256:100f0aea46e265bf0e4535e8f20e020ac3c865cfda39afef81651f583a61393f"
 },
 "nbformat": 3,
 "nbformat_minor": 0,
 "worksheets": [
  {
   "cells": [
    {
     "cell_type": "code",
     "collapsed": false,
     "input": [
      "cd ../pipeline/"
     ],
     "language": "python",
     "metadata": {},
     "outputs": [
      {
       "output_type": "stream",
       "stream": "stdout",
       "text": [
        "/Users/dorislee/Desktop/GSoC2014/rc3-sdss/pipeline\n"
       ]
      }
     ],
     "prompt_number": 1
    },
    {
     "cell_type": "code",
     "collapsed": false,
     "input": [
      "from sdss import SDSS\n",
      "from rc3 import RC3"
     ],
     "language": "python",
     "metadata": {},
     "outputs": [
      {
       "output_type": "stream",
       "stream": "stderr",
       "text": [
        "WARNING: AstropyDeprecationWarning: ConfigurationItem has been deprecated in astropy 0.4. Use ConfigItem objects as members of ConfigNamespace subclasses instead.  See ConfigNamespace for an example. [astropy.config.configuration]\n",
        "WARNING:astropy:AstropyDeprecationWarning: ConfigurationItem has been deprecated in astropy 0.4. Use ConfigItem objects as members of ConfigNamespace subclasses instead.  See ConfigNamespace for an example.\n"
       ]
      }
     ],
     "prompt_number": 2
    },
    {
     "cell_type": "markdown",
     "metadata": {},
     "source": [
      "This information was obtained from rc3_ra_dec_pgc.txt which contains relvant information extracted from the original RC3 Catalog. We are interested in mosaicking NGC0309, the alternate PGC naming is PGC3377, as shown in this [NED search](http://ned.ipac.caltech.edu/cgi-bin/objsearch?objname=NGC0309+&extend=no&hconst=73&omegam=0.27&omegav=0.73&corr_z=1&out_csys=Equatorial&out_equinox=J2000.0&obj_sort=RA+or+Longitude&of=pre_text&zv_breaker=30000.0&list_limit=5&img_stamp=YES).\n",
      "\n",
      "14.1779166667     -9.91416666667     0.0527046277749      3377   "
     ]
    },
    {
     "cell_type": "markdown",
     "metadata": {},
     "source": [
      "Creating an RC3 object for PGC3377"
     ]
    },
    {
     "cell_type": "code",
     "collapsed": false,
     "input": [
      "pgc3377 = RC3(14.1779166667,-9.91416666667,0.0527046277749,3377)"
     ],
     "language": "python",
     "metadata": {},
     "outputs": [],
     "prompt_number": 3
    },
    {
     "cell_type": "markdown",
     "metadata": {},
     "source": [
      "Create a Survey object for SDSS which can be used in the mosaicking process"
     ]
    },
    {
     "cell_type": "code",
     "collapsed": false,
     "input": [
      "sdss = SDSS()"
     ],
     "language": "python",
     "metadata": {},
     "outputs": [],
     "prompt_number": 4
    },
    {
     "cell_type": "markdown",
     "metadata": {},
     "source": [
      "Upon initializing the SDSS object, a corresponding data server is also generated. "
     ]
    },
    {
     "cell_type": "code",
     "collapsed": false,
     "input": [
      "sdss.data_server"
     ],
     "language": "python",
     "metadata": {},
     "outputs": [
      {
       "metadata": {},
       "output_type": "pyout",
       "prompt_number": 9,
       "text": [
        "<skyserver.SkyServer at 0x107a94710>"
       ]
      }
     ],
     "prompt_number": 9
    },
    {
     "cell_type": "code",
     "collapsed": false,
     "input": [
      "sdss.best_band"
     ],
     "language": "python",
     "metadata": {},
     "outputs": [
      {
       "metadata": {},
       "output_type": "pyout",
       "prompt_number": 5,
       "text": [
        "'r'"
       ]
      }
     ],
     "prompt_number": 5
    },
    {
     "cell_type": "markdown",
     "metadata": {},
     "source": [
      "Since SDSS's \"best band\" (bandpass with the highest transmission) is red, we first generate a r band mosaic for source_info to work on. Margin denotes how large the size of the image should be. We use a margin of 3*radius in our first attempt. When choosing a margin, generally 2 ~ 4 times the radius is ideal. The chosen can not be so big that the object of interest shows up as a tiny speck in the image because source extractor may Treated as background or have trouble with estimating its radius. on the other hand margin can not be too small such that  the images completely filled by the galaxy, SExtractor Will have a trouble estimating the background which results in the non-detection."
     ]
    },
    {
     "cell_type": "code",
     "collapsed": false,
     "input": [
      "radius = 0.0527046277749\n",
      "rfits = pgc3377.mosaic_band('r',14.1779166667,-9.91416666667,3*radius,radius,3377,sdss)"
     ],
     "language": "python",
     "metadata": {},
     "outputs": [
      {
       "output_type": "stream",
       "stream": "stdout",
       "text": [
        "------------------mosaic_band----------------------\n",
        "Now mosaic_band on 3377\n",
        "Querying data that lies inside margin\n",
        "(14.1779166667, -9.91416666667, 0.1581138833247)\n",
        "result: [['1729', '4', '177'], ['1666', '4', '285'], ['1740', '3', '114'], ['1729', '4', '175'], ['1740', '3', '115'], ['1740', '3', '116'], ['1729', '4', '176'], ['1666', '4', '286'], ['1666', '4', '284']]"
       ]
      },
      {
       "output_type": "stream",
       "stream": "stdout",
       "text": [
        "\n",
        "clean_result: [['1740', '3', '116'], ['1729', '4', '177'], ['1740', '3', '115'], ['1729', '4', '176'], ['1729', '4', '175'], ['1740', '3', '114']]\n",
        "Complete Query. These data lies within margin: \n",
        "[['1729', '4', '177'], ['1666', '4', '285'], ['1740', '3', '114'], ['1729', '4', '175'], ['1740', '3', '115'], ['1740', '3', '116'], ['1729', '4', '176'], ['1666', '4', '286'], ['1666', '4', '284']]\n",
        "Retrieving data from server for rband\n",
        "Creating mosaic for r band."
       ]
      },
      {
       "output_type": "stream",
       "stream": "stdout",
       "text": [
        "\n",
        "Reprojecting images"
       ]
      },
      {
       "output_type": "stream",
       "stream": "stdout",
       "text": [
        "\n",
        "/Users/dorislee/Desktop/GSoC2014/rc3-sdss/pipeline/r/raw\n",
        "Completed Mosaic for r"
       ]
      },
      {
       "output_type": "stream",
       "stream": "stdout",
       "text": [
        "\n",
        "Completed Mosaic\n"
       ]
      },
      {
       "metadata": {},
       "output_type": "pyout",
       "prompt_number": 11,
       "text": [
        "'SDSS_r_3377.fits'"
       ]
      }
     ],
     "prompt_number": 11
    },
    {
     "cell_type": "code",
     "collapsed": false,
     "input": [
      "rfits = 'SDSS_r_3377.fits'"
     ],
     "language": "python",
     "metadata": {},
     "outputs": [],
     "prompt_number": 12
    },
    {
     "cell_type": "markdown",
     "metadata": {},
     "source": [
      "If you are running this on a MacOSX machine, change the line in rc3.py :\n",
      "\n",
      "        os.system(\"sextractor {} {}\".format(survey.sextractor_params, file))\n"
     ]
    },
    {
     "cell_type": "markdown",
     "metadata": {},
     "source": [
      "to :\n",
      "\n",
      "        os.system(\"sex {} {}\".format(survey.sextractor_params, file))"
     ]
    },
    {
     "cell_type": "code",
     "collapsed": false,
     "input": [
      "update = pgc3377.source_info(rfits,sdss)"
     ],
     "language": "python",
     "metadata": {},
     "outputs": [
      {
       "output_type": "stream",
       "stream": "stdout",
       "text": [
        "1th iteration\n",
        "------------------source_info----------------------\n",
        "Source info for SDSS_r_3377.fits\n",
        "Trying to write info into fits file\n",
        "Inside source_info , read from hdulist pgc= 3377\n",
        "Inside source_info, read from self rc3 object pgc = 3377\n",
        "[['PGC  3377', '14.177758', '-9.913872']]"
       ]
      },
      {
       "output_type": "stream",
       "stream": "stdout",
       "text": [
        "\n",
        "ra,dec of catalog sources\n",
        "rc3_data: [[3377, 14.177758, -9.913872]]\n",
        "Radius: [1.8027756377319946, 85.154271766013011, 1.8027756377319946]\n",
        "Source is Obvious\n",
        "[1.8027756377319946, 85.154271766013011, 1.8027756377319946]\n",
        "Biggest Galaxy with radius 85.154271766 pixels!\n",
        "new_ra and new_dec: 6.7431764 , -1.7861287  \n",
        "Radii: 85.154271766 pixel\n",
        "Radii: 0.00936326577438 degrees\n",
        "rc3: 14.1779166667 , updated: 6.7431764 \n",
        "rc3: -9.91416666667 , updated: -1.7861287 \n",
        "rc3: 0.0527046277749 , updated: 0.00936326577438 \n",
        "Mosaic_all on 3377 \n",
        "------------------mosaic_all_bands----------------------\n",
        "Working on 3377\n",
        "3377\n",
        "------------------mosaic_band----------------------\n",
        "Now mosaic_band on 3377\n",
        "Querying data that lies inside margin\n",
        "('6.7431764', '-1.7861287', 0.1581138833247)\n",
        "result: [['7778', '5', '363'], ['7778', '5', '361'], ['7778', '5', '362'], ['7907', '5', '117'], ['7907', '6', '116'], ['7907', '5', '116'], ['7907', '6', '115'], ['7907', '5', '115'], ['7907', '5', '118'], ['7907', '6', '117'], ['7907', '6', '118']]"
       ]
      },
      {
       "output_type": "stream",
       "stream": "stdout",
       "text": [
        "\n",
        "clean_result: [['7907', '5', '116'], ['7907', '6', '115'], ['7778', '5', '363'], ['7907', '5', '115'], ['7907', '5', '118'], ['7907', '6', '117'], ['7907', '6', '118'], ['7778', '5', '361'], ['7778', '5', '362'], ['7907', '5', '117'], ['7907', '6', '116']]\n",
        "Complete Query. These data lies within margin: \n",
        "[['7778', '5', '363'], ['7778', '5', '361'], ['7778', '5', '362'], ['7907', '5', '117'], ['7907', '6', '116'], ['7907', '5', '116'], ['7907', '6', '115'], ['7907', '5', '115'], ['7907', '5', '118'], ['7907', '6', '117'], ['7907', '6', '118']]\n",
        "Retrieving data from server for uband\n",
        "Creating mosaic for u band."
       ]
      },
      {
       "output_type": "stream",
       "stream": "stdout",
       "text": [
        "\n",
        "Reprojecting images"
       ]
      },
      {
       "output_type": "stream",
       "stream": "stdout",
       "text": [
        "\n",
        "/Users/dorislee/Desktop/GSoC2014/rc3-sdss/pipeline/3377/u/raw\n",
        "Completed Mosaic for u"
       ]
      },
      {
       "output_type": "stream",
       "stream": "stdout",
       "text": [
        "\n",
        "Completed Mosaic\n",
        "------------------mosaic_band----------------------\n",
        "Now mosaic_band on 3377\n",
        "Querying data that lies inside margin\n",
        "('6.7431764', '-1.7861287', 0.1581138833247)\n",
        "result: [['7778', '5', '363'], ['7907', '5', '116'], ['7907', '6', '115'], ['7907', '5', '115'], ['7907', '5', '118'], ['7907', '6', '117'], ['7907', '5', '117'], ['7907', '6', '116'], ['7907', '6', '118'], ['7778', '5', '362'], ['7778', '5', '361']]"
       ]
      },
      {
       "output_type": "stream",
       "stream": "stdout",
       "text": [
        "\n",
        "clean_result: [['7778', '5', '363'], ['7907', '5', '116'], ['7907', '6', '115'], ['7778', '5', '362'], ['7907', '6', '118'], ['7907', '5', '117'], ['7907', '6', '116'], ['7778', '5', '361'], ['7907', '5', '115'], ['7907', '5', '118'], ['7907', '6', '117']]\n",
        "Complete Query. These data lies within margin: \n",
        "[['7778', '5', '363'], ['7907', '5', '116'], ['7907', '6', '115'], ['7907', '5', '115'], ['7907', '5', '118'], ['7907', '6', '117'], ['7907', '5', '117'], ['7907', '6', '116'], ['7907', '6', '118'], ['7778', '5', '362'], ['7778', '5', '361']]\n",
        "Retrieving data from server for gband\n",
        "Creating mosaic for g band."
       ]
      },
      {
       "output_type": "stream",
       "stream": "stdout",
       "text": [
        "\n",
        "Reprojecting images"
       ]
      },
      {
       "output_type": "stream",
       "stream": "stdout",
       "text": [
        "\n",
        "/Users/dorislee/Desktop/GSoC2014/rc3-sdss/pipeline/3377/g/raw\n",
        "Completed Mosaic for g"
       ]
      },
      {
       "output_type": "stream",
       "stream": "stdout",
       "text": [
        "\n",
        "Completed Mosaic\n",
        "------------------mosaic_band----------------------\n",
        "Now mosaic_band on 3377\n",
        "Querying data that lies inside margin\n",
        "('6.7431764', '-1.7861287', 0.1581138833247)\n",
        "result: [['7778', '5', '363'], ['7907', '5', '116'], ['7907', '6', '115'], ['7907', '6', '118'], ['7907', '5', '115'], ['7907', '5', '118'], ['7907', '6', '117'], ['7907', '5', '117'], ['7907', '6', '116'], ['7778', '5', '362'], ['7778', '5', '361']]"
       ]
      },
      {
       "output_type": "stream",
       "stream": "stdout",
       "text": [
        "\n",
        "clean_result: [['7907', '6', '118'], ['7778', '5', '363'], ['7907', '5', '116'], ['7907', '6', '115'], ['7907', '5', '115'], ['7907', '5', '118'], ['7907', '6', '117'], ['7907', '5', '117'], ['7907', '6', '116'], ['7778', '5', '361'], ['7778', '5', '362']]\n",
        "Complete Query. These data lies within margin: \n",
        "[['7778', '5', '363'], ['7907', '5', '116'], ['7907', '6', '115'], ['7907', '6', '118'], ['7907', '5', '115'], ['7907', '5', '118'], ['7907', '6', '117'], ['7907', '5', '117'], ['7907', '6', '116'], ['7778', '5', '362'], ['7778', '5', '361']]\n",
        "Retrieving data from server for rband\n",
        "Creating mosaic for r band."
       ]
      },
      {
       "output_type": "stream",
       "stream": "stdout",
       "text": [
        "\n",
        "Reprojecting images"
       ]
      },
      {
       "output_type": "stream",
       "stream": "stdout",
       "text": [
        "\n",
        "/Users/dorislee/Desktop/GSoC2014/rc3-sdss/pipeline/3377/r/raw\n",
        "Completed Mosaic for r"
       ]
      },
      {
       "output_type": "stream",
       "stream": "stdout",
       "text": [
        "\n",
        "Completed Mosaic\n",
        "------------------mosaic_band----------------------\n",
        "Now mosaic_band on 3377\n",
        "Querying data that lies inside margin\n",
        "('6.7431764', '-1.7861287', 0.1581138833247)\n",
        "result: [['7907', '5', '115'], ['7907', '5', '118'], ['7907', '6', '117'], ['7778', '5', '363'], ['7778', '5', '361'], ['7778', '5', '362'], ['7907', '6', '118'], ['7907', '5', '116'], ['7907', '6', '115'], ['7907', '5', '117'], ['7907', '6', '116']]"
       ]
      },
      {
       "output_type": "stream",
       "stream": "stdout",
       "text": [
        "\n",
        "clean_result: [['7907', '5', '116'], ['7907', '6', '115'], ['7907', '5', '115'], ['7907', '5', '118'], ['7907', '6', '117'], ['7778', '5', '363'], ['7907', '6', '118'], ['7778', '5', '362'], ['7778', '5', '361'], ['7907', '5', '117'], ['7907', '6', '116']]\n",
        "Complete Query. These data lies within margin: \n",
        "[['7907', '5', '115'], ['7907', '5', '118'], ['7907', '6', '117'], ['7778', '5', '363'], ['7778', '5', '361'], ['7778', '5', '362'], ['7907', '6', '118'], ['7907', '5', '116'], ['7907', '6', '115'], ['7907', '5', '117'], ['7907', '6', '116']]\n",
        "Retrieving data from server for iband\n",
        "Creating mosaic for i band."
       ]
      },
      {
       "output_type": "stream",
       "stream": "stdout",
       "text": [
        "\n",
        "Reprojecting images"
       ]
      },
      {
       "output_type": "stream",
       "stream": "stdout",
       "text": [
        "\n",
        "/Users/dorislee/Desktop/GSoC2014/rc3-sdss/pipeline/3377/i/raw\n",
        "Completed Mosaic for i"
       ]
      },
      {
       "output_type": "stream",
       "stream": "stdout",
       "text": [
        "\n",
        "Completed Mosaic\n",
        "------------------mosaic_band----------------------\n",
        "Now mosaic_band on 3377\n",
        "Querying data that lies inside margin\n",
        "('6.7431764', '-1.7861287', 0.1581138833247)\n",
        "result: [['7907', '5', '116'], ['7907', '6', '115'], ['7778', '5', '363'], ['7907', '5', '115'], ['7907', '5', '118'], ['7907', '6', '117'], ['7778', '5', '362'], ['7907', '5', '117'], ['7907', '6', '116'], ['7778', '5', '361'], ['7907', '6', '118']]"
       ]
      },
      {
       "output_type": "stream",
       "stream": "stdout",
       "text": [
        "\n",
        "clean_result: [['7907', '5', '116'], ['7907', '6', '115'], ['7778', '5', '363'], ['7907', '5', '115'], ['7907', '5', '118'], ['7907', '6', '117'], ['7778', '5', '361'], ['7907', '5', '117'], ['7907', '6', '116'], ['7778', '5', '362'], ['7907', '6', '118']]\n",
        "Complete Query. These data lies within margin: \n",
        "[['7907', '5', '116'], ['7907', '6', '115'], ['7778', '5', '363'], ['7907', '5', '115'], ['7907', '5', '118'], ['7907', '6', '117'], ['7778', '5', '362'], ['7907', '5', '117'], ['7907', '6', '116'], ['7778', '5', '361'], ['7907', '6', '118']]\n",
        "Retrieving data from server for zband\n",
        "Creating mosaic for z band."
       ]
      },
      {
       "output_type": "stream",
       "stream": "stdout",
       "text": [
        "\n",
        "Reprojecting images"
       ]
      },
      {
       "output_type": "stream",
       "stream": "stdout",
       "text": [
        "\n",
        "/Users/dorislee/Desktop/GSoC2014/rc3-sdss/pipeline/3377/z/raw\n",
        "Completed Mosaic for z"
       ]
      },
      {
       "output_type": "stream",
       "stream": "stdout",
       "text": [
        "\n",
        "Completed Mosaic\n",
        "Completed Mosaic"
       ]
      },
      {
       "output_type": "stream",
       "stream": "stdout",
       "text": [
        "\n"
       ]
      },
      {
       "metadata": {},
       "output_type": "pyout",
       "prompt_number": 13,
       "text": [
        "[6.7431764, -1.7861287, 0.1581138833247, 0.0093632657743825641, 3377]"
       ]
      }
     ],
     "prompt_number": 13
    },
    {
     "cell_type": "markdown",
     "metadata": {},
     "source": [
      "source_info not only mosaics all bands but also returns a list of updated astrometry."
     ]
    },
    {
     "cell_type": "code",
     "collapsed": false,
     "input": [
      "update"
     ],
     "language": "python",
     "metadata": {},
     "outputs": [],
     "prompt_number": 24
    },
    {
     "cell_type": "code",
     "collapsed": false,
     "input": [
      "cd 3377"
     ],
     "language": "python",
     "metadata": {},
     "outputs": [
      {
       "output_type": "stream",
       "stream": "stdout",
       "text": [
        "/Users/dorislee/Desktop/GSoC2014/rc3-sdss/pipeline/3377\n"
       ]
      }
     ],
     "prompt_number": 19
    },
    {
     "cell_type": "code",
     "collapsed": false,
     "input": [
      "from IPython.core.display import Image\n",
      "import os \n",
      "os.system(\"gm convert SDSS_3377_BEST.tiff SDSS_3377_BEST.jpg\") #for ipynb display purpose only\n",
      "Image(filename=\"SDSS_3377_BEST.jpg\")"
     ],
     "language": "python",
     "metadata": {},
     "outputs": [
      {
       "jpeg": "[encoded data removed]",
       "metadata": {},
       "output_type": "pyout",
       "prompt_number": 21,
       "text": [
        "<IPython.core.display.Image at 0x107a94b90>"
       ]
      }
     ],
     "prompt_number": 21
    },
    {
     "cell_type": "code",
     "collapsed": false,
     "input": [
      "os.system(\"gm convert SDSS_3377_LOW.tiff SDSS_3377_LOW.jpg\") #for ipynb display purpose only\n",
      "Image(filename=\"SDSS_3377_LOW.jpg\")"
     ],
     "language": "python",
     "metadata": {},
     "outputs": [
      {
       "jpeg": "[encoded data removed]",
       "metadata": {},
       "output_type": "pyout",
       "prompt_number": 22,
       "text": [
        "<IPython.core.display.Image at 0x107a94990>"
       ]
      }
     ],
     "prompt_number": 22
    },
    {
     "cell_type": "markdown",
     "metadata": {},
     "source": [
      "If the color image doesn't look good, you can change the stiff paramter for each image and rerun the mosaicing procedure on the updated values."
     ]
    },
    {
     "cell_type": "code",
     "collapsed": false,
     "input": [
      "sdss.stiff_param_best"
     ],
     "language": "python",
     "metadata": {},
     "outputs": [
      {
       "metadata": {},
       "output_type": "pyout",
       "prompt_number": 7,
       "text": [
        "' -MAX_TYPE QUANTILE  -MAX_LEVEL 0.99 -COLOUR_SAT  5  -MIN_TYPE QUANTILE -MIN_LEVEL 1 -GAMMA_FAC 0.8'"
       ]
      }
     ],
     "prompt_number": 7
    },
    {
     "cell_type": "code",
     "collapsed": false,
     "input": [
      "sdss.stiff_param_best = \"-MAX_TYPE QUANTILE  -MAX_LEVEL 0.99997 -COLOUR_SAT  6  -MIN_TYPE QUANTILE -MIN_LEVEL 1 -GAMMA_FAC 1\""
     ],
     "language": "python",
     "metadata": {},
     "outputs": [],
     "prompt_number": 25
    },
    {
     "cell_type": "code",
     "collapsed": false,
     "input": [
      "pgc3377.mosaic_all_bands(update[0],update[1],update[2], 4*update[2],sdss)"
     ],
     "language": "python",
     "metadata": {},
     "outputs": [
      {
       "metadata": {},
       "output_type": "pyout",
       "prompt_number": 26,
       "text": [
        "'-MAX_TYPE QUANTILE  -MAX_LEVEL 0.99997 -COLOUR_SAT  6  -MIN_TYPE QUANTILE -MIN_LEVEL 1 -GAMMA_FAC 1'"
       ]
      }
     ],
     "prompt_number": 26
    },
    {
     "cell_type": "code",
     "collapsed": false,
     "input": [],
     "language": "python",
     "metadata": {},
     "outputs": []
    }
   ],
   "metadata": {}
  }
 ]
}