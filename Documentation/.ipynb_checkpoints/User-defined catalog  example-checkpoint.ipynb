{
 "metadata": {
  "name": "",
  "signature": "sha256:0ee9c7da09611ff7add13dd2f731121451eea46c140ed72a1cf34618c67c4ec9"
 },
 "nbformat": 3,
 "nbformat_minor": 0,
 "worksheets": [
  {
   "cells": [
    {
     "cell_type": "markdown",
     "metadata": {},
     "source": [
      "Suppose that you are interested in a subset of RC3 galaxies that are large enough that it can affect the imaging data of a part of the sky that your telescope is pointing at. "
     ]
    },
    {
     "cell_type": "markdown",
     "metadata": {},
     "source": [
      "    SELECT *FROM RC3 WHERE radius >0.1\n",
      "    AND 10 < new_ra < 50\n",
      "    AND 50 <new_dec <80\n",
      "    AND in_SDSS_footprint = 1"
     ]
    },
    {
     "cell_type": "markdown",
     "metadata": {},
     "source": [
      "This SQL result is ran on the rc3 database and the query result is stored in [catalogSubset.txt](https://github.com/ProfessorBrunner/rc3-sdss/blob/master/Documentation/catalogSubset.txt)."
     ]
    },
    {
     "cell_type": "code",
     "collapsed": false,
     "input": [
      "cat catalogSubset.txt"
     ],
     "language": "python",
     "metadata": {},
     "outputs": [
      {
       "output_type": "stream",
       "stream": "stdout",
       "text": [
        "ID\tPGC_number\tra\tdec\tradius\tnew_ra\tnew_dec\tnew_radius\tin_SDSS_footprint\tclean\terror\r\n",
        "808\t2429\t10.09375\t41.6863888889\t0.155173928366\t0.1557285\t33.601742\t0.0043016748332\t1\t1\t0\r\n",
        "852\t2557\t10.685\t41.2688888889\t1.70144829063\t0.0\t0.0\t0.0\t1\t1\t0\r\n",
        "1295\t3844\t16.2016666667\t2.11944444444\t0.138298909229\t0.1557285\t33.601742\t0.0043016748332\t1\t1\t0\r\n",
        "2023\t5818\t23.4620833333\t30.6602777778\t0.617758535655\t0.0\t0.0\t0.0\t1\t1\t3\r\n",
        "7342\t21396\t114.227083333\t65.5994444444\t0.190905638112\t114.0811276\t65.6216216\t0.0631498144493\t1\t0\t0\r\n",
        "8897\t27077\t143.040416667\t21.5005555556\t0.104910451193\t143.1492854\t21.6413199\t0.00948562047997\t1\t0\t0\r\n",
        "9295\t28630\t148.889583333\t69.0666666667\t0.22951905907\t148.888495\t69.0654192\t0.0897604255636\t1\t1\t0\r\n",
        "11134\t34697\t170.067916667\t13.5894444444\t0.123259032594\t170.0670631\t13.59372\t0.0872663485941\t1\t1\t0\r\n",
        "12812\t39346\t184.180833333\t69.4655555556\t0.182313469027\t184.3071389\t69.3370654\t0.0160431961195\t1\t1\t2\r\n",
        "12813\t39348\t184.180833333\t-3.43222222222\t0.182313469027\t184.18366\t-3.43027\t0.0235312692638\t1\t1\t0\r\n",
        "12837\t39422\t184.375\t37.8075\t0.138298909229\t184.3729232\t37.8075902\t0.091900762805\t1\t1\t0\r\n",
        "12879\t39600\t184.74125\t47.3044444444\t0.155173928366\t0.0\t0.0\t0.0\t1\t0\t0\r\n",
        "13181\t40596\t186.457916667\t33.5461111111\t0.109854728433\t186.4561382\t33.5464752\t0.0517931595823\t1\t1\t0\r\n",
        "13591\t42038\t189.085833333\t25.9847222222\t0.132074432969\t0.0\t0.0\t0.0\t1\t1\t0\r\n",
        "13778\t42637\t190.532083333\t32.5411111111\t0.129068051834\t190.5330441\t32.5454996\t0.0650957809472\t1\t1\t0\r\n",
        "13853\t42863\t190.991666667\t32.1716666667\t0.126130104288\t190.9590541\t32.1371917\t0.0769676853915\t1\t1\t0\r\n",
        "14974\t46153\t198.955416667\t42.035\t0.104910451193\t0.0\t0.0\t0.0\t1\t1\t0\r\n",
        "16122\t50063\t210.802083333\t54.3486111111\t0.240335959075\t0.0\t0.0\t0.0\t1\t1\t3\r\n",
        "17248\t54074\t227.2\t67.1955555556\t0.219188999763\t226.8622934\t67.0289581\t0.0131038673558\t1\t1\t0\r\n",
        "17331\t54470\t228.974166667\t56.3294444444\t0.104910451193\t228.9728916\t56.3296267\t0.0772562584855\t1\t0\t0\r\n",
        "18722\t60095\t260.051666667\t57.9152777778\t0.275942601788\t0.0\t0.0\t0.0\t1\t0\t0\r\n",
        "20208\t65001\t308.716666667\t60.1541666667\t0.138298909229\t308.107697\t59.8589268\t0.00303577533571\t1\t0\t2\r\n"
       ]
      }
     ],
     "prompt_number": 1
    },
    {
     "cell_type": "code",
     "collapsed": false,
     "input": [
      "cd ../pipeline/"
     ],
     "language": "python",
     "metadata": {},
     "outputs": [
      {
       "output_type": "stream",
       "stream": "stdout",
       "text": [
        "/Users/dorislee/Desktop/GSoC2014/rc3-sdss/pipeline\n"
       ]
      }
     ],
     "prompt_number": 2
    },
    {
     "cell_type": "code",
     "collapsed": false,
     "input": [
      "from rc3 import RC3\n",
      "from rc3Catalog import RC3Catalog"
     ],
     "language": "python",
     "metadata": {},
     "outputs": [
      {
       "output_type": "stream",
       "stream": "stderr",
       "text": [
        "WARNING: AstropyDeprecationWarning: ConfigurationItem has been deprecated in astropy 0.4. Use ConfigItem objects as members of ConfigNamespace subclasses instead.  See ConfigNamespace for an example. [astropy.config.configuration]\n",
        "WARNING:astropy:AstropyDeprecationWarning: ConfigurationItem has been deprecated in astropy 0.4. Use ConfigItem objects as members of ConfigNamespace subclasses instead.  See ConfigNamespace for an example.\n"
       ]
      }
     ],
     "prompt_number": 3
    },
    {
     "cell_type": "code",
     "collapsed": false,
     "input": [
      "subset = RC3Catalog()"
     ],
     "language": "python",
     "metadata": {},
     "outputs": [],
     "prompt_number": 4
    },
    {
     "cell_type": "code",
     "collapsed": false,
     "input": [
      "subsetlst= subset.initSubset(\"../Documentation/catalogSubset.txt\")"
     ],
     "language": "python",
     "metadata": {},
     "outputs": [],
     "prompt_number": 5
    },
    {
     "cell_type": "code",
     "collapsed": false,
     "input": [
      "print [str(x) for x in subsetlst]"
     ],
     "language": "python",
     "metadata": {},
     "outputs": [
      {
       "output_type": "stream",
       "stream": "stdout",
       "text": [
        "['<RC3Obj2429>', '<RC3Obj2557>', '<RC3Obj3844>', '<RC3Obj5818>', '<RC3Obj21396>', '<RC3Obj27077>', '<RC3Obj28630>', '<RC3Obj34697>', '<RC3Obj39346>', '<RC3Obj39348>', '<RC3Obj39422>', '<RC3Obj39600>', '<RC3Obj40596>', '<RC3Obj42038>', '<RC3Obj42637>', '<RC3Obj42863>', '<RC3Obj46153>', '<RC3Obj50063>', '<RC3Obj54074>', '<RC3Obj54470>', '<RC3Obj60095>', '<RC3Obj65001>']\n"
       ]
      }
     ],
     "prompt_number": 6
    },
    {
     "cell_type": "code",
     "collapsed": false,
     "input": [
      "print(subsetlst[0])"
     ],
     "language": "python",
     "metadata": {},
     "outputs": [
      {
       "output_type": "stream",
       "stream": "stdout",
       "text": [
        "<RC3Obj2429>\n"
       ]
      }
     ],
     "prompt_number": 7
    },
    {
     "cell_type": "markdown",
     "metadata": {},
     "source": [
      "We can now perform mosaicing functions to the whole subset of the catalog by storing this list inside the instance variable __allObj__."
     ]
    },
    {
     "cell_type": "code",
     "collapsed": false,
     "input": [
      "subset.allObj = subsetlst"
     ],
     "language": "python",
     "metadata": {},
     "outputs": [],
     "prompt_number": 8
    },
    {
     "cell_type": "markdown",
     "metadata": {},
     "source": [
      "Additional information stored inside RC3 Catalog Objects"
     ]
    },
    {
     "cell_type": "code",
     "collapsed": false,
     "input": [
      "print (subset.equinox)\n",
      "print(subset.frame)"
     ],
     "language": "python",
     "metadata": {},
     "outputs": [
      {
       "output_type": "stream",
       "stream": "stdout",
       "text": [
        "J2000\n",
        "fk5\n"
       ]
      }
     ],
     "prompt_number": 9
    },
    {
     "cell_type": "code",
     "collapsed": false,
     "input": [
      "from sdss import SDSS\n",
      "sdss = SDSS()"
     ],
     "language": "python",
     "metadata": {},
     "outputs": [],
     "prompt_number": 10
    },
    {
     "cell_type": "markdown",
     "metadata": {},
     "source": [
      "You can mosaic all the RC3 objects inside the Catalog subset"
     ]
    },
    {
     "cell_type": "code",
     "collapsed": false,
     "input": [
      "subset.mosaicAll(sdss)"
     ],
     "language": "python",
     "metadata": {},
     "outputs": []
    },
    {
     "cell_type": "markdown",
     "metadata": {},
     "source": [
      "This mosaics all the galaxies that lies inside the subset. Then we display all the mosaiced color image as a single png by montaging them together using GraphicsMagick."
     ]
    },
    {
     "cell_type": "code",
     "collapsed": false,
     "input": [
      "import os"
     ],
     "language": "python",
     "metadata": {},
     "outputs": [],
     "prompt_number": 1
    },
    {
     "cell_type": "code",
     "collapsed": false,
     "input": [
      "os.mkdir(\"Mosaic\")"
     ],
     "language": "python",
     "metadata": {},
     "outputs": [],
     "prompt_number": 3
    },
    {
     "cell_type": "code",
     "collapsed": false,
     "input": [
      "os.system(\"find . -name '*.tiff' -type f -exec cp {} ./Mosaic \\;\")\n",
      "os.system (\"gm montage *.tiff montage.png\")"
     ],
     "language": "python",
     "metadata": {},
     "outputs": [
      {
       "metadata": {},
       "output_type": "pyout",
       "prompt_number": 6,
       "text": [
        "256"
       ]
      }
     ],
     "prompt_number": 6
    },
    {
     "cell_type": "code",
     "collapsed": false,
     "input": [
      "from IPython.core.display import Image\n",
      "Image(filename=\"montage.png\")"
     ],
     "language": "python",
     "metadata": {},
     "outputs": [],
     "prompt_number": 1
    },
    {
     "cell_type": "code",
     "collapsed": false,
     "input": [],
     "language": "python",
     "metadata": {},
     "outputs": []
    }
   ],
   "metadata": {}
  }
 ]
}