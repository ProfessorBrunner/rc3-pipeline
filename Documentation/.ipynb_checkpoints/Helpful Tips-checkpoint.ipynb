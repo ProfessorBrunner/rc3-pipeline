{
 "metadata": {
  "name": "",
  "signature": "sha256:e88fb2c34025966ca2438a4aec7c4579d1251d9d0f6e67516493e3a340234be4"
 },
 "nbformat": 3,
 "nbformat_minor": 0,
 "worksheets": [
  {
   "cells": [
    {
     "cell_type": "heading",
     "level": 1,
     "metadata": {},
     "source": [
      "Helpful Tips for using the mosaicking pipeline"
     ]
    },
    {
     "cell_type": "markdown",
     "metadata": {},
     "source": [
      "- Most of the program's run time is spent on downloading and uploading imaging data. So the program could be significantly sped up if the investigator already has the survey data avaliable locally."
     ]
    },
    {
     "cell_type": "markdown",
     "metadata": {},
     "source": [
      "- If a mosacing is conducted on the whole-catalog, the job will probably take a long time (~1 week for SDSS on RC3). You can use __nohup__ to run the job on a remote machine to log off without terminating the process:\n",
      "        nohup python bulk_run.py\n",
      "Other options such as __qsub__, __at__, __batch__ may also be used.\n",
      " "
     ]
    },
    {
     "cell_type": "markdown",
     "metadata": {},
     "source": [
      "- It is okay to run different procedures on different surveys and different parts of the sky simultaneously as long as the imaging bands do not have overlapping bands to prevent file-already-exist errors"
     ]
    },
    {
     "cell_type": "markdown",
     "metadata": {},
     "source": [
      "- Place @ inside rc3.txt (RC3 Data file) to denote where rc3_Catalog methods should start. "
     ]
    },
    {
     "cell_type": "heading",
     "level": 5,
     "metadata": {},
     "source": [
      "Example:"
     ]
    },
    {
     "cell_type": "markdown",
     "metadata": {},
     "source": [
      " Inside rc3.txt, "
     ]
    },
    {
     "cell_type": "raw",
     "metadata": {},
     "source": [
      "99.9008333333     20.7444444444     0.0303283477042     19385   \n",
      "99.925     65.4611111111     0.0235422924575     19390   \n",
      "99.9579166667     -38.2452777778     0.0296379902266     19391 \n",
      "@\n",
      "100.02875     60.0827777778     0.0491868205428     19397   \n",
      "100.0625     -72.4558333333     0.0246518065188     19400   \n",
      "100.134166667     50.105     0.0152001806863     19409   \n",
      "100.180833333     -58.5255555556     0.0491868205428     19413   "
     ]
    },
    {
     "cell_type": "code",
     "collapsed": false,
     "input": [
      "cd ../pipeline/"
     ],
     "language": "python",
     "metadata": {},
     "outputs": [],
     "prompt_number": 4
    },
    {
     "cell_type": "code",
     "collapsed": false,
     "input": [
      "from rc3Catalog import RC3Catalog\n",
      "from sdss import SDSS"
     ],
     "language": "python",
     "metadata": {},
     "outputs": [],
     "prompt_number": 5
    },
    {
     "cell_type": "markdown",
     "metadata": {},
     "source": [
      "Mosaicking starts from PGC19397: "
     ]
    },
    {
     "cell_type": "code",
     "collapsed": false,
     "input": [
      "rc3_cat = RC3Catalog()\n",
      "rc3_cat.mosaicAll(SDSS())"
     ],
     "language": "python",
     "metadata": {},
     "outputs": [
      {
       "output_type": "stream",
       "stream": "stdout",
       "text": [
        "Working on PGC19397, at(100.02875 , 60.0827777778)\n",
        "------------------mosaic_band----------------------\n",
        "Now mosaic_band on 19397\n",
        "(100.02875, 60.0827777778, 0.0737802308142)\n",
        "Working on PGC19400, at(100.0625 , -72.4558333333)"
       ]
      },
      {
       "output_type": "stream",
       "stream": "stdout",
       "text": [
        "\n",
        "------------------mosaic_band----------------------\n",
        "Now mosaic_band on 19400\n",
        "(100.0625, -72.4558333333, 0.0369777097782)\n",
        "Working on PGC19409, at(100.134166667 , 50.105)"
       ]
      }
     ]
    }
   ],
   "metadata": {}
  }
 ]
}