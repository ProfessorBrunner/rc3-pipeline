{
 "metadata": {
  "name": "",
  "signature": "sha256:c7dd76b882e45a48edddb5aa60bf8fce32579aff803b84bc1f174098dcb2732a"
 },
 "nbformat": 3,
 "nbformat_minor": 0,
 "worksheets": [
  {
   "cells": [
    {
     "cell_type": "markdown",
     "metadata": {},
     "source": [
      "The mosaic procedure demonstrated here is simmilar to the SDSS example. For more detailed information see [the SDSS example](http://nbviewer.ipython.org/github/ProfessorBrunner/rc3-sdss/blob/master/Documentation/SDSS%20Example.ipynb).\n",
      "DSS is different from SDSS in that the photographic plates downloaded are large files so most of the mosaic consists of only cropping the downloaded image data. "
     ]
    },
    {
     "cell_type": "code",
     "collapsed": false,
     "input": [
      "cd ../pipeline/"
     ],
     "language": "python",
     "metadata": {},
     "outputs": [
      {
       "output_type": "stream",
       "stream": "stdout",
       "text": [
        "/Users/dorislee/Desktop/GSoC2014/rc3-sdss/pipeline\n"
       ]
      }
     ],
     "prompt_number": 1
    },
    {
     "cell_type": "code",
     "collapsed": false,
     "input": [
      "from dss import DSS\n",
      "from rc3 import RC3"
     ],
     "language": "python",
     "metadata": {},
     "outputs": [
      {
       "output_type": "stream",
       "stream": "stderr",
       "text": [
        "WARNING: AstropyDeprecationWarning: ConfigurationItem has been deprecated in astropy 0.4. Use ConfigItem objects as members of ConfigNamespace subclasses instead.  See ConfigNamespace for an example. [astropy.config.configuration]\n",
        "WARNING:astropy:AstropyDeprecationWarning: ConfigurationItem has been deprecated in astropy 0.4. Use ConfigItem objects as members of ConfigNamespace subclasses instead.  See ConfigNamespace for an example.\n"
       ]
      }
     ],
     "prompt_number": 2
    },
    {
     "cell_type": "code",
     "collapsed": false,
     "input": [
      "pgc2 = RC3(0.0075,47.2744444444,0.0399805487303,2)"
     ],
     "language": "python",
     "metadata": {},
     "outputs": [],
     "prompt_number": 3
    },
    {
     "cell_type": "code",
     "collapsed": false,
     "input": [
      "dss = DSS()"
     ],
     "language": "python",
     "metadata": {},
     "outputs": [],
     "prompt_number": 4
    },
    {
     "cell_type": "code",
     "collapsed": false,
     "input": [
      "rfits = pgc2.mosaic_band('r',0.0075,47.2744444444,3*0.0399805487303,0.0399805487303,2,dss)"
     ],
     "language": "python",
     "metadata": {},
     "outputs": [
      {
       "output_type": "stream",
       "stream": "stdout",
       "text": [
        "------------------mosaic_band----------------------\n",
        "Now mosaic_band on 2\n",
        "(0.0075, 47.2744444444, 0.1199416461909)\n",
        "POSSIR"
       ]
      },
      {
       "output_type": "stream",
       "stream": "stdout",
       "text": [
        "\n",
        "POSSIR"
       ]
      },
      {
       "output_type": "stream",
       "stream": "stdout",
       "text": [
        "\n",
        "['raw_r.fits']"
       ]
      },
      {
       "output_type": "stream",
       "stream": "stdout",
       "text": [
        "\n",
        "dss_out: raw_r_2\n",
        "Only one field in region of interest\n"
       ]
      }
     ],
     "prompt_number": 5
    },
    {
     "cell_type": "code",
     "collapsed": false,
     "input": [
      "update = pgc2.source_info(rfits,dss)"
     ],
     "language": "python",
     "metadata": {},
     "outputs": [
      {
       "output_type": "stream",
       "stream": "stdout",
       "text": [
        "1th iteration\n",
        "------------------source_info----------------------\n",
        "Source info for DSS_r_2.fits\n",
        "1"
       ]
      },
      {
       "output_type": "stream",
       "stream": "stdout",
       "text": [
        "\n",
        "[['PGC    2', 0.0079000000000000008, 47.2744]]\n",
        "ra,dec of catalog sources\n",
        "rc3_data: [[2, 0.0079, 47.2744]]\n",
        "Source is Obvious\n",
        "Biggest Galaxy with radius 194.695274724 pixels!\n",
        "new_ra and new_dec: 0.0064810 , +47.2747672  \n",
        "Radii: 194.695274724 pixel\n",
        "Radii: 0.0214080111832 degrees\n",
        "rc3: 0.0075 , updated: 0.0064810 \n",
        "rc3: 47.2744444444 , updated: +47.2747672 \n",
        "rc3: 0.0399805487303 , updated: 0.0214080111832 \n",
        "Mosaic_all on 2 \n",
        "------------------mosaic_all_bands----------------------\n",
        "Working on 2\n",
        "------------------mosaic_band----------------------\n",
        "Now mosaic_band on 2\n",
        "('0.0064810', '+47.2747672', 0.1199416461909)\n",
        "POSSIR"
       ]
      },
      {
       "output_type": "stream",
       "stream": "stdout",
       "text": [
        "\n",
        "POSSIR"
       ]
      },
      {
       "output_type": "stream",
       "stream": "stdout",
       "text": [
        "\n",
        "POSSIB"
       ]
      },
      {
       "output_type": "stream",
       "stream": "stdout",
       "text": [
        "\n",
        "['raw_1b.fits']"
       ]
      },
      {
       "output_type": "stream",
       "stream": "stdout",
       "text": [
        "\n",
        "dss_out: raw_1b_2\n",
        "Only one field in region of interest\n",
        "------------------mosaic_band----------------------"
       ]
      },
      {
       "output_type": "stream",
       "stream": "stdout",
       "text": [
        "\n",
        "Now mosaic_band on 2\n",
        "('0.0064810', '+47.2747672', 0.1199416461909)\n",
        "POSSIR"
       ]
      },
      {
       "output_type": "stream",
       "stream": "stdout",
       "text": [
        "\n",
        "POSSIR"
       ]
      },
      {
       "output_type": "stream",
       "stream": "stdout",
       "text": [
        "\n",
        "POSSIR"
       ]
      },
      {
       "output_type": "stream",
       "stream": "stdout",
       "text": [
        "\n",
        "['raw_1r.fits']"
       ]
      },
      {
       "output_type": "stream",
       "stream": "stdout",
       "text": [
        "\n",
        "dss_out: raw_1r_2\n",
        "Only one field in region of interest\n",
        "------------------mosaic_band----------------------"
       ]
      },
      {
       "output_type": "stream",
       "stream": "stdout",
       "text": [
        "\n",
        "Now mosaic_band on 2\n",
        "('0.0064810', '+47.2747672', 0.1199416461909)\n",
        "POSSIR"
       ]
      },
      {
       "output_type": "stream",
       "stream": "stdout",
       "text": [
        "\n",
        "POSSIR"
       ]
      },
      {
       "output_type": "stream",
       "stream": "stdout",
       "text": [
        "\n",
        "POSSIIB"
       ]
      },
      {
       "output_type": "stream",
       "stream": "stdout",
       "text": [
        "\n",
        "['raw_2b.fits']"
       ]
      },
      {
       "output_type": "stream",
       "stream": "stdout",
       "text": [
        "\n",
        "dss_out: raw_2b_2\n",
        "Only one field in region of interest\n",
        "------------------mosaic_band----------------------\n",
        "Now mosaic_band on 2\n",
        "('0.0064810', '+47.2747672', 0.1199416461909)\n",
        "POSSIR"
       ]
      },
      {
       "output_type": "stream",
       "stream": "stdout",
       "text": [
        "\n",
        "POSSIR"
       ]
      },
      {
       "output_type": "stream",
       "stream": "stdout",
       "text": [
        "\n",
        "POSSIIR"
       ]
      },
      {
       "output_type": "stream",
       "stream": "stdout",
       "text": [
        "\n",
        "['raw_2r.fits']"
       ]
      },
      {
       "output_type": "stream",
       "stream": "stdout",
       "text": [
        "\n",
        "dss_out: raw_2r_2\n",
        "Only one field in region of interest\n",
        "------------------mosaic_band----------------------\n",
        "Now mosaic_band on 2\n",
        "('0.0064810', '+47.2747672', 0.1199416461909)\n",
        "POSSIR"
       ]
      },
      {
       "output_type": "stream",
       "stream": "stdout",
       "text": [
        "\n",
        "POSSIR"
       ]
      },
      {
       "output_type": "stream",
       "stream": "stdout",
       "text": [
        "\n",
        "POSSIIIR"
       ]
      },
      {
       "output_type": "stream",
       "stream": "stdout",
       "text": [
        "\n",
        "['raw_2ir.fits']"
       ]
      },
      {
       "output_type": "stream",
       "stream": "stdout",
       "text": [
        "\n",
        "dss_out: raw_2ir_2\n",
        "Only one field in region of interest\n",
        "Completed Mosaic"
       ]
      },
      {
       "output_type": "stream",
       "stream": "stdout",
       "text": [
        "\n"
       ]
      },
      {
       "output_type": "stream",
       "stream": "stderr",
       "text": [
        "/Users/dorislee/.virtualenvs/py27dev/lib/python2.7/site-packages/astroquery/vizier/core.py:560: UserWarning: VOTABLE parsing raised exception: \n",
        "  warnings.warn(\"VOTABLE parsing raised exception: {0}\".format(ex))\n"
       ]
      }
     ],
     "prompt_number": 6
    },
    {
     "cell_type": "code",
     "collapsed": false,
     "input": [
      "update"
     ],
     "language": "python",
     "metadata": {},
     "outputs": [
      {
       "metadata": {},
       "output_type": "pyout",
       "prompt_number": 7,
       "text": [
        "[0.006481, 47.2747672, 0.1199416461909, 0.021408011183161203, 2]"
       ]
      }
     ],
     "prompt_number": 7
    },
    {
     "cell_type": "code",
     "collapsed": false,
     "input": [
      "cd ../2"
     ],
     "language": "python",
     "metadata": {},
     "outputs": [
      {
       "output_type": "stream",
       "stream": "stdout",
       "text": [
        "/Users/dorislee/Desktop/GSoC2014/rc3-sdss/pipeline/2\n"
       ]
      }
     ],
     "prompt_number": 14
    },
    {
     "cell_type": "code",
     "collapsed": false,
     "input": [
      "ls"
     ],
     "language": "python",
     "metadata": {},
     "outputs": [
      {
       "output_type": "stream",
       "stream": "stdout",
       "text": [
        "DSS_1b_2.fits    DSS_2_BEST.tiff  DSS_2b_2.fits    DSS_2r_2.fits\r\n",
        "DSS_1r_2.fits    DSS_2_LOW.tiff   DSS_2ir_2.fits\r\n"
       ]
      }
     ],
     "prompt_number": 16
    },
    {
     "cell_type": "code",
     "collapsed": false,
     "input": [
      "from IPython.core.display import Image\n",
      "import os \n",
      "os.system(\"gm convert DSS_2_BEST.tiff DSS_2_BEST.jpg\") #for ipynb display purpose only\n",
      "Image(filename=\"DSS_2_BEST.jpg\")"
     ],
     "language": "python",
     "metadata": {},
     "outputs": [
      {
       "jpeg": "[encoded data removed]",
       "metadata": {},
       "output_type": "pyout",
       "prompt_number": 17,
       "text": [
        "<IPython.core.display.Image at 0x104f83950>"
       ]
      }
     ],
     "prompt_number": 17
    },
    {
     "cell_type": "code",
     "collapsed": false,
     "input": [
      "os.system(\"gm convert DSS_2_LOW.tiff DSS_2_LOW.jpg\") #for ipynb display purpose only\n",
      "Image(filename=\"DSS_2_LOW.jpg\")"
     ],
     "language": "python",
     "metadata": {},
     "outputs": [
      {
       "jpeg": "[encoded data removed]",
       "metadata": {},
       "output_type": "pyout",
       "prompt_number": 18,
       "text": [
        "<IPython.core.display.Image at 0x104f83fd0>"
       ]
      }
     ],
     "prompt_number": 18
    }
   ],
   "metadata": {}
  }
 ]
}