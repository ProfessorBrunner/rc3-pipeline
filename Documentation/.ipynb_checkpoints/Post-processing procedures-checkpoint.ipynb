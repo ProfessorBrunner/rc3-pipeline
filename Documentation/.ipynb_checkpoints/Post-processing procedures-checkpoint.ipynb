{
 "metadata": {
  "name": "",
  "signature": "sha256:0fbbc93fee1e8ddb4220ef38860c5b44567146b61ebc37ed2a7b9ff8fe1dbfb9"
 },
 "nbformat": 3,
 "nbformat_minor": 0,
 "worksheets": [
  {
   "cells": [
    {
     "cell_type": "code",
     "collapsed": false,
     "input": [
      "After running mosaic_all for the whole catalog, there should be"
     ],
     "language": "python",
     "metadata": {},
     "outputs": []
    },
    {
     "cell_type": "heading",
     "level": 3,
     "metadata": {},
     "source": [
      "Generating Image Gallery"
     ]
    },
    {
     "cell_type": "markdown",
     "metadata": {},
     "source": [
      "1) In the directory with all the PGC directory of mosaicked galaxy, execute:"
     ]
    },
    {
     "cell_type": "code",
     "collapsed": false,
     "input": [
      "mkdir Mosaic\n",
      "find . -name \"*.tiff\" -type f -exec cp {} ./Mosaic \\; "
     ],
     "language": "python",
     "metadata": {},
     "outputs": []
    },
    {
     "cell_type": "markdown",
     "metadata": {},
     "source": [
      "This copies all the color images inside the Mosaic directory."
     ]
    },
    {
     "cell_type": "markdown",
     "metadata": {},
     "source": [
      "2) Copy the script script/thumbnail\\_process.py to the directory containing Mosaic/ and execute it on this data. The script takes in the Mosaic directory, keeps only the __BEST__ images, convert them into gif thumbnails and store them inside img/ directory."
     ]
    },
    {
     "cell_type": "markdown",
     "metadata": {},
     "source": [
      "3)Copy img/ to where all the html/php files are. (Alternatively, you can simply keep the storage location for img/ and change the path in gallery.php)"
     ]
    },
    {
     "cell_type": "heading",
     "level": 5,
     "metadata": {},
     "source": [
      "5) gallery.php automatically detects the files inside the img and displays them on the webpage, and is hyperlinked to the info page for each galaxy."
     ]
    },
    {
     "cell_type": "code",
     "collapsed": false,
     "input": [],
     "language": "python",
     "metadata": {},
     "outputs": []
    }
   ],
   "metadata": {}
  }
 ]
}