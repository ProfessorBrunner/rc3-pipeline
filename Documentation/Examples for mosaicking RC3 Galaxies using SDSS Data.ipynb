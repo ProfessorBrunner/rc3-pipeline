{
 "metadata": {
  "name": "",
  "signature": "sha256:5b93476923a6daa8d199661ec3cddb9037f55eee7b537607e219bae8d4f38960"
 },
 "nbformat": 3,
 "nbformat_minor": 0,
 "worksheets": [
  {
   "cells": [
    {
     "cell_type": "code",
     "collapsed": false,
     "input": [
      "ls"
     ],
     "language": "python",
     "metadata": {},
     "outputs": [
      {
       "output_type": "stream",
       "stream": "stdout",
       "text": [
        "\u001b[34mDSSRun0813\u001b[m\u001b[m/                            default.sex\r\n",
        "\u001b[34mDocumentation\u001b[m\u001b[m/                         other_rc3.py\r\n",
        "License                                \u001b[34mpipeline_final\u001b[m\u001b[m/\r\n",
        "\u001b[34mPaper\u001b[m\u001b[m/                                 rc3_galaxies_outside_DSS_footprint\r\n",
        "README.md                              rc3_galaxies_unclean_DSS\r\n",
        "\u001b[34mSDSSResult\u001b[m\u001b[m/                            readfile.py\r\n",
        "\u001b[34mdatabase\u001b[m\u001b[m/                              \u001b[34mscript\u001b[m\u001b[m/\r\n",
        "default.conv                           source_confused_rc3.txt\r\n",
        "default.nnw                            source_confusion_error.txt\r\n",
        "default.param                          source_confusion_unresolved_error.txt\r\n"
       ]
      }
     ],
     "prompt_number": 3
    },
    {
     "cell_type": "code",
     "collapsed": false,
     "input": [],
     "language": "python",
     "metadata": {},
     "outputs": []
    }
   ],
   "metadata": {}
  }
 ]
}