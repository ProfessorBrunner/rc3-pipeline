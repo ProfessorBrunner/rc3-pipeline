{
 "metadata": {
  "name": "",
  "signature": "sha256:4379e7ca8f33b6894267de018aa83bd2067363ceda29a535b6c9a8d933b3ae3d"
 },
 "nbformat": 3,
 "nbformat_minor": 0,
 "worksheets": [
  {
   "cells": [
    {
     "cell_type": "markdown",
     "metadata": {},
     "source": [
      "Suppose that you are interested in a subset of RC3 galaxies that are large enough that it can affect the imaging data of a part of the sky that your telescope is pointing at. "
     ]
    },
    {
     "cell_type": "markdown",
     "metadata": {},
     "source": [
      "    SELECT *FROM RC3 WHERE radius >0.1\n",
      "    AND 10 < new_ra < 50\n",
      "    AND 50 <new_dec <80\n",
      "    AND in_SDSS_footprint = 1"
     ]
    },
    {
     "cell_type": "code",
     "collapsed": false,
     "input": [
      "This SQL result is ran on the rc3 database and the query result is stored in the file"
     ],
     "language": "python",
     "metadata": {},
     "outputs": []
    }
   ],
   "metadata": {}
  }
 ]
}