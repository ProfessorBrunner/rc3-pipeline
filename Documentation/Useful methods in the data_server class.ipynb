{
 "metadata": {
  "name": "",
  "signature": "sha256:f6626c06272b0dffba1019f5dcec780d157fd2b899e73791d1635bd0583dffea"
 },
 "nbformat": 3,
 "nbformat_minor": 0,
 "worksheets": [
  {
   "cells": [
    {
     "cell_type": "markdown",
     "metadata": {},
     "source": [
      "Upon initializing the Survey object, a corresponding data server is also generated. Although you rarely have to directly interact with the data server in the mosaicing process, it may be helpful for other purposes to quickly retrieve sky information from a particular survey."
     ]
    },
    {
     "cell_type": "code",
     "collapsed": false,
     "input": [],
     "language": "python",
     "metadata": {},
     "outputs": []
    }
   ],
   "metadata": {}
  }
 ]
}