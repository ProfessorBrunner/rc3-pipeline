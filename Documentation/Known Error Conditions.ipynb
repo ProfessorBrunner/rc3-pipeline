{
 "metadata": {
  "name": "",
  "signature": "sha256:e88bcb4bc58fc973b27380b4bd8f37c0be256ae8bce08a93f61cc2bb4f8bcc63"
 },
 "nbformat": 3,
 "nbformat_minor": 0,
 "worksheets": [
  {
   "cells": [
    {
     "cell_type": "heading",
     "level": 1,
     "metadata": {},
     "source": [
      "Known Error Conditions"
     ]
    },
    {
     "cell_type": "markdown",
     "metadata": {},
     "source": [
      "As a good programming practice, we included a series of exception handling and error prevention mechanisms throughout our pipeline. However, the actual running of our pipeline on a survey still results in occasional errors. To indicate a non-successful operation of our pipeline for a particular source, we developed several error flags that are encoded in our web-accessible database for each survey. These error flags are indicated in the results table in our [RC3 web searchform](http://lcdm.astro.illinois.edu/data/rc3/search.html)."
     ]
    },
    {
     "cell_type": "markdown",
     "metadata": {},
     "source": [
      "    Error Information\n",
      "    0 = no error\n",
      "    1 = mosaicAll error\n",
      "    2 = stiff error \n",
      "    3 = strange error\n",
      "    4 = Montage image reprojection failure\n",
      "    5 = mSubImage failure"
     ]
    },
    {
     "cell_type": "markdown",
     "metadata": {},
     "source": [
      "In the rest of this tutorial, we detail the processing conditions that can generate the corresponding error condition."
     ]
    },
    {
     "cell_type": "markdown",
     "metadata": {},
     "source": [
      "__1)__ **mosaicAll** error is a general error that is raised when the pipeline fails to generate mosaics in all bands."
     ]
    },
    {
     "cell_type": "markdown",
     "metadata": {},
     "source": [
      "__2)__ STIFF enforces that the mosaic FITS used for RGB mapping but must all have exactly the same dimensions in order to generate a color-composite image. On occasion, a color-composite image fails to be produced because at least one image is not of the same size as the other two.  For the SDSS this seems to happen predominantly in the $g$-band, and this also happens more frequently for the POSS-II data."
     ]
    },
    {
     "cell_type": "markdown",
     "metadata": {},
     "source": [
      "__3)__ In the source confusion algorithm, we query the VizieR catalog to identify all galaxies that pass a size cut inside a search radius. This is done by using the PGC name as a key and the positions as the values. If no galaxies are returned by this search, the pipeline raises this error condition."
     ]
    },
    {
     "cell_type": "markdown",
     "metadata": {},
     "source": [
      "__4)__ __**mProjectExec**__ is the Montage procedure that creates the reprojected image from the original FITS files. Sometimes reprojected images are not created, even when the Montage processes complete successfully and the  debug statements clearly state that the reprojection was successful. In this case, the reprojection table and header files are corrupted, which will produce an error condition in the subsequent mosaicking steps. To prevent a complete failure, we have implemented an error prevention mechanism to ensure that the mosaic generation procedures terminate correctly for these cases, and we denote the problematic galaxy as a \\texttt{failed\\_projection}, which can be examined manually offline. "
     ]
    },
    {
     "cell_type": "markdown",
     "metadata": {},
     "source": [
      "__5)__ __mSubImage__ crops a finished mosaic to the specified final size. In some cases, the desired final image (e.g., the poster image size) exceeds the actual size of the generated mosaic image. This can arise if a target RC3 galaxy lies near the edge of a survey's observed footprint or the survey has missing or masked data near the target galaxy. In these cases, Montage throws an error indicating that a new image could not be made by cropping the existing image. To circumvent this error condition, we set the field size to be twice the margin, where we define the margin as the distance from the center of the galaxy to the edge of the mosaic image. The margin value is dynamically updated by the recursive algorithm as necessary. Since we are cropping to a square image, the margin should thus be one-half of the final FITS image size after the cropping process completes. If the double-margin crop fails, we attempt a smaller field size of one margin. If this second attempt also fails, we record this error condition and proceed onto the next galaxy. "
     ]
    }
   ],
   "metadata": {}
  }
 ]
}