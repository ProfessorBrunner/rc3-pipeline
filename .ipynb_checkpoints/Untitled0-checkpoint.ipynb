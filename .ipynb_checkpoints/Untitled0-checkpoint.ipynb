{
 "metadata": {
  "name": "",
  "signature": "sha256:f724cec054941e9cb99c3b49edc57ca75d8178e483d51bceeb7dd84a113a0ae8"
 },
 "nbformat": 3,
 "nbformat_minor": 0,
 "worksheets": []
}